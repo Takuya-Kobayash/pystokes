{
 "cells": [
  {
   "cell_type": "markdown",
   "id": "6c9260c4-9451-4d1a-8c8f-97a7d738dad2",
   "metadata": {},
   "source": [
    "In this notebook we compare the translational mobility coefficients for a pair of passive spheres for \n",
    "\n",
    " - Superposition/Pystokes\n",
    " - 2s (2s - similar to FTS Stokesian dynamics, but without adhoc lubrication effects)\n",
    " - 2s, 3t (3t)\n",
    " - 2s, 3t, 3a (3a)\n",
    " - 2s, 3t, 3a, 3s (long-ranged)\n",
    " \n",
    " to the exact solution given by **Goldmann, Cox and Brenner (1966)** using bipolar coordinates finding exact numerical values for the terminal speed of two spheres sedimenting, later re-used by **Batchelor (1971)**, and also **Ladd (1988)**. "
   ]
  },
  {
   "cell_type": "code",
   "execution_count": 1,
   "id": "795c9edc-c34d-49b7-bcf8-c32f67b387f1",
   "metadata": {},
   "outputs": [],
   "source": [
    "%matplotlib inline\n",
    "import numpy as np, matplotlib.pyplot as plt\n",
    "\n",
    "import pystokes\n",
    "from solveSuperPos import linearSolve_krylov as SP\n",
    "from solve2s import linearSolve_krylov as _2S\n",
    "from solve3t import linearSolve_krylov as _3T\n",
    "from solve3a import linearSolve_krylov as _3A\n",
    "from solveLongRanged import linearSolve_krylov as LR"
   ]
  },
  {
   "cell_type": "code",
   "execution_count": 2,
   "id": "2989a38f-2058-4f3c-a1fd-095df91f878a",
   "metadata": {},
   "outputs": [],
   "source": [
    "PI = 3.14159265359\n",
    "\n",
    "# particle radius, self-propulsion speed, number and fluid viscosity\n",
    "b, Np, eta = 1.0, 2, 0.1\n",
    "\n",
    "## passive particle\n",
    "D0  = 0.      \n",
    "S0  = 0.\n",
    "\n",
    "## normalising factor: one-particle mobility\n",
    "mu0 = 1./(6*PI*eta*b)"
   ]
  },
  {
   "cell_type": "markdown",
   "id": "b675a924-aab3-49e4-80f6-5128fa7eec75",
   "metadata": {},
   "source": [
    "The results are compared at the nine fixed ratios $r/b$, where $r$ is the centre-to-centre distance: $2.0,\\, 2.0049,\\, 2.0907,\\, 2.2553,\\, 2.6749,\\, 3.0862,\\, 4.0,\\, 6.0,\\, 8.0$"
   ]
  },
  {
   "cell_type": "code",
   "execution_count": 3,
   "id": "dfccfd2e-88d9-4735-a48f-6a14e25c2430",
   "metadata": {},
   "outputs": [],
   "source": [
    "rb = np.array([2.0, 2.0049, 2.0907, 2.2553, 2.6749, 3.0862, 4.0, 6.0, 8.0])"
   ]
  },
  {
   "cell_type": "markdown",
   "id": "20676856-e0e0-49da-ab32-96811c86497f",
   "metadata": {},
   "source": [
    "___________\n",
    "\n",
    "### Exact results (normalised by $\\mu_0$)"
   ]
  },
  {
   "cell_type": "code",
   "execution_count": 4,
   "id": "9e0243c8-2e31-4c79-b014-a920529e015d",
   "metadata": {},
   "outputs": [],
   "source": [
    "muPara = np.array([1.5500, 1.5494, 1.5376, 1.5160, 1.4662, 1.4236, 1.3472, 1.2427, 1.1847]) #force parallel to line of centers\n",
    "muPerp = np.array([1.3799, 1.4027, 1.3933, 1.3648, 1.3029, 1.2586, 1.1950, 1.1273, 1.0947]) #force perpendicular to line of centers"
   ]
  },
  {
   "cell_type": "markdown",
   "id": "8ebf1af4-b805-4b43-b1b0-59abb771ac1f",
   "metadata": {},
   "source": [
    "____________\n",
    "\n",
    "### PyStokes"
   ]
  },
  {
   "cell_type": "code",
   "execution_count": 5,
   "id": "878777f5-7256-4a19-b935-b76653a8ce01",
   "metadata": {},
   "outputs": [],
   "source": [
    "pstk = pystokes.unbounded.Rbm(b, Np, eta)\n",
    "## define distances that iterate through rb/2 and forces parallel and perpendicular to these distances \n",
    "\n",
    "pstk_muPara = np.zeros(rb.shape[0])\n",
    "pstk_muPerp = np.zeros(rb.shape[0])\n",
    "\n",
    "\n",
    "r, F, T, v, o = np.zeros(3*Np), np.zeros(3*Np), np.zeros(3*Np), np.zeros(3*Np), np.zeros(3*Np)\n",
    "\n",
    "## parallel\n",
    "k=0\n",
    "for rb_ in rb:\n",
    "    #separation in x-direction\n",
    "    r[0] = -rb_/2.\n",
    "    r[1] =  rb_/2.\n",
    "    for i in range(Np):\n",
    "        #force parallel to separation - along x axis\n",
    "        F[i]      = 1.0\n",
    "        F[i+Np]   = 0.0 \n",
    "        F[i+2*Np] = 0.0\n",
    "        \n",
    "        v[i]      = 0.0\n",
    "        v[i+Np]   = 0.0\n",
    "        v[i+2*Np] = 0.0\n",
    "        \n",
    "        o[i]      = 0.0\n",
    "        o[i+Np]   = 0.0\n",
    "        o[i+2*Np] = 0.0\n",
    "    \n",
    "    pstk.mobilityTT(v,r,F)\n",
    "    pstk.mobilityTR(v,r,T)\n",
    "    pstk.mobilityRT(o,r,F)\n",
    "    pstk.mobilityRR(o,r,T)\n",
    "        \n",
    "    pstk_muPara[k] = v[0]/mu0 ## force is unity, so raw mobility is just velocity. Normalised by one-particle mobility\n",
    "    k += 1\n",
    "    \n",
    "## perpendicular\n",
    "k=0\n",
    "for rb_ in rb:\n",
    "    #separation in x-direction\n",
    "    r[0] = -rb_/2.\n",
    "    r[1] =  rb_/2.\n",
    "    for i in range(Np):\n",
    "        #force perpendicular to separation - along z axis\n",
    "        F[i]      = 0.0\n",
    "        F[i+Np]   = 0.0 \n",
    "        F[i+2*Np] = 1.0\n",
    "        \n",
    "        v[i]      = 0.0\n",
    "        v[i+Np]   = 0.0\n",
    "        v[i+2*Np] = 0.0\n",
    "        \n",
    "        o[i]      = 0.0\n",
    "        o[i+Np]   = 0.0\n",
    "        o[i+2*Np] = 0.0\n",
    "        \n",
    "    pstk.mobilityTT(v,r,F)\n",
    "    pstk.mobilityTR(v,r,T)\n",
    "    pstk.mobilityRT(o,r,F)\n",
    "    pstk.mobilityRR(o,r,T)\n",
    "        \n",
    "    pstk_muPerp[k] = v[4]/mu0 ## force is unity, so raw mobility is just velocity. Normalised by one-particle mobility\n",
    "    k += 1"
   ]
  },
  {
   "cell_type": "code",
   "execution_count": 6,
   "id": "d67d9e9d-591a-400f-9d24-115ee37a865e",
   "metadata": {},
   "outputs": [
    {
     "data": {
      "text/plain": [
       "array([1.0483871 , 1.04820011, 1.04580903, 1.04084827, 1.02886353,\n",
       "       1.01996004, 1.00903726, 1.00214885, 1.00071484])"
      ]
     },
     "execution_count": 6,
     "metadata": {},
     "output_type": "execute_result"
    }
   ],
   "source": [
    "pstk_muPara/muPara"
   ]
  },
  {
   "cell_type": "code",
   "execution_count": 7,
   "id": "9eea16c2-fbb8-4dd5-8d32-e59e7a81776e",
   "metadata": {},
   "outputs": [
    {
     "data": {
      "text/plain": [
       "array([1.04174216, 1.02383002, 1.01445853, 1.00830671, 1.0027698 ,\n",
       "       1.00113384, 1.00026151, 1.00001314, 1.00002426])"
      ]
     },
     "execution_count": 7,
     "metadata": {},
     "output_type": "execute_result"
    }
   ],
   "source": [
    "pstk_muPerp/muPerp"
   ]
  },
  {
   "cell_type": "markdown",
   "id": "2c414c6b-a94e-4a03-a504-e63af763c850",
   "metadata": {},
   "source": [
    "___________\n",
    "\n",
    "### Superposition approximation"
   ]
  },
  {
   "cell_type": "code",
   "execution_count": 8,
   "id": "df5f602a-dbaf-492f-b339-54bf717c1b25",
   "metadata": {},
   "outputs": [],
   "source": [
    "sp = SP(b, Np, eta)\n",
    "## define distances that iterate through rb/2 and forces parallel and perpendicular to these distances \n",
    "\n",
    "sp_muPara = np.zeros(rb.shape[0])\n",
    "sp_muPerp = np.zeros(rb.shape[0])\n",
    "\n",
    "\n",
    "r, F, T, v, o = np.zeros(3*Np), np.zeros(3*Np), np.zeros(3*Np), np.zeros(3*Np), np.zeros(3*Np)\n",
    "\n",
    "## parallel\n",
    "k=0\n",
    "for rb_ in rb:\n",
    "    #separation in x-direction\n",
    "    r[0] = -rb_/2.\n",
    "    r[1] =  rb_/2.\n",
    "    for i in range(Np):\n",
    "        #force parallel to separation - along x axis\n",
    "        F[i]      = 1.0\n",
    "        F[i+Np]   = 0.0 \n",
    "        F[i+2*Np] = 0.0\n",
    "        \n",
    "        v[i]      = 0.0\n",
    "        v[i+Np]   = 0.0\n",
    "        v[i+2*Np] = 0.0\n",
    "        \n",
    "        o[i]      = 0.0\n",
    "        o[i+Np]   = 0.0\n",
    "        o[i+2*Np] = 0.0\n",
    "    \n",
    "    sp.RBM(v, o, r, F, T)\n",
    "        \n",
    "    sp_muPara[k] = v[0]/mu0 ## force is unity, so raw mobility is just velocity. Normalised by one-particle mobility\n",
    "    k += 1\n",
    "    \n",
    "## perpendicular\n",
    "k=0\n",
    "for rb_ in rb:\n",
    "    #separation in x-direction\n",
    "    r[0] = -rb_/2.\n",
    "    r[1] =  rb_/2.\n",
    "    for i in range(Np):\n",
    "        #force perpendicular to separation - along z axis\n",
    "        F[i]      = 0.0\n",
    "        F[i+Np]   = 0.0 \n",
    "        F[i+2*Np] = 1.0\n",
    "        \n",
    "        v[i]      = 0.0\n",
    "        v[i+Np]   = 0.0\n",
    "        v[i+2*Np] = 0.0\n",
    "        \n",
    "        o[i]      = 0.0\n",
    "        o[i+Np]   = 0.0\n",
    "        o[i+2*Np] = 0.0\n",
    "        \n",
    "    sp.RBM(v, o, r, F, T)\n",
    "        \n",
    "    sp_muPerp[k] = v[4]/mu0 ## force is unity, so raw mobility is just velocity. Normalised by one-particle mobility\n",
    "    k += 1"
   ]
  },
  {
   "cell_type": "code",
   "execution_count": 9,
   "id": "decd0493-a957-457b-9d5a-90b98d3e55c1",
   "metadata": {},
   "outputs": [
    {
     "data": {
      "text/plain": [
       "array([1.0483871 , 1.04820011, 1.04580903, 1.04084827, 1.02886353,\n",
       "       1.01996004, 1.00903726, 1.00214885, 1.00071484])"
      ]
     },
     "execution_count": 9,
     "metadata": {},
     "output_type": "execute_result"
    }
   ],
   "source": [
    "sp_muPara/muPara"
   ]
  },
  {
   "cell_type": "code",
   "execution_count": 10,
   "id": "df16b3b6-ecb9-4ecc-b8d1-cdc44e7320d1",
   "metadata": {},
   "outputs": [
    {
     "data": {
      "text/plain": [
       "array([1.04174216, 1.02383002, 1.01445853, 1.00830671, 1.0027698 ,\n",
       "       1.00113384, 1.00026151, 1.00001314, 1.00002426])"
      ]
     },
     "execution_count": 10,
     "metadata": {},
     "output_type": "execute_result"
    }
   ],
   "source": [
    "sp_muPerp/muPerp"
   ]
  },
  {
   "cell_type": "markdown",
   "id": "c0e59f02-ebf4-4835-bd12-cec716e4de03",
   "metadata": {
    "tags": []
   },
   "source": [
    "______________\n",
    "\n",
    "## 2s mode (FTS Stokesian dynamics without lubrication corrections)"
   ]
  },
  {
   "cell_type": "code",
   "execution_count": 11,
   "id": "fb3f473d-d504-4b78-80c1-4e133e2a766a",
   "metadata": {},
   "outputs": [],
   "source": [
    "_2s = _2S(b, Np, eta)\n",
    "## define distances that iterate through rb/2 and forces parallel and perpendicular to these distances \n",
    "\n",
    "_2s_muPara = np.zeros(rb.shape[0])\n",
    "_2s_muPerp = np.zeros(rb.shape[0])\n",
    "\n",
    "\n",
    "r, F, T, v, o = np.zeros(3*Np), np.zeros(3*Np), np.zeros(3*Np), np.zeros(3*Np), np.zeros(3*Np)\n",
    "\n",
    "S = np.zeros(6*Np)\n",
    "\n",
    "## parallel\n",
    "k=0\n",
    "for rb_ in rb:\n",
    "    #separation in x-direction\n",
    "    r[0] = -rb_/2.\n",
    "    r[1] =  rb_/2.\n",
    "    for i in range(Np):\n",
    "        #force parallel to separation - along x axis\n",
    "        F[i]      = 1.0\n",
    "        F[i+Np]   = 0.0 \n",
    "        F[i+2*Np] = 0.0\n",
    "        \n",
    "        v[i]      = 0.0\n",
    "        v[i+Np]   = 0.0\n",
    "        v[i+2*Np] = 0.0\n",
    "        \n",
    "        o[i]      = 0.0\n",
    "        o[i+Np]   = 0.0\n",
    "        o[i+2*Np] = 0.0\n",
    "    \n",
    "    _2s.RBM(v, o, r, F, T, S)\n",
    "        \n",
    "    _2s_muPara[k] = v[0]/mu0 ## force is unity, so raw mobility is just velocity. Normalised by one-particle mobility\n",
    "    k += 1\n",
    "    \n",
    "## perpendicular\n",
    "k=0\n",
    "for rb_ in rb:\n",
    "    #separation in x-direction\n",
    "    r[0] = -rb_/2.\n",
    "    r[1] =  rb_/2.\n",
    "    for i in range(Np):\n",
    "        #force perpendicular to separation - along z axis\n",
    "        F[i]      = 0.0\n",
    "        F[i+Np]   = 0.0 \n",
    "        F[i+2*Np] = 1.0\n",
    "        \n",
    "        v[i]      = 0.0\n",
    "        v[i+Np]   = 0.0\n",
    "        v[i+2*Np] = 0.0\n",
    "        \n",
    "        o[i]      = 0.0\n",
    "        o[i+Np]   = 0.0\n",
    "        o[i+2*Np] = 0.0\n",
    "        \n",
    "    _2s.RBM(v, o, r, F, T, S)\n",
    "        \n",
    "    _2s_muPerp[k] = v[4]/mu0 ## force is unity, so raw mobility is just velocity. Normalised by one-particle mobility\n",
    "    k += 1"
   ]
  },
  {
   "cell_type": "code",
   "execution_count": 12,
   "id": "ae617865-4d6e-4ca9-bd3b-7e250b623fed",
   "metadata": {},
   "outputs": [
    {
     "data": {
      "text/plain": [
       "array([1.00483871, 1.00477753, 1.00465933, 1.00433347, 1.00320489,\n",
       "       1.0021283 , 1.00077837, 1.00006777, 0.99998705])"
      ]
     },
     "execution_count": 12,
     "metadata": {},
     "output_type": "execute_result"
    }
   ],
   "source": [
    "_2s_muPara/muPara"
   ]
  },
  {
   "cell_type": "code",
   "execution_count": 13,
   "id": "11bf3f73-1175-406c-974f-c5ee8ebb6305",
   "metadata": {},
   "outputs": [
    {
     "data": {
      "text/plain": [
       "array([1.03239131, 1.01480598, 1.00792744, 1.00465613, 1.00179762,\n",
       "       1.00081592, 1.00022   , 1.00001145, 1.00002409])"
      ]
     },
     "execution_count": 13,
     "metadata": {},
     "output_type": "execute_result"
    }
   ],
   "source": [
    "_2s_muPerp/muPerp"
   ]
  },
  {
   "cell_type": "markdown",
   "id": "ed0b8fd7-b825-4e5e-ac76-4a2b7516c7f4",
   "metadata": {
    "tags": []
   },
   "source": [
    "______________\n",
    "\n",
    "## 3t mode"
   ]
  },
  {
   "cell_type": "code",
   "execution_count": 14,
   "id": "e93c94d3-6972-49da-9ae2-f7d30663531f",
   "metadata": {},
   "outputs": [],
   "source": [
    "_3t = _3T(b, Np, eta)\n",
    "## define distances that iterate through rb/2 and forces parallel and perpendicular to these distances \n",
    "\n",
    "_3t_muPara = np.zeros(rb.shape[0])\n",
    "_3t_muPerp = np.zeros(rb.shape[0])\n",
    "\n",
    "\n",
    "r, F, T, v, o = np.zeros(3*Np), np.zeros(3*Np), np.zeros(3*Np), np.zeros(3*Np), np.zeros(3*Np)\n",
    "\n",
    "S = np.zeros(6*Np)\n",
    "D = np.zeros(3*Np)\n",
    "\n",
    "## parallel\n",
    "k=0\n",
    "for rb_ in rb:\n",
    "    #separation in x-direction\n",
    "    r[0] = -rb_/2.\n",
    "    r[1] =  rb_/2.\n",
    "    for i in range(Np):\n",
    "        #force parallel to separation - along x axis\n",
    "        F[i]      = 1.0\n",
    "        F[i+Np]   = 0.0 \n",
    "        F[i+2*Np] = 0.0\n",
    "        \n",
    "        v[i]      = 0.0\n",
    "        v[i+Np]   = 0.0\n",
    "        v[i+2*Np] = 0.0\n",
    "        \n",
    "        o[i]      = 0.0\n",
    "        o[i+Np]   = 0.0\n",
    "        o[i+2*Np] = 0.0\n",
    "    \n",
    "    _3t.RBM(v, o, r, F, T, S, D)\n",
    "        \n",
    "    _3t_muPara[k] = v[0]/mu0 ## force is unity, so raw mobility is just velocity. Normalised by one-particle mobility\n",
    "    k += 1\n",
    "    \n",
    "## perpendicular\n",
    "k=0\n",
    "for rb_ in rb:\n",
    "    #separation in x-direction\n",
    "    r[0] = -rb_/2.\n",
    "    r[1] =  rb_/2.\n",
    "    for i in range(Np):\n",
    "        #force perpendicular to separation - along z axis\n",
    "        F[i]      = 0.0\n",
    "        F[i+Np]   = 0.0 \n",
    "        F[i+2*Np] = 1.0\n",
    "        \n",
    "        v[i]      = 0.0\n",
    "        v[i+Np]   = 0.0\n",
    "        v[i+2*Np] = 0.0\n",
    "        \n",
    "        o[i]      = 0.0\n",
    "        o[i+Np]   = 0.0\n",
    "        o[i+2*Np] = 0.0\n",
    "        \n",
    "    _3t.RBM(v, o, r, F, T, S, D)\n",
    "        \n",
    "    _3t_muPerp[k] = v[4]/mu0 ## force is unity, so raw mobility is just velocity. Normalised by one-particle mobility\n",
    "    k += 1"
   ]
  },
  {
   "cell_type": "code",
   "execution_count": 15,
   "id": "02d61e29-4855-44da-a21c-b02e3512e559",
   "metadata": {},
   "outputs": [
    {
     "data": {
      "text/plain": [
       "array([1.00483871, 1.00477753, 1.00465933, 1.00433347, 1.00320489,\n",
       "       1.0021283 , 1.00077837, 1.00006777, 0.99998705])"
      ]
     },
     "execution_count": 15,
     "metadata": {},
     "output_type": "execute_result"
    }
   ],
   "source": [
    "_3t_muPara/muPara"
   ]
  },
  {
   "cell_type": "code",
   "execution_count": 16,
   "id": "5f95cd33-0629-4e99-8ba3-ae7ef72860ff",
   "metadata": {},
   "outputs": [
    {
     "data": {
      "text/plain": [
       "array([1.03207962, 1.0145013 , 1.00766918, 1.00449563, 1.00175979,\n",
       "       1.00080641, 1.00021933, 1.00001143, 1.00002409])"
      ]
     },
     "execution_count": 16,
     "metadata": {},
     "output_type": "execute_result"
    }
   ],
   "source": [
    "_3t_muPerp/muPerp"
   ]
  },
  {
   "cell_type": "markdown",
   "id": "688facee-746d-4733-97fd-8eeb246b0b90",
   "metadata": {
    "tags": []
   },
   "source": [
    "______________\n",
    "\n",
    "## 3a mode"
   ]
  },
  {
   "cell_type": "code",
   "execution_count": 17,
   "id": "cd837733-60d5-49ac-9c85-204be64a4745",
   "metadata": {},
   "outputs": [],
   "source": [
    "_3a = _3A(b, Np, eta)\n",
    "## define distances that iterate through rb/2 and forces parallel and perpendicular to these distances \n",
    "\n",
    "_3a_muPara = np.zeros(rb.shape[0])\n",
    "_3a_muPerp = np.zeros(rb.shape[0])\n",
    "\n",
    "\n",
    "r, F, T, v, o = np.zeros(3*Np), np.zeros(3*Np), np.zeros(3*Np), np.zeros(3*Np), np.zeros(3*Np)\n",
    "\n",
    "S = np.zeros(6*Np)\n",
    "D = np.zeros(3*Np)\n",
    "\n",
    "## parallel\n",
    "k=0\n",
    "for rb_ in rb:\n",
    "    #separation in x-direction\n",
    "    r[0] = -rb_/2.\n",
    "    r[1] =  rb_/2.\n",
    "    for i in range(Np):\n",
    "        #force parallel to separation - along x axis\n",
    "        F[i]      = 1.0\n",
    "        F[i+Np]   = 0.0 \n",
    "        F[i+2*Np] = 0.0\n",
    "        \n",
    "        v[i]      = 0.0\n",
    "        v[i+Np]   = 0.0\n",
    "        v[i+2*Np] = 0.0\n",
    "        \n",
    "        o[i]      = 0.0\n",
    "        o[i+Np]   = 0.0\n",
    "        o[i+2*Np] = 0.0\n",
    "    \n",
    "    _3a.RBM(v, o, r, F, T, S, D)\n",
    "        \n",
    "    _3a_muPara[k] = v[0]/mu0 ## force is unity, so raw mobility is just velocity. Normalised by one-particle mobility\n",
    "    k += 1\n",
    "    \n",
    "## perpendicular\n",
    "k=0\n",
    "for rb_ in rb:\n",
    "    #separation in x-direction\n",
    "    r[0] = -rb_/2.\n",
    "    r[1] =  rb_/2.\n",
    "    for i in range(Np):\n",
    "        #force perpendicular to separation - along z axis\n",
    "        F[i]      = 0.0\n",
    "        F[i+Np]   = 0.0 \n",
    "        F[i+2*Np] = 1.0\n",
    "        \n",
    "        v[i]      = 0.0\n",
    "        v[i+Np]   = 0.0\n",
    "        v[i+2*Np] = 0.0\n",
    "        \n",
    "        o[i]      = 0.0\n",
    "        o[i+Np]   = 0.0\n",
    "        o[i+2*Np] = 0.0\n",
    "        \n",
    "    _3a.RBM(v, o, r, F, T, S, D)\n",
    "        \n",
    "    _3a_muPerp[k] = v[4]/mu0 ## force is unity, so raw mobility is just velocity. Normalised by one-particle mobility\n",
    "    k += 1"
   ]
  },
  {
   "cell_type": "code",
   "execution_count": 18,
   "id": "705ff88f-c0b0-4003-b030-6345491c1e33",
   "metadata": {},
   "outputs": [
    {
     "data": {
      "text/plain": [
       "array([1.00483871, 1.00477753, 1.00465933, 1.00433347, 1.00320489,\n",
       "       1.0021283 , 1.00077837, 1.00006777, 0.99998705])"
      ]
     },
     "execution_count": 18,
     "metadata": {},
     "output_type": "execute_result"
    }
   ],
   "source": [
    "_3a_muPara/muPara"
   ]
  },
  {
   "cell_type": "code",
   "execution_count": 19,
   "id": "3487f3ed-32f0-46de-ab78-e0435f4a328a",
   "metadata": {},
   "outputs": [
    {
     "data": {
      "text/plain": [
       "array([1.02573726, 1.00832369, 1.00246364, 1.00076545, 1.00016705,\n",
       "       1.00007343, 1.0000511 , 0.99999561, 1.00002119])"
      ]
     },
     "execution_count": 19,
     "metadata": {},
     "output_type": "execute_result"
    }
   ],
   "source": [
    "_3a_muPerp/muPerp"
   ]
  },
  {
   "cell_type": "markdown",
   "id": "a69b48dd-6510-444f-840f-9ea24f5db0e7",
   "metadata": {},
   "source": [
    "______________\n",
    "\n",
    "## Long-ranged (2s, 3t, 3a, 3s)"
   ]
  },
  {
   "cell_type": "code",
   "execution_count": 20,
   "id": "86a8d132-194e-448d-8e00-40a2a93b7cde",
   "metadata": {},
   "outputs": [
    {
     "name": "stdout",
     "output_type": "stream",
     "text": [
      "[ 0.19103728  0.          0.          0.          0.          0.\n",
      "  0.          0.          0.         -0.01045651 -0.01045651  0.\n",
      "  0.          0.          0.09551864  0.09551864  0.          0.\n",
      "  0.          0.          0.02091301  0.          0.          0.\n",
      "  0.        ]\n",
      "[ 0.19069883  0.          0.          0.          0.          0.\n",
      "  0.          0.          0.         -0.01044543 -0.01044543  0.\n",
      "  0.          0.          0.09534941  0.09534941  0.          0.\n",
      "  0.          0.          0.02089085  0.          0.          0.\n",
      "  0.        ]\n",
      "[ 0.18492968  0.          0.          0.          0.          0.\n",
      "  0.          0.          0.         -0.01026981 -0.01026981  0.\n",
      "  0.          0.          0.09246484  0.09246484  0.          0.\n",
      "  0.          0.          0.02053962  0.          0.          0.\n",
      "  0.        ]\n",
      "[ 0.174375    0.          0.          0.          0.          0.\n",
      "  0.          0.          0.         -0.00991793 -0.00991793  0.\n",
      "  0.          0.          0.0871875   0.0871875   0.          0.\n",
      "  0.          0.          0.01983586  0.          0.          0.\n",
      "  0.        ]\n",
      "[ 0.14895141  0.          0.          0.          0.          0.\n",
      "  0.          0.          0.         -0.00857181 -0.00857181  0.\n",
      "  0.          0.          0.07447571  0.07447571  0.          0.\n",
      "  0.          0.          0.01714361  0.          0.          0.\n",
      "  0.        ]\n",
      "[ 0.12628927  0.          0.          0.          0.          0.\n",
      "  0.          0.          0.         -0.00698098 -0.00698098  0.\n",
      "  0.          0.          0.06314463  0.06314463  0.          0.\n",
      "  0.          0.          0.01396196  0.          0.          0.\n",
      "  0.        ]\n",
      "[ 0.08716568  0.          0.          0.          0.          0.\n",
      "  0.          0.          0.         -0.00413444 -0.00413444  0.\n",
      "  0.          0.          0.04358284  0.04358284  0.          0.\n",
      "  0.          0.          0.00826889  0.          0.          0.\n",
      "  0.        ]\n",
      "[ 0.04324218  0.          0.          0.          0.          0.\n",
      "  0.          0.          0.         -0.00146061 -0.00146061  0.\n",
      "  0.          0.          0.02162109  0.02162109  0.          0.\n",
      "  0.          0.          0.00292122  0.          0.          0.\n",
      "  0.        ]\n",
      "[ 0.0251452   0.          0.          0.          0.          0.\n",
      "  0.          0.          0.         -0.00064846 -0.00064846  0.\n",
      "  0.          0.          0.0125726   0.0125726   0.          0.\n",
      "  0.          0.          0.00129693  0.          0.          0.\n",
      "  0.        ]\n",
      "[ 0.          0.08420061  0.          0.          0.         -0.02168662\n",
      "  0.          0.          0.          0.          0.         -0.00319184\n",
      " -0.00957554  0.          0.          0.          0.          0.\n",
      "  0.          0.          0.          0.01276737  0.          0.\n",
      "  0.        ]\n",
      "[ 0.          0.08347786  0.          0.          0.         -0.02164656\n",
      "  0.          0.          0.          0.          0.         -0.003144\n",
      " -0.00943202  0.          0.          0.          0.          0.\n",
      "  0.          0.          0.          0.01257601  0.          0.\n",
      "  0.        ]\n",
      "[ 0.          0.07164059  0.          0.          0.         -0.0207357\n",
      "  0.          0.          0.          0.          0.         -0.00237608\n",
      " -0.00712824  0.          0.          0.          0.          0.\n",
      "  0.          0.          0.          0.00950433  0.          0.\n",
      "  0.        ]\n",
      "[ 0.          0.05337694  0.          0.          0.         -0.01834095\n",
      "  0.          0.          0.          0.          0.         -0.00128631\n",
      " -0.00385892  0.          0.          0.          0.          0.\n",
      "  0.          0.          0.          0.00514522  0.          0.\n",
      "  0.        ]\n",
      "[ 0.00000000e+00  2.66951067e-02  0.00000000e+00  0.00000000e+00\n",
      "  0.00000000e+00 -1.22893564e-02  0.00000000e+00  0.00000000e+00\n",
      "  0.00000000e+00  0.00000000e+00  0.00000000e+00 -6.64360499e-05\n",
      " -1.99307943e-04  0.00000000e+00  0.00000000e+00  0.00000000e+00\n",
      "  0.00000000e+00  0.00000000e+00  0.00000000e+00  0.00000000e+00\n",
      "  0.00000000e+00  2.65744197e-04  0.00000000e+00  0.00000000e+00\n",
      "  0.00000000e+00]\n",
      "[ 0.          0.01489712  0.          0.          0.         -0.00828232\n",
      "  0.          0.          0.          0.          0.          0.00023011\n",
      "  0.00069039  0.          0.          0.          0.          0.\n",
      "  0.          0.          0.         -0.00092052  0.          0.\n",
      "  0.        ]\n",
      "[ 0.          0.00522465  0.          0.          0.         -0.00388186\n",
      "  0.          0.          0.          0.          0.          0.00025112\n",
      "  0.00075335  0.          0.          0.          0.          0.\n",
      "  0.          0.          0.         -0.00100447  0.          0.\n",
      "  0.        ]\n",
      "[ 0.          0.00102869  0.          0.          0.         -0.00115657\n",
      "  0.          0.          0.          0.          0.          0.00010825\n",
      "  0.00032474  0.          0.          0.          0.          0.\n",
      "  0.          0.          0.         -0.00043298  0.          0.\n",
      "  0.        ]\n",
      "[ 0.00000000e+00  3.25520833e-04  0.00000000e+00  0.00000000e+00\n",
      "  0.00000000e+00 -4.88281250e-04  0.00000000e+00  0.00000000e+00\n",
      "  0.00000000e+00  0.00000000e+00  0.00000000e+00  5.06083171e-05\n",
      "  1.51824951e-04  0.00000000e+00  0.00000000e+00  0.00000000e+00\n",
      "  0.00000000e+00  0.00000000e+00  0.00000000e+00  0.00000000e+00\n",
      "  0.00000000e+00 -2.02433268e-04  0.00000000e+00  0.00000000e+00\n",
      "  0.00000000e+00]\n"
     ]
    }
   ],
   "source": [
    "lr = LR(b, Np, eta)\n",
    "## define distances that iterate through rb/2 and forces parallel and perpendicular to these distances \n",
    "\n",
    "lr_muPara = np.zeros(rb.shape[0])\n",
    "lr_muPerp = np.zeros(rb.shape[0])\n",
    "\n",
    "\n",
    "r, F, T, v, o = np.zeros(3*Np), np.zeros(3*Np), np.zeros(3*Np), np.zeros(3*Np), np.zeros(3*Np)\n",
    "\n",
    "S = np.zeros(6*Np)\n",
    "D = np.zeros(3*Np)\n",
    "\n",
    "## parallel\n",
    "k=0\n",
    "for rb_ in rb:\n",
    "    #separation in x-direction\n",
    "    r[0] = -rb_/2.\n",
    "    r[1] =  rb_/2.\n",
    "    for i in range(Np):\n",
    "        #force parallel to separation - along x axis\n",
    "        F[i]      = 1.0\n",
    "        F[i+Np]   = 0.0 \n",
    "        F[i+2*Np] = 0.0\n",
    "        \n",
    "        v[i]      = 0.0\n",
    "        v[i+Np]   = 0.0\n",
    "        v[i+2*Np] = 0.0\n",
    "        \n",
    "        o[i]      = 0.0\n",
    "        o[i+Np]   = 0.0\n",
    "        o[i+2*Np] = 0.0\n",
    "    \n",
    "    lr.RBM(v, o, r, F, T, S, D)\n",
    "        \n",
    "    lr_muPara[k] = v[0]/mu0 ## force is unity, so raw mobility is just velocity. Normalised by one-particle mobility\n",
    "    k += 1\n",
    "    \n",
    "## perpendicular\n",
    "k=0\n",
    "for rb_ in rb:\n",
    "    #separation in x-direction\n",
    "    r[0] = -rb_/2.\n",
    "    r[1] =  rb_/2.\n",
    "    for i in range(Np):\n",
    "        #force perpendicular to separation - along z axis\n",
    "        F[i]      = 0.0\n",
    "        F[i+Np]   = 0.0 \n",
    "        F[i+2*Np] = 1.0\n",
    "        \n",
    "        v[i]      = 0.0\n",
    "        v[i+Np]   = 0.0\n",
    "        v[i+2*Np] = 0.0\n",
    "        \n",
    "        o[i]      = 0.0\n",
    "        o[i+Np]   = 0.0\n",
    "        o[i+2*Np] = 0.0\n",
    "        \n",
    "    lr.RBM(v, o, r, F, T, S, D)\n",
    "        \n",
    "    lr_muPerp[k] = v[4]/mu0 ## force is unity, so raw mobility is just velocity. Normalised by one-particle mobility\n",
    "    k += 1"
   ]
  },
  {
   "cell_type": "code",
   "execution_count": 21,
   "id": "0d25f152-db6d-4784-868a-f088c2394d92",
   "metadata": {},
   "outputs": [
    {
     "data": {
      "text/plain": [
       "array([1.00064647, 1.00059064, 1.00057118, 1.00051222, 1.00039239,\n",
       "       1.00027199, 1.00011381, 0.99997923, 0.99996878])"
      ]
     },
     "execution_count": 21,
     "metadata": {},
     "output_type": "execute_result"
    }
   ],
   "source": [
    "lr_muPara/muPara"
   ]
  },
  {
   "cell_type": "code",
   "execution_count": 22,
   "id": "315ba398-bb47-49ec-88ae-e5a544645a97",
   "metadata": {},
   "outputs": [
    {
     "data": {
      "text/plain": [
       "array([1.02399627, 1.00666221, 1.00150611, 1.00047467, 1.00016657,\n",
       "       1.00006048, 1.00003497, 0.99999241, 1.00002046])"
      ]
     },
     "execution_count": 22,
     "metadata": {},
     "output_type": "execute_result"
    }
   ],
   "source": [
    "lr_muPerp/muPerp"
   ]
  },
  {
   "cell_type": "markdown",
   "id": "1f9aa137-b36f-48e7-b1ca-a218ee7382aa",
   "metadata": {
    "tags": []
   },
   "source": [
    "________________\n",
    "\n",
    "## Plotting"
   ]
  },
  {
   "cell_type": "code",
   "execution_count": 23,
   "id": "b2b35432-6216-413d-a1e8-b32d7060fb7a",
   "metadata": {},
   "outputs": [
    {
     "data": {
      "image/png": "[encoded data removed]",
      "text/plain": [
       "<Figure size 432x288 with 1 Axes>"
      ]
     },
     "metadata": {
      "needs_background": "light"
     },
     "output_type": "display_data"
    }
   ],
   "source": [
    "plt.plot(rb, pstk_muPara/muPara, label='pystokes', marker='o', linestyle=\"None\")\n",
    "plt.plot(rb, sp_muPara/muPara, label='superposition', marker='^', linestyle=\"None\")\n",
    "plt.plot(rb, _2s_muPara/muPara, label='2s', marker='s', linestyle=\"None\")\n",
    "plt.plot(rb, _3t_muPara/muPara, label='3t', marker='d', linestyle=\"None\")\n",
    "plt.plot(rb, _3a_muPara/muPara, label='3a', marker='+', linestyle=\"None\")\n",
    "plt.plot(rb, lr_muPara/muPara, label='long-ranged', marker='*', linestyle=\"None\")\n",
    "plt.axhline(y=1., color='grey', linestyle='--', linewidth=1)\n",
    "plt.xlabel('$r/b$')\n",
    "plt.ylabel('$\\mu_\\parallel/\\mu_\\parallel(exact)$')\n",
    "plt.legend()\n",
    "plt.show()"
   ]
  },
  {
   "cell_type": "code",
   "execution_count": 24,
   "id": "552999b3-28f8-4977-87a6-ef168a82e149",
   "metadata": {},
   "outputs": [
    {
     "data": {
      "image/png": "[encoded data removed]",
      "text/plain": [
       "<Figure size 432x288 with 1 Axes>"
      ]
     },
     "metadata": {
      "needs_background": "light"
     },
     "output_type": "display_data"
    }
   ],
   "source": [
    "#plt.figure(figsize=(15,4))\n",
    "#plt.plot(rb, pstk_muPerp/muPerp, label='pystokes', marker='o', linestyle=\"None\")\n",
    "plt.plot(rb, sp_muPerp/muPerp, label='superposition', marker='^', linestyle=\"None\")\n",
    "plt.plot(rb, _2s_muPerp/muPerp, label='2s', marker='s', linestyle=\"None\")\n",
    "plt.plot(rb, _3t_muPerp/muPerp, label='3t', marker='d', linestyle=\"None\")\n",
    "#plt.plot(rb, _3a_muPerp/muPerp, label='3a', marker='+', linestyle=\"None\")\n",
    "#plt.plot(rb, lr_muPerp/muPerp, label='long-ranged', marker='*', linestyle=\"None\")\n",
    "plt.axhline(y=1., color='grey', linestyle='--', linewidth=1)\n",
    "plt.xlabel('$r/b$')\n",
    "plt.ylabel('$\\mu_\\perp/\\mu_\\perp(exact)$')\n",
    "plt.legend()\n",
    "plt.show()"
   ]
  },
  {
   "cell_type": "code",
   "execution_count": null,
   "id": "fa1ee620-090e-401a-b2a4-defed7c358ff",
   "metadata": {},
   "outputs": [],
   "source": []
  },
  {
   "cell_type": "code",
   "execution_count": null,
   "id": "8d5d3aba-9989-4459-84aa-3131cb9350ec",
   "metadata": {},
   "outputs": [],
   "source": []
  },
  {
   "cell_type": "code",
   "execution_count": null,
   "id": "9bc39fdd-49ce-4d8f-9748-8d9657b2f634",
   "metadata": {},
   "outputs": [],
   "source": []
  },
  {
   "cell_type": "code",
   "execution_count": null,
   "id": "8ccbf62b-ed99-4cbd-a237-b05d427697b5",
   "metadata": {},
   "outputs": [],
   "source": []
  },
  {
   "cell_type": "code",
   "execution_count": null,
   "id": "bbf793db-44f9-4c9c-9dd3-de618bd02ea3",
   "metadata": {},
   "outputs": [],
   "source": []
  },
  {
   "cell_type": "code",
   "execution_count": null,
   "id": "5f15c8fe-f6af-49d6-b7cf-c74b24aabd51",
   "metadata": {},
   "outputs": [],
   "source": []
  },
  {
   "cell_type": "code",
   "execution_count": null,
   "id": "bebf2824-b45c-40e6-bd3d-4795389dcf8b",
   "metadata": {},
   "outputs": [],
   "source": []
  },
  {
   "cell_type": "code",
   "execution_count": 25,
   "id": "69143632-944d-4542-b4dc-62376af32451",
   "metadata": {},
   "outputs": [
    {
     "data": {
      "image/png": "[encoded data removed]",
      "text/plain": [
       "<Figure size 432x288 with 1 Axes>"
      ]
     },
     "metadata": {
      "needs_background": "light"
     },
     "output_type": "display_data"
    }
   ],
   "source": [
    "plt.plot(rb, pstk_muPara/muPara, label='pystokes', marker='o', linestyle=\"None\")\n",
    "plt.plot(rb, sp_muPara/muPara, label='superposition', marker='^', linestyle=\"None\")\n",
    "plt.plot(rb, _2s_muPara/muPara, label='2s', marker='s', linestyle=\"None\")\n",
    "plt.plot(rb, _3t_muPara/muPara, label='3t', marker='d', linestyle=\"None\")\n",
    "plt.plot(rb, _3a_muPara/muPara, label='3a', marker='+', linestyle=\"None\")\n",
    "plt.plot(rb, lr_muPara/muPara, label='long-ranged', marker='*', linestyle=\"None\")\n",
    "plt.axhline(y=1., color='grey', linestyle='--', linewidth=1)\n",
    "plt.xlabel('$r/b$')\n",
    "plt.ylabel('$\\mu_\\parallel/\\mu_\\parallel(exact)$')\n",
    "plt.legend()\n",
    "plt.show()"
   ]
  },
  {
   "cell_type": "code",
   "execution_count": 25,
   "id": "94fcdc8c-5960-4da4-a2c2-5e98ce650cab",
   "metadata": {},
   "outputs": [
    {
     "data": {
      "image/png": "[encoded data removed]",
      "text/plain": [
       "<Figure size 432x288 with 1 Axes>"
      ]
     },
     "metadata": {
      "needs_background": "light"
     },
     "output_type": "display_data"
    }
   ],
   "source": [
    "#plt.figure(figsize=(15,4))\n",
    "#plt.plot(rb, pstk_muPerp/muPerp, label='pystokes', marker='o', linestyle=\"None\")\n",
    "plt.plot(rb, sp_muPerp/muPerp, label='superposition', marker='^', linestyle=\"None\")\n",
    "plt.plot(rb, _2s_muPerp/muPerp, label='2s', marker='s', linestyle=\"None\")\n",
    "plt.plot(rb, _3t_muPerp/muPerp, label='3t', marker='d', linestyle=\"None\")\n",
    "#plt.plot(rb, _3a_muPerp/muPerp, label='3a', marker='+', linestyle=\"None\")\n",
    "plt.plot(rb, lr_muPerp/muPerp, label='long-ranged', marker='*', linestyle=\"None\")\n",
    "plt.axhline(y=1., color='grey', linestyle='--', linewidth=1)\n",
    "plt.xlabel('$r/b$')\n",
    "plt.ylabel('$\\mu_\\perp/\\mu_\\perp(exact)$')\n",
    "plt.legend()\n",
    "plt.show()"
   ]
  },
  {
   "cell_type": "code",
   "execution_count": 27,
   "id": "bad04e9c-90f2-42fa-896f-3bd63b0b06a3",
   "metadata": {},
   "outputs": [
    {
     "data": {
      "text/plain": [
       "array([1., 1., 1., 1., 1., 1., 1., 1., 1.])"
      ]
     },
     "execution_count": 27,
     "metadata": {},
     "output_type": "execute_result"
    }
   ],
   "source": [
    "_2s_muPara/_3t_muPara"
   ]
  },
  {
   "cell_type": "code",
   "execution_count": 28,
   "id": "3006976e-d3cf-42f2-bded-4cd20908e87b",
   "metadata": {},
   "outputs": [
    {
     "data": {
      "text/plain": [
       "array([1., 1., 1., 1., 1., 1., 1., 1., 1.])"
      ]
     },
     "execution_count": 28,
     "metadata": {},
     "output_type": "execute_result"
    }
   ],
   "source": [
    "_2s_muPerp/_3t_muPerp"
   ]
  },
  {
   "cell_type": "code",
   "execution_count": 29,
   "id": "8409e786-972c-4cbe-8ac7-397892808b89",
   "metadata": {},
   "outputs": [
    {
     "data": {
      "image/png": "[encoded data removed]",
      "text/plain": [
       "<Figure size 432x288 with 1 Axes>"
      ]
     },
     "metadata": {
      "needs_background": "light"
     },
     "output_type": "display_data"
    }
   ],
   "source": [
    "plt.plot(rb, _2s_muPerp/sp_muPerp, label='2s/pystokes', marker='^', linestyle=\"None\")\n",
    "plt.axhline(y=1., color='grey', linestyle='--', linewidth=1)\n",
    "plt.xlabel('$r/b$')\n",
    "plt.ylabel('$\\mu^{2s}_\\perp/\\mu_\\perp(superposition)$')\n",
    "plt.legend()\n",
    "plt.show()"
   ]
  },
  {
   "cell_type": "code",
   "execution_count": null,
   "id": "fb231387-5f5d-4f66-91b7-77d86e7ce2e4",
   "metadata": {},
   "outputs": [],
   "source": []
  },
  {
   "cell_type": "code",
   "execution_count": null,
   "id": "7ab2b176-4d33-48cd-a8e3-7e7194e4b1cb",
   "metadata": {},
   "outputs": [],
   "source": []
  },
  {
   "cell_type": "code",
   "execution_count": null,
   "id": "11df9e1a-e0b7-4e17-a481-47f70cbcb7c6",
   "metadata": {},
   "outputs": [],
   "source": []
  },
  {
   "cell_type": "code",
   "execution_count": null,
   "id": "74742ad8-e2cc-4cfe-9548-89c1089a1289",
   "metadata": {},
   "outputs": [],
   "source": []
  },
  {
   "cell_type": "code",
   "execution_count": null,
   "id": "95aa80fa-b296-4d14-bdd8-e8c9e43453f9",
   "metadata": {},
   "outputs": [],
   "source": []
  },
  {
   "cell_type": "code",
   "execution_count": null,
   "id": "c783daf7-05e9-43ec-9c6e-14f9dc858640",
   "metadata": {},
   "outputs": [],
   "source": []
  },
  {
   "cell_type": "code",
   "execution_count": null,
   "id": "ba0e56e1-a010-433c-b9d1-658be20fba93",
   "metadata": {},
   "outputs": [],
   "source": []
  },
  {
   "cell_type": "code",
   "execution_count": null,
   "id": "9aa5bbd0-c9e9-4766-8804-4ab28b6e5545",
   "metadata": {},
   "outputs": [],
   "source": []
  },
  {
   "cell_type": "code",
   "execution_count": null,
   "id": "867997b1-34eb-4264-a0d5-38d07913a271",
   "metadata": {},
   "outputs": [],
   "source": []
  }
 ],
 "metadata": {
  "kernelspec": {
   "display_name": "Python 3 (ipykernel)",
   "language": "python",
   "name": "python3"
  },
  "language_info": {
   "codemirror_mode": {
    "name": "ipython",
    "version": 3
   },
   "file_extension": ".py",
   "mimetype": "text/x-python",
   "name": "python",
   "nbconvert_exporter": "python",
   "pygments_lexer": "ipython3",
   "version": "3.10.2"
  }
 },
 "nbformat": 4,
 "nbformat_minor": 5
}
