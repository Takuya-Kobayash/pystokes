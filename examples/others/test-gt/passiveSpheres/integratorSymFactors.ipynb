{
 "cells": [
  {
   "cell_type": "code",
   "execution_count": 1,
   "id": "5ea0c3ca-ea9b-48e6-b764-e9c35a71f626",
   "metadata": {},
   "outputs": [],
   "source": [
    "%matplotlib inline\n",
    "from solveLongRanged import linearSolve_krylov as linearSolve\n",
    "#from solve2sDirect import linearSolve_direct ## all symmetry factors\n",
    "#from solve2s import linearSolve_krylov       ## only VL symmetry factors\n",
    "import numpy as np, matplotlib.pyplot as plt\n",
    "import pystokes"
   ]
  },
  {
   "cell_type": "code",
   "execution_count": 2,
   "id": "ecbf7872-d544-4d59-b3fe-cd1ab4237802",
   "metadata": {},
   "outputs": [],
   "source": [
    "def rotation(vector,alpha, beta, gamma):\n",
    "    rotmat = np.array([[np.cos(beta)*np.cos(gamma), np.sin(alpha)*np.sin(beta)*np.cos(gamma) \n",
    "                        - np.cos(alpha)*np.sin(gamma), np.cos(alpha)*np.sin(beta)*np.cos(gamma)\n",
    "                        + np.sin(alpha)*np.sin(gamma)],\n",
    "                       [np.cos(beta)*np.sin(gamma),\n",
    "                        np.sin(alpha)*np.sin(beta)*np.sin(gamma) + np.cos(alpha)*np.cos(gamma),\n",
    "                        np.cos(alpha)*np.sin(beta)*np.sin(gamma) - np.sin(alpha)*np.cos(gamma)],\n",
    "                       [-np.sin(beta),\n",
    "                        np.sin(alpha)*np.cos(beta),\n",
    "                        np.cos(alpha)*np.cos(beta)]])\n",
    "    return np.dot(rotmat, vector)"
   ]
  },
  {
   "cell_type": "code",
   "execution_count": 3,
   "id": "1b6243c6-c5e2-4038-adeb-ece207c276e8",
   "metadata": {},
   "outputs": [],
   "source": [
    "# particle radius, self-propulsion speed, number and fluid viscosity\n",
    "b, Np, eta = 1.0, 2, 0.1\n",
    "\n",
    "## squirmer\n",
    "D0  = 1.0      \n",
    "S0  = 3/50*D0    # beta = 1 (positive beta is a puller (negative V2s)) - not sure which sign!"
   ]
  },
  {
   "cell_type": "code",
   "execution_count": 4,
   "id": "36559b20-ed76-4701-a56f-16d30a3ee2dd",
   "metadata": {},
   "outputs": [],
   "source": [
    "## initialise \n",
    "#initial position\n",
    "r = np.array([-1.5,1.5, 0.,0. , 0., 0.])\n",
    "\n",
    "#initial orientation\n",
    "p = np.array([0., 0., 0.,0., 1.,1.])\n",
    "\n",
    "##rotate particles 50deg towards each other\n",
    "p[::Np] = rotation(p[::Np], 0., 25*2*np.pi/360, 0.)\n",
    "p[1::Np] = rotation(p[1::Np], 0., -25*2*np.pi/360, 0.)\n",
    "\n",
    "\n",
    "# initial slip modes\n",
    "S = np.zeros(6*Np)\n",
    "D = np.zeros(3*Np)\n",
    "for i in range(Np):\n",
    "    ## S in order: xx, xy, xz, yy, yz\n",
    "    S[i]       = S0*(3*p[i]*p[i] -1.)\n",
    "    S[i + Np]  = S0*(3*p[i]*p[i+Np])\n",
    "    S[i + 2*Np]= S0*(3*p[i]*p[i+2*Np])\n",
    "    S[i + 3*Np]= S0*(3*p[i+Np]*p[i+Np]-1.)\n",
    "    S[i + 4*Np]= S0*(3*p[i+Np]*p[i+2*Np])\n",
    "    S[i + 5*Np]= S0*(3*p[i+2*Np]*p[i+2*Np] - 1.)  #-(S[i] + S[i + 3*Np])  ##use tracelessness \n",
    "    \n",
    "    D[i]       = D0*p[i]\n",
    "    D[i+Np]    = D0*p[i+Np]\n",
    "    D[i+2*Np]  = D0*p[i+2*Np]"
   ]
  },
  {
   "cell_type": "code",
   "execution_count": 5,
   "id": "a743ca23-ca83-41f2-b9d7-fd206cc1deeb",
   "metadata": {},
   "outputs": [],
   "source": [
    "def rhs(rp): ##change this to give polarisation directly\n",
    "    \"\"\"\n",
    "    Function that gives rhs for equations dr/dt=v and dp/dt= o x p\n",
    "    \"\"\"\n",
    "    \n",
    "    #position and angle theta (relative to initial angle)\n",
    "    r = rp[0:3*Np]; p = rp[3*Np:6*Np]\n",
    "    \n",
    "    ## make sure orientations remain unit length\n",
    "    norm_p1 = np.dot(p[::Np],p[::Np])\n",
    "    norm_p2 = np.dot(p[1::Np],p[1::Np])\n",
    "    \n",
    "    p[::Np] = p[::Np]/np.sqrt(norm_p1)\n",
    "    p[1::Np] = p[1::Np]/np.sqrt(norm_p2)\n",
    "    \n",
    "    \n",
    "    F, T, v, o = np.zeros(3*Np), np.zeros(3*Np), np.zeros(3*Np), np.zeros(3*Np)\n",
    "    \n",
    "    for i in range(Np):          \n",
    "        F[i]      = 0.0\n",
    "        F[i+Np]   = 0.0 \n",
    "        F[i+2*Np] = 0.0 \n",
    "        \n",
    "        T[i]      = 0.0\n",
    "        T[i+Np]   = 0.0\n",
    "        T[i+2*Np] = 0.0\n",
    "        \n",
    "        v[i]      = 0.0\n",
    "        v[i+Np]   = 0.0\n",
    "        v[i+2*Np] = 0.0\n",
    "        \n",
    "        o[i]      = 0.0\n",
    "        o[i+Np]   = 0.0\n",
    "        o[i+2*Np] = 0.0\n",
    "        \n",
    "        \n",
    "        S[i]       = S0*(3*p[i]*p[i] - 1.)\n",
    "        S[i + Np]  = S0*(3*p[i]*p[i+Np])\n",
    "        S[i + 2*Np]= S0*(3*p[i]*p[i+2*Np])\n",
    "        S[i + 3*Np]= S0*(3*p[i+Np]*p[i+Np] - 1.)\n",
    "        S[i + 4*Np]= S0*(3*p[i+Np]*p[i+2*Np])\n",
    "        S[i + 5*Np]= S0*(3*p[i+2*Np]*p[i+2*Np] - 1.)  #-(S[i] + S[i + 3*Np])  ##use tracelessness \n",
    "        \n",
    "        D[i]       = D0*p[i]\n",
    "        D[i+Np]    = D0*p[i+Np]\n",
    "        D[i+2*Np]  = D0*p[i+2*Np]\n",
    "\n",
    "    \n",
    "    #update repulsive force at position r\n",
    "    forces.lennardJones(F, r, lje=5.0, ljr=2.1*b)\n",
    "    \n",
    "    #update velocity and angular velocity at r, acted on by F and T, and with slip modes S an D\n",
    "    ls.RBM(v, o, r, F, T, S, D)\n",
    "    \n",
    "    dpdt = np.zeros(3*Np)\n",
    "    \n",
    "    for i in range(Np):\n",
    "        dpdt[i]      = o[i+Np]*p[i+2*Np] - o[i+2*Np]*p[i+Np]    \n",
    "        dpdt[i+Np]   = o[i+2*Np]*p[i   ] - o[i     ]*p[i+2*Np]  \n",
    "        dpdt[i+2*Np] = o[i     ]*p[i+Np] - o[i+Np  ]*p[i]\n",
    "        \n",
    "\n",
    "    \n",
    "    #return velocity and angular velocity cross orientation as right-hand side\n",
    "    return np.concatenate( (v,dpdt) )"
   ]
  },
  {
   "cell_type": "code",
   "execution_count": 20,
   "id": "7b7c0a9b-b5c9-462c-a19e-5fe8f9789fcc",
   "metadata": {},
   "outputs": [],
   "source": [
    "def simulate(rth0, Tf, Npts, rhs, integrator='solve_ivp', Ti=0, maxNumSteps=100000, **kwargs):\n",
    "    \n",
    "    def dxdtEval(rth,t):\n",
    "        return rhs(rth)\n",
    "    \n",
    "    if integrator=='BDF': ## weird handling for this method\n",
    "        from scipy.integrate import BDF\n",
    "        X = BDF(lambda t, xt: dxdtEval(xt,t), Ti, rth0, Tf)\n",
    "        \n",
    "    if integrator=='odeint':\n",
    "        from scipy.integrate import odeint\n",
    "        time_points=np.linspace(Ti, Tf, Npts+1);\n",
    "        X = odeint(dxdtEval, rth0, time_points, mxstep=maxNumSteps, **kwargs)\n",
    "        \n",
    "    if integrator=='solve_ivp':\n",
    "        from scipy.integrate import solve_ivp\n",
    "        time_points=np.linspace(Ti, Tf, Npts+1)                                                          \n",
    "        X = solve_ivp(lambda t, xt: dxdtEval(xt,t), [0,Tf], rth0, \n",
    "                         t_eval=None, **kwargs)\n",
    "        \n",
    "    return X"
   ]
  },
  {
   "cell_type": "code",
   "execution_count": 48,
   "id": "a1bbce4f-bfde-411e-a40b-d3f37138cd60",
   "metadata": {},
   "outputs": [
    {
     "name": "stdout",
     "output_type": "stream",
     "text": [
      "CPU times: user 2min 17s, sys: 92.5 ms, total: 2min 17s\n",
      "Wall time: 1min 47s\n"
     ]
    },
    {
     "data": {
      "text/plain": [
       "'The solver successfully reached the end of the integration interval.'"
      ]
     },
     "execution_count": 48,
     "metadata": {},
     "output_type": "execute_result"
    }
   ],
   "source": [
    "%%time\n",
    "#initiallize system and forces\n",
    "ls = linearSolve(b, Np, eta)\n",
    "forces  = pystokes.forceFields.Forces(particles=Np)\n",
    "\n",
    "#simulate the resulting system\n",
    "rp0 = np.concatenate((r,p))\n",
    "Tf = 500.\n",
    "Npts = 10\n",
    "\n",
    "X = simulate(rp0, Tf, Npts, rhs, integrator='solve_ivp', Ti=0, maxNumSteps=1000,\n",
    "             method='BDF')\n",
    "X.message"
   ]
  },
  {
   "cell_type": "code",
   "execution_count": 49,
   "id": "be84f876-653b-427c-9095-8062b2a013f2",
   "metadata": {},
   "outputs": [],
   "source": [
    "pos = X.y.T[:,0:3*Np]\n",
    "times = X.t"
   ]
  },
  {
   "cell_type": "code",
   "execution_count": 50,
   "id": "3f196502-7628-4689-8f38-15ee285f72d7",
   "metadata": {},
   "outputs": [],
   "source": [
    "pos1 = pos[:,::Np]\n",
    "pos2 = pos[:,1::Np]"
   ]
  },
  {
   "cell_type": "code",
   "execution_count": 51,
   "id": "7eebe082-f07d-4ef9-9d6b-0094dad3e589",
   "metadata": {},
   "outputs": [
    {
     "data": {
      "image/png": "[encoded data removed]",
      "text/plain": [
       "<Figure size 432x288 with 1 Axes>"
      ]
     },
     "metadata": {
      "needs_background": "light"
     },
     "output_type": "display_data"
    }
   ],
   "source": [
    "##x-y plot like in Ishikawa\n",
    "plt.plot(pos1[:,0], pos1[:,2], label='particle 1')\n",
    "plt.plot(pos2[:,0], pos2[:,2], label='particle 2')\n",
    "plt.xlabel('x')\n",
    "plt.ylabel('z')\n",
    "plt.xlim(-10,10)\n",
    "plt.legend()\n",
    "plt.show()"
   ]
  },
  {
   "cell_type": "code",
   "execution_count": 52,
   "id": "d0da3f56-2e2e-4140-a959-d390b0a3ce55",
   "metadata": {},
   "outputs": [
    {
     "data": {
      "text/plain": [
       "(2.043930204658359, 3.0)"
      ]
     },
     "execution_count": 52,
     "metadata": {},
     "output_type": "execute_result"
    }
   ],
   "source": [
    "## minimum distance between the two particles\n",
    "rmin = np.amin(np.sqrt((pos1[:,0]-pos2[:,0])**2 + (pos1[:,1]-pos2[:,1])**2 + (pos1[:,2]-pos2[:,2])**2))\n",
    "rmax = np.amax(np.sqrt((pos1[:,0]-pos2[:,0])**2 + (pos1[:,1]-pos2[:,1])**2 + (pos1[:,2]-pos2[:,2])**2))\n",
    "rmin, rmax"
   ]
  },
  {
   "cell_type": "code",
   "execution_count": 53,
   "id": "3424d28f-af29-4553-8180-d495ddec9255",
   "metadata": {},
   "outputs": [
    {
     "data": {
      "text/plain": [
       "(array([14]),)"
      ]
     },
     "execution_count": 53,
     "metadata": {},
     "output_type": "execute_result"
    }
   ],
   "source": [
    "minIndex = np.where(np.sqrt((pos1[:,0]-pos2[:,0])**2 + (pos1[:,1]-pos2[:,1])**2 + (pos1[:,2]-pos2[:,2])**2)==rmin)\n",
    "#minIndex[0][0] -= 18\n",
    "xik,yik,zik = (pos1[minIndex,:]-pos2[minIndex,:])[0][0]\n",
    "minIndex"
   ]
  },
  {
   "cell_type": "code",
   "execution_count": 54,
   "id": "81b91fef-0a57-43ce-ad74-186aba28c1f9",
   "metadata": {},
   "outputs": [
    {
     "data": {
      "text/plain": [
       "(-2.043930204658359, -4.589101141651591e-25, 9.743317264110374e-13)"
      ]
     },
     "execution_count": 54,
     "metadata": {},
     "output_type": "execute_result"
    }
   ],
   "source": [
    "xik,yik,zik ##they go out of plane? not anymore! "
   ]
  },
  {
   "cell_type": "code",
   "execution_count": 55,
   "id": "5afba71a-eda5-4b41-b75e-b161e413f366",
   "metadata": {},
   "outputs": [],
   "source": [
    "##why does Krylov solver go so wrong? seems to introduce numerical error. \n",
    "\n",
    "## Try symmetry factor corrected matrix elements with a direct solver? "
   ]
  },
  {
   "cell_type": "code",
   "execution_count": 56,
   "id": "894bb98c-f67f-4b0c-abff-6a3c8f40c962",
   "metadata": {},
   "outputs": [
    {
     "name": "stdout",
     "output_type": "stream",
     "text": [
      "[ 0.00000000e+00  0.00000000e+00  0.00000000e+00  0.00000000e+00\n",
      "  0.00000000e+00  0.00000000e+00  0.00000000e+00  0.00000000e+00\n",
      " -2.22044605e-16  2.22044605e-16 -2.22044605e-16 -6.66133815e-15\n",
      " -1.03494990e-12 -2.67408318e-12 -2.41828779e-12 -1.50301993e-12\n",
      " -1.07402975e-12 -1.49902313e-12 -3.46611628e-12 -5.19384535e-12\n",
      " -4.90607555e-12 -1.67510450e-12  5.37414557e-12  7.71716024e-12\n",
      "  9.21618337e-12  1.07289733e-11  1.33890676e-11  1.73181469e-11\n",
      "  2.57589505e-11  3.67212927e-11  5.05189224e-11  6.77700118e-11\n",
      "  1.24448896e-10  2.09338324e-10  3.30372174e-10  4.98113772e-10\n",
      "  9.13198850e-10  1.56542290e-09  2.54677923e-09  3.96548905e-09\n",
      "  5.94729643e-09  9.30265220e-09  1.40283265e-08  2.05785078e-08\n",
      "  2.96146383e-08  4.98872721e-08  8.44833783e-08  1.46649124e-07\n",
      "  2.85025037e-07  5.72683506e-07  1.16711143e-06  2.04250826e-06\n",
      "  3.51912055e-06  5.95829068e-06  9.93928295e-06  1.79784706e-05\n",
      "  3.25511869e-05  5.96274469e-05  1.11087271e-04  2.59366387e-04\n",
      "  6.06206549e-04  1.39481759e-03  3.15455379e-03  5.94924718e-03\n",
      "  1.12489872e-02  2.14535433e-02  4.12745486e-02  7.97754694e-02\n",
      "  1.76651916e-01  3.00513825e-01  5.08257440e-01  6.82687455e-01\n",
      "  9.14444227e-01  1.22005758e+00  1.61789026e+00  2.24331572e+00\n",
      "  2.95524728e+00]\n"
     ]
    }
   ],
   "source": [
    "print(pos1[:,0] + pos2[:,0])"
   ]
  },
  {
   "cell_type": "code",
   "execution_count": 57,
   "id": "506c0c13-64f3-4534-a48f-2c1a5e48d785",
   "metadata": {},
   "outputs": [],
   "source": [
    "orientations = X.y.T[:,3*Np:6*Np]\n",
    "or1 = orientations[:,::Np]\n",
    "or2 = orientations[:,1::Np]"
   ]
  },
  {
   "cell_type": "code",
   "execution_count": 58,
   "id": "be8a3111-ec95-499c-a536-8ce4aff37aa8",
   "metadata": {},
   "outputs": [
    {
     "data": {
      "text/plain": [
       "array([ 0.00000000e+00,  0.00000000e+00,  0.00000000e+00,  0.00000000e+00,\n",
       "        0.00000000e+00,  0.00000000e+00,  0.00000000e+00,  0.00000000e+00,\n",
       "        5.55111512e-17,  0.00000000e+00, -2.22044605e-16, -1.40443213e-14,\n",
       "        2.24931185e-13,  5.40123501e-13,  7.34412531e-13,  3.13138404e-13,\n",
       "        1.52045043e-13,  1.34670053e-13,  6.64995836e-13,  1.09007248e-12,\n",
       "        1.05362941e-12,  6.18033402e-13, -1.30576105e-13,  1.69476932e-12,\n",
       "        5.35244418e-12,  8.11036655e-12,  1.11529432e-11,  1.46148935e-11,\n",
       "        2.07361073e-11,  2.76462256e-11,  3.54263285e-11,  4.43030473e-11,\n",
       "        7.01327052e-11,  1.04829020e-10,  1.50230092e-10,  2.08597958e-10,\n",
       "        3.42512380e-10,  5.35357120e-10,  8.00484151e-10,  1.15053922e-09,\n",
       "        1.59812738e-09,  2.29339976e-09,  3.20843167e-09,  4.43122866e-09,\n",
       "        6.10645706e-09,  1.00070632e-08,  1.71422554e-08,  3.10798159e-08,\n",
       "        6.43826816e-08,  1.35714506e-07,  2.79946964e-07,  4.83336337e-07,\n",
       "        8.10059638e-07,  1.32959719e-06,  2.16298525e-06,  3.85947857e-06,\n",
       "        7.02726920e-06,  1.31464406e-05,  2.51251468e-05,  5.98609993e-05,\n",
       "        1.39343461e-04,  3.14404774e-04,  6.98253256e-04,  1.31069079e-03,\n",
       "        2.49415129e-03,  4.81773479e-03,  9.37612272e-03,  1.82030597e-02,\n",
       "        4.00637278e-02,  6.76148013e-02,  1.13132794e-01,  1.50832078e-01,\n",
       "        2.00049480e-01,  2.63085170e-01,  3.41252804e-01,  4.53485150e-01,\n",
       "        5.65142084e-01])"
      ]
     },
     "execution_count": 58,
     "metadata": {},
     "output_type": "execute_result"
    }
   ],
   "source": [
    "or1[:,0] + or2[:,0]"
   ]
  },
  {
   "cell_type": "code",
   "execution_count": 59,
   "id": "bde5b510-6880-4384-90c6-cb245d563dc5",
   "metadata": {},
   "outputs": [
    {
     "data": {
      "text/plain": [
       "array([ 0.00000000e+00,  0.00000000e+00,  0.00000000e+00,  0.00000000e+00,\n",
       "        0.00000000e+00,  0.00000000e+00,  1.11022302e-16,  0.00000000e+00,\n",
       "        0.00000000e+00,  0.00000000e+00,  4.44089210e-15,  4.89608354e-14,\n",
       "        5.20694599e-14, -5.35127498e-13,  2.92321722e-13, -9.75886039e-14,\n",
       "       -2.26374475e-13, -4.16777723e-13, -1.66533454e-14, -1.65201186e-13,\n",
       "       -2.98427949e-13, -1.07946985e-12, -1.64368519e-12, -1.26709754e-12,\n",
       "       -1.17794663e-12, -4.42201831e-13, -2.43471909e-13, -5.99520433e-14,\n",
       "        4.53748150e-13,  1.02895470e-12,  1.74338322e-12,  2.66586753e-12,\n",
       "        6.36646291e-12,  1.19926291e-11,  1.90623073e-11,  2.75551804e-11,\n",
       "        4.63281635e-11,  7.54579732e-11,  1.12511112e-10,  1.56472724e-10,\n",
       "        2.07676654e-10,  2.78392753e-10,  3.64374420e-10,  4.75229078e-10,\n",
       "        6.26511287e-10,  9.88479409e-10,  1.70482328e-09,  3.25729288e-09,\n",
       "        7.33480010e-09,  1.66225750e-08,  3.54192964e-08,  6.01197870e-08,\n",
       "        9.70851158e-08,  1.53161646e-07,  2.40883529e-07,  4.18149295e-07,\n",
       "        7.64780099e-07,  1.46997889e-06,  2.91158444e-06,  7.19687855e-06,\n",
       "        1.67447114e-05,  3.64695294e-05,  7.88846215e-05,  1.46085820e-04,\n",
       "        2.82010774e-04,  5.54549735e-04,  1.09692294e-03,  2.14427635e-03,\n",
       "        4.70183207e-03,  7.84149067e-03,  1.29745314e-02,  1.72060886e-02,\n",
       "        2.26895005e-02,  2.96394183e-02,  3.81048376e-02,  4.98625040e-02,\n",
       "        6.09176859e-02])"
      ]
     },
     "execution_count": 59,
     "metadata": {},
     "output_type": "execute_result"
    }
   ],
   "source": [
    "or1[:,2] - or2[:,2]"
   ]
  },
  {
   "cell_type": "code",
   "execution_count": 60,
   "id": "4c0633dc-2f73-4bd1-a1be-c391ed7758e1",
   "metadata": {},
   "outputs": [
    {
     "data": {
      "text/plain": [
       "208"
      ]
     },
     "execution_count": 60,
     "metadata": {},
     "output_type": "execute_result"
    }
   ],
   "source": [
    "X.nfev"
   ]
  },
  {
   "cell_type": "code",
   "execution_count": null,
   "id": "0f8d3b21-8e16-4254-ad26-e456179a62d5",
   "metadata": {},
   "outputs": [],
   "source": []
  },
  {
   "cell_type": "code",
   "execution_count": null,
   "id": "b8be07c3-5db5-46b4-9720-ba8894f5e737",
   "metadata": {},
   "outputs": [],
   "source": []
  },
  {
   "cell_type": "code",
   "execution_count": null,
   "id": "b5a13da8-ee8e-4f12-9fa6-4641ddd114e2",
   "metadata": {},
   "outputs": [],
   "source": []
  },
  {
   "cell_type": "code",
   "execution_count": null,
   "id": "d652f40c-e9e1-4770-863f-f70cad2aff59",
   "metadata": {},
   "outputs": [],
   "source": []
  },
  {
   "cell_type": "markdown",
   "id": "c88af262-983a-485a-a39e-b17d3a90b1ad",
   "metadata": {},
   "source": [
    "### Direct solver"
   ]
  },
  {
   "cell_type": "code",
   "execution_count": 67,
   "id": "b5a11523-3b97-4e06-921b-050f7da5c504",
   "metadata": {},
   "outputs": [
    {
     "name": "stdout",
     "output_type": "stream",
     "text": [
      "CPU times: user 9.87 s, sys: 51.5 ms, total: 9.92 s\n",
      "Wall time: 1.27 s\n"
     ]
    },
    {
     "data": {
      "text/plain": [
       "'The solver successfully reached the end of the integration interval.'"
      ]
     },
     "execution_count": 67,
     "metadata": {},
     "output_type": "execute_result"
    }
   ],
   "source": [
    "%%time\n",
    "#initiallize system and forces\n",
    "ls = linearSolve_direct(b, Np, eta)\n",
    "forces  = pystokes.forceFields.Forces(particles=Np)\n",
    "\n",
    "#simulate the resulting system\n",
    "rp0 = np.concatenate((r,p))\n",
    "Tf = 1000.\n",
    "Npts = 100\n",
    "\n",
    "X = simulate(rp0, Tf, Npts, rhs, integrator='solve_ivp', Ti=0, maxNumSteps=1000,\n",
    "             method='BDF')\n",
    "X.message"
   ]
  },
  {
   "cell_type": "code",
   "execution_count": 68,
   "id": "33c96680-c924-4494-b208-85cbca872c42",
   "metadata": {},
   "outputs": [],
   "source": [
    "pos = X.y.T[:,0:3*Np]\n",
    "times = X.t"
   ]
  },
  {
   "cell_type": "code",
   "execution_count": 69,
   "id": "194e9686-4e5c-4ace-872a-406ba07a8895",
   "metadata": {},
   "outputs": [],
   "source": [
    "pos1 = pos[:,::Np]\n",
    "pos2 = pos[:,1::Np]"
   ]
  },
  {
   "cell_type": "code",
   "execution_count": 70,
   "id": "6381f0c7-59df-4d5f-b777-951528b82e37",
   "metadata": {},
   "outputs": [
    {
     "data": {
      "image/png": "[encoded data removed]",
      "text/plain": [
       "<Figure size 432x288 with 1 Axes>"
      ]
     },
     "metadata": {
      "needs_background": "light"
     },
     "output_type": "display_data"
    }
   ],
   "source": [
    "##x-y plot like in Ishikawa\n",
    "plt.plot(pos1[:,0], pos1[:,2], label='particle 1')\n",
    "plt.plot(pos2[:,0], pos2[:,2], label='particle 2')\n",
    "plt.xlabel('x')\n",
    "plt.ylabel('z')\n",
    "#plt.xlim(-1.2,-1.)\n",
    "plt.legend()\n",
    "plt.show()"
   ]
  },
  {
   "cell_type": "code",
   "execution_count": 71,
   "id": "5a3a740c-7969-4e41-83c1-89b0d2dc5f05",
   "metadata": {},
   "outputs": [
    {
     "data": {
      "text/plain": [
       "(2.0864186257149586, 10.596453497712508)"
      ]
     },
     "execution_count": 71,
     "metadata": {},
     "output_type": "execute_result"
    }
   ],
   "source": [
    "## minimum distance between the two particles\n",
    "rmin = np.amin(np.sqrt((pos1[:,0]-pos2[:,0])**2 + (pos1[:,1]-pos2[:,1])**2 + (pos1[:,2]-pos2[:,2])**2))\n",
    "rmax = np.amax(np.sqrt((pos1[:,0]-pos2[:,0])**2 + (pos1[:,1]-pos2[:,1])**2 + (pos1[:,2]-pos2[:,2])**2))\n",
    "rmin, rmax"
   ]
  },
  {
   "cell_type": "code",
   "execution_count": 72,
   "id": "b6c65c53-5a97-4676-9733-7f7ef9f361e4",
   "metadata": {},
   "outputs": [
    {
     "data": {
      "text/plain": [
       "(array([17]),)"
      ]
     },
     "execution_count": 72,
     "metadata": {},
     "output_type": "execute_result"
    }
   ],
   "source": [
    "minIndex = np.where(np.sqrt((pos1[:,0]-pos2[:,0])**2 + (pos1[:,1]-pos2[:,1])**2 + (pos1[:,2]-pos2[:,2])**2)==rmin)\n",
    "#minIndex[0][0] -= 18\n",
    "xik,yik,zik = (pos1[minIndex,:]-pos2[minIndex,:])[0][0]\n",
    "minIndex"
   ]
  },
  {
   "cell_type": "code",
   "execution_count": 73,
   "id": "f8f5010c-d0e3-4a83-a4da-b79d25a63b20",
   "metadata": {},
   "outputs": [
    {
     "data": {
      "text/plain": [
       "(-2.086418625436658, 0.0, -3.40778913239248e-05)"
      ]
     },
     "execution_count": 73,
     "metadata": {},
     "output_type": "execute_result"
    }
   ],
   "source": [
    "xik,yik,zik ##they go out of plane? not anymore! "
   ]
  },
  {
   "cell_type": "code",
   "execution_count": 74,
   "id": "d0e29cec-6a99-498e-a73c-c24352ec46b2",
   "metadata": {},
   "outputs": [],
   "source": [
    "##why does Krylov solver go so wrong? seems to introduce numerical error. \n",
    "\n",
    "## Try symmetry factor corrected matrix elements with a direct solver? "
   ]
  },
  {
   "cell_type": "code",
   "execution_count": 75,
   "id": "079ee3f8-84a4-4cf3-8f93-02a2b2855cc1",
   "metadata": {},
   "outputs": [
    {
     "name": "stdout",
     "output_type": "stream",
     "text": [
      "[ 0.00000000e+00 -2.16899831e-11 -1.44676937e-10 -2.62469158e-10\n",
      " -3.15919291e-10 -3.10666826e-10 -3.11172421e-10 -3.16270121e-10\n",
      " -3.26513705e-10 -3.43560735e-10 -3.70134368e-10 -4.11179535e-10\n",
      " -4.75782302e-10 -5.84236437e-10 -7.66216868e-10 -1.09253961e-09\n",
      " -1.87738447e-09 -4.15486334e-09 -1.00605495e-08 -2.47981202e-08\n",
      " -6.21155474e-08 -1.36281525e-07 -2.46168115e-07 -3.17252650e-07\n",
      " -4.07949419e-07 -1.02921039e-06 -4.78344293e-06 -5.43353453e-06\n",
      " -5.80532884e-06 -6.93221929e-06 -8.05248112e-06 -8.94370290e-06\n",
      " -9.66879512e-06 -1.02817771e-05 -1.08105544e-05 -1.12744436e-05\n",
      " -1.16904988e-05 -1.20675247e-05 -1.24155062e-05 -1.27386308e-05\n",
      " -1.30396957e-05 -1.33222236e-05 -1.35878252e-05 -1.38398324e-05\n",
      " -1.40785059e-05 -1.43066247e-05 -1.45242989e-05 -1.47330907e-05\n",
      " -1.49337213e-05 -1.51266858e-05 -1.53126719e-05 -1.54915637e-05\n",
      " -1.56646329e-05 -1.58325756e-05 -1.59960623e-05 -1.61538667e-05\n",
      " -1.63074120e-05 -1.64571655e-05 -1.66035944e-05 -1.67461363e-05\n",
      " -1.68850334e-05 -1.70208773e-05 -1.71539475e-05 -1.72842240e-05\n",
      " -1.74114368e-05 -1.75360889e-05 -1.76583499e-05 -1.77783308e-05\n",
      " -1.78953161e-05 -1.80100827e-05 -1.81227642e-05 -1.82334945e-05\n",
      " -1.83424074e-05 -1.84496367e-05 -1.85553161e-05 -1.86595793e-05\n",
      " -1.87616405e-05 -1.88619201e-05 -1.89607300e-05 -1.90581588e-05\n",
      " -1.91542950e-05 -1.92492273e-05 -1.93430443e-05 -1.94358346e-05\n",
      " -1.95272458e-05 -1.96170881e-05 -1.97058103e-05 -1.97934645e-05\n",
      " -1.98801024e-05 -1.99657759e-05 -2.00505370e-05 -2.01344374e-05\n",
      " -2.02174373e-05 -2.02991691e-05 -2.03799957e-05 -2.04599476e-05\n",
      " -2.05390553e-05 -2.06173494e-05 -2.06948604e-05 -2.07716186e-05\n",
      " -2.08476548e-05]\n"
     ]
    }
   ],
   "source": [
    "print(pos1[:,0] + pos2[:,0])"
   ]
  },
  {
   "cell_type": "code",
   "execution_count": null,
   "id": "4fcd95c4-cd22-43bf-beb1-a85a3f475b32",
   "metadata": {},
   "outputs": [],
   "source": []
  },
  {
   "cell_type": "code",
   "execution_count": null,
   "id": "ba123cf1-5b05-47fb-885a-29a48929fd93",
   "metadata": {},
   "outputs": [],
   "source": []
  },
  {
   "cell_type": "code",
   "execution_count": null,
   "id": "9c63b6ed-782a-4155-bb4a-f0ccea3b95b3",
   "metadata": {},
   "outputs": [],
   "source": []
  },
  {
   "cell_type": "code",
   "execution_count": null,
   "id": "cd89c61a-06cd-4520-be31-ee51aecf6464",
   "metadata": {},
   "outputs": [],
   "source": []
  },
  {
   "cell_type": "code",
   "execution_count": null,
   "id": "538228e5-e27d-4bb4-93b1-25bb90d6218f",
   "metadata": {},
   "outputs": [],
   "source": []
  },
  {
   "cell_type": "code",
   "execution_count": null,
   "id": "bafaf4b2-48c8-407c-b6b3-c0802bb4f91a",
   "metadata": {},
   "outputs": [],
   "source": []
  },
  {
   "cell_type": "code",
   "execution_count": null,
   "id": "2d77237c-d036-4dd8-96dd-448bbe667acf",
   "metadata": {},
   "outputs": [],
   "source": []
  },
  {
   "cell_type": "code",
   "execution_count": null,
   "id": "88441b37-eb6d-4a5f-bac7-b386f877ed4b",
   "metadata": {},
   "outputs": [],
   "source": []
  },
  {
   "cell_type": "code",
   "execution_count": null,
   "id": "e6451819-2d2f-499c-8cf2-97f0897e720f",
   "metadata": {},
   "outputs": [],
   "source": []
  },
  {
   "cell_type": "code",
   "execution_count": null,
   "id": "2971f058-3c89-4e2c-80bd-771bd464a733",
   "metadata": {},
   "outputs": [],
   "source": []
  },
  {
   "cell_type": "code",
   "execution_count": null,
   "id": "df13a871-0aa2-49a3-a875-5f3ede6ce6d6",
   "metadata": {},
   "outputs": [],
   "source": []
  },
  {
   "cell_type": "code",
   "execution_count": null,
   "id": "4901c57b-44b3-487d-bbe6-f08e2e4bf70b",
   "metadata": {},
   "outputs": [],
   "source": []
  },
  {
   "cell_type": "code",
   "execution_count": null,
   "id": "adbff81e-3350-4dda-8831-d58865dec48a",
   "metadata": {},
   "outputs": [],
   "source": []
  },
  {
   "cell_type": "code",
   "execution_count": null,
   "id": "de28faa6-e65b-4d4b-9d23-08a8fd34b57d",
   "metadata": {},
   "outputs": [],
   "source": []
  }
 ],
 "metadata": {
  "kernelspec": {
   "display_name": "Python 3 (ipykernel)",
   "language": "python",
   "name": "python3"
  },
  "language_info": {
   "codemirror_mode": {
    "name": "ipython",
    "version": 3
   },
   "file_extension": ".py",
   "mimetype": "text/x-python",
   "name": "python",
   "nbconvert_exporter": "python",
   "pygments_lexer": "ipython3",
   "version": "3.10.2"
  }
 },
 "nbformat": 4,
 "nbformat_minor": 5
}
