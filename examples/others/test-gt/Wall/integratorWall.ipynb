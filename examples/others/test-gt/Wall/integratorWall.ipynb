{
 "cells": [
  {
   "cell_type": "markdown",
   "id": "4def17ad-fa80-474b-a68c-e079d963ed1e",
   "metadata": {},
   "source": [
    "### Particle near a wall\n",
    "\n",
    "Simulation of a squirmer near an infinite and plane wall at $z=0$."
   ]
  },
  {
   "cell_type": "code",
   "execution_count": 1,
   "id": "a90be86b-a16f-411e-a4f4-db2d5478a91d",
   "metadata": {},
   "outputs": [],
   "source": [
    "%matplotlib inline\n",
    "from solveWall import Rbm\n",
    "import numpy as np, matplotlib.pyplot as plt\n",
    "import pystokes"
   ]
  },
  {
   "cell_type": "code",
   "execution_count": 2,
   "id": "0aefd64f-89d3-450b-8a3b-8660ebdc61dc",
   "metadata": {},
   "outputs": [],
   "source": [
    "def rotation(vector,alpha, beta, gamma):\n",
    "    rotmat = np.array([[np.cos(beta)*np.cos(gamma), np.sin(alpha)*np.sin(beta)*np.cos(gamma) \n",
    "                        - np.cos(alpha)*np.sin(gamma), np.cos(alpha)*np.sin(beta)*np.cos(gamma)\n",
    "                        + np.sin(alpha)*np.sin(gamma)],\n",
    "                       [np.cos(beta)*np.sin(gamma),\n",
    "                        np.sin(alpha)*np.sin(beta)*np.sin(gamma) + np.cos(alpha)*np.cos(gamma),\n",
    "                        np.cos(alpha)*np.sin(beta)*np.sin(gamma) - np.sin(alpha)*np.cos(gamma)],\n",
    "                       [-np.sin(beta),\n",
    "                        np.sin(alpha)*np.cos(beta),\n",
    "                        np.cos(alpha)*np.cos(beta)]])\n",
    "    return np.dot(rotmat, vector)"
   ]
  },
  {
   "cell_type": "code",
   "execution_count": 3,
   "id": "41f59cde-57cf-4b28-816e-e143ad2c5afb",
   "metadata": {},
   "outputs": [],
   "source": [
    "# particle radius, and fluid viscosity\n",
    "b, eta = 1.0, 1.\n",
    "\n",
    "## squirmer\n",
    "D0  = 1.0      \n",
    "S0  = -3/50*D0    # beta = 1 (positive beta is a puller (negative V2s)) - not sure which sign!"
   ]
  },
  {
   "cell_type": "code",
   "execution_count": 4,
   "id": "a969276c-bfbb-4b01-953c-70ea399822a2",
   "metadata": {},
   "outputs": [],
   "source": [
    "## initialise \n",
    "#initial position\n",
    "r = np.array([0.,0.,3.])\n",
    "\n",
    "#initial orientation\n",
    "p = np.array([1., 0., 0.])\n",
    "\n",
    "## rotate -50deg to x axis around y axis\n",
    "p = rotation(p, 0., -50 * 2*np.pi/360, 0.)\n",
    "\n",
    "\n",
    "# initial slip modes\n",
    "S = np.zeros(9)\n",
    "D = np.zeros(3)\n",
    "\n",
    "## S in order: xx, xy, xz, yx, yy, yz, zx, zy, zz\n",
    "S[0] = S0*(3*p[0]*p[0] - 1.)\n",
    "S[1] = S0*(3*p[0]*p[1])\n",
    "S[2] = S0*(3*p[0]*p[2])\n",
    "S[3] = S0*(3*p[1]*p[0])\n",
    "S[4] = S0*(3*p[1]*p[1] - 1.)\n",
    "S[5] = S0*(3*p[1]*p[2]) \n",
    "S[6] = S0*(3*p[2]*p[0])\n",
    "S[7] = S0*(3*p[2]*p[1])\n",
    "S[8] = S0*(3*p[2]*p[2] - 1.)\n",
    "\n",
    "D[0] = D0*p[0]\n",
    "D[1] = D0*p[1]\n",
    "D[2] = D0*p[2]"
   ]
  },
  {
   "cell_type": "code",
   "execution_count": 5,
   "id": "78781de8-c91f-42fa-9e67-36d2b0009df0",
   "metadata": {},
   "outputs": [],
   "source": [
    "def rhs(rp): ##change this to give polarisation directly\n",
    "    \"\"\"\n",
    "    Function that gives rhs for equations dr/dt=v and dp/dt= o x p\n",
    "    \"\"\"\n",
    "    \n",
    "    #position and angle theta (relative to initial angle)\n",
    "    r = rp[0:3]; p = rp[3:6]\n",
    "    \n",
    "    ## make sure orientation remains unit length\n",
    "    #norm_p = np.dot(p,p)\n",
    "    #p = p/np.sqrt(norm_p)\n",
    "    \n",
    "    \n",
    "    F, T, v, o = np.zeros(3), np.zeros(3), np.zeros(3), np.zeros(3)\n",
    "             \n",
    "    F[0] = 0.0\n",
    "    F[1] = 0.0 \n",
    "    F[2] = -1e-3  ## weak gravity \n",
    "\n",
    "    T[0] = 0.0\n",
    "    T[1] = 0.0\n",
    "    T[2] = 0.0\n",
    "\n",
    "    v[0] = 0.0\n",
    "    v[1] = 0.0\n",
    "    v[2] = 0.0\n",
    "\n",
    "    o[0] = 0.0\n",
    "    o[1] = 0.0\n",
    "    o[2] = 0.0\n",
    "\n",
    "\n",
    "    S[0] = S0*(3*p[0]*p[0] - 1.)\n",
    "    S[1] = S0*(3*p[0]*p[1])\n",
    "    S[2] = S0*(3*p[0]*p[2])\n",
    "    S[3] = S0*(3*p[1]*p[0])\n",
    "    S[4] = S0*(3*p[1]*p[1] - 1.)\n",
    "    S[5] = S0*(3*p[1]*p[2]) \n",
    "    S[6] = S0*(3*p[2]*p[0])\n",
    "    S[7] = S0*(3*p[2]*p[1])\n",
    "    S[8] = S0*(3*p[2]*p[2] - 1.)\n",
    "\n",
    "    D[0] = D0*p[0]\n",
    "    D[1] = D0*p[1]\n",
    "    D[2] = D0*p[2]\n",
    "\n",
    "    \n",
    "    #update repulsive force at position r\n",
    "    #forces.lennardJones(F, r, lje=5.0, ljr=2.1*b)\n",
    "    \n",
    "    #update velocity and angular velocity at r, acted on by F and T, and with slip modes S an D\n",
    "    particle.krylovSolve(v, o, r, F, T, S, D)\n",
    "    \n",
    "    dpdt = np.zeros(3)\n",
    "    \n",
    "    dpdt[0] = o[1]*p[2] - o[2]*p[1]    \n",
    "    dpdt[1] = o[2]*p[0] - o[0]*p[2]  \n",
    "    dpdt[2] = o[0]*p[1] - o[1]*p[0]\n",
    "        \n",
    "    #return velocity and angular velocity cross orientation as right-hand side\n",
    "    return np.concatenate( (v,dpdt) )"
   ]
  },
  {
   "cell_type": "code",
   "execution_count": 6,
   "id": "fa798084-e162-4f8b-9a40-80b320b43f55",
   "metadata": {},
   "outputs": [],
   "source": [
    "def simulate(rth0, Tf, Npts, rhs, integrator='solve_ivp', Ti=0, maxNumSteps=100000, **kwargs):\n",
    "    \n",
    "    def dxdtEval(rth,t):\n",
    "        return rhs(rth)\n",
    "    \n",
    "    if integrator=='BDF': ## weird handling for this method\n",
    "        from scipy.integrate import BDF\n",
    "        X = BDF(lambda t, xt: dxdtEval(xt,t), Ti, rth0, Tf)\n",
    "        \n",
    "    if integrator=='odeint':\n",
    "        from scipy.integrate import odeint\n",
    "        time_points=np.linspace(Ti, Tf, Npts+1);\n",
    "        X = odeint(dxdtEval, rth0, time_points, mxstep=maxNumSteps, **kwargs)\n",
    "        \n",
    "    if integrator=='solve_ivp':\n",
    "        from scipy.integrate import solve_ivp\n",
    "        time_points=np.linspace(Ti, Tf, Npts+1)                                                          \n",
    "        X = solve_ivp(lambda t, xt: dxdtEval(xt,t), [0,Tf], rth0, \n",
    "                         t_eval=None, **kwargs)\n",
    "        \n",
    "    return X"
   ]
  },
  {
   "cell_type": "code",
   "execution_count": 7,
   "id": "d2fecdf9-db9d-4db5-8d24-30b777ac98c8",
   "metadata": {},
   "outputs": [
    {
     "name": "stdout",
     "output_type": "stream",
     "text": [
      "CPU times: user 416 ms, sys: 11.4 ms, total: 427 ms\n",
      "Wall time: 552 ms\n"
     ]
    },
    {
     "data": {
      "text/plain": [
       "'The solver successfully reached the end of the integration interval.'"
      ]
     },
     "execution_count": 7,
     "metadata": {},
     "output_type": "execute_result"
    }
   ],
   "source": [
    "%%time\n",
    "#initiallize system and forces\n",
    "particle = Rbm(b, eta, tolerance=1e-10)\n",
    "forces  = pystokes.forceFields.Forces(particles=1)\n",
    "\n",
    "#simulate the resulting system\n",
    "rp0 = np.concatenate((r,p))\n",
    "Tf = 10\n",
    "Npts = 10\n",
    "\n",
    "X = simulate(rp0, Tf, Npts, rhs, integrator='solve_ivp', Ti=0, maxNumSteps=1000,  ##have subtracted active velocity V^A = 0.2*D\n",
    "             method='BDF')\n",
    "X.message"
   ]
  },
  {
   "cell_type": "code",
   "execution_count": 8,
   "id": "e0d7e5e9-5ce1-4fc0-b636-3375b2a4f0e6",
   "metadata": {},
   "outputs": [
    {
     "data": {
      "text/plain": [
       "array([0.63263407, 0.        , 0.77445084])"
      ]
     },
     "execution_count": 8,
     "metadata": {},
     "output_type": "execute_result"
    }
   ],
   "source": [
    "D"
   ]
  },
  {
   "cell_type": "code",
   "execution_count": 9,
   "id": "9f84656e-d8ee-4714-bee9-9053353b538b",
   "metadata": {},
   "outputs": [],
   "source": [
    "pos = X.y.T[:,0:3]\n",
    "times = X.t"
   ]
  },
  {
   "cell_type": "code",
   "execution_count": 10,
   "id": "c66610f9-037f-4ec4-b663-cd82c9606856",
   "metadata": {},
   "outputs": [
    {
     "data": {
      "image/png": "[encoded data removed]",
      "text/plain": [
       "<Figure size 432x288 with 1 Axes>"
      ]
     },
     "metadata": {
      "needs_background": "light"
     },
     "output_type": "display_data"
    }
   ],
   "source": [
    "plt.rcParams.update({'font.size': 12})\n",
    "plt.plot(pos[:,0], pos[:,2], label='particle', lw=2)\n",
    "plt.xlabel('x')\n",
    "plt.ylabel('z')\n",
    "plt.legend()\n",
    "plt.show()"
   ]
  },
  {
   "cell_type": "markdown",
   "id": "488ece28-8b30-42bf-951e-16f9092843ec",
   "metadata": {},
   "source": [
    "_____________\n",
    "______________\n",
    "\n",
    "Write a simple Euler integration to compare to previous simulation of Squirmer with propulsion tensors"
   ]
  },
  {
   "cell_type": "code",
   "execution_count": 11,
   "id": "b49244d0-689f-445b-84a2-2125592e526b",
   "metadata": {},
   "outputs": [],
   "source": [
    "dt = 1\n",
    "N=600\n",
    "time = np.arange(1,N, dt)\n",
    "\n",
    "rx = np.zeros(N)\n",
    "hbar = np.zeros(N)   # is equal to rz\n",
    "theta = np.zeros(N)\n",
    "\n",
    "rp = np.zeros([N,6])\n",
    "\n",
    "rp[0] = np.concatenate((r,p))\n",
    "\n",
    "for t in time:\n",
    "    rp[t] = rp[t-1] + rhs(rp[t-1])*dt"
   ]
  },
  {
   "cell_type": "code",
   "execution_count": 23,
   "id": "99fabd05-566f-44f5-9cc7-d8c7082d169e",
   "metadata": {},
   "outputs": [],
   "source": [
    "rx = rp[:,::6]\n",
    "hbar = rp[:,2::6]\n",
    "theta = np.arctan(rp[:,5::6]/rp[:,3::6]) * 360/(2*np.pi)"
   ]
  },
  {
   "cell_type": "code",
   "execution_count": 24,
   "id": "f4539c94-e4a5-4f8b-b5d6-14502f3e6fd8",
   "metadata": {},
   "outputs": [
    {
     "data": {
      "text/plain": [
       "[<matplotlib.lines.Line2D at 0x7f6e634cd540>]"
      ]
     },
     "execution_count": 24,
     "metadata": {},
     "output_type": "execute_result"
    },
    {
     "data": {
      "image/png": "[encoded data removed]",
      "text/plain": [
       "<Figure size 432x288 with 1 Axes>"
      ]
     },
     "metadata": {
      "needs_background": "light"
     },
     "output_type": "display_data"
    }
   ],
   "source": [
    "plt.plot(rx[1:], hbar[1:])"
   ]
  },
  {
   "cell_type": "code",
   "execution_count": null,
   "id": "b2918e7e-64ac-4fc1-8451-e82bb595b3a9",
   "metadata": {},
   "outputs": [],
   "source": []
  },
  {
   "cell_type": "code",
   "execution_count": null,
   "id": "4967f513-c30f-4c20-85ad-33172e64137d",
   "metadata": {},
   "outputs": [],
   "source": []
  },
  {
   "cell_type": "code",
   "execution_count": null,
   "id": "3dc51f2f-0bbf-4c38-b625-f067758a6a93",
   "metadata": {},
   "outputs": [],
   "source": []
  },
  {
   "cell_type": "code",
   "execution_count": null,
   "id": "7635998b-9364-4c3a-b336-23b6767b21f6",
   "metadata": {},
   "outputs": [],
   "source": []
  },
  {
   "cell_type": "code",
   "execution_count": null,
   "id": "32a678e8-2d94-4f35-9b1e-101213fae622",
   "metadata": {},
   "outputs": [],
   "source": []
  },
  {
   "cell_type": "code",
   "execution_count": null,
   "id": "706739d1-4bff-4e30-8c4a-d72f39b6edb7",
   "metadata": {},
   "outputs": [],
   "source": []
  },
  {
   "cell_type": "code",
   "execution_count": null,
   "id": "8c2a91cd-debf-4259-9830-1f494e067b7b",
   "metadata": {},
   "outputs": [],
   "source": []
  }
 ],
 "metadata": {
  "kernelspec": {
   "display_name": "Python 3 (ipykernel)",
   "language": "python",
   "name": "python3"
  },
  "language_info": {
   "codemirror_mode": {
    "name": "ipython",
    "version": 3
   },
   "file_extension": ".py",
   "mimetype": "text/x-python",
   "name": "python",
   "nbconvert_exporter": "python",
   "pygments_lexer": "ipython3",
   "version": "3.10.2"
  }
 },
 "nbformat": 4,
 "nbformat_minor": 5
}
