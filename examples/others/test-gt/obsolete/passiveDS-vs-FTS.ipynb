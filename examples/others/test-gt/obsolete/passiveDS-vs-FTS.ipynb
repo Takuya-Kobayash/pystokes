{
 "cells": [
  {
   "cell_type": "markdown",
   "id": "4c5f1f38-e568-4b6f-9ad3-8ae5429743a9",
   "metadata": {},
   "source": [
    "<font size=\"5\">FTS Stokesian dynamics: hard coded"
   ]
  },
  {
   "cell_type": "code",
   "execution_count": 1,
   "id": "9278690b-cf23-46d5-800f-59487294027d",
   "metadata": {},
   "outputs": [],
   "source": [
    "from ftssdhc import FTShc\n",
    "import numpy as np, matplotlib.pyplot as plt\n",
    "np.set_printoptions(suppress=True)"
   ]
  },
  {
   "cell_type": "code",
   "execution_count": 2,
   "id": "51271b2c-6486-4d48-a92f-8b9d4d2f5437",
   "metadata": {},
   "outputs": [],
   "source": [
    "# particle radius, self-propulsion speed, number and fluid viscosity\n",
    "b, Np, eta = 1., 2, 0.1\n",
    "ftshc = FTShc(b, Np, eta)"
   ]
  },
  {
   "cell_type": "code",
   "execution_count": 3,
   "id": "d9eab4d1-a0af-461f-aef9-343ba9fc0c41",
   "metadata": {},
   "outputs": [
    {
     "name": "stdout",
     "output_type": "stream",
     "text": [
      "finish\n",
      "CPU times: user 1.36 ms, sys: 0 ns, total: 1.36 ms\n",
      "Wall time: 1.16 ms\n"
     ]
    }
   ],
   "source": [
    "%%time\n",
    "## Two spheres falling next to each other: FTS\n",
    "\n",
    "#initial position\n",
    "r = np.array([0.,2.3, 0.,0., 100.,100.])\n",
    "\n",
    "#gravity in neg z direction\n",
    "F = np.array([0.,0., 0.,0., -1.,-1.])\n",
    "T = np.array([0.,0., 0.,0.,  0., 0.])  ##torque\n",
    "\n",
    "# integration parameters\n",
    "Nt=2; r1=np.zeros([3,Nt]); r2=np.zeros([3,Nt])\n",
    "r1[:,0] = r[::Np]; r2[:,0] = r[1::Np]\n",
    "dt=3.;\n",
    "v = np.zeros(3*Np);\n",
    "o = np.zeros(3*Np)\n",
    "theta1=np.zeros([3,Nt]); theta2=np.zeros([3,Nt])\n",
    "v1 = np.zeros([3,Nt-1]); v2 = np.zeros([3,Nt-1])\n",
    "o1 = np.zeros([3,Nt-1]); o2 = np.zeros([3,Nt-1])\n",
    "\n",
    "for i in range(Nt-1):\n",
    "    ftshc.directSolve(v, o, r, F, T)\n",
    "    \n",
    "    r1[:,i+1] = r1[:,i] + dt*v[::Np]\n",
    "    r2[:,i+1] = r2[:,i] + dt*v[1::Np]\n",
    "    \n",
    "    theta1[:,i+1] = theta1[:,i] + dt*o[::Np]\n",
    "    theta2[:,i+1] = theta2[:,i] + dt*o[1::Np]\n",
    "    \n",
    "    #get velocity (constant for this case)\n",
    "    v1[:,i] = v[::Np]\n",
    "    v2[:,i] = v[1::Np]\n",
    "    \n",
    "    #get angular velocity (constant for this case)\n",
    "    o1[:,i] = o[::Np]\n",
    "    o2[:,i] = o[1::Np]\n",
    "    \n",
    "    # reset variables for next time step\n",
    "    r[::Np] = r1[:,i+1]\n",
    "    r[1::Np] = r2[:,i+1]\n",
    "    v = v*0\n",
    "    o = o*0\n",
    "\n",
    "print('finish')"
   ]
  },
  {
   "cell_type": "code",
   "execution_count": 4,
   "id": "4cd49114-2172-4cbf-8004-9a236b29a71c",
   "metadata": {},
   "outputs": [
    {
     "data": {
      "text/plain": [
       "(array([ 0.        ,  0.        , -0.69860826]),\n",
       " array([0.        , 0.01763414, 0.        ]))"
      ]
     },
     "execution_count": 4,
     "metadata": {},
     "output_type": "execute_result"
    }
   ],
   "source": [
    "## velocity and angular velocity of particle 1\n",
    "v1[:,0], o1[:,0]"
   ]
  },
  {
   "cell_type": "code",
   "execution_count": 5,
   "id": "3389dd4d-f29c-49c5-a3df-35b3302c97d6",
   "metadata": {},
   "outputs": [
    {
     "data": {
      "text/plain": [
       "(array([ 0.        ,  0.        , -0.69860826]),\n",
       " array([ 0.        , -0.01763414,  0.        ]))"
      ]
     },
     "execution_count": 5,
     "metadata": {},
     "output_type": "execute_result"
    }
   ],
   "source": [
    "## velocity and angular velocity of particle 2\n",
    "v2[:,0], o2[:,0]"
   ]
  },
  {
   "cell_type": "markdown",
   "id": "3536260c-0a55-4018-aa86-65ccdcd86818",
   "metadata": {},
   "source": [
    "__________________\n",
    "\n",
    "<font size=\"5\"> direct solver"
   ]
  },
  {
   "cell_type": "code",
   "execution_count": 6,
   "id": "b5d030c3-183f-4dec-82a7-54dbf2a7dc06",
   "metadata": {},
   "outputs": [],
   "source": [
    "from directSolve import DS"
   ]
  },
  {
   "cell_type": "code",
   "execution_count": 7,
   "id": "fbe4035b-3456-4cd9-8ddd-6e6188c58b09",
   "metadata": {},
   "outputs": [],
   "source": [
    "# particle radius, self-propulsion speed, number and fluid viscosity\n",
    "ds = DS(b, Np, eta)"
   ]
  },
  {
   "cell_type": "code",
   "execution_count": 8,
   "id": "79ed1052-b275-4195-9bbe-b4052e547551",
   "metadata": {},
   "outputs": [
    {
     "name": "stdout",
     "output_type": "stream",
     "text": [
      "finish\n",
      "CPU times: user 10.3 ms, sys: 0 ns, total: 10.3 ms\n",
      "Wall time: 9.21 ms\n"
     ]
    }
   ],
   "source": [
    "%%time\n",
    "## Two spheres falling next to each other: full direct solve\n",
    "\n",
    "#initial position\n",
    "r = np.array([0.,2.3, 0.,0., 100.,100.])\n",
    "\n",
    "#gravity in neg z direction\n",
    "F = np.array([0.,0., 0.,0., -1.,-1.])\n",
    "T = np.array([0.,0., 0.,0.,  0., 0.])  ##torque\n",
    "\n",
    "# integration parameters\n",
    "Nt=2; r1=np.zeros([3,Nt]); r2=np.zeros([3,Nt])\n",
    "r1[:,0] = r[::Np]; r2[:,0] = r[1::Np]\n",
    "dt=3.;\n",
    "v = np.zeros(3*Np);\n",
    "o = np.zeros(3*Np)\n",
    "theta1=np.zeros([3,Nt]); theta2=np.zeros([3,Nt])\n",
    "v1 = np.zeros([3,Nt-1]); v2 = np.zeros([3,Nt-1])\n",
    "o1 = np.zeros([3,Nt-1]); o2 = np.zeros([3,Nt-1])\n",
    "\n",
    "D = np.zeros(3*Np)\n",
    "S = np.zeros(5*Np)\n",
    "\n",
    "for i in range(Nt-1):\n",
    "    ds.directSolve(v, o, r, F, T, S, D)\n",
    "    \n",
    "    r1[:,i+1] = r1[:,i] + dt*v[::Np]\n",
    "    r2[:,i+1] = r2[:,i] + dt*v[1::Np]\n",
    "    \n",
    "    theta1[:,i+1] = theta1[:,i] + dt*o[::Np]\n",
    "    theta2[:,i+1] = theta2[:,i] + dt*o[1::Np]\n",
    "    \n",
    "    #get velocity (constant for this case)\n",
    "    v1[:,i] = v[::Np]\n",
    "    v2[:,i] = v[1::Np]\n",
    "    \n",
    "    #get angular velocity (constant for this case)\n",
    "    o1[:,i] = o[::Np]\n",
    "    o2[:,i] = o[1::Np]\n",
    "    \n",
    "    # reset variables for next time step\n",
    "    r[::Np] = r1[:,i+1]\n",
    "    r[1::Np] = r2[:,i+1]\n",
    "    v = v*0\n",
    "    o = o*0\n",
    "\n",
    "print('finish')"
   ]
  },
  {
   "cell_type": "code",
   "execution_count": 9,
   "id": "cee453e8-b49c-4d8d-b3a1-ab8280b193d4",
   "metadata": {},
   "outputs": [
    {
     "data": {
      "text/plain": [
       "(array([ 0.        , -0.        , -0.69933176]),\n",
       " array([ 0.        ,  0.01302802, -0.        ]))"
      ]
     },
     "execution_count": 9,
     "metadata": {},
     "output_type": "execute_result"
    }
   ],
   "source": [
    "## velocity and angular velocity of particle 1\n",
    "v1[:,0], o1[:,0]"
   ]
  },
  {
   "cell_type": "code",
   "execution_count": 10,
   "id": "c9b854cd-5047-4f33-83ff-7ab1cad61ffa",
   "metadata": {},
   "outputs": [
    {
     "data": {
      "text/plain": [
       "(array([ 0.        ,  0.        , -0.69933176]),\n",
       " array([-0.        , -0.01302802, -0.        ]))"
      ]
     },
     "execution_count": 10,
     "metadata": {},
     "output_type": "execute_result"
    }
   ],
   "source": [
    "## velocity and angular velocity of particle 2\n",
    "v2[:,0], o2[:,0]"
   ]
  },
  {
   "cell_type": "markdown",
   "id": "94c0364f-7860-44a1-89c3-2c23e7a7c6fc",
   "metadata": {},
   "source": [
    "--------------------------------\n",
    "\n",
    "<font size=\"5\">PyStokes (superposition approximation)"
   ]
  },
  {
   "cell_type": "code",
   "execution_count": 11,
   "id": "86571ae2-e9eb-4834-9cf4-d97a8cfab84d",
   "metadata": {},
   "outputs": [],
   "source": [
    "import pystokes"
   ]
  },
  {
   "cell_type": "code",
   "execution_count": 12,
   "id": "cd5de72c-3e9a-497f-ab6d-19a8ac7d6e1e",
   "metadata": {},
   "outputs": [],
   "source": [
    "pstk = pystokes.unbounded.Rbm(b, Np, eta)"
   ]
  },
  {
   "cell_type": "code",
   "execution_count": 13,
   "id": "53b631fe-071d-41ce-8495-5150bfcaa6d3",
   "metadata": {},
   "outputs": [
    {
     "name": "stdout",
     "output_type": "stream",
     "text": [
      "finish\n",
      "CPU times: user 379 ms, sys: 0 ns, total: 379 ms\n",
      "Wall time: 60.2 ms\n"
     ]
    }
   ],
   "source": [
    "%%time\n",
    "## Two spheres falling next to each other: pystokes\n",
    "\n",
    "#initial position\n",
    "r = np.array([0.,2.3, 0.,0., 100.,100.])\n",
    "\n",
    "#gravity in neg z direction\n",
    "F = np.array([0.,0., 0.,0., -1.,-1.])\n",
    "T = np.array([0.,0., 0.,0.,  0., 0.])  ##torque\n",
    "\n",
    "# integration parameters\n",
    "Nt=2; r1=np.zeros([3,Nt]); r2=np.zeros([3,Nt])\n",
    "r1[:,0] = r[::Np]; r2[:,0] = r[1::Np]\n",
    "dt=3.;\n",
    "v = np.zeros(3*Np);\n",
    "o = np.zeros(3*Np)\n",
    "theta1=np.zeros([3,Nt]); theta2=np.zeros([3,Nt])\n",
    "v1_pstk = np.zeros([3,Nt-1]); v2_pstk = np.zeros([3,Nt-1])\n",
    "o1_pstk = np.zeros([3,Nt-1]); o2_pstk = np.zeros([3,Nt-1])\n",
    "\n",
    "for i in range(Nt-1):\n",
    "    pstk.mobilityTT(v, r, F)\n",
    "    pstk.mobilityTR(v, r, T)\n",
    "    pstk.mobilityRT(o, r, F)\n",
    "    pstk.mobilityRR(o, r, T)\n",
    "    \n",
    "    r1[:,i+1] = r1[:,i] + dt*v[::Np]\n",
    "    r2[:,i+1] = r2[:,i] + dt*v[1::Np]\n",
    "    \n",
    "    theta1[:,i+1] = theta1[:,i] + dt*o[::Np]\n",
    "    theta2[:,i+1] = theta2[:,i] + dt*o[1::Np]\n",
    "    \n",
    "    #get velocity (constant for this case)\n",
    "    v1_pstk[:,i] = v[::Np]\n",
    "    v2_pstk[:,i] = v[1::Np]\n",
    "    \n",
    "    #get angular velocity (constant for this case)\n",
    "    o1_pstk[:,i] = o[::Np]\n",
    "    o2_pstk[:,i] = o[1::Np]\n",
    "    \n",
    "    # reset variables for next time step\n",
    "    r[::Np] = r1[:,i+1]\n",
    "    r[1::Np] = r2[:,i+1]\n",
    "    v = v*0\n",
    "    o = o*0\n",
    "\n",
    "print('finish')"
   ]
  },
  {
   "cell_type": "code",
   "execution_count": 14,
   "id": "99b941f6-6c19-4d16-9eaa-13dfd3152acc",
   "metadata": {},
   "outputs": [
    {
     "data": {
      "text/plain": [
       "(array([ 0.        ,  0.        , -0.72531243]),\n",
       " array([0.      , 0.075215, 0.      ]))"
      ]
     },
     "execution_count": 14,
     "metadata": {},
     "output_type": "execute_result"
    }
   ],
   "source": [
    "## velocity and angular velocity of particle 1\n",
    "v1_pstk[:,0], o1_pstk[:,0]"
   ]
  },
  {
   "cell_type": "code",
   "execution_count": 15,
   "id": "5ede5ffe-28b8-405a-8f86-a56bc9185d37",
   "metadata": {},
   "outputs": [
    {
     "data": {
      "text/plain": [
       "(array([ 0.        ,  0.        , -0.72531243]),\n",
       " array([ 0.      , -0.075215,  0.      ]))"
      ]
     },
     "execution_count": 15,
     "metadata": {},
     "output_type": "execute_result"
    }
   ],
   "source": [
    "## velocity and angular velocity of particle 2\n",
    "v2_pstk[:,0], o2_pstk[:,0]"
   ]
  },
  {
   "cell_type": "code",
   "execution_count": 16,
   "id": "fc5e0903-0a77-4d5a-a2d2-a8a5d9c0f6fe",
   "metadata": {},
   "outputs": [],
   "source": [
    "## pystokes angular velocity seems independent of radius b"
   ]
  },
  {
   "cell_type": "code",
   "execution_count": 17,
   "id": "c415b083-cb18-48f3-9865-bb3b87c9997a",
   "metadata": {},
   "outputs": [
    {
     "data": {
      "text/plain": [
       "1.0"
      ]
     },
     "execution_count": 17,
     "metadata": {},
     "output_type": "execute_result"
    }
   ],
   "source": [
    "b"
   ]
  },
  {
   "cell_type": "code",
   "execution_count": null,
   "id": "3afefb3b-2b3a-4983-b731-b4c5996d527b",
   "metadata": {},
   "outputs": [],
   "source": []
  },
  {
   "cell_type": "code",
   "execution_count": null,
   "id": "bc27aa07-10a7-446d-8b7a-3870264a72fb",
   "metadata": {},
   "outputs": [],
   "source": []
  },
  {
   "cell_type": "code",
   "execution_count": null,
   "id": "c6a5aff6-3363-40f9-af71-5f153e1bc233",
   "metadata": {},
   "outputs": [],
   "source": []
  },
  {
   "cell_type": "code",
   "execution_count": null,
   "id": "f38cf67c-233a-42e8-b557-ccddc1b6afb6",
   "metadata": {},
   "outputs": [],
   "source": []
  },
  {
   "cell_type": "code",
   "execution_count": null,
   "id": "46bab655-7a16-439b-8f2c-42921feffc4b",
   "metadata": {},
   "outputs": [],
   "source": []
  },
  {
   "cell_type": "code",
   "execution_count": null,
   "id": "88de1dcf-22a6-41e0-af5b-1b05c1a6fcdd",
   "metadata": {},
   "outputs": [],
   "source": []
  },
  {
   "cell_type": "code",
   "execution_count": null,
   "id": "6fafa926-a41f-4f09-b78f-220cccca1997",
   "metadata": {},
   "outputs": [],
   "source": []
  }
 ],
 "metadata": {
  "kernelspec": {
   "display_name": "Python 3 (ipykernel)",
   "language": "python",
   "name": "python3"
  },
  "language_info": {
   "codemirror_mode": {
    "name": "ipython",
    "version": 3
   },
   "file_extension": ".py",
   "mimetype": "text/x-python",
   "name": "python",
   "nbconvert_exporter": "python",
   "pygments_lexer": "ipython3",
   "version": "3.10.2"
  }
 },
 "nbformat": 4,
 "nbformat_minor": 5
}
