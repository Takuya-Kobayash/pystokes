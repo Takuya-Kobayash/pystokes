{
 "cells": [
  {
   "cell_type": "markdown",
   "id": "27367d3d-6824-4904-9406-3804cbc33d97",
   "metadata": {},
   "source": [
    "In this notebook we compare the two methods\n",
    "\n",
    "    *FTS Stokesian dynamics via a direct solver\n",
    "    *PyStokes: superposition approximation\n",
    "    \n",
    "for two spheres falling in a direction perpendicular to their line of centres due to gravity. We shall look at velocity and angular velocity. Both are assumed to be zero at the start of the fall. "
   ]
  },
  {
   "cell_type": "markdown",
   "id": "7df712c9-343c-4cf5-ab27-6517f3b438fa",
   "metadata": {},
   "source": [
    "Here, we want to investigate whether we can match PyStokes and FTS by considering the factors beyond superposition approximation.\n",
    "\n",
    "<img src=\"./images/IMG_1346.jpeg\" style=\"width: 500px;\"/>\n",
    "\n",
    "Explicitly, these are \n",
    "\n",
    "    *G1s2s * F2s\n",
    "    *G2a2s * F2s\n",
    "    \n",
    "for the velocity and angular velocity, respectively. "
   ]
  },
  {
   "cell_type": "code",
   "execution_count": 1,
   "id": "b32ec4e2-e13d-4c4d-9bd8-70a454d9f90f",
   "metadata": {},
   "outputs": [],
   "source": [
    "from ftssd import FTS\n",
    "import autograd.numpy as np, matplotlib.pyplot as plt"
   ]
  },
  {
   "cell_type": "markdown",
   "id": "37471493-b138-4cfa-8f02-088bdde89db6",
   "metadata": {},
   "source": [
    "<font size=\"5\">FTS Stokesian dynamics"
   ]
  },
  {
   "cell_type": "code",
   "execution_count": 2,
   "id": "1ca01e7e-4a86-4ea2-a449-69a31628fdca",
   "metadata": {},
   "outputs": [],
   "source": [
    "# particle radius, self-propulsion speed, number and fluid viscosity\n",
    "b, Np, eta = 0.3, 2, 0.1\n",
    "fts = FTS(b, Np, eta)"
   ]
  },
  {
   "cell_type": "code",
   "execution_count": 3,
   "id": "8f528370-a9c0-4dcc-804a-c7376c772853",
   "metadata": {},
   "outputs": [
    {
     "name": "stdout",
     "output_type": "stream",
     "text": [
      "finish\n",
      "CPU times: user 4.23 s, sys: 8.14 ms, total: 4.24 s\n",
      "Wall time: 4.23 s\n"
     ]
    }
   ],
   "source": [
    "%%time\n",
    "## Two spheres falling next to each other: FTS\n",
    "\n",
    "#initial position\n",
    "r = np.array([0.,2.3, 0.,0., 100.,100.])\n",
    "\n",
    "#gravity in neg z direction\n",
    "F = np.array([0.,0., 0.,0., -0.,-1.])\n",
    "T = np.array([0.,0., 0.,1.,  0., 0.])  ##torque\n",
    "\n",
    "# integration parameters\n",
    "Nt=2; r1=np.zeros([3,Nt]); r2=np.zeros([3,Nt])\n",
    "r1[:,0] = r[::Np]; r2[:,0] = r[1::Np]\n",
    "dt=3.;\n",
    "v = np.zeros(3*Np);\n",
    "o = np.zeros(3*Np)\n",
    "theta1=np.zeros([3,Nt]); theta2=np.zeros([3,Nt])\n",
    "v1 = np.zeros([3,Nt-1]); v2 = np.zeros([3,Nt-1])\n",
    "o1 = np.zeros([3,Nt-1]); o2 = np.zeros([3,Nt-1])\n",
    "\n",
    "for i in range(Nt-1):\n",
    "    fts.directSolve(v, o, r, F, T)\n",
    "    \n",
    "    r1[:,i+1] = r1[:,i] + dt*v[::Np]\n",
    "    r2[:,i+1] = r2[:,i] + dt*v[1::Np]\n",
    "    \n",
    "    theta1[:,i+1] = theta1[:,i] + dt*o[::Np]\n",
    "    theta2[:,i+1] = theta2[:,i] + dt*o[1::Np]\n",
    "    \n",
    "    #get velocity (constant for this case)\n",
    "    v1[:,i] = v[::Np]\n",
    "    v2[:,i] = v[1::Np]\n",
    "    \n",
    "    #get angular velocity (constant for this case)\n",
    "    o1[:,i] = o[::Np]\n",
    "    o2[:,i] = o[1::Np]\n",
    "    \n",
    "    # reset variables for next time step\n",
    "    r[::Np] = r1[:,i+1]\n",
    "    r[1::Np] = r2[:,i+1]\n",
    "    v = v*0\n",
    "    o = o*0\n",
    "\n",
    "print('finish')"
   ]
  },
  {
   "cell_type": "code",
   "execution_count": 4,
   "id": "72930db7-1137-41d0-973d-a9b94b95c264",
   "metadata": {},
   "outputs": [
    {
     "data": {
      "text/plain": [
       "(array([ 0.        ,  0.        , -0.09974163]),\n",
       " array([0.        , 0.05886391, 0.        ]))"
      ]
     },
     "execution_count": 4,
     "metadata": {},
     "output_type": "execute_result"
    }
   ],
   "source": [
    "## velocity and angular velocity of particle 1\n",
    "v1[:,0], o1[:,0]"
   ]
  },
  {
   "cell_type": "code",
   "execution_count": 5,
   "id": "9493c97a-b03b-4a9a-b4fb-f95d161509f7",
   "metadata": {},
   "outputs": [
    {
     "data": {
      "text/plain": [
       "(array([ 0.       ,  0.       , -1.7704632]),\n",
       " array([ 0.        , 14.68685653,  0.        ]))"
      ]
     },
     "execution_count": 5,
     "metadata": {},
     "output_type": "execute_result"
    }
   ],
   "source": [
    "## velocity and angular velocity of particle 2\n",
    "v2[:,0], o2[:,0]"
   ]
  },
  {
   "cell_type": "markdown",
   "id": "73a81db5-f216-4c7d-a597-cde3fcab708f",
   "metadata": {},
   "source": [
    "--------------------------------\n",
    "\n",
    "<font size=\"5\">PyStokes (superposition approximation)"
   ]
  },
  {
   "cell_type": "code",
   "execution_count": 6,
   "id": "cdb8a99e-80a9-4376-9815-7f9ecac9ef5f",
   "metadata": {},
   "outputs": [],
   "source": [
    "import pystokes"
   ]
  },
  {
   "cell_type": "code",
   "execution_count": 7,
   "id": "58c261b7-275f-4057-9b1e-5745b2105637",
   "metadata": {},
   "outputs": [],
   "source": [
    "pstk = pystokes.unbounded.Rbm(b, Np, eta)"
   ]
  },
  {
   "cell_type": "code",
   "execution_count": 8,
   "id": "1a8e449b-c5c6-44e8-9529-9d451802d376",
   "metadata": {},
   "outputs": [
    {
     "name": "stdout",
     "output_type": "stream",
     "text": [
      "finish\n",
      "CPU times: user 444 ms, sys: 0 ns, total: 444 ms\n",
      "Wall time: 71 ms\n"
     ]
    }
   ],
   "source": [
    "%%time\n",
    "## Two spheres falling next to each other: pystokes\n",
    "\n",
    "#initial position\n",
    "r = np.array([0.,2.3, 0.,0., 100.,100.])\n",
    "\n",
    "#gravity in neg z direction\n",
    "F = np.array([0.,0., 0.,0., -0.,-1.])\n",
    "T = np.array([0.,0., 0.,1.,  0., 0.])  ##torque\n",
    "\n",
    "# integration parameters\n",
    "Nt=2; r1=np.zeros([3,Nt]); r2=np.zeros([3,Nt])\n",
    "r1[:,0] = r[::Np]; r2[:,0] = r[1::Np]\n",
    "dt=3.;\n",
    "v = np.zeros(3*Np);\n",
    "o = np.zeros(3*Np)\n",
    "theta1=np.zeros([3,Nt]); theta2=np.zeros([3,Nt])\n",
    "v1_pstk = np.zeros([3,Nt-1]); v2_pstk = np.zeros([3,Nt-1])\n",
    "o1_pstk = np.zeros([3,Nt-1]); o2_pstk = np.zeros([3,Nt-1])\n",
    "\n",
    "for i in range(Nt-1):\n",
    "    pstk.mobilityTT(v, r, F)\n",
    "    pstk.mobilityTR(v, r, T)\n",
    "    pstk.mobilityRT(o, r, F)\n",
    "    pstk.mobilityRR(o, r, T)\n",
    "    \n",
    "    r1[:,i+1] = r1[:,i] + dt*v[::Np]\n",
    "    r2[:,i+1] = r2[:,i] + dt*v[1::Np]\n",
    "    \n",
    "    theta1[:,i+1] = theta1[:,i] + dt*o[::Np]\n",
    "    theta2[:,i+1] = theta2[:,i] + dt*o[1::Np]\n",
    "    \n",
    "    #get velocity (constant for this case)\n",
    "    v1_pstk[:,i] = v[::Np]\n",
    "    v2_pstk[:,i] = v[1::Np]\n",
    "    \n",
    "    #get angular velocity (constant for this case)\n",
    "    o1_pstk[:,i] = o[::Np]\n",
    "    o2_pstk[:,i] = o[1::Np]\n",
    "    \n",
    "    # reset variables for next time step\n",
    "    r[::Np] = r1[:,i+1]\n",
    "    r[1::Np] = r2[:,i+1]\n",
    "    v = v*0\n",
    "    o = o*0\n",
    "\n",
    "print('finish')"
   ]
  },
  {
   "cell_type": "code",
   "execution_count": 9,
   "id": "8224ef4b-0836-4ab8-a395-ed273ca2f615",
   "metadata": {},
   "outputs": [
    {
     "data": {
      "text/plain": [
       "(array([ 0.        ,  0.        , -0.09974163]),\n",
       " array([0.        , 0.05886391, 0.        ]))"
      ]
     },
     "execution_count": 9,
     "metadata": {},
     "output_type": "execute_result"
    }
   ],
   "source": [
    "## velocity and angular velocity of particle 1\n",
    "v1_pstk[:,0], o1_pstk[:,0]"
   ]
  },
  {
   "cell_type": "code",
   "execution_count": 10,
   "id": "131320af-5db7-4aa4-bef8-94cbc7dc1e9f",
   "metadata": {},
   "outputs": [
    {
     "data": {
      "text/plain": [
       "(array([ 0.        ,  0.        , -1.76838826]),\n",
       " array([ 0.       , 14.7365688,  0.       ]))"
      ]
     },
     "execution_count": 10,
     "metadata": {},
     "output_type": "execute_result"
    }
   ],
   "source": [
    "## velocity and angular velocity of particle 2\n",
    "v2_pstk[:,0], o2_pstk[:,0]"
   ]
  },
  {
   "cell_type": "markdown",
   "id": "ea93f83c-7297-4446-9491-157f2f958b68",
   "metadata": {},
   "source": [
    "-----------------------------\n",
    "\n",
    "Aside: In free space, for two bodies, the first order in the Jacobi iteration is the same as the zeroth order (=superposition approximation), so there will be no correction. Does that seem right?\n",
    "\n",
    "Corrections appear at three bodies or when there are boundaries.\n",
    "\n",
    "---------------------------------\n"
   ]
  },
  {
   "cell_type": "markdown",
   "id": "a3fb7dbf-2e2c-4d2f-b395-6cb66d3211a7",
   "metadata": {},
   "source": [
    "<font size=\"5\">Do they match?\n",
    "\n",
    "Compute the contribution we get from G1s2s F2s"
   ]
  },
  {
   "cell_type": "code",
   "execution_count": 11,
   "id": "1f4514cf-d384-4dc4-bd5d-ae0acab938e9",
   "metadata": {},
   "outputs": [],
   "source": [
    "r = np.array([0.,2.3, 0.,0., 100.,100.])\n",
    "\n",
    "#gravity in neg z direction\n",
    "F = np.array([0.,0., 0.,0., -0.,-1.])\n",
    "T = np.array([0.,0., 0.,1.,  0., 0.])  ##torque\n",
    "\n",
    "i=1; j=0\n",
    "\n",
    "xij = r[i]    - r[j]\n",
    "yij = r[i+Np]  - r[j+Np]\n",
    "zij = r[i+2*Np]  - r[j+2*Np]\n",
    "\n",
    "force  = np.array([F[j],F[j+Np], F[j+2*Np]])\n",
    "torque = np.array([T[j],T[j+Np], T[j+2*Np]])\n",
    "\n",
    "lhs = fts.tensorG2s2s(xij,yij,zij)\n",
    "lhs_mat = np.reshape(lhs, (9,9))\n",
    "lhs_mat_inv = np.linalg.pinv(lhs_mat)\n",
    "lhs_inv = np.reshape(lhs_mat_inv, (3,3,3,3))\n",
    "rhs = np.zeros([3,3])\n",
    "for k in range(Np):\n",
    "    xjk = r[j]    - r[k]\n",
    "    yjk = r[j+Np]  - r[k+Np]\n",
    "    zjk = r[j+2*Np]  - r[k+2*Np]\n",
    "    if k!=j:\n",
    "        force_k  = np.array([F[k],F[k+Np], F[k+2*Np]])\n",
    "        torque_k = np.array([T[k],T[k+Np], T[k+2*Np]])\n",
    "                            \n",
    "        rhs += (np.dot(fts.tensorG2s1s(xjk,yjk,zjk), force_k) \n",
    "                + 1./b * np.dot(fts.tensorG2s2a(xjk,yjk,zjk), torque_k))\n",
    "    else:\n",
    "        pass #otherwise have diagonal elements here\n",
    "F2s = np.einsum('ijkl, kl', lhs_inv, rhs)"
   ]
  },
  {
   "cell_type": "code",
   "execution_count": 12,
   "id": "c742b46e-f681-434c-aa46-30a12548e60a",
   "metadata": {},
   "outputs": [
    {
     "data": {
      "text/plain": [
       "array([[0.        , 0.        , 1.68905771],\n",
       "       [0.        , 0.        , 0.        ],\n",
       "       [1.68905771, 0.        , 0.        ]])"
      ]
     },
     "execution_count": 12,
     "metadata": {},
     "output_type": "execute_result"
    }
   ],
   "source": [
    "F2s"
   ]
  },
  {
   "cell_type": "markdown",
   "id": "1c2d8c7a-771d-459a-b448-e646488d8441",
   "metadata": {},
   "source": [
    "See whether if we add this to v and o from pystokes with G1s2s and G2a2s it becomes the same. "
   ]
  },
  {
   "cell_type": "code",
   "execution_count": 13,
   "id": "a4823e4f-1567-40cb-b055-e7796987d33e",
   "metadata": {},
   "outputs": [
    {
     "data": {
      "text/plain": [
       "array([-0.        , -0.        , -0.00207495])"
      ]
     },
     "execution_count": 13,
     "metadata": {},
     "output_type": "execute_result"
    }
   ],
   "source": [
    "v_ = - np.einsum('ijk,jk',fts.tensorG1s2s(xij,yij,zij),F2s)\n",
    "v_"
   ]
  },
  {
   "cell_type": "code",
   "execution_count": 14,
   "id": "fc5d66f5-bb9b-40ba-bfa3-5b642ac49b44",
   "metadata": {},
   "outputs": [
    {
     "data": {
      "text/plain": [
       "array([[ 0.        ],\n",
       "       [ 0.        ],\n",
       "       [-0.00207495]])"
      ]
     },
     "execution_count": 14,
     "metadata": {},
     "output_type": "execute_result"
    }
   ],
   "source": [
    "## velocity difference between FTS and pystokes\n",
    "v2 - v2_pstk"
   ]
  },
  {
   "cell_type": "markdown",
   "id": "1c8f3781-5540-410f-9e53-5e150211e0b7",
   "metadata": {},
   "source": [
    "Indeed, the difference between the velocities of FTS and PyStokes is equal to G1s2s * F2s.\n",
    "\n",
    "________________________________\n",
    "\n",
    "\n",
    "Now compare the angular velocity"
   ]
  },
  {
   "cell_type": "code",
   "execution_count": 15,
   "id": "3e8c344c-0225-4e1e-830b-3925d6d288e0",
   "metadata": {},
   "outputs": [
    {
     "data": {
      "text/plain": [
       "array([-0.        , -0.04971227, -0.        ])"
      ]
     },
     "execution_count": 15,
     "metadata": {},
     "output_type": "execute_result"
    }
   ],
   "source": [
    "o_ = - 0.5/b* np.einsum('ijk,jk',fts.tensorG2a2s(xij,yij,zij),F2s)\n",
    "o_"
   ]
  },
  {
   "cell_type": "code",
   "execution_count": 16,
   "id": "167d0e3f-3b70-470e-a9c3-f4a5eeae0757",
   "metadata": {},
   "outputs": [
    {
     "data": {
      "text/plain": [
       "array([[ 0.        ],\n",
       "       [-0.04971227],\n",
       "       [ 0.        ]])"
      ]
     },
     "execution_count": 16,
     "metadata": {},
     "output_type": "execute_result"
    }
   ],
   "source": [
    "## angular velocity difference between FTS and pystokes\n",
    "o2 - o2_pstk"
   ]
  },
  {
   "cell_type": "markdown",
   "id": "5cbe940e-f77e-49a1-8b88-742a211fb6fe",
   "metadata": {},
   "source": [
    "Again, the difference between the angular velocities of FTS and PyStokes correctly equals G2a2s * F2s appearing in the equation for the angular velocity. \n",
    "\n",
    "_____________________"
   ]
  },
  {
   "cell_type": "markdown",
   "id": "df2dc3fc-e6e9-41ae-9b82-d6581edcd0fa",
   "metadata": {},
   "source": [
    "Here are the matrix elements that have been used for FTS\n",
    "\n",
    "<img src=\"./images/IMG_1347.jpeg\" style=\"width: 500px;\"/>\n",
    "\n",
    "<img src=\"./images/IMG_1348.jpeg\" style=\"width: 500px;\"/>"
   ]
  },
  {
   "cell_type": "code",
   "execution_count": null,
   "id": "d5ca694d-230d-459c-9dfa-1b16c227567d",
   "metadata": {},
   "outputs": [],
   "source": []
  },
  {
   "cell_type": "code",
   "execution_count": null,
   "id": "46cf5088-f86e-40b1-ade0-2a734d5c1a89",
   "metadata": {},
   "outputs": [],
   "source": []
  },
  {
   "cell_type": "code",
   "execution_count": null,
   "id": "4300c179-e867-4ae0-9e72-a37c655c05a1",
   "metadata": {},
   "outputs": [],
   "source": []
  },
  {
   "cell_type": "code",
   "execution_count": null,
   "id": "5fc93d3c-5a78-413c-8692-f6a20062f404",
   "metadata": {},
   "outputs": [],
   "source": []
  },
  {
   "cell_type": "markdown",
   "id": "8b48d3bc-7c04-491b-a553-ce27eb832807",
   "metadata": {},
   "source": [
    "_________\n",
    "__________\n",
    "\n",
    "<font size=\"5\">IGNORE: finding bugs in the code (FIXED)"
   ]
  },
  {
   "cell_type": "markdown",
   "id": "0db95bc6-d80d-429d-b226-8ff2341d11fc",
   "metadata": {},
   "source": [
    "___________________\n",
    "\n",
    "Test muTR and muRR of pystokes vs our expressions"
   ]
  },
  {
   "cell_type": "code",
   "execution_count": 17,
   "id": "984a6efa-bf98-46fb-9c73-9ad58337ba03",
   "metadata": {},
   "outputs": [
    {
     "data": {
      "text/plain": [
       "array([  0. ,   2.3,   0. ,   0. , 100. , 100. ])"
      ]
     },
     "execution_count": 17,
     "metadata": {},
     "output_type": "execute_result"
    }
   ],
   "source": [
    "r"
   ]
  },
  {
   "cell_type": "code",
   "execution_count": 18,
   "id": "28bb37c9-0b30-45e1-a351-1a0d49a81a5e",
   "metadata": {},
   "outputs": [
    {
     "data": {
      "text/plain": [
       "array([0.      , 0.      , 0.      , 0.      , 0.075215, 0.      ])"
      ]
     },
     "execution_count": 18,
     "metadata": {},
     "output_type": "execute_result"
    }
   ],
   "source": [
    "F = np.array([0.,0., 0.,0., -0.,-1.])\n",
    "T = np.array([0.,0., 0.,1.,  0., 0.])  ##torque\n",
    "\n",
    "v = np.zeros(3*Np);\n",
    "o = np.zeros(3*Np)\n",
    "\n",
    "pstk.mobilityTR(v, r, T)\n",
    "v"
   ]
  },
  {
   "cell_type": "code",
   "execution_count": 19,
   "id": "b44081fb-60ce-46e4-bd6e-bb82811f3305",
   "metadata": {},
   "outputs": [
    {
     "data": {
      "text/plain": [
       "array([ 0.        ,  0.        , -0.01635109, 14.7365688 ,  0.        ,\n",
       "        0.        ])"
      ]
     },
     "execution_count": 19,
     "metadata": {},
     "output_type": "execute_result"
    }
   ],
   "source": [
    "v = np.zeros(3*Np);\n",
    "o = np.zeros(3*Np)\n",
    "\n",
    "pstk.mobilityRR(o, r, T)\n",
    "o"
   ]
  },
  {
   "cell_type": "code",
   "execution_count": 20,
   "id": "dad92c7c-8434-479f-929f-6ff49dc3889a",
   "metadata": {},
   "outputs": [],
   "source": [
    "i=0; j=1\n",
    "\n",
    "xij = r[i]    - r[j]\n",
    "yij = r[i+Np]  - r[j+Np]\n",
    "zij = r[i+2*Np]  - r[j+2*Np]\n",
    "\n",
    "force  = np.array([F[j],F[j+Np], F[j+2*Np]])\n",
    "torque = np.array([T[j],T[j+Np], T[j+2*Np]])"
   ]
  },
  {
   "cell_type": "code",
   "execution_count": 21,
   "id": "ebca15de-d9d3-4a24-9bc3-b78949c35fbf",
   "metadata": {},
   "outputs": [
    {
     "data": {
      "text/plain": [
       "array([0.      , 0.      , 0.075215])"
      ]
     },
     "execution_count": 21,
     "metadata": {},
     "output_type": "execute_result"
    }
   ],
   "source": [
    "v_ = 1./b * np.dot(fts.tensorG1s2a(xij,yij,zij), torque)\n",
    "v_"
   ]
  },
  {
   "cell_type": "code",
   "execution_count": 22,
   "id": "2db89f8b-386c-4966-9f45-1990969f959f",
   "metadata": {},
   "outputs": [
    {
     "data": {
      "text/plain": [
       "array([ 0.        , -0.01635109,  0.        ])"
      ]
     },
     "execution_count": 22,
     "metadata": {},
     "output_type": "execute_result"
    }
   ],
   "source": [
    "o_ = 0.5/(b*b) * np.dot(fts.tensorG2a2a(xij,yij,zij), torque)\n",
    "o_"
   ]
  },
  {
   "cell_type": "markdown",
   "id": "8d46c2f2-9734-4da7-8052-811a914402a5",
   "metadata": {},
   "source": [
    "muRR do not match FTS tensors G2a2a. Check whether muRR is computed correctly, then check muRT and muTT as well."
   ]
  },
  {
   "cell_type": "markdown",
   "id": "0840caf9-e75b-4f45-9a3c-8e82443d1502",
   "metadata": {},
   "source": [
    "Test whether curl curl G == lap G"
   ]
  },
  {
   "cell_type": "code",
   "execution_count": 23,
   "id": "411f1302-a065-434f-b782-d99df4f1abe0",
   "metadata": {},
   "outputs": [],
   "source": [
    "from autograd import grad"
   ]
  },
  {
   "cell_type": "code",
   "execution_count": 24,
   "id": "80d96e54-b2b3-4177-8e0f-26ceab5c073c",
   "metadata": {},
   "outputs": [],
   "source": [
    "PI = 3.14159265359\n",
    "\n",
    "def G(xij,yij,zij, alpha,beta): #G_alpha beta\n",
    "    rij = np.array([xij,yij,zij])\n",
    "    r = np.linalg.norm(rij)\n",
    "    return ((np.identity(3)/r + np.outer(rij,rij)/r**3)/(8*eta*PI))[alpha,beta]\n",
    "\n",
    "def epsilon(i,j,k):\n",
    "    return (i-j)*(j-k)*(k-i)/2.\n",
    "\n",
    "def delG(xij,yij,zij, alpha,beta,gamma):\n",
    "    return grad(G,gamma)(xij,yij,zij, alpha,beta)\n",
    "\n",
    "def curlcurlG(xij,yij,zij, alpha,beta):\n",
    "    curlcurlg=0\n",
    "    for nu in range(3):\n",
    "        for eta in range(3):\n",
    "            for n in range(3):\n",
    "                for m in range(3):\n",
    "                    curlcurlg += (epsilon(alpha,nu,eta)*epsilon(beta,n,m)\n",
    "                                  *grad(delG, nu)(xij,yij,zij, eta,m,n))\n",
    "    return curlcurlg\n",
    "\n",
    "def lapG(xij,yij,zij, alpha,beta): # nabla^2 G_alpha beta\n",
    "    rij = np.array([xij,yij,zij])\n",
    "    r = np.linalg.norm(rij)\n",
    "    return ((np.identity(3)/r**3 - 3*np.outer(rij,rij)/r**5)/(4*eta*PI))[alpha,\n",
    "                                                                       beta]\n",
    "\n",
    "def tensorCCG(xij,yij,zij):\n",
    "    g = np.zeros([3,3])\n",
    "    for alpha in range(3):\n",
    "        for beta in range(3):\n",
    "            g[alpha,beta]=curlcurlG(xij,yij,zij, alpha,beta)\n",
    "    return g\n",
    "\n",
    "def tensorlapG(xij,yij,zij):\n",
    "    g = np.zeros([3,3])\n",
    "    for alpha in range(3):\n",
    "        for beta in range(3):\n",
    "            g[alpha,beta]=lapG(xij,yij,zij, alpha,beta)\n",
    "    return g"
   ]
  },
  {
   "cell_type": "code",
   "execution_count": 25,
   "id": "47b068f6-b931-4908-9d28-0ecb2a289ff8",
   "metadata": {},
   "outputs": [
    {
     "data": {
      "text/plain": [
       "True"
      ]
     },
     "execution_count": 25,
     "metadata": {},
     "output_type": "execute_result"
    }
   ],
   "source": [
    "np.allclose(tensorCCG(xij,yij,zij), tensorlapG(xij,yij,zij))"
   ]
  },
  {
   "cell_type": "markdown",
   "id": "b000cb37-0d96-44a7-bd4d-c700463e9598",
   "metadata": {},
   "source": [
    "Test the same with muTR and muTT"
   ]
  },
  {
   "cell_type": "code",
   "execution_count": 26,
   "id": "352dbd43-ca77-4809-b839-9feefda8b2c0",
   "metadata": {},
   "outputs": [
    {
     "data": {
      "text/plain": [
       "array([ 0.        ,  0.        ,  0.        ,  0.        , -1.94334489,\n",
       "       -1.94334489])"
      ]
     },
     "execution_count": 26,
     "metadata": {},
     "output_type": "execute_result"
    }
   ],
   "source": [
    "F = np.array([0.,0., 0.,0., -1.,-1.])\n",
    "T = np.array([0.,0., 1.,1.,  0., 0.])  ##torque\n",
    "\n",
    "v = np.zeros(3*Np);\n",
    "o = np.zeros(3*Np)\n",
    "\n",
    "pstk.mobilityTT(v, r, F)\n",
    "v"
   ]
  },
  {
   "cell_type": "code",
   "execution_count": 27,
   "id": "14ce8c74-4f12-42db-b204-bb08824b6ae8",
   "metadata": {},
   "outputs": [
    {
     "data": {
      "text/plain": [
       "array([ 0.      ,  0.      ,  0.075215, -0.075215,  0.      ,  0.      ])"
      ]
     },
     "execution_count": 27,
     "metadata": {},
     "output_type": "execute_result"
    }
   ],
   "source": [
    "v = np.zeros(3*Np);\n",
    "o = np.zeros(3*Np)\n",
    "\n",
    "pstk.mobilityRT(o, r, F)\n",
    "o"
   ]
  },
  {
   "cell_type": "code",
   "execution_count": 28,
   "id": "1ab5838a-c39a-4371-a32a-eda5785a4265",
   "metadata": {},
   "outputs": [],
   "source": [
    "i=0; j=1\n",
    "\n",
    "xij = r[i]    - r[j]\n",
    "yij = r[i+Np]  - r[j+Np]\n",
    "zij = r[i+2*Np]  - r[j+2*Np]\n",
    "\n",
    "force  = np.array([F[j],F[j+Np], F[j+2*Np]])\n",
    "torque = np.array([T[j],T[j+Np], T[j+2*Np]])"
   ]
  },
  {
   "cell_type": "code",
   "execution_count": 29,
   "id": "943aa27b-e9a2-4f67-9162-40695f644056",
   "metadata": {},
   "outputs": [
    {
     "data": {
      "text/plain": [
       "array([ 0.        ,  0.        , -1.94334489])"
      ]
     },
     "execution_count": 29,
     "metadata": {},
     "output_type": "execute_result"
    }
   ],
   "source": [
    "v_ = np.dot(fts.tensorG1s1s(xij,yij,zij), force)\n",
    "v_ += fts.G01s*force\n",
    "v_"
   ]
  },
  {
   "cell_type": "code",
   "execution_count": 30,
   "id": "9f632a05-fc78-4250-8b9e-409f5a55ba58",
   "metadata": {},
   "outputs": [
    {
     "data": {
      "text/plain": [
       "array([0.      , 0.075215, 0.      ])"
      ]
     },
     "execution_count": 30,
     "metadata": {},
     "output_type": "execute_result"
    }
   ],
   "source": [
    "o_ = 0.5/b * np.dot(fts.tensorG2a1s(xij,yij,zij), force)\n",
    "o_"
   ]
  },
  {
   "cell_type": "markdown",
   "id": "27b65457-7db5-4471-84af-867cf3d6767d",
   "metadata": {},
   "source": [
    "muRT, muTT seem to work --> something is dodgy with muTR and muRR. Check functions G1s2a and G2a2a."
   ]
  },
  {
   "cell_type": "code",
   "execution_count": 31,
   "id": "62bab6ab-3a0e-425c-a34a-445c8e4320f2",
   "metadata": {},
   "outputs": [
    {
     "data": {
      "text/plain": [
       "array([[-0.       , -0.       , -0.       ],\n",
       "       [-0.       , -0.       , -0.0225645],\n",
       "       [-0.       ,  0.0225645, -0.       ]])"
      ]
     },
     "execution_count": 31,
     "metadata": {},
     "output_type": "execute_result"
    }
   ],
   "source": [
    "fts.tensorG1s2a(xij,yij,zij)"
   ]
  },
  {
   "cell_type": "code",
   "execution_count": 32,
   "id": "a11c6c55-9698-44b1-be08-5899d53e20df",
   "metadata": {},
   "outputs": [
    {
     "data": {
      "text/plain": [
       "array([[-0.       , -0.       , -0.       ],\n",
       "       [-0.       , -0.       , -0.0225645],\n",
       "       [-0.       ,  0.0225645, -0.       ]])"
      ]
     },
     "execution_count": 32,
     "metadata": {},
     "output_type": "execute_result"
    }
   ],
   "source": [
    "def G1s2a(xij,yij,zij, alpha,beta):\n",
    "    g1s2a=0.\n",
    "    for nu in range(3):\n",
    "        for eta in range(3):\n",
    "            g1s2a += epsilon(beta,nu,eta)*delG(xij,yij,zij,alpha,eta,nu)\n",
    "    return -0.5*b*g1s2a\n",
    "\n",
    "def tensorG1s2a(xij,yij,zij):\n",
    "    g=np.zeros([3,3])\n",
    "    for alpha in range(3):\n",
    "        for beta in range(3):\n",
    "            g[alpha,beta]=G1s2a(xij,yij,zij, alpha,beta)\n",
    "    return g\n",
    "\n",
    "\n",
    "tensorG1s2a(xij,yij,zij)"
   ]
  },
  {
   "cell_type": "markdown",
   "id": "76704cbe-a50d-4725-b25c-61a79d109ddf",
   "metadata": {},
   "source": [
    "\n",
    "___________\n",
    "Summary: muTR in PyStokes had a wrong sign, while muRT was correct. In the many-body case this is slightly subtle, see below\n",
    "\n",
    "<img src=\"./images/IMG_1352.jpeg\" style=\"width: 500px;\"/>\n",
    "\n",
    "\n",
    "___________"
   ]
  },
  {
   "cell_type": "code",
   "execution_count": null,
   "id": "d2ffc66b-6180-48b1-ba4d-bdd1715bc0e0",
   "metadata": {},
   "outputs": [],
   "source": []
  },
  {
   "cell_type": "code",
   "execution_count": null,
   "id": "d0c5c4cf-a37c-48fa-91fd-8c472d5b5634",
   "metadata": {},
   "outputs": [],
   "source": []
  },
  {
   "cell_type": "code",
   "execution_count": null,
   "id": "fb0683ad-cbe5-402e-ab0e-b810688a496b",
   "metadata": {},
   "outputs": [],
   "source": []
  },
  {
   "cell_type": "code",
   "execution_count": null,
   "id": "3eadef97-dc23-4b98-beaf-0b277e116372",
   "metadata": {},
   "outputs": [],
   "source": []
  },
  {
   "cell_type": "code",
   "execution_count": null,
   "id": "50bf1b44-8116-4ed8-8955-2ce4e0149b68",
   "metadata": {},
   "outputs": [],
   "source": []
  },
  {
   "cell_type": "code",
   "execution_count": null,
   "id": "54ee8d89-1134-4e9b-bd58-c1b5b74dd6c1",
   "metadata": {},
   "outputs": [],
   "source": []
  },
  {
   "cell_type": "code",
   "execution_count": null,
   "id": "ba8b5abb-dec2-4b66-bbb1-d4e4a5f40316",
   "metadata": {},
   "outputs": [],
   "source": []
  }
 ],
 "metadata": {
  "kernelspec": {
   "display_name": "Python 3 (ipykernel)",
   "language": "python",
   "name": "python3"
  },
  "language_info": {
   "codemirror_mode": {
    "name": "ipython",
    "version": 3
   },
   "file_extension": ".py",
   "mimetype": "text/x-python",
   "name": "python",
   "nbconvert_exporter": "python",
   "pygments_lexer": "ipython3",
   "version": "3.10.2"
  }
 },
 "nbformat": 4,
 "nbformat_minor": 5
}
