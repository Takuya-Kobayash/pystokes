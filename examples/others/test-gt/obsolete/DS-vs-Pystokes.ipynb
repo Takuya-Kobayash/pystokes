{
 "cells": [
  {
   "cell_type": "code",
   "execution_count": 32,
   "id": "2cedcc98-df09-4ab7-8dbb-b96100d3281f",
   "metadata": {},
   "outputs": [],
   "source": [
    "%matplotlib inline\n",
    "from directSolve import DS\n",
    "from linearSolve import linearSolve_direct\n",
    "import numpy as np, matplotlib.pyplot as plt\n",
    "import pystokes\n",
    "import matelms as me"
   ]
  },
  {
   "cell_type": "code",
   "execution_count": 33,
   "id": "ce59e9e3-6675-4033-9de5-4b7044132642",
   "metadata": {},
   "outputs": [
    {
     "data": {
      "text/plain": [
       "array([ 0.        , -0.70710678,  0.70710678])"
      ]
     },
     "execution_count": 33,
     "metadata": {},
     "output_type": "execute_result"
    }
   ],
   "source": [
    "def rotation(vector,alpha, beta, gamma):\n",
    "    rotmat = np.array([[np.cos(beta)*np.cos(gamma), np.sin(alpha)*np.sin(beta)*np.cos(gamma) \n",
    "                        - np.cos(alpha)*np.sin(gamma), np.cos(alpha)*np.sin(beta)*np.cos(gamma)\n",
    "                        + np.sin(alpha)*np.sin(gamma)],\n",
    "                       [np.cos(beta)*np.sin(gamma),\n",
    "                        np.sin(alpha)*np.sin(beta)*np.sin(gamma) + np.cos(alpha)*np.cos(gamma),\n",
    "                        np.cos(alpha)*np.sin(beta)*np.sin(gamma) - np.sin(alpha)*np.cos(gamma)],\n",
    "                       [-np.sin(beta),\n",
    "                        np.sin(alpha)*np.cos(beta),\n",
    "                        np.cos(alpha)*np.cos(beta)]])\n",
    "    return np.dot(rotmat, vector)\n",
    "\n",
    "## test rotation matrix\n",
    "vector = np.array([0,0,1])\n",
    "rotation(vector, np.pi/4, 0, 0)"
   ]
  },
  {
   "cell_type": "markdown",
   "id": "ec41d3ee-f822-4f46-9fd6-e4f26ee84738",
   "metadata": {},
   "source": [
    "First, try something rather basic. Two squirmers swimming in opposite directions away from each other for a short time..."
   ]
  },
  {
   "cell_type": "code",
   "execution_count": 19,
   "id": "15d7b326-54d7-4007-a4ba-1b2698be8747",
   "metadata": {},
   "outputs": [],
   "source": [
    "# particle radius, self-propulsion speed, number and fluid viscosity\n",
    "b, Np, eta = 0.3, 2, 0.1\n",
    "#ds = DS(b, Np, eta)\n",
    "ls = linearSolve_direct(b, Np, eta)\n",
    "\n",
    "S0, D0  = -3/50*1.0, 1.      # strength of the stresslet (V2s) and potDipole (V3t)\n",
    "forces  = pystokes.forceFields.Forces(particles=Np)"
   ]
  },
  {
   "cell_type": "code",
   "execution_count": 29,
   "id": "a4c8ccce-0661-4b1f-a99b-a826e35d87af",
   "metadata": {},
   "outputs": [
    {
     "name": "stdout",
     "output_type": "stream",
     "text": [
      "finish\n",
      "CPU times: user 6min 57s, sys: 2min 24s, total: 9min 22s\n",
      "Wall time: 1min 11s\n"
     ]
    }
   ],
   "source": [
    "%%time\n",
    "## Two active particles with orientations in positive z-direction, \n",
    "## falling next to each other under gravity: direct solver\n",
    "\n",
    "#initial position\n",
    "r = np.array([-1.5*b,1.5*b, 0.,0., 0.,0.])\n",
    "\n",
    "#initial orientation\n",
    "#p = np.array([-1.,1., 0.,0., 0.,0.])\n",
    "#initial orientation: 50 deg towards each other\n",
    "p0_  = np.array([0., 1., 0.])\n",
    "p01_ = rotation(p0_, 0., 0., -25*2*np.pi/360)\n",
    "p02_ = rotation(p0_, 0., 0., 25*2*np.pi/360)\n",
    "p   = np.zeros(3*Np)\n",
    "p[::Np]  = p01_\n",
    "p[1::Np] = p02_\n",
    "\n",
    "# external force and torque\n",
    "F = np.array([0.,0., 0.,0., -0.,-0.])\n",
    "T = np.array([0.,0., 0.,0.,  0., 0.]) \n",
    "\n",
    "# integration parameters\n",
    "Nt=1000; \n",
    "r1=np.zeros([3,Nt]); r2=np.zeros([3,Nt])\n",
    "p1=np.zeros([3,Nt]); p2=np.zeros([3,Nt])\n",
    "\n",
    "r1[:,0] = r[::Np]; r2[:,0] = r[1::Np]\n",
    "p1[:,0] = p[::Np]; p2[:,0] = p[1::Np]\n",
    "\n",
    "dt=0.01;\n",
    "\n",
    "v = np.zeros(3*Np);\n",
    "o = np.zeros(3*Np)\n",
    "\n",
    "theta1=np.zeros([3,Nt]); theta2=np.zeros([3,Nt])\n",
    "\n",
    "v1 = np.zeros([3,Nt-1]); v2 = np.zeros([3,Nt-1])\n",
    "o1 = np.zeros([3,Nt-1]); o2 = np.zeros([3,Nt-1])\n",
    "\n",
    "# initial slip modes\n",
    "S = np.zeros(5*Np)\n",
    "D = np.zeros(3*Np)\n",
    "for i in range(Np):\n",
    "    ## S in order: xx, xy, xz, yy, yz\n",
    "    S[i]       = S0*(3*p[i]*p[i] -1)\n",
    "    S[i + Np]  = S0*(3*p[i]*p[i+Np])\n",
    "    S[i + 2*Np]= S0*(3*p[i]*p[i+2*Np])\n",
    "    S[i + 3*Np]= S0*(3*p[i+Np]*p[i+Np]-1)\n",
    "    S[i + 4*Np]= S0*(3*p[i+Np]*p[i+2*Np])\n",
    "    \n",
    "    D[i]       = D0*p[i]\n",
    "    D[i+Np]    = D0*p[i+Np]\n",
    "    D[i+2*Np]  = D0*p[i+2*Np]\n",
    "\n",
    "for i in range(Nt-1):\n",
    "    forces.lennardJones(F,r,lje=2.6,ljr=0.7); ## good parameters?\n",
    "    #ds.directSolve(v, o, r, F, T, S, D)\n",
    "    ls.RBM(v, o, r, F, T, S, D)\n",
    "    \n",
    "    #position\n",
    "    r1[:,i+1] = r1[:,i] + dt*v[::Np]\n",
    "    r2[:,i+1] = r2[:,i] + dt*v[1::Np]\n",
    "    \n",
    "    #angle (needed?)\n",
    "    theta1[:,i+1] = theta1[:,i] + dt*o[::Np]\n",
    "    theta2[:,i+1] = theta2[:,i] + dt*o[1::Np]\n",
    "    \n",
    "    #orientation\n",
    "    p1[:,i+1] = rotation(p1[:,i], theta1[0,i+1], theta1[1,i+1], theta1[2,i+1])\n",
    "    p2[:,i+1] = rotation(p2[:,i], theta2[0,i+1], theta2[1,i+1], theta2[2,i+1])\n",
    "    \n",
    "    #get velocity (constant for this case)\n",
    "    v1[:,i] = v[::Np]\n",
    "    v2[:,i] = v[1::Np]\n",
    "    \n",
    "    #get angular velocity (constant for this case)\n",
    "    o1[:,i] = o[::Np]\n",
    "    o2[:,i] = o[1::Np]\n",
    "    \n",
    "    # reset variables for next time step\n",
    "    r[::Np] = r1[:,i+1]\n",
    "    r[1::Np] = r2[:,i+1]\n",
    "    v = v*0\n",
    "    o = o*0\n",
    "    F = F*0\n",
    "    \n",
    "    # update slip for new orientation of particles\n",
    "    S[0]       = S0*(3*p1[0,i+1]*p1[0,i+1] -1)\n",
    "    S[0 + Np]  = S0*(3*p1[0,i+1]*p1[1,i+1])\n",
    "    S[0 + 2*Np]= S0*(3*p1[0,i+1]*p1[2,i+1])\n",
    "    S[0 + 3*Np]= S0*(3*p1[1,i+1]*p1[1,i+1]-1)\n",
    "    S[0 + 4*Np]= S0*(3*p1[1,i+1]*p1[2,i+1])\n",
    "    \n",
    "    S[1]       = S0*(3*p2[0,i+1]*p2[0,i+1] -1)\n",
    "    S[1 + Np]  = S0*(3*p2[0,i+1]*p2[1,i+1])\n",
    "    S[1 + 2*Np]= S0*(3*p2[0,i+1]*p2[2,i+1])\n",
    "    S[1 + 3*Np]= S0*(3*p2[1,i+1]*p2[1,i+1]-1)\n",
    "    S[1 + 4*Np]= S0*(3*p2[1,i+1]*p2[2,i+1])\n",
    "    \n",
    "    D[0]       = D0*p1[0,i+1]\n",
    "    D[0+Np]    = D0*p1[1,i+1]\n",
    "    D[0+2*Np]  = D0*p1[2,i+1]\n",
    "    \n",
    "    D[1]       = D0*p2[0,i+1]\n",
    "    D[1+Np]    = D0*p2[1,i+1]\n",
    "    D[1+2*Np]  = D0*p2[2,i+1]\n",
    "\n",
    "print('finish')"
   ]
  },
  {
   "cell_type": "code",
   "execution_count": 30,
   "id": "65a554b9-4000-49c9-852c-52a343c503b5",
   "metadata": {},
   "outputs": [
    {
     "data": {
      "text/plain": [
       "[<matplotlib.lines.Line2D at 0x7fb0b6b888b0>,\n",
       " <matplotlib.lines.Line2D at 0x7fb0b6b89990>]"
      ]
     },
     "execution_count": 30,
     "metadata": {},
     "output_type": "execute_result"
    },
    {
     "data": {
      "image/png": "[encoded data removed]",
      "text/plain": [
       "<Figure size 432x288 with 1 Axes>"
      ]
     },
     "metadata": {
      "needs_background": "light"
     },
     "output_type": "display_data"
    }
   ],
   "source": [
    "times = np.arange(0,Nt)\n",
    "plt.plot(times, r1[0,:], times, r2[0,:])"
   ]
  },
  {
   "cell_type": "code",
   "execution_count": 31,
   "id": "600fad8e-211a-4cde-958b-4771480a14d5",
   "metadata": {},
   "outputs": [
    {
     "data": {
      "image/png": "[encoded data removed]",
      "text/plain": [
       "<Figure size 432x288 with 1 Axes>"
      ]
     },
     "metadata": {
      "needs_background": "light"
     },
     "output_type": "display_data"
    }
   ],
   "source": [
    "##x-y plot like in Ishikawa\n",
    "plt.plot(r1[0,:], r1[1,:], label='particle 1')\n",
    "plt.plot(r2[0,:], r1[1,:], label='particle 2')\n",
    "plt.xlabel('x')\n",
    "plt.ylabel('y')\n",
    "plt.legend()\n",
    "plt.show()"
   ]
  },
  {
   "cell_type": "markdown",
   "id": "95d2749f-0f14-4119-b044-2bf1eccf07c1",
   "metadata": {},
   "source": [
    "__________\n",
    "\n",
    "Simulate ex3-crystalNucleation and see whether they behave somewhat correctly, although the latter is near a wall..\n",
    "\n",
    "\n",
    "\n",
    "First: <font size=\"5\">PyStokes\n",
    "    \n",
    "    Two active particles at a distance 5 times b, with orientation in negative z-direction. Only V^(3t) is active"
   ]
  },
  {
   "cell_type": "code",
   "execution_count": 6,
   "id": "05b99255-8a1a-4814-8506-e3bb6641527f",
   "metadata": {},
   "outputs": [],
   "source": [
    "# particle radius, self-propulsion speed, number and fluid viscosity\n",
    "b, Np, eta = 1.0, 2, 0.1\n",
    "pstk = pystokes.unbounded.Rbm(b, Np, eta)\n",
    "\n",
    "S0, D0  = 0., 2.0      # strength of the stresslet (V2s) and potDipole (V3t)\n",
    "forces  = pystokes.forceFields.Forces(particles=Np)"
   ]
  },
  {
   "cell_type": "code",
   "execution_count": 7,
   "id": "1ceb4249-88f0-4613-a9ec-a7266bc4683f",
   "metadata": {},
   "outputs": [
    {
     "name": "stdout",
     "output_type": "stream",
     "text": [
      "finish\n",
      "CPU times: user 5min 7s, sys: 26.2 s, total: 5min 33s\n",
      "Wall time: 49.4 s\n"
     ]
    }
   ],
   "source": [
    "%%time\n",
    "## Two active particles with orientations in positive z-direction, \n",
    "## falling next to each other under gravity: direct solver\n",
    "\n",
    "#initial position\n",
    "r = np.array([-2.5,2.5, 0,0 , 2.5, 2.5])\n",
    "\n",
    "#initial orientation\n",
    "p = np.array([0,0, 0,0, -1.0,-1.0])\n",
    "\n",
    "# external force and torque\n",
    "F = np.zeros(3*Np)\n",
    "T = np.array([0.,0., 0.,0.,  0., 0.]) \n",
    "\n",
    "vs = 0.4\n",
    "F0 = 6*np.pi*eta*b*vs*(1+9*b/(8*r[4])); #active stall force -- what is this?? in pystokes V^A=1/5*V^(3t) is missing\n",
    "\n",
    "# integration parameters\n",
    "Nt=2**16; \n",
    "r1=np.zeros([3,Nt]); r2=np.zeros([3,Nt])\n",
    "p1=np.zeros([3,Nt]); p2=np.zeros([3,Nt])\n",
    "\n",
    "r1[:,0] = r[::Np]; r2[:,0] = r[1::Np]\n",
    "p1[:,0] = p[::Np]; p2[:,0] = p[1::Np]\n",
    "\n",
    "dt=0.01;\n",
    "\n",
    "v = np.zeros(3*Np);\n",
    "o = np.zeros(3*Np)\n",
    "\n",
    "theta1=np.zeros([3,Nt]); theta2=np.zeros([3,Nt])\n",
    "\n",
    "v1 = np.zeros([3,Nt-1]); v2 = np.zeros([3,Nt-1])\n",
    "o1 = np.zeros([3,Nt-1]); o2 = np.zeros([3,Nt-1])\n",
    "\n",
    "# initial slip modes\n",
    "S = np.zeros(5*Np)\n",
    "D = np.zeros(3*Np)\n",
    "for i in range(Np):\n",
    "    ## S in order: xx, xy, xz, yy, yz\n",
    "    S[i]       = S0*(3*p[i]*p[i] -1)\n",
    "    S[i + Np]  = S0*(3*p[i]*p[i+Np])\n",
    "    S[i + 2*Np]= S0*(3*p[i]*p[i+2*Np])\n",
    "    S[i + 3*Np]= S0*(3*p[i+Np]*p[i+Np]-1)\n",
    "    S[i + 4*Np]= S0*(3*p[i+Np]*p[i+2*Np])\n",
    "    \n",
    "    D[i]       = D0*p[i]\n",
    "    D[i+Np]    = D0*p[i+Np]\n",
    "    D[i+2*Np]  = D0*p[i+2*Np]\n",
    "\n",
    "for i in range(Nt-1):\n",
    "    forces.lennardJones(F,r,lje=.6,ljr=2.1); F[4],F[5]= F0, F0\n",
    "    pstk.mobilityTT(v,r,F)\n",
    "    pstk.mobilityTR(v,r,T)\n",
    "    pstk.mobilityRT(o,r,F)\n",
    "    pstk.mobilityRR(o,r,T)\n",
    "    pstk.propulsionT3t(v,r,D)\n",
    "    \n",
    "    #position\n",
    "    r1[:,i+1] = r1[:,i] + dt*v[::Np]\n",
    "    r2[:,i+1] = r2[:,i] + dt*v[1::Np]\n",
    "    \n",
    "    #angle (needed?)\n",
    "    theta1[:,i+1] = theta1[:,i] + dt*o[::Np]\n",
    "    theta2[:,i+1] = theta2[:,i] + dt*o[1::Np]\n",
    "    \n",
    "    #orientation\n",
    "    p1[:,i+1] = rotation(p1[:,i], theta1[0,i+1], theta1[1,i+1], theta1[2,i+1])\n",
    "    p2[:,i+1] = rotation(p2[:,i], theta2[0,i+1], theta2[1,i+1], theta2[2,i+1])\n",
    "    \n",
    "    #get velocity (constant for this case)\n",
    "    v1[:,i] = v[::Np]\n",
    "    v2[:,i] = v[1::Np]\n",
    "    \n",
    "    #get angular velocity (constant for this case)\n",
    "    o1[:,i] = o[::Np]\n",
    "    o2[:,i] = o[1::Np]\n",
    "    \n",
    "    # reset variables for next time step\n",
    "    r[::Np] = r1[:,i+1]\n",
    "    r[1::Np] = r2[:,i+1]\n",
    "    v = v*0\n",
    "    o = o*0\n",
    "    F[0:3] = F[0:3]*0 \n",
    "    \n",
    "    # update slip for new orientation of particles\n",
    "    S[0]       = S0*(3*p1[0,i+1]*p1[0,i+1] -1)\n",
    "    S[0 + Np]  = S0*(3*p1[0,i+1]*p1[1,i+1])\n",
    "    S[0 + 2*Np]= S0*(3*p1[0,i+1]*p1[2,i+1])\n",
    "    S[0 + 3*Np]= S0*(3*p1[1,i+1]*p1[1,i+1]-1)\n",
    "    S[0 + 4*Np]= S0*(3*p1[1,i+1]*p1[2,i+1])\n",
    "    \n",
    "    S[1]       = S0*(3*p2[0,i+1]*p2[0,i+1] -1)\n",
    "    S[1 + Np]  = S0*(3*p2[0,i+1]*p2[1,i+1])\n",
    "    S[1 + 2*Np]= S0*(3*p2[0,i+1]*p2[2,i+1])\n",
    "    S[1 + 3*Np]= S0*(3*p2[1,i+1]*p2[1,i+1]-1)\n",
    "    S[1 + 4*Np]= S0*(3*p2[1,i+1]*p2[2,i+1])\n",
    "    \n",
    "    D[0]       = D0*p1[0,i+1]\n",
    "    D[0+Np]    = D0*p1[1,i+1]\n",
    "    D[0+2*Np]  = D0*p1[2,i+1]\n",
    "    \n",
    "    D[1]       = D0*p2[0,i+1]\n",
    "    D[1+Np]    = D0*p2[1,i+1]\n",
    "    D[1+2*Np]  = D0*p2[2,i+1]\n",
    "\n",
    "print('finish')"
   ]
  },
  {
   "cell_type": "code",
   "execution_count": 8,
   "id": "b03e3088-180c-487a-81c1-06c08ace4cc4",
   "metadata": {},
   "outputs": [
    {
     "data": {
      "text/plain": [
       "[<matplotlib.lines.Line2D at 0x7fae56269d50>,\n",
       " <matplotlib.lines.Line2D at 0x7fae528a0a00>]"
      ]
     },
     "execution_count": 8,
     "metadata": {},
     "output_type": "execute_result"
    },
    {
     "data": {
      "image/png": "[encoded data removed]",
      "text/plain": [
       "<Figure size 432x288 with 1 Axes>"
      ]
     },
     "metadata": {
      "needs_background": "light"
     },
     "output_type": "display_data"
    }
   ],
   "source": [
    "times = np.arange(0,Nt)\n",
    "plt.plot(times, r1[0,:], times, r2[0,:])"
   ]
  },
  {
   "cell_type": "code",
   "execution_count": 9,
   "id": "b9484317-4590-48b7-bb2f-ac9f33ab737e",
   "metadata": {},
   "outputs": [
    {
     "data": {
      "text/plain": [
       "4.997838113794825"
      ]
     },
     "execution_count": 9,
     "metadata": {},
     "output_type": "execute_result"
    }
   ],
   "source": [
    "## what's the nearest they come to each other?\n",
    "np.amin(np.abs(r1[0,:]-r2[0,:]))"
   ]
  },
  {
   "cell_type": "code",
   "execution_count": 10,
   "id": "b88da378-1f45-44c0-ac37-95864743e0ee",
   "metadata": {},
   "outputs": [
    {
     "data": {
      "text/plain": [
       "[<matplotlib.lines.Line2D at 0x7fae5291c430>,\n",
       " <matplotlib.lines.Line2D at 0x7fae5291c490>]"
      ]
     },
     "execution_count": 10,
     "metadata": {},
     "output_type": "execute_result"
    },
    {
     "data": {
      "image/png": "[encoded data removed]",
      "text/plain": [
       "<Figure size 432x288 with 1 Axes>"
      ]
     },
     "metadata": {
      "needs_background": "light"
     },
     "output_type": "display_data"
    }
   ],
   "source": [
    "plt.plot(times, r1[2,:], times, r2[2,:])"
   ]
  },
  {
   "cell_type": "markdown",
   "id": "82a05f96-5442-439c-b4d8-ba5adabed07b",
   "metadata": {},
   "source": [
    "Not much seems to happen within the time scale plotted here. As shown in ex3, close to an interface the particles come together"
   ]
  },
  {
   "cell_type": "markdown",
   "id": "1a2e9dc6-8ad9-4fe5-abdc-881a7c78d278",
   "metadata": {},
   "source": [
    "_____________________\n",
    "\n",
    "\n",
    "Test the same system with \n",
    "\n",
    "<font size=\"5\">directSolve\n",
    "    \n",
    "    Two active particles at a distance 5 times b with orientation in negative z-direction. Only V^(3t) is active"
   ]
  },
  {
   "cell_type": "code",
   "execution_count": 11,
   "id": "65d36a45-542f-45a4-8378-bae288f312bd",
   "metadata": {},
   "outputs": [],
   "source": [
    "# particle radius, self-propulsion speed, number and fluid viscosity\n",
    "b, Np, eta = 1.0, 2, 0.1\n",
    "ds = DS(b, Np, eta)\n",
    "\n",
    "S0, D0  = 0., 2.0      # strength of the stresslet (V2s) and potDipole (V3t)\n",
    "forces  = pystokes.forceFields.Forces(particles=Np)"
   ]
  },
  {
   "cell_type": "code",
   "execution_count": 12,
   "id": "0eee7c9c-7ae1-48f9-8ec5-dd7fbb15ded7",
   "metadata": {},
   "outputs": [
    {
     "name": "stdout",
     "output_type": "stream",
     "text": [
      "finish\n",
      "CPU times: user 1h 11min 8s, sys: 9.43 s, total: 1h 11min 17s\n",
      "Wall time: 9min 15s\n"
     ]
    }
   ],
   "source": [
    "%%time\n",
    "## Two active particles with orientations in positive z-direction, \n",
    "## falling next to each other under gravity: direct solver\n",
    "\n",
    "#initial position\n",
    "r = np.array([-2.5,2.5, 0,0 , 2.5, 2.5])\n",
    "\n",
    "#initial orientation\n",
    "p = np.array([0,0, 0,0, -1.0,-1.0])\n",
    "\n",
    "# external force and torque\n",
    "F = np.zeros(3*Np)\n",
    "T = np.array([0.,0., 0.,0.,  0., 0.]) \n",
    "\n",
    "#vs = 0.4\n",
    "#F0 = 6*np.pi*eta*b*vs*(1+9*b/(8*r[4])); #active stall force -- what is this??\n",
    "\n",
    "# integration parameters\n",
    "Nt=2**16; \n",
    "r1=np.zeros([3,Nt]); r2=np.zeros([3,Nt])\n",
    "p1=np.zeros([3,Nt]); p2=np.zeros([3,Nt])\n",
    "\n",
    "r1[:,0] = r[::Np]; r2[:,0] = r[1::Np]\n",
    "p1[:,0] = p[::Np]; p2[:,0] = p[1::Np]\n",
    "\n",
    "dt=0.01;\n",
    "\n",
    "v = np.zeros(3*Np);\n",
    "o = np.zeros(3*Np)\n",
    "\n",
    "theta1=np.zeros([3,Nt]); theta2=np.zeros([3,Nt])\n",
    "\n",
    "v1 = np.zeros([3,Nt-1]); v2 = np.zeros([3,Nt-1])\n",
    "o1 = np.zeros([3,Nt-1]); o2 = np.zeros([3,Nt-1])\n",
    "\n",
    "# initial slip modes\n",
    "S = np.zeros(5*Np)\n",
    "D = np.zeros(3*Np)\n",
    "for i in range(Np):\n",
    "    ## S in order: xx, xy, xz, yy, yz\n",
    "    S[i]       = S0*(3*p[i]*p[i] -1)\n",
    "    S[i + Np]  = S0*(3*p[i]*p[i+Np])\n",
    "    S[i + 2*Np]= S0*(3*p[i]*p[i+2*Np])\n",
    "    S[i + 3*Np]= S0*(3*p[i+Np]*p[i+Np]-1)\n",
    "    S[i + 4*Np]= S0*(3*p[i+Np]*p[i+2*Np])\n",
    "    \n",
    "    D[i]       = D0*p[i]\n",
    "    D[i+Np]    = D0*p[i+Np]\n",
    "    D[i+2*Np]  = D0*p[i+2*Np]\n",
    "\n",
    "for i in range(Nt-1):\n",
    "    forces.lennardJones(F,r,lje=.6,ljr=2.1); #F[4],F[5]= F0, F0\n",
    "    ds.directSolve(v, o, r, F, T, S, D)\n",
    "    \n",
    "    #position\n",
    "    r1[:,i+1] = r1[:,i] + dt*v[::Np]\n",
    "    r2[:,i+1] = r2[:,i] + dt*v[1::Np]\n",
    "    \n",
    "    #angle (needed?)\n",
    "    theta1[:,i+1] = theta1[:,i] + dt*o[::Np]\n",
    "    theta2[:,i+1] = theta2[:,i] + dt*o[1::Np]\n",
    "    \n",
    "    #orientation\n",
    "    p1[:,i+1] = rotation(p1[:,i], theta1[0,i+1], theta1[1,i+1], theta1[2,i+1])\n",
    "    p2[:,i+1] = rotation(p2[:,i], theta2[0,i+1], theta2[1,i+1], theta2[2,i+1])\n",
    "    \n",
    "    #get velocity (constant for this case)\n",
    "    v1[:,i] = v[::Np]\n",
    "    v2[:,i] = v[1::Np]\n",
    "    \n",
    "    #get angular velocity (constant for this case)\n",
    "    o1[:,i] = o[::Np]\n",
    "    o2[:,i] = o[1::Np]\n",
    "    \n",
    "    # reset variables for next time step\n",
    "    r[::Np] = r1[:,i+1]\n",
    "    r[1::Np] = r2[:,i+1]\n",
    "    v = v*0\n",
    "    o = o*0\n",
    "    F = F*0 \n",
    "    \n",
    "    # update slip for new orientation of particles\n",
    "    S[0]       = S0*(3*p1[0,i+1]*p1[0,i+1] -1)\n",
    "    S[0 + Np]  = S0*(3*p1[0,i+1]*p1[1,i+1])\n",
    "    S[0 + 2*Np]= S0*(3*p1[0,i+1]*p1[2,i+1])\n",
    "    S[0 + 3*Np]= S0*(3*p1[1,i+1]*p1[1,i+1]-1)\n",
    "    S[0 + 4*Np]= S0*(3*p1[1,i+1]*p1[2,i+1])\n",
    "    \n",
    "    S[1]       = S0*(3*p2[0,i+1]*p2[0,i+1] -1)\n",
    "    S[1 + Np]  = S0*(3*p2[0,i+1]*p2[1,i+1])\n",
    "    S[1 + 2*Np]= S0*(3*p2[0,i+1]*p2[2,i+1])\n",
    "    S[1 + 3*Np]= S0*(3*p2[1,i+1]*p2[1,i+1]-1)\n",
    "    S[1 + 4*Np]= S0*(3*p2[1,i+1]*p2[2,i+1])\n",
    "    \n",
    "    D[0]       = D0*p1[0,i+1]\n",
    "    D[0+Np]    = D0*p1[1,i+1]\n",
    "    D[0+2*Np]  = D0*p1[2,i+1]\n",
    "    \n",
    "    D[1]       = D0*p2[0,i+1]\n",
    "    D[1+Np]    = D0*p2[1,i+1]\n",
    "    D[1+2*Np]  = D0*p2[2,i+1]\n",
    "\n",
    "print('finish')"
   ]
  },
  {
   "cell_type": "code",
   "execution_count": 13,
   "id": "87d24bff-31a2-4ac9-a418-bbf7ba22e5e9",
   "metadata": {},
   "outputs": [
    {
     "data": {
      "text/plain": [
       "[<matplotlib.lines.Line2D at 0x7fae561fd2a0>,\n",
       " <matplotlib.lines.Line2D at 0x7fae561fc2b0>]"
      ]
     },
     "execution_count": 13,
     "metadata": {},
     "output_type": "execute_result"
    },
    {
     "data": {
      "image/png": "[encoded data removed]",
      "text/plain": [
       "<Figure size 432x288 with 1 Axes>"
      ]
     },
     "metadata": {
      "needs_background": "light"
     },
     "output_type": "display_data"
    }
   ],
   "source": [
    "times = np.arange(0,Nt)\n",
    "plt.plot(times, r1[0,:], times, r2[0,:])"
   ]
  },
  {
   "cell_type": "code",
   "execution_count": 14,
   "id": "05f2d371-3dea-45fe-aae0-4ddbacb9e8de",
   "metadata": {},
   "outputs": [
    {
     "data": {
      "text/plain": [
       "4.145286917867604"
      ]
     },
     "execution_count": 14,
     "metadata": {},
     "output_type": "execute_result"
    }
   ],
   "source": [
    "## what's the nearest they come to each other?\n",
    "np.amin(np.abs(r1[0,:]-r2[0,:]))"
   ]
  },
  {
   "cell_type": "code",
   "execution_count": 15,
   "id": "6576db47-26c6-469c-ad77-569f37e37fc4",
   "metadata": {},
   "outputs": [
    {
     "data": {
      "text/plain": [
       "[<matplotlib.lines.Line2D at 0x7fae518d37f0>,\n",
       " <matplotlib.lines.Line2D at 0x7fae518d3850>]"
      ]
     },
     "execution_count": 15,
     "metadata": {},
     "output_type": "execute_result"
    },
    {
     "data": {
      "image/png": "[encoded data removed]",
      "text/plain": [
       "<Figure size 432x288 with 1 Axes>"
      ]
     },
     "metadata": {
      "needs_background": "light"
     },
     "output_type": "display_data"
    }
   ],
   "source": [
    "plt.plot(times, r1[2,:], times, r2[2,:])"
   ]
  },
  {
   "cell_type": "markdown",
   "id": "3366083e-31d5-401e-bd1e-d131157b8f4c",
   "metadata": {},
   "source": [
    "Active particles with V^(3t) mode only seem to 'dance' with each other and get trapped in some sort of circling - is that physical??"
   ]
  },
  {
   "cell_type": "code",
   "execution_count": null,
   "id": "8a1fa0ba-a5d5-4087-bea5-846040080294",
   "metadata": {},
   "outputs": [],
   "source": []
  },
  {
   "cell_type": "code",
   "execution_count": null,
   "id": "1835a876-e62d-46d1-8d6f-43c057d1de18",
   "metadata": {},
   "outputs": [],
   "source": []
  },
  {
   "cell_type": "markdown",
   "id": "0f7dc8ad-7f8a-4a17-920c-e375138788ca",
   "metadata": {},
   "source": [
    "______________\n",
    "\n",
    "\n",
    "\n",
    "\n",
    "\n",
    "<font size=\"5\">PyStokes\n",
    "    \n",
    "    Introduce additional V^(2s) mode and test what a squirmer does: -3/50xV2s + V3t \n",
    "    \n",
    "    \n",
    "<font size=\"3\">NB: Pystokes definition of elements of V2s is different from mine! Pystokes: xx, yy, xy, xz, yz/ mine: xx, xy, xz, yy, yz\n",
    "    \n",
    "    change yy from position 4 to position 2 below!\n"
   ]
  },
  {
   "cell_type": "code",
   "execution_count": 16,
   "id": "5ec8097a-3705-4620-ab22-f2acaf02d940",
   "metadata": {},
   "outputs": [],
   "source": [
    "# particle radius, self-propulsion speed, number and fluid viscosity\n",
    "b, Np, eta = 1.0, 2, 0.1\n",
    "pstk = pystokes.unbounded.Rbm(b, Np, eta)\n",
    "\n",
    "## squirmer\n",
    "S0, D0  = -3./50.*2.0, 2.0      # strength of the stresslet (V2s) and potDipole (V3t)\n",
    "forces  = pystokes.forceFields.Forces(particles=Np)"
   ]
  },
  {
   "cell_type": "code",
   "execution_count": 17,
   "id": "d05bdbda-765c-44c0-aae9-c256e0c25678",
   "metadata": {},
   "outputs": [
    {
     "name": "stdout",
     "output_type": "stream",
     "text": [
      "finish\n",
      "CPU times: user 6min 40s, sys: 33.4 s, total: 7min 13s\n",
      "Wall time: 1min 4s\n"
     ]
    }
   ],
   "source": [
    "%%time\n",
    "## Two active particles with orientations in positive z-direction, \n",
    "## falling next to each other under gravity: direct solver\n",
    "\n",
    "#initial position\n",
    "r = np.array([-2.5,2.5, 0,0 , 2.5, 2.5])\n",
    "\n",
    "#initial orientation\n",
    "p = np.array([0,0, 0,0, -1.0,-1.0])\n",
    "\n",
    "# external force and torque\n",
    "F = np.zeros(3*Np)\n",
    "T = np.array([0.,0., 0.,0.,  0., 0.]) \n",
    "\n",
    "vs = 0.4\n",
    "F0 = 6*np.pi*eta*b*vs*(1+9*b/(8*r[4])); #active stall force -- what is this??\n",
    "\n",
    "# integration parameters\n",
    "Nt=2**16; \n",
    "r1=np.zeros([3,Nt]); r2=np.zeros([3,Nt])\n",
    "p1=np.zeros([3,Nt]); p2=np.zeros([3,Nt])\n",
    "\n",
    "r1[:,0] = r[::Np]; r2[:,0] = r[1::Np]\n",
    "p1[:,0] = p[::Np]; p2[:,0] = p[1::Np]\n",
    "\n",
    "dt=0.01;\n",
    "\n",
    "v = np.zeros(3*Np);\n",
    "o = np.zeros(3*Np)\n",
    "\n",
    "theta1=np.zeros([3,Nt]); theta2=np.zeros([3,Nt])\n",
    "\n",
    "v1 = np.zeros([3,Nt-1]); v2 = np.zeros([3,Nt-1])\n",
    "o1 = np.zeros([3,Nt-1]); o2 = np.zeros([3,Nt-1])\n",
    "\n",
    "# initial slip modes\n",
    "S = np.zeros(5*Np)\n",
    "D = np.zeros(3*Np)\n",
    "for i in range(Np):\n",
    "    ## S in order: xx, xy, xz, yy, yz\n",
    "    S[i]       = S0*(3*p[i]*p[i] -1)\n",
    "    S[i + 2*Np]  = S0*(3*p[i]*p[i+Np]) ##different ordering in pystokes!\n",
    "    S[i + 3*Np]= S0*(3*p[i]*p[i+2*Np])\n",
    "    S[i + Np]= S0*(3*p[i+Np]*p[i+Np]-1)\n",
    "    S[i + 4*Np]= S0*(3*p[i+Np]*p[i+2*Np])\n",
    "    \n",
    "    D[i]       = D0*p[i]\n",
    "    D[i+Np]    = D0*p[i+Np]\n",
    "    D[i+2*Np]  = D0*p[i+2*Np]\n",
    "\n",
    "for i in range(Nt-1):\n",
    "    forces.lennardJones(F,r,lje=.6,ljr=2.1); F[4],F[5]= F0, F0\n",
    "    pstk.mobilityTT(v,r,F)\n",
    "    pstk.mobilityTR(v,r,T)\n",
    "    pstk.mobilityRT(o,r,F)\n",
    "    pstk.mobilityRR(o,r,T)\n",
    "    pstk.propulsionT3t(v,r,D)\n",
    "    pstk.propulsionT2s(v,r,S)\n",
    "    pstk.propulsionR2s(o,r,S)\n",
    "    \n",
    "    #position\n",
    "    r1[:,i+1] = r1[:,i] + dt*v[::Np]\n",
    "    r2[:,i+1] = r2[:,i] + dt*v[1::Np]\n",
    "    \n",
    "    #angle (needed?)\n",
    "    theta1[:,i+1] = theta1[:,i] + dt*o[::Np]\n",
    "    theta2[:,i+1] = theta2[:,i] + dt*o[1::Np]\n",
    "    \n",
    "    #orientation\n",
    "    p1[:,i+1] = rotation(p1[:,i], theta1[0,i+1], theta1[1,i+1], theta1[2,i+1])\n",
    "    p2[:,i+1] = rotation(p2[:,i], theta2[0,i+1], theta2[1,i+1], theta2[2,i+1])\n",
    "    \n",
    "    #get velocity (constant for this case)\n",
    "    v1[:,i] = v[::Np]\n",
    "    v2[:,i] = v[1::Np]\n",
    "    \n",
    "    #get angular velocity (constant for this case)\n",
    "    o1[:,i] = o[::Np]\n",
    "    o2[:,i] = o[1::Np]\n",
    "    \n",
    "    # reset variables for next time step\n",
    "    r[::Np] = r1[:,i+1]\n",
    "    r[1::Np] = r2[:,i+1]\n",
    "    v = v*0\n",
    "    o = o*0\n",
    "    F[0:3] = F[0:3]*0 \n",
    "    \n",
    "    # update slip for new orientation of particles\n",
    "    S[0]       = S0*(3*p1[0,i+1]*p1[0,i+1] -1)\n",
    "    S[0 + 2*Np]  = S0*(3*p1[0,i+1]*p1[1,i+1])\n",
    "    S[0 + 3*Np]= S0*(3*p1[0,i+1]*p1[2,i+1])\n",
    "    S[0 + Np]= S0*(3*p1[1,i+1]*p1[1,i+1]-1)\n",
    "    S[0 + 4*Np]= S0*(3*p1[1,i+1]*p1[2,i+1])\n",
    "    \n",
    "    S[1]       = S0*(3*p2[0,i+1]*p2[0,i+1] -1)\n",
    "    S[1 + 2*Np]  = S0*(3*p2[0,i+1]*p2[1,i+1])\n",
    "    S[1 + 3*Np]= S0*(3*p2[0,i+1]*p2[2,i+1])\n",
    "    S[1 + Np]= S0*(3*p2[1,i+1]*p2[1,i+1]-1)\n",
    "    S[1 + 4*Np]= S0*(3*p2[1,i+1]*p2[2,i+1])\n",
    "    \n",
    "    D[0]       = D0*p1[0,i+1]\n",
    "    D[0+Np]    = D0*p1[1,i+1]\n",
    "    D[0+2*Np]  = D0*p1[2,i+1]\n",
    "    \n",
    "    D[1]       = D0*p2[0,i+1]\n",
    "    D[1+Np]    = D0*p2[1,i+1]\n",
    "    D[1+2*Np]  = D0*p2[2,i+1]\n",
    "\n",
    "print('finish')"
   ]
  },
  {
   "cell_type": "code",
   "execution_count": 18,
   "id": "a65beecd-e48f-4170-91cf-c5dfc8c86d26",
   "metadata": {},
   "outputs": [
    {
     "data": {
      "text/plain": [
       "[<matplotlib.lines.Line2D at 0x7fae51967fd0>,\n",
       " <matplotlib.lines.Line2D at 0x7fae51970070>]"
      ]
     },
     "execution_count": 18,
     "metadata": {},
     "output_type": "execute_result"
    },
    {
     "data": {
      "image/png": "[encoded data removed]",
      "text/plain": [
       "<Figure size 432x288 with 1 Axes>"
      ]
     },
     "metadata": {
      "needs_background": "light"
     },
     "output_type": "display_data"
    }
   ],
   "source": [
    "times = np.arange(0,Nt)\n",
    "plt.plot(times, r1[0,:], times, r2[0,:])"
   ]
  },
  {
   "cell_type": "code",
   "execution_count": 19,
   "id": "6dd033fb-0f0c-4d99-9d8b-747a60ea5a91",
   "metadata": {},
   "outputs": [
    {
     "data": {
      "text/plain": [
       "1.8711763788554816"
      ]
     },
     "execution_count": 19,
     "metadata": {},
     "output_type": "execute_result"
    }
   ],
   "source": [
    "## what's the nearest they come to each other?\n",
    "np.amin(np.abs(r1[0,:]-r2[0,:]))"
   ]
  },
  {
   "cell_type": "code",
   "execution_count": 20,
   "id": "1a0d14e5-c7f8-4c2f-a7af-db687f89e7ce",
   "metadata": {},
   "outputs": [
    {
     "data": {
      "text/plain": [
       "[<matplotlib.lines.Line2D at 0x7fae524bb5e0>,\n",
       " <matplotlib.lines.Line2D at 0x7fae524bb640>]"
      ]
     },
     "execution_count": 20,
     "metadata": {},
     "output_type": "execute_result"
    },
    {
     "data": {
      "image/png": "[encoded data removed]",
      "text/plain": [
       "<Figure size 432x288 with 1 Axes>"
      ]
     },
     "metadata": {
      "needs_background": "light"
     },
     "output_type": "display_data"
    }
   ],
   "source": [
    "plt.plot(times, r1[2,:], times, r2[2,:])"
   ]
  },
  {
   "cell_type": "markdown",
   "id": "9febb707-3d8b-44bc-970f-55106775e5bd",
   "metadata": {},
   "source": [
    "Seems sensible, particles attract each other until they touch, which is when LJ force keeps them separate."
   ]
  },
  {
   "cell_type": "code",
   "execution_count": null,
   "id": "732a3077-1a37-4369-8186-02eff31b7811",
   "metadata": {},
   "outputs": [],
   "source": []
  },
  {
   "cell_type": "markdown",
   "id": "eecd140d-91b3-4342-bbf0-4bdef499e5c0",
   "metadata": {},
   "source": [
    "______________\n",
    "\n",
    "\n",
    "\n",
    "\n",
    "\n",
    "<font size=\"5\">directSolve\n",
    "    \n",
    "    Introduce additional V^(2s) mode and test what a squirmer does: -3/50xV2s + V3t "
   ]
  },
  {
   "cell_type": "code",
   "execution_count": 21,
   "id": "a989bfbe-484b-4a27-9057-dad65e42a6c6",
   "metadata": {},
   "outputs": [],
   "source": [
    "# particle radius, self-propulsion speed, number and fluid viscosity\n",
    "b, Np, eta = 1.0, 2, 0.1\n",
    "ds = DS(b, Np, eta)\n",
    "\n",
    "## squirmer\n",
    "S0, D0  = -3/50*2.0, 2.0      # beta = 1 (positive beta is a puller (negative V2s))\n",
    "forces  = pystokes.forceFields.Forces(particles=Np)"
   ]
  },
  {
   "cell_type": "code",
   "execution_count": 22,
   "id": "938c5ed5-f615-4593-80a8-a26775af54d5",
   "metadata": {},
   "outputs": [
    {
     "name": "stdout",
     "output_type": "stream",
     "text": [
      "finish\n",
      "CPU times: user 1h 9min 52s, sys: 9.6 s, total: 1h 10min 2s\n",
      "Wall time: 9min 2s\n"
     ]
    }
   ],
   "source": [
    "%%time\n",
    "## Two active particles with orientations in positive z-direction, \n",
    "## falling next to each other under gravity: direct solver\n",
    "\n",
    "#initial position\n",
    "r = np.array([-2.5,2.5, 0,0 , 2.5, 2.5])\n",
    "\n",
    "#initial orientation: 50 deg towards each other (Ishikawa's paper)\n",
    "#p0=np.array([0., 1., 0.])\n",
    "#p01 = rotation(p0, 0., 0., -25*2*np.pi/360)\n",
    "#p02 = rotation(p0, 0., 0., 25*2*np.pi/360)\n",
    "#p = np.zeros(3*Np)\n",
    "#p[::Np]  = p01\n",
    "#p[1::Np] = p02\n",
    "p = np.array([0,0, 0,0, -1.0,-1.0])\n",
    "\n",
    "# external force and torque\n",
    "F = np.zeros(3*Np)\n",
    "T = np.array([0.,0., 0.,0.,  0., 0.]) \n",
    "\n",
    "#vs = 0.4\n",
    "#F0 = 6*np.pi*eta*b*vs*(1+9*b/(8*r[4])); #active stall force -- what is this??\n",
    "\n",
    "# integration parameters\n",
    "Nt=2**16; \n",
    "r1=np.zeros([3,Nt]); r2=np.zeros([3,Nt])\n",
    "p1=np.zeros([3,Nt]); p2=np.zeros([3,Nt])\n",
    "\n",
    "r1[:,0] = r[::Np]; r2[:,0] = r[1::Np]\n",
    "p1[:,0] = p[::Np]; p2[:,0] = p[1::Np]\n",
    "\n",
    "dt=0.01;\n",
    "\n",
    "v = np.zeros(3*Np);\n",
    "o = np.zeros(3*Np)\n",
    "\n",
    "theta1=np.zeros([3,Nt]); theta2=np.zeros([3,Nt])\n",
    "\n",
    "v1 = np.zeros([3,Nt-1]); v2 = np.zeros([3,Nt-1])\n",
    "o1 = np.zeros([3,Nt-1]); o2 = np.zeros([3,Nt-1])\n",
    "\n",
    "# initial slip modes\n",
    "S = np.zeros(5*Np)\n",
    "D = np.zeros(3*Np)\n",
    "for i in range(Np):\n",
    "    ## S in order: xx, xy, xz, yy, yz\n",
    "    S[i]       = S0*(3*p[i]*p[i] -1)\n",
    "    S[i + Np]  = S0*(3*p[i]*p[i+Np])\n",
    "    S[i + 2*Np]= S0*(3*p[i]*p[i+2*Np])\n",
    "    S[i + 3*Np]= S0*(3*p[i+Np]*p[i+Np]-1)\n",
    "    S[i + 4*Np]= S0*(3*p[i+Np]*p[i+2*Np])\n",
    "    \n",
    "    D[i]       = D0*p[i]\n",
    "    D[i+Np]    = D0*p[i+Np]\n",
    "    D[i+2*Np]  = D0*p[i+2*Np]\n",
    "\n",
    "for i in range(Nt-1):\n",
    "    forces.lennardJones(F,r,lje=.6,ljr=2.1); #F[4],F[5]= F0, F0, do not actually need this with full solver?\n",
    "    ds.directSolve(v, o, r, F, T, S, D)\n",
    "    \n",
    "    #position\n",
    "    r1[:,i+1] = r1[:,i] + dt*v[::Np]\n",
    "    r2[:,i+1] = r2[:,i] + dt*v[1::Np]\n",
    "    \n",
    "    #angle (needed?)\n",
    "    theta1[:,i+1] = theta1[:,i] + dt*o[::Np]\n",
    "    theta2[:,i+1] = theta2[:,i] + dt*o[1::Np]\n",
    "    \n",
    "    #orientation\n",
    "    p1[:,i+1] = rotation(p1[:,i], theta1[0,i+1], theta1[1,i+1], theta1[2,i+1])\n",
    "    p2[:,i+1] = rotation(p2[:,i], theta2[0,i+1], theta2[1,i+1], theta2[2,i+1])\n",
    "    \n",
    "    #get velocity (constant for this case)\n",
    "    v1[:,i] = v[::Np]\n",
    "    v2[:,i] = v[1::Np]\n",
    "    \n",
    "    #get angular velocity (constant for this case)\n",
    "    o1[:,i] = o[::Np]\n",
    "    o2[:,i] = o[1::Np]\n",
    "    \n",
    "    # reset variables for next time step\n",
    "    r[::Np] = r1[:,i+1]\n",
    "    r[1::Np] = r2[:,i+1]\n",
    "    v = v*0\n",
    "    o = o*0\n",
    "    F = F*0 \n",
    "    \n",
    "    # update slip for new orientation of particles\n",
    "    S[0]       = S0*(3*p1[0,i+1]*p1[0,i+1] -1)\n",
    "    S[0 + Np]  = S0*(3*p1[0,i+1]*p1[1,i+1])\n",
    "    S[0 + 2*Np]= S0*(3*p1[0,i+1]*p1[2,i+1])\n",
    "    S[0 + 3*Np]= S0*(3*p1[1,i+1]*p1[1,i+1]-1)\n",
    "    S[0 + 4*Np]= S0*(3*p1[1,i+1]*p1[2,i+1])\n",
    "    \n",
    "    S[1]       = S0*(3*p2[0,i+1]*p2[0,i+1] -1)\n",
    "    S[1 + Np]  = S0*(3*p2[0,i+1]*p2[1,i+1])\n",
    "    S[1 + 2*Np]= S0*(3*p2[0,i+1]*p2[2,i+1])\n",
    "    S[1 + 3*Np]= S0*(3*p2[1,i+1]*p2[1,i+1]-1)\n",
    "    S[1 + 4*Np]= S0*(3*p2[1,i+1]*p2[2,i+1])\n",
    "    \n",
    "    D[0]       = D0*p1[0,i+1]\n",
    "    D[0+Np]    = D0*p1[1,i+1]\n",
    "    D[0+2*Np]  = D0*p1[2,i+1]\n",
    "    \n",
    "    D[1]       = D0*p2[0,i+1]\n",
    "    D[1+Np]    = D0*p2[1,i+1]\n",
    "    D[1+2*Np]  = D0*p2[2,i+1]\n",
    "\n",
    "print('finish')"
   ]
  },
  {
   "cell_type": "code",
   "execution_count": 23,
   "id": "f7463685-857c-475f-a4fc-8c556cd3ca4f",
   "metadata": {},
   "outputs": [
    {
     "data": {
      "text/plain": [
       "[<matplotlib.lines.Line2D at 0x7fae525187c0>,\n",
       " <matplotlib.lines.Line2D at 0x7fae52518790>]"
      ]
     },
     "execution_count": 23,
     "metadata": {},
     "output_type": "execute_result"
    },
    {
     "data": {
      "image/png": "[encoded data removed]",
      "text/plain": [
       "<Figure size 432x288 with 1 Axes>"
      ]
     },
     "metadata": {
      "needs_background": "light"
     },
     "output_type": "display_data"
    }
   ],
   "source": [
    "times = np.arange(0,Nt)\n",
    "plt.plot(times, r1[0,:], times, r2[0,:])"
   ]
  },
  {
   "cell_type": "code",
   "execution_count": 24,
   "id": "c6810968-6fd4-4317-8606-a4c5647de56b",
   "metadata": {},
   "outputs": [
    {
     "data": {
      "text/plain": [
       "5.0"
      ]
     },
     "execution_count": 24,
     "metadata": {},
     "output_type": "execute_result"
    }
   ],
   "source": [
    "np.amin(np.abs(r1[0,:]-r2[0,:]))"
   ]
  },
  {
   "cell_type": "code",
   "execution_count": 25,
   "id": "5204ef6d-6197-46b8-b84c-1636c21abb50",
   "metadata": {},
   "outputs": [
    {
     "data": {
      "text/plain": [
       "[<matplotlib.lines.Line2D at 0x7fae5238ab00>,\n",
       " <matplotlib.lines.Line2D at 0x7fae5238ab60>]"
      ]
     },
     "execution_count": 25,
     "metadata": {},
     "output_type": "execute_result"
    },
    {
     "data": {
      "image/png": "[encoded data removed]",
      "text/plain": [
       "<Figure size 432x288 with 1 Axes>"
      ]
     },
     "metadata": {
      "needs_background": "light"
     },
     "output_type": "display_data"
    }
   ],
   "source": [
    "plt.plot(times, r1[2,:], times, r2[2,:])"
   ]
  },
  {
   "cell_type": "markdown",
   "id": "0adc4ca2-dba8-4c0c-ab50-505ce85265c3",
   "metadata": {},
   "source": [
    "V2s does some weird stuff\n",
    "\n",
    "\n",
    "- small step size: does not solve the instabilities\n",
    "- different integrator?\n",
    "- pseudo-inverse numerical problems/incorrect?\n",
    "- directSolve wrong? (ie solved linear system incorrectly?)\n",
    "- simulation above wrong?\n",
    "- matrix elements wrong - signs etc)"
   ]
  },
  {
   "cell_type": "code",
   "execution_count": null,
   "id": "3b4e45fb-d074-4b82-bdf8-7f59341ff7fa",
   "metadata": {},
   "outputs": [],
   "source": []
  },
  {
   "cell_type": "code",
   "execution_count": null,
   "id": "624df089-0f2e-45cf-b9f1-f50576a8811e",
   "metadata": {},
   "outputs": [],
   "source": []
  },
  {
   "cell_type": "code",
   "execution_count": null,
   "id": "5e13ce02-8184-4708-b9db-b1c00b1eb661",
   "metadata": {},
   "outputs": [],
   "source": []
  },
  {
   "cell_type": "code",
   "execution_count": null,
   "id": "61860380-f2c6-42e9-9abf-0922d0677ac6",
   "metadata": {},
   "outputs": [],
   "source": [
    "# x vs y as in Ishikawa's paper\n",
    "plt.plot(r1[0,:], r1[1,:], label='one')\n",
    "plt.plot(r2[0,:], r2[1,:], label='two')\n",
    "plt.legend()"
   ]
  },
  {
   "cell_type": "code",
   "execution_count": null,
   "id": "45729fd9-b654-4a9d-8889-f9892b217b75",
   "metadata": {},
   "outputs": [],
   "source": []
  }
 ],
 "metadata": {
  "kernelspec": {
   "display_name": "Python 3 (ipykernel)",
   "language": "python",
   "name": "python3"
  },
  "language_info": {
   "codemirror_mode": {
    "name": "ipython",
    "version": 3
   },
   "file_extension": ".py",
   "mimetype": "text/x-python",
   "name": "python",
   "nbconvert_exporter": "python",
   "pygments_lexer": "ipython3",
   "version": "3.10.2"
  }
 },
 "nbformat": 4,
 "nbformat_minor": 5
}
