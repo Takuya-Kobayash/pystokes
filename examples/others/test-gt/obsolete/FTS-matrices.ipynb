{
 "cells": [
  {
   "cell_type": "markdown",
   "id": "7a20d3c9-3ee2-44e1-8b44-4b296861b7f3",
   "metadata": {},
   "source": [
    "This version might not be up to date and there might be typos. See ftssdhc.py for the updated code and FTShc-vs-FTS-vs-PyStokes.ipynb for an example notebook...\n",
    "\n",
    "_________\n",
    "\n",
    "<img src=\"./images/matrix.png\" style=\"width: 600px;\"/>"
   ]
  },
  {
   "cell_type": "code",
   "execution_count": 8,
   "id": "1148af08-4202-409a-902b-ed4230f64a56",
   "metadata": {},
   "outputs": [],
   "source": [
    "%matplotlib inline\n",
    "import pystokes, numpy as np, matplotlib.pyplot as plt"
   ]
  },
  {
   "cell_type": "code",
   "execution_count": 29,
   "id": "6701943c-35ee-4660-ad84-b05be97eddb4",
   "metadata": {},
   "outputs": [],
   "source": [
    "# particle radius, self-propulsion speed, number and fluid viscosity\n",
    "b, Np, eta = 0.5, 2, 0.1\n",
    "Pi = 3.14159265359"
   ]
  },
  {
   "cell_type": "code",
   "execution_count": 30,
   "id": "5b35f909-9d39-4a50-baed-5a4b459cd3d6",
   "metadata": {},
   "outputs": [],
   "source": [
    "## matrix elements for i=j\n",
    "G01s = 1./(6*Pi*eta*b)\n",
    "G02a = 1./(4*Pi*eta*b)\n",
    "G02s = 3./(20*Pi*eta*b)"
   ]
  },
  {
   "cell_type": "code",
   "execution_count": 31,
   "id": "1b5afa8d-2281-445e-bdae-988372ae807d",
   "metadata": {},
   "outputs": [],
   "source": [
    "##hard-coded matrix elements \n",
    "\n",
    "def G1s1s(xij,yij,zij):\n",
    "    return np.array([[(6*xij**4 + 9*xij**2*(yij**2 + zij**2) + 3*(yij**2 + zij**2)**2 + 2*b**2*(-2*xij**2 + yij**2 + zij**2))/(24.*eta*Pi*(xij**2 + yij**2 + zij**2)**2.5),\n",
    "     (xij*yij*(-2*b**2 + xij**2 + yij**2 + zij**2))/(8.*eta*Pi*(xij**2 + yij**2 + zij**2)**2.5),(xij*zij*(-2*b**2 + xij**2 + yij**2 + zij**2))/(8.*eta*Pi*(xij**2 + yij**2 + zij**2)**2.5)],\n",
    "     [(xij*yij*(-2*b**2 + xij**2 + yij**2 + zij**2))/(8.*eta*Pi*(xij**2 + yij**2 + zij**2)**2.5),\n",
    "     (2*b**2*(xij**2 - 2*yij**2 + zij**2) + 3*(xij**4 + 2*yij**4 + 3*yij**2*zij**2 + zij**4 + xij**2*(3*yij**2 + 2*zij**2)))/(24.*eta*Pi*(xij**2 + yij**2 + zij**2)**2.5),\n",
    "     (yij*zij*(-2*b**2 + xij**2 + yij**2 + zij**2))/(8.*eta*Pi*(xij**2 + yij**2 + zij**2)**2.5)],\n",
    "     [(xij*zij*(-2*b**2 + xij**2 + yij**2 + zij**2))/(8.*eta*Pi*(xij**2 + yij**2 + zij**2)**2.5),(yij*zij*(-2*b**2 + xij**2 + yij**2 + zij**2))/(8.*eta*Pi*(xij**2 + yij**2 + zij**2)**2.5),\n",
    "     (2*b**2*(xij**2 + yij**2 - 2*zij**2) + 3*(xij**4 + yij**4 + 3*yij**2*zij**2 + 2*zij**4 + xij**2*(2*yij**2 + 3*zij**2)))/(24.*eta*Pi*(xij**2 + yij**2 + zij**2)**2.5)]])\n",
    "\n",
    "\n",
    "def G2a1s(xij,yij,zij):\n",
    "    return  np.array([[0.,(0.039788735772973836*zij)/(eta*(xij**2 + yij**2 + zij**2)**1.5),(-0.039788735772973836*yij)/(eta*(xij**2 + yij**2 + zij**2)**1.5)],\n",
    "     [(-0.039788735772973836*zij)/(eta*(xij**2 + yij**2 + zij**2)**1.5),0.,(0.039788735772973836*xij)/(eta*(xij**2 + yij**2 + zij**2)**1.5)],\n",
    "     [(0.039788735772973836*yij)/(eta*(xij**2 + yij**2 + zij**2)**1.5),(-0.039788735772973836*xij)/(eta*(xij**2 + yij**2 + zij**2)**1.5),0.]])\n",
    "\n",
    "def G1s2a(xij,yij,zij):\n",
    "    return  np.array([[0.,(0.039788735772973836*b*zij)/(eta*(xij**2 + yij**2 + zij**2)**1.5),(-0.039788735772973836*b*yij)/(eta*(xij**2 + yij**2 + zij**2)**1.5)],\n",
    "     [(-0.039788735772973836*b*zij)/(eta*(xij**2 + yij**2 + zij**2)**1.5),0.,(0.039788735772973836*b*xij)/(eta*(xij**2 + yij**2 + zij**2)**1.5)],\n",
    "     [(0.039788735772973836*b*yij)/(eta*(xij**2 + yij**2 + zij**2)**1.5),(-0.039788735772973836*b*xij)/(eta*(xij**2 + yij**2 + zij**2)**1.5),0.]])\n",
    "\n",
    "def G2a2a(xij,yij,zij):\n",
    "    return np.array([[(b*(0.039788735772973836*xij**2 - 0.019894367886486918*yij**2 - 0.019894367886486918*zij**2))/(eta*(xij**2 + yij**2 + zij**2)**2.5),(0.05968310365946075*b*xij*yij)/(eta*(xij**2 + yij**2 + zij**2)**2.5),\n",
    "     (0.05968310365946075*b*xij*zij)/(eta*(xij**2 + yij**2 + zij**2)**2.5)],[(0.05968310365946075*b*xij*yij)/(eta*(xij**2 + yij**2 + zij**2)**2.5),\n",
    "     (b*(-0.019894367886486918*xij**2 + 0.039788735772973836*yij**2 - 0.019894367886486918*zij**2))/(eta*(xij**2 + yij**2 + zij**2)**2.5),(0.05968310365946075*b*yij*zij)/(eta*(xij**2 + yij**2 + zij**2)**2.5)],\n",
    "     [(0.05968310365946075*b*xij*zij)/(eta*(xij**2 + yij**2 + zij**2)**2.5),(0.05968310365946075*b*yij*zij)/(eta*(xij**2 + yij**2 + zij**2)**2.5),\n",
    "     (b*(-0.019894367886486918*xij**2 - 0.019894367886486918*yij**2 + 0.039788735772973836*zij**2))/(eta*(xij**2 + yij**2 + zij**2)**2.5)]])\n",
    "\n",
    "def G1s2s(xij,yij,zij):\n",
    "    return np.array([[(-0.12732395447351627*b*xij*(-0.625*xij**4 + 0.3125*yij**4 + 0.625*yij**2*zij**2 + 0.3125*zij**4 + b**2*(1.*xij**2 - 1.4999999999999998*yij**2 - 1.4999999999999998*zij**2) + \n",
    "     xij**2*(-0.3125*yij**2 - 0.3125*zij**2)))/(eta*(xij**2 + yij**2 + zij**2)**3.5),\n",
    "     (0.06366197723675814*b*yij*(b**2*(-4.*xij**2 + 1.*yij**2 + 1.*zij**2) + xij**2*(1.875*xij**2 + 1.875*yij**2 + 1.875*zij**2)))/(eta*(xij**2 + yij**2 + zij**2)**3.5),\n",
    "     (0.06366197723675814*b*zij*(b**2*(-4.*xij**2 + 1.*yij**2 + 1.*zij**2) + xij**2*(1.875*xij**2 + 1.875*yij**2 + 1.875*zij**2)))/(eta*(xij**2 + yij**2 + zij**2)**3.5),\n",
    "     (0.06366197723675814*b*xij*(-0.625*xij**4 + 1.25*yij**4 + 0.625*yij**2*zij**2 - 0.625*zij**4 + xij**2*(0.625*yij**2 - 1.25*zij**2) + b**2*(1.*xij**2 - 4.*yij**2 + 1.*zij**2)))/(eta*(xij**2 + yij**2 + zij**2)**3.5),\n",
    "     (0.1193662073189215*b*xij*yij*zij*(-2.6666666666666665*b**2 + 1.*xij**2 + 1.*yij**2 + 1.*zij**2))/(eta*(xij**2 + yij**2 + zij**2)**3.5)],\n",
    "     [(0.06366197723675814*b*yij*(1.25*xij**4 - 0.625*yij**4 - 1.25*yij**2*zij**2 - 0.625*zij**4 + xij**2*(0.625*yij**2 + 0.625*zij**2) + b**2*(-4.*xij**2 + 1.*yij**2 + 1.*zij**2)))/\n",
    "     (eta*(xij**2 + yij**2 + zij**2)**3.5),(0.06366197723675814*b*xij*(b**2*(1.*xij**2 - 4.*yij**2 + 1.*zij**2) + yij**2*(1.875*xij**2 + 1.875*yij**2 + 1.875*zij**2)))/(eta*(xij**2 + yij**2 + zij**2)**3.5),\n",
    "     (0.1193662073189215*b*xij*yij*zij*(-2.6666666666666665*b**2 + 1.*xij**2 + 1.*yij**2 + 1.*zij**2))/(eta*(xij**2 + yij**2 + zij**2)**3.5),\n",
    "     (0.19098593171027442*b*yij*(-0.20833333333333334*xij**4 + 0.4166666666666667*yij**4 + 0.20833333333333334*yij**2*zij**2 - 0.20833333333333334*zij**4 + \n",
    "     xij**2*(0.20833333333333334*yij**2 - 0.4166666666666667*zij**2) + b**2*(1.*xij**2 - 0.6666666666666667*yij**2 + 1.*zij**2)))/(eta*(xij**2 + yij**2 + zij**2)**3.5),\n",
    "     (0.06366197723675814*b*zij*(b**2*(1.*xij**2 - 4.*yij**2 + 1.*zij**2) + yij**2*(1.875*xij**2 + 1.875*yij**2 + 1.875*zij**2)))/(eta*(xij**2 + yij**2 + zij**2)**3.5)],\n",
    "     [(0.06366197723675814*b*zij*(1.25*xij**4 - 0.625*yij**4 - 1.25*yij**2*zij**2 - 0.625*zij**4 + xij**2*(0.625*yij**2 + 0.625*zij**2) + b**2*(-4.*xij**2 + 1.*yij**2 + 1.*zij**2)))/\n",
    "     (eta*(xij**2 + yij**2 + zij**2)**3.5),(0.1193662073189215*b*xij*yij*zij*(-2.6666666666666665*b**2 + 1.*xij**2 + 1.*yij**2 + 1.*zij**2))/(eta*(xij**2 + yij**2 + zij**2)**3.5),\n",
    "     (0.06366197723675814*b*xij*(b**2*(1.*xij**2 + 1.*yij**2 - 4.*zij**2) + zij**2*(1.875*xij**2 + 1.875*yij**2 + 1.875*zij**2)))/(eta*(xij**2 + yij**2 + zij**2)**3.5),\n",
    "     (0.06366197723675814*b*zij*(-0.625*xij**4 + 1.25*yij**4 + 0.625*yij**2*zij**2 - 0.625*zij**4 + xij**2*(0.625*yij**2 - 1.25*zij**2) + b**2*(1.*xij**2 - 4.*yij**2 + 1.*zij**2)))/(eta*(xij**2 + yij**2 + zij**2)**3.5),\n",
    "     (0.06366197723675814*b*yij*(b**2*(1.*xij**2 + 1.*yij**2 - 4.*zij**2) + zij**2*(1.875*xij**2 + 1.875*yij**2 + 1.875*zij**2)))/(eta*(xij**2 + yij**2 + zij**2)**3.5)]])\n",
    "\n",
    "\n",
    "def G2a2s(xij,yij,zij):\n",
    "    return np.array([[0.,(0.05968310365946075*b*xij*zij)/(eta*(xij**2 + yij**2 + zij**2)**2.5),(-0.05968310365946075*b*xij*yij)/(eta*(xij**2 + yij**2 + zij**2)**2.5),\n",
    "     (0.1193662073189215*b*yij*zij)/(eta*(xij**2 + yij**2 + zij**2)**2.5),(-0.05968310365946075*b*(yij**2 - 1.*zij**2))/(eta*(xij**2 + yij**2 + zij**2)**2.5)],\n",
    "     [(-0.1193662073189215*b*xij*zij)/(eta*(xij**2 + yij**2 + zij**2)**2.5),(-0.05968310365946075*b*yij*zij)/(eta*(xij**2 + yij**2 + zij**2)**2.5),\n",
    "     (0.05968310365946075*b*(xij**2 - 1.*zij**2))/(eta*(xij**2 + yij**2 + zij**2)**2.5),0.,(0.05968310365946075*b*xij*yij)/(eta*(xij**2 + yij**2 + zij**2)**2.5)],\n",
    "     [(0.1193662073189215*b*xij*yij)/(eta*(xij**2 + yij**2 + zij**2)**2.5),(-0.05968310365946075*b*(xij**2 - 1.*yij**2))/(eta*(xij**2 + yij**2 + zij**2)**2.5),\n",
    "     (0.05968310365946075*b*yij*zij)/(eta*(xij**2 + yij**2 + zij**2)**2.5),(-0.1193662073189215*b*xij*yij)/(eta*(xij**2 + yij**2 + zij**2)**2.5),(-0.05968310365946075*b*xij*zij)/(eta*(xij**2 + yij**2 + zij**2)**2.5)]])\n",
    "\n",
    "\n",
    "def G2s1s(xij,yij,zij):\n",
    "    return np.array([[(0.12732395447351627*b*xij*(-0.625*xij**4 + 0.3125*yij**4 + 0.625*yij**2*zij**2 + 0.3125*zij**4 + b**2*(1.*xij**2 - 1.4999999999999998*yij**2 - 1.4999999999999998*zij**2) + \n",
    "     xij**2*(-0.3125*yij**2 - 0.3125*zij**2)))/(eta*(xij**2 + yij**2 + zij**2)**3.5),\n",
    "     (-0.06366197723675814*b*yij*(1.25*xij**4 - 0.625*yij**4 - 1.25*yij**2*zij**2 - 0.625*zij**4 + xij**2*(0.625*yij**2 + 0.625*zij**2) + b**2*(-4.*xij**2 + 1.*yij**2 + 1.*zij**2)))/\n",
    "     (eta*(xij**2 + yij**2 + zij**2)**3.5),(-0.06366197723675814*b*zij*(1.25*xij**4 - 0.625*yij**4 - 1.25*yij**2*zij**2 - 0.625*zij**4 + xij**2*(0.625*yij**2 + 0.625*zij**2) + \n",
    "     b**2*(-4.*xij**2 + 1.*yij**2 + 1.*zij**2)))/(eta*(xij**2 + yij**2 + zij**2)**3.5)],\n",
    "     [(-0.06366197723675814*b*yij*(b**2*(-4.*xij**2 + 1.*yij**2 + 1.*zij**2) + xij**2*(1.875*xij**2 + 1.875*yij**2 + 1.875*zij**2)))/(eta*(xij**2 + yij**2 + zij**2)**3.5),\n",
    "     (-0.06366197723675814*b*xij*(b**2*(1.*xij**2 - 4.*yij**2 + 1.*zij**2) + yij**2*(1.875*xij**2 + 1.875*yij**2 + 1.875*zij**2)))/(eta*(xij**2 + yij**2 + zij**2)**3.5),\n",
    "     (-0.1193662073189215*b*xij*yij*zij*(-2.6666666666666665*b**2 + 1.*xij**2 + 1.*yij**2 + 1.*zij**2))/(eta*(xij**2 + yij**2 + zij**2)**3.5)],\n",
    "     [(-0.06366197723675814*b*zij*(b**2*(-4.*xij**2 + 1.*yij**2 + 1.*zij**2) + xij**2*(1.875*xij**2 + 1.875*yij**2 + 1.875*zij**2)))/(eta*(xij**2 + yij**2 + zij**2)**3.5),\n",
    "     (-0.1193662073189215*b*xij*yij*zij*(-2.6666666666666665*b**2 + 1.*xij**2 + 1.*yij**2 + 1.*zij**2))/(eta*(xij**2 + yij**2 + zij**2)**3.5),\n",
    "     (-0.06366197723675814*b*xij*(b**2*(1.*xij**2 + 1.*yij**2 - 4.*zij**2) + zij**2*(1.875*xij**2 + 1.875*yij**2 + 1.875*zij**2)))/(eta*(xij**2 + yij**2 + zij**2)**3.5)],\n",
    "     [(-0.06366197723675814*b*xij*(-0.625*xij**4 + 1.25*yij**4 + 0.625*yij**2*zij**2 - 0.625*zij**4 + xij**2*(0.625*yij**2 - 1.25*zij**2) + b**2*(1.*xij**2 - 4.*yij**2 + 1.*zij**2)))/\n",
    "     (eta*(xij**2 + yij**2 + zij**2)**3.5),(-0.19098593171027442*b*yij*(-0.20833333333333334*xij**4 + 0.4166666666666667*yij**4 + 0.20833333333333334*yij**2*zij**2 - 0.20833333333333334*zij**4 + \n",
    "     xij**2*(0.20833333333333334*yij**2 - 0.4166666666666667*zij**2) + b**2*(1.*xij**2 - 0.6666666666666667*yij**2 + 1.*zij**2)))/(eta*(xij**2 + yij**2 + zij**2)**3.5),\n",
    "     (-0.06366197723675814*b*zij*(-0.625*xij**4 + 1.25*yij**4 + 0.625*yij**2*zij**2 - 0.625*zij**4 + xij**2*(0.625*yij**2 - 1.25*zij**2) + b**2*(1.*xij**2 - 4.*yij**2 + 1.*zij**2)))/\n",
    "     (eta*(xij**2 + yij**2 + zij**2)**3.5)],[(-0.1193662073189215*b*xij*yij*zij*(-2.6666666666666665*b**2 + 1.*xij**2 + 1.*yij**2 + 1.*zij**2))/(eta*(xij**2 + yij**2 + zij**2)**3.5),\n",
    "     (-0.06366197723675814*b*zij*(b**2*(1.*xij**2 - 4.*yij**2 + 1.*zij**2) + yij**2*(1.875*xij**2 + 1.875*yij**2 + 1.875*zij**2)))/(eta*(xij**2 + yij**2 + zij**2)**3.5),\n",
    "     (-0.06366197723675814*b*yij*(b**2*(1.*xij**2 + 1.*yij**2 - 4.*zij**2) + zij**2*(1.875*xij**2 + 1.875*yij**2 + 1.875*zij**2)))/(eta*(xij**2 + yij**2 + zij**2)**3.5)]])\n",
    "\n",
    "\n",
    "def G2s2a(xij,yij,zij):\n",
    "    return np.array([[0.,(-0.1193662073189215*b**2*xij*zij)/(eta*(xij**2 + yij**2 + zij**2)**2.5),(0.1193662073189215*b**2*xij*yij)/(eta*(xij**2 + yij**2 + zij**2)**2.5)],\n",
    "     [(0.05968310365946075*b**2*xij*zij)/(eta*(xij**2 + yij**2 + zij**2)**2.5),(-0.05968310365946075*b**2*yij*zij)/(eta*(xij**2 + yij**2 + zij**2)**2.5),\n",
    "     (-0.05968310365946075*b**2*(xij**2 - 1.*yij**2))/(eta*(xij**2 + yij**2 + zij**2)**2.5)],\n",
    "     [(-0.05968310365946075*b**2*xij*yij)/(eta*(xij**2 + yij**2 + zij**2)**2.5),(0.05968310365946075*b**2*(xij**2 - 1.*zij**2))/(eta*(xij**2 + yij**2 + zij**2)**2.5),\n",
    "     (0.05968310365946075*b**2*yij*zij)/(eta*(xij**2 + yij**2 + zij**2)**2.5)],[(0.1193662073189215*b**2*yij*zij)/(eta*(xij**2 + yij**2 + zij**2)**2.5),0.,\n",
    "     (-0.1193662073189215*b**2*xij*yij)/(eta*(xij**2 + yij**2 + zij**2)**2.5)],[(-0.05968310365946075*b**2*(yij**2 - 1.*zij**2))/(eta*(xij**2 + yij**2 + zij**2)**2.5),\n",
    "     (0.05968310365946075*b**2*xij*yij)/(eta*(xij**2 + yij**2 + zij**2)**2.5),(-0.05968310365946075*b**2*xij*zij)/(eta*(xij**2 + yij**2 + zij**2)**2.5)]])\n",
    "\n",
    "def G2s2s(xij,yij,zij):\n",
    "    return np.array([[(0.3819718634205488*b**2*(-0.4166666666666667*xij**6 - 0.10416666666666667*yij**6 - 0.3125*yij**4*zij**2 - 0.3125*yij**2*zij**4 - 0.10416666666666667*zij**6 + xij**4*(0.625*yij**2 + 0.625*zij**2) + \n",
    "     xij**2*(0.9375*yij**4 + 1.875*yij**2*zij**2 + 0.9375*zij**4) + b**2*(1.*xij**4 + 0.375*yij**4 + 0.75*yij**2*zij**2 + 0.375*zij**4 + xij**2*(-3.*yij**2 - 3.*zij**2))))/(eta*(xij**2 + yij**2 + zij**2)**4.5),\n",
    "     (-0.716197243913529*b**2*xij*yij*(0.5*xij**4 - 0.3333333333333333*yij**4 - 0.6666666666666666*yij**2*zij**2 - 0.3333333333333333*zij**4 + xij**2*(0.16666666666666666*yij**2 + 0.16666666666666666*zij**2) + \n",
    "     b**2*(-1.3333333333333333*xij**2 + 1.*yij**2 + 1.*zij**2)))/(eta*(xij**2 + yij**2 + zij**2)**4.5),\n",
    "     (-0.716197243913529*b**2*xij*zij*(0.5*xij**4 - 0.3333333333333333*yij**4 - 0.6666666666666666*yij**2*zij**2 - 0.3333333333333333*zij**4 + xij**2*(0.16666666666666666*yij**2 + 0.16666666666666666*zij**2) + \n",
    "     b**2*(-1.3333333333333333*xij**2 + 1.*yij**2 + 1.*zij**2)))/(eta*(xij**2 + yij**2 + zij**2)**4.5),\n",
    "     (-0.19098593171027442*b**2*(-0.4166666666666667*xij**6 - 0.4166666666666667*yij**6 - 0.625*yij**4*zij**2 + 0.20833333333333334*zij**6 + xij**4*(1.875*yij**2 - 0.625*zij**2) + \n",
    "     xij**2*(1.875*yij**4 + 1.875*yij**2*zij**2) + b**2*(1.*xij**4 + 1.*yij**4 + 0.75*yij**2*zij**2 - 0.25*zij**4 + xij**2*(-6.75*yij**2 + 0.75*zij**2))))/(eta*(xij**2 + yij**2 + zij**2)**4.5),\n",
    "     (0.1193662073189215*b**2*yij*zij*(-4.*xij**4 + yij**4 + 2.*yij**2*zij**2 + zij**4 + xij**2*(-3.*yij**2 - 3.*zij**2) + b**2*(12.*xij**2 - 2.*yij**2 - 2.*zij**2)))/(eta*(xij**2 + yij**2 + zij**2)**4.5)],\n",
    "     [(-0.716197243913529*b**2*xij*yij*(0.5*xij**4 - 0.3333333333333333*yij**4 - 0.6666666666666666*yij**2*zij**2 - 0.3333333333333333*zij**4 + xij**2*(0.16666666666666666*yij**2 + 0.16666666666666666*zij**2) + \n",
    "     b**2*(-1.3333333333333333*xij**2 + 1.*yij**2 + 1.*zij**2)))/(eta*(xij**2 + yij**2 + zij**2)**4.5),\n",
    "     (-0.19098593171027445*b**2*(-0.3125*xij**6 - 0.3125*yij**6 - 0.625*yij**4*zij**2 - 0.3125*yij**2*zij**4 + xij**4*(2.1875*yij**2 - 0.625*zij**2) + xij**2*(2.1875*yij**4 + 1.875*yij**2*zij**2 - 0.3125*zij**4) + \n",
    "     b**2*(1.*xij**4 + 1.*yij**4 + 0.7499999999999999*yij**2*zij**2 - 0.25*zij**4 + xij**2*(-6.75*yij**2 + 0.7499999999999999*zij**2))))/(eta*(xij**2 + yij**2 + zij**2)**4.5),\n",
    "     (0.05968310365946075*b**2*yij*zij*(-9.*xij**4 + yij**4 + 2.*yij**2*zij**2 + zij**4 + xij**2*(-8.*yij**2 - 8.*zij**2) + b**2*(24.*xij**2 - 4.*yij**2 - 4.*zij**2)))/(eta*(xij**2 + yij**2 + zij**2)**4.5),\n",
    "     (-0.716197243913529*b**2*xij*yij*(-0.3333333333333333*xij**4 + 0.5*yij**4 + 0.16666666666666666*yij**2*zij**2 - 0.3333333333333333*zij**4 + xij**2*(0.16666666666666666*yij**2 - 0.6666666666666666*zij**2) + \n",
    "     b**2*(1.*xij**2 - 1.3333333333333333*yij**2 + 1.*zij**2)))/(eta*(xij**2 + yij**2 + zij**2)**4.5),\n",
    "     (-0.238732414637843*b**2*xij*zij*(-0.25*xij**4 + 2.25*yij**4 + 2.*yij**2*zij**2 - 0.25*zij**4 + xij**2*(2.*yij**2 - 0.5*zij**2) + b**2*(1.*xij**2 - 6.*yij**2 + 1.*zij**2)))/(eta*(xij**2 + yij**2 + zij**2)**4.5)],\n",
    "     [(-0.716197243913529*b**2*xij*zij*(0.5*xij**4 - 0.3333333333333333*yij**4 - 0.6666666666666666*yij**2*zij**2 - 0.3333333333333333*zij**4 + xij**2*(0.16666666666666666*yij**2 + 0.16666666666666666*zij**2) + \n",
    "     b**2*(-1.3333333333333333*xij**2 + 1.*yij**2 + 1.*zij**2)))/(eta*(xij**2 + yij**2 + zij**2)**4.5),\n",
    "     (0.05968310365946075*b**2*yij*zij*(-9.*xij**4 + yij**4 + 2.*yij**2*zij**2 + zij**4 + xij**2*(-8.*yij**2 - 8.*zij**2) + b**2*(24.*xij**2 - 4.*yij**2 - 4.*zij**2)))/(eta*(xij**2 + yij**2 + zij**2)**4.5),\n",
    "     (-0.19098593171027445*b**2*(-0.3125*xij**6 - 0.3125*yij**4*zij**2 - 0.625*yij**2*zij**4 - 0.3125*zij**6 + xij**4*(-0.625*yij**2 + 2.1875*zij**2) + xij**2*(-0.3125*yij**4 + 1.875*yij**2*zij**2 + 2.1875*zij**4) + \n",
    "     b**2*(1.*xij**4 - 0.25*yij**4 + 0.7499999999999999*yij**2*zij**2 + 1.*zij**4 + xij**2*(0.7499999999999999*yij**2 - 6.75*zij**2))))/(eta*(xij**2 + yij**2 + zij**2)**4.5),\n",
    "     (-0.238732414637843*b**2*xij*zij*(-0.5*xij**4 + 2.*yij**4 + 1.5*yij**2*zij**2 - 0.5*zij**4 + xij**2*(1.5*yij**2 - 1.*zij**2) + b**2*(1.*xij**2 - 6.*yij**2 + 1.*zij**2)))/(eta*(xij**2 + yij**2 + zij**2)**4.5),\n",
    "     (-0.238732414637843*b**2*xij*yij*(-0.25*xij**4 - 0.25*yij**4 + 2.*yij**2*zij**2 + 2.25*zij**4 + b**2*(1.*xij**2 + 1.*yij**2 - 6.*zij**2) + xij**2*(-0.5*yij**2 + 2.*zij**2)))/(eta*(xij**2 + yij**2 + zij**2)**4.5)],\n",
    "     [(-0.19098593171027442*b**2*(-0.4166666666666667*xij**6 - 0.4166666666666667*yij**6 - 0.625*yij**4*zij**2 + 0.20833333333333334*zij**6 + xij**4*(1.875*yij**2 - 0.625*zij**2) + \n",
    "     xij**2*(1.875*yij**4 + 1.875*yij**2*zij**2) + b**2*(1.*xij**4 + 1.*yij**4 + 0.75*yij**2*zij**2 - 0.25*zij**4 + xij**2*(-6.75*yij**2 + 0.75*zij**2))))/(eta*(xij**2 + yij**2 + zij**2)**4.5),\n",
    "     (-0.716197243913529*b**2*xij*yij*(-0.3333333333333333*xij**4 + 0.5*yij**4 + 0.16666666666666666*yij**2*zij**2 - 0.3333333333333333*zij**4 + xij**2*(0.16666666666666666*yij**2 - 0.6666666666666666*zij**2) + \n",
    "     b**2*(1.*xij**2 - 1.3333333333333333*yij**2 + 1.*zij**2)))/(eta*(xij**2 + yij**2 + zij**2)**4.5),\n",
    "     (-0.238732414637843*b**2*xij*zij*(-0.5*xij**4 + 2.*yij**4 + 1.5*yij**2*zij**2 - 0.5*zij**4 + xij**2*(1.5*yij**2 - 1.*zij**2) + b**2*(1.*xij**2 - 6.*yij**2 + 1.*zij**2)))/(eta*(xij**2 + yij**2 + zij**2)**4.5),\n",
    "     (0.1432394487827058*b**2*(-0.2777777777777778*xij**6 - 1.1111111111111112*yij**6 + 1.6666666666666667*yij**4*zij**2 + 2.5*yij**2*zij**4 - 0.2777777777777778*zij**6 + \n",
    "     xij**4*(2.5*yij**2 - 0.8333333333333334*zij**2) + xij**2*(1.6666666666666667*yij**4 + 5.*yij**2*zij**2 - 0.8333333333333334*zij**4) + \n",
    "     b**2*(1.*xij**4 + 2.6666666666666665*yij**4 - 8.*yij**2*zij**2 + 1.*zij**4 + xij**2*(-8.*yij**2 + 2.*zij**2))))/(eta*(xij**2 + yij**2 + zij**2)**4.5),\n",
    "     (-0.716197243913529*b**2*yij*zij*(-0.3333333333333333*xij**4 + 0.5*yij**4 + 0.16666666666666666*yij**2*zij**2 - 0.3333333333333333*zij**4 + xij**2*(0.16666666666666666*yij**2 - 0.6666666666666666*zij**2) + \n",
    "     b**2*(1.*xij**2 - 1.3333333333333333*yij**2 + 1.*zij**2)))/(eta*(xij**2 + yij**2 + zij**2)**4.5)],\n",
    "     [(0.1193662073189215*b**2*yij*zij*(-4.*xij**4 + yij**4 + 2.*yij**2*zij**2 + zij**4 + xij**2*(-3.*yij**2 - 3.*zij**2) + b**2*(12.*xij**2 - 2.*yij**2 - 2.*zij**2)))/(eta*(xij**2 + yij**2 + zij**2)**4.5),\n",
    "     (-0.238732414637843*b**2*xij*zij*(-0.25*xij**4 + 2.25*yij**4 + 2.*yij**2*zij**2 - 0.25*zij**4 + xij**2*(2.*yij**2 - 0.5*zij**2) + b**2*(1.*xij**2 - 6.*yij**2 + 1.*zij**2)))/(eta*(xij**2 + yij**2 + zij**2)**4.5),\n",
    "     (-0.238732414637843*b**2*xij*yij*(-0.25*xij**4 - 0.25*yij**4 + 2.*yij**2*zij**2 + 2.25*zij**4 + b**2*(1.*xij**2 + 1.*yij**2 - 6.*zij**2) + xij**2*(-0.5*yij**2 + 2.*zij**2)))/(eta*(xij**2 + yij**2 + zij**2)**4.5),\n",
    "     (-0.716197243913529*b**2*yij*zij*(-0.3333333333333333*xij**4 + 0.5*yij**4 + 0.16666666666666666*yij**2*zij**2 - 0.3333333333333333*zij**4 + xij**2*(0.16666666666666666*yij**2 - 0.6666666666666666*zij**2) + \n",
    "     b**2*(1.*xij**2 - 1.3333333333333333*yij**2 + 1.*zij**2)))/(eta*(xij**2 + yij**2 + zij**2)**4.5),\n",
    "     (0.04774648292756861*b**2*(1.25*yij**6 - 8.75*yij**4*zij**2 - 8.75*yij**2*zij**4 + 1.25*zij**6 + xij**4*(1.25*yij**2 + 1.25*zij**2) + xij**2*(2.5*yij**4 - 7.5*yij**2*zij**2 + 2.5*zij**4) + \n",
    "     b**2*(1.*xij**4 - 4.*yij**4 + 27.*yij**2*zij**2 - 4.*zij**4 + xij**2*(-2.9999999999999996*yij**2 - 2.9999999999999996*zij**2))))/(eta*(xij**2 + yij**2 + zij**2)**4.5)]])"
   ]
  },
  {
   "cell_type": "code",
   "execution_count": 32,
   "id": "cc4c8b67-d0da-4be0-baf9-8b392ce6b99d",
   "metadata": {},
   "outputs": [
    {
     "data": {
      "text/plain": [
       "<function numpy.linalg.solve(a, b)>"
      ]
     },
     "execution_count": 32,
     "metadata": {},
     "output_type": "execute_result"
    }
   ],
   "source": [
    "np.linalg.solve"
   ]
  },
  {
   "cell_type": "code",
   "execution_count": 33,
   "id": "f2d96b6c-3140-4a48-af59-5262b4e3afae",
   "metadata": {},
   "outputs": [],
   "source": [
    "def directSolve(v, o, r, F, T):\n",
    "    for i in range(Np):\n",
    "        v_ = np.zeros([3])\n",
    "        o_ = np.zeros([3])\n",
    "        for j in range(Np):\n",
    "            xij = r[i]    - r[j]\n",
    "            yij = r[i+Np]  - r[j+Np]\n",
    "            zij = r[i+2*Np]  - r[j+2*Np]\n",
    "            if i!=j:\n",
    "                force  = np.array([F[j],F[j+Np], F[j+2*Np]])\n",
    "                torque = np.array([T[j],T[j+Np], T[j+2*Np]])\n",
    "                                \n",
    "                rhs = (np.dot(G2s1s(xij,yij,zij), force) \n",
    "                       + 1./b * np.dot(G2s2a(xij,yij,zij), torque))\n",
    "                F2s = np.linalg.solve(G2s2s(xij,yij,zij), rhs)\n",
    "                \n",
    "                v_ += (np.dot(G1s1s(xij,yij,zij), force)\n",
    "                      + 1./b * np.dot(G1s2a(xij,yij,zij), torque)\n",
    "                      - np.dot(G1s2s(xij,yij,zij),F2s))\n",
    "                \n",
    "                o_ += (np.dot(G2a1s(xij,yij,zij), force)\n",
    "                             + 1./b * np.dot(G2a2a(xij,yij,zij), torque)\n",
    "                             - np.dot(G2a2s(xij,yij,zij),F2s))\n",
    "                       \n",
    "            else:\n",
    "                force  = np.array([F[j],F[j+Np], F[j+2*Np]])\n",
    "                torque = np.array([T[j],T[j+Np], T[j+2*Np]])\n",
    "                \n",
    "                v_ += G01s*force\n",
    "                o_ += 0.5/(b*b) * G02a*torque\n",
    "                \n",
    "        v[i]      += v_[0]\n",
    "        v[i+Np]   += v_[1]\n",
    "        v[i+2*Np] += v_[2]\n",
    "        \n",
    "        o[i]      += o_[0]\n",
    "        o[i+Np]   += o_[1]\n",
    "        o[i+2*Np] += o_[2]\n",
    "    return"
   ]
  },
  {
   "cell_type": "code",
   "execution_count": 34,
   "id": "971d6bca-df11-40be-b2be-06f8b14db1ce",
   "metadata": {},
   "outputs": [
    {
     "name": "stdout",
     "output_type": "stream",
     "text": [
      "finish\n",
      "CPU times: user 1.5 ms, sys: 457 µs, total: 1.95 ms\n",
      "Wall time: 1.5 ms\n"
     ]
    }
   ],
   "source": [
    "%%time\n",
    "## Two spheres falling next to each other: FTS\n",
    "\n",
    "#initial position\n",
    "r = np.array([0.,2.3, 0.,0., 100.,100.])\n",
    "\n",
    "#gravity in neg z direction\n",
    "F = np.array([0.,0., 0.,0., -1.,-1.])\n",
    "T = np.array([0.,0., 1.,1.,  0., 0.])  ##torque\n",
    "\n",
    "# integration parameters\n",
    "Nt=2; r1=np.zeros([3,Nt]); r2=np.zeros([3,Nt])\n",
    "r1[:,0] = r[::Np]; r2[:,0] = r[1::Np]\n",
    "dt=3.;\n",
    "v = np.zeros(3*Np);\n",
    "o = np.zeros(3*Np)\n",
    "theta1=np.zeros([3,Nt]); theta2=np.zeros([3,Nt])\n",
    "v1 = np.zeros([3,Nt-1]); v2 = np.zeros([3,Nt-1])\n",
    "o1 = np.zeros([3,Nt-1]); o2 = np.zeros([3,Nt-1])\n",
    "\n",
    "for i in range(Nt-1):\n",
    "    directSolve(v, o, r, F, T)\n",
    "    \n",
    "    r1[:,i+1] = r1[:,i] + dt*v[::Np]\n",
    "    r2[:,i+1] = r2[:,i] + dt*v[1::Np]\n",
    "    \n",
    "    theta1[:,i+1] = theta1[:,i] + dt*o[::Np]\n",
    "    theta2[:,i+1] = theta2[:,i] + dt*o[1::Np]\n",
    "    \n",
    "    #get velocity (constant for this case)\n",
    "    v1[:,i] = v[::Np]\n",
    "    v2[:,i] = v[1::Np]\n",
    "    \n",
    "    #get angular velocity (constant for this case)\n",
    "    o1[:,i] = o[::Np]\n",
    "    o2[:,i] = o[1::Np]\n",
    "    \n",
    "    # reset variables for next time step\n",
    "    r[::Np] = r1[:,i+1]\n",
    "    r[1::Np] = r2[:,i+1]\n",
    "    v = v*0\n",
    "    o = o*0\n",
    "\n",
    "print('finish')"
   ]
  },
  {
   "cell_type": "code",
   "execution_count": 35,
   "id": "959f51aa-0322-48aa-baaa-1d7206864054",
   "metadata": {},
   "outputs": [
    {
     "data": {
      "text/plain": [
       "(array([ 0.        ,  0.        , -1.15833904]),\n",
       " array([0.        , 3.19087018, 0.        ]))"
      ]
     },
     "execution_count": 35,
     "metadata": {},
     "output_type": "execute_result"
    }
   ],
   "source": [
    "## velocity and angular velocity of particle 1\n",
    "v1[:,0], o1[:,0]"
   ]
  },
  {
   "cell_type": "code",
   "execution_count": 36,
   "id": "ed1da668-7551-4ae2-8a51-41d87fc41a59",
   "metadata": {},
   "outputs": [
    {
     "data": {
      "text/plain": [
       "(array([ 0.        ,  0.        , -1.32217038]),\n",
       " array([0.        , 3.02703884, 0.        ]))"
      ]
     },
     "execution_count": 36,
     "metadata": {},
     "output_type": "execute_result"
    }
   ],
   "source": [
    "## velocity and angular velocity of particle 2\n",
    "v2[:,0], o2[:,0]"
   ]
  },
  {
   "cell_type": "code",
   "execution_count": null,
   "id": "53bcf738-f22e-495b-995d-5e612df4b9bc",
   "metadata": {},
   "outputs": [],
   "source": []
  },
  {
   "cell_type": "code",
   "execution_count": null,
   "id": "35a94cae-9bd6-4313-ab6a-6545b9164553",
   "metadata": {},
   "outputs": [],
   "source": []
  },
  {
   "cell_type": "code",
   "execution_count": null,
   "id": "9fbccdb8-b082-4d3b-a48a-a1833f12978a",
   "metadata": {},
   "outputs": [],
   "source": []
  },
  {
   "cell_type": "code",
   "execution_count": null,
   "id": "a4732a78-9c0b-4572-b86e-cf4a6f27847e",
   "metadata": {},
   "outputs": [],
   "source": []
  },
  {
   "cell_type": "code",
   "execution_count": null,
   "id": "8bb69c05-bb82-48dc-b254-b760d80cdeb6",
   "metadata": {},
   "outputs": [],
   "source": []
  }
 ],
 "metadata": {
  "kernelspec": {
   "display_name": "Python 3 (ipykernel)",
   "language": "python",
   "name": "python3"
  },
  "language_info": {
   "codemirror_mode": {
    "name": "ipython",
    "version": 3
   },
   "file_extension": ".py",
   "mimetype": "text/x-python",
   "name": "python",
   "nbconvert_exporter": "python",
   "pygments_lexer": "ipython3",
   "version": "3.10.2"
  }
 },
 "nbformat": 4,
 "nbformat_minor": 5
}
