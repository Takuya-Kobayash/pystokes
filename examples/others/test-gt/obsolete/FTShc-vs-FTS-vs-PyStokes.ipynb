{
 "cells": [
  {
   "cell_type": "markdown",
   "id": "92c30ae6-6533-48f0-8c5b-dcc39490a89c",
   "metadata": {},
   "source": [
    "<font size=\"5\">FTS Stokesian dynamics: hard coded"
   ]
  },
  {
   "cell_type": "code",
   "execution_count": 1,
   "id": "88ea7c5c-ea83-4fe8-8534-6c5b07c95389",
   "metadata": {},
   "outputs": [],
   "source": [
    "from ftssdhc import FTShc\n",
    "import numpy as np, matplotlib.pyplot as plt"
   ]
  },
  {
   "cell_type": "code",
   "execution_count": 2,
   "id": "99a80802-69ca-4f79-8398-aa93b10cd9aa",
   "metadata": {},
   "outputs": [],
   "source": [
    "# particle radius, self-propulsion speed, number and fluid viscosity\n",
    "b, Np, eta = 0.3, 2, 0.1\n",
    "ftshc = FTShc(b, Np, eta)"
   ]
  },
  {
   "cell_type": "code",
   "execution_count": 3,
   "id": "9dc3c168-2192-4b1c-9b48-65418cee223a",
   "metadata": {},
   "outputs": [
    {
     "name": "stdout",
     "output_type": "stream",
     "text": [
      "finish\n",
      "CPU times: user 3.34 ms, sys: 0 ns, total: 3.34 ms\n",
      "Wall time: 2.52 ms\n"
     ]
    }
   ],
   "source": [
    "%%time\n",
    "## Two spheres falling next to each other: FTS\n",
    "\n",
    "#initial position\n",
    "r = np.array([0.,2.3, 0.,0., 100.,100.])\n",
    "\n",
    "#gravity in neg z direction\n",
    "F = np.array([0.,0., 0.,0., -0.,-1.])\n",
    "T = np.array([0.,0., 0.,1.,  0., 0.])  ##torque\n",
    "\n",
    "# integration parameters\n",
    "Nt=2; r1=np.zeros([3,Nt]); r2=np.zeros([3,Nt])\n",
    "r1[:,0] = r[::Np]; r2[:,0] = r[1::Np]\n",
    "dt=3.;\n",
    "v = np.zeros(3*Np);\n",
    "o = np.zeros(3*Np)\n",
    "theta1=np.zeros([3,Nt]); theta2=np.zeros([3,Nt])\n",
    "v1 = np.zeros([3,Nt-1]); v2 = np.zeros([3,Nt-1])\n",
    "o1 = np.zeros([3,Nt-1]); o2 = np.zeros([3,Nt-1])\n",
    "\n",
    "for i in range(Nt-1):\n",
    "    ftshc.directSolve(v, o, r, F, T)\n",
    "    \n",
    "    r1[:,i+1] = r1[:,i] + dt*v[::Np]\n",
    "    r2[:,i+1] = r2[:,i] + dt*v[1::Np]\n",
    "    \n",
    "    theta1[:,i+1] = theta1[:,i] + dt*o[::Np]\n",
    "    theta2[:,i+1] = theta2[:,i] + dt*o[1::Np]\n",
    "    \n",
    "    #get velocity (constant for this case)\n",
    "    v1[:,i] = v[::Np]\n",
    "    v2[:,i] = v[1::Np]\n",
    "    \n",
    "    #get angular velocity (constant for this case)\n",
    "    o1[:,i] = o[::Np]\n",
    "    o2[:,i] = o[1::Np]\n",
    "    \n",
    "    # reset variables for next time step\n",
    "    r[::Np] = r1[:,i+1]\n",
    "    r[1::Np] = r2[:,i+1]\n",
    "    v = v*0\n",
    "    o = o*0\n",
    "\n",
    "print('finish')"
   ]
  },
  {
   "cell_type": "code",
   "execution_count": 4,
   "id": "9a740958-eb52-42f6-afb1-623daccabf94",
   "metadata": {},
   "outputs": [
    {
     "data": {
      "text/plain": [
       "(array([ 0.        ,  0.        , -0.09974163]),\n",
       " array([0.        , 0.05886391, 0.        ]))"
      ]
     },
     "execution_count": 4,
     "metadata": {},
     "output_type": "execute_result"
    }
   ],
   "source": [
    "## velocity and angular velocity of particle 1\n",
    "v1[:,0], o1[:,0]"
   ]
  },
  {
   "cell_type": "code",
   "execution_count": 5,
   "id": "3ada36d6-f54b-4f70-8ddb-ebe9c45faae6",
   "metadata": {},
   "outputs": [
    {
     "data": {
      "text/plain": [
       "(array([ 0.       ,  0.       , -1.7704632]),\n",
       " array([ 0.        , 14.68685653,  0.        ]))"
      ]
     },
     "execution_count": 5,
     "metadata": {},
     "output_type": "execute_result"
    }
   ],
   "source": [
    "## velocity and angular velocity of particle 2\n",
    "v2[:,0], o2[:,0]"
   ]
  },
  {
   "cell_type": "markdown",
   "id": "767f1282-410d-4ecf-b52b-37f37f3a79b4",
   "metadata": {},
   "source": [
    "___________\n",
    "\n",
    "<font size=\"5\">FTS Stokesian dynamics: autograd"
   ]
  },
  {
   "cell_type": "code",
   "execution_count": 6,
   "id": "b32ec4e2-e13d-4c4d-9bd8-70a454d9f90f",
   "metadata": {},
   "outputs": [],
   "source": [
    "from ftssd import FTS\n",
    "import autograd.numpy as np, matplotlib.pyplot as plt"
   ]
  },
  {
   "cell_type": "code",
   "execution_count": 7,
   "id": "1ca01e7e-4a86-4ea2-a449-69a31628fdca",
   "metadata": {},
   "outputs": [],
   "source": [
    "fts = FTS(b, Np, eta)"
   ]
  },
  {
   "cell_type": "code",
   "execution_count": 8,
   "id": "8f528370-a9c0-4dcc-804a-c7376c772853",
   "metadata": {},
   "outputs": [
    {
     "name": "stdout",
     "output_type": "stream",
     "text": [
      "finish\n",
      "CPU times: user 4.3 s, sys: 0 ns, total: 4.3 s\n",
      "Wall time: 4.29 s\n"
     ]
    }
   ],
   "source": [
    "%%time\n",
    "## Two spheres falling next to each other: FTS\n",
    "\n",
    "#initial position\n",
    "r = np.array([0.,2.3, 0.,0., 100.,100.])\n",
    "\n",
    "#gravity in neg z direction\n",
    "F = np.array([0.,0., 0.,0., -0.,-1.])\n",
    "T = np.array([0.,0., 0.,1.,  0., 0.])  ##torque\n",
    "\n",
    "# integration parameters\n",
    "Nt=2; r1=np.zeros([3,Nt]); r2=np.zeros([3,Nt])\n",
    "r1[:,0] = r[::Np]; r2[:,0] = r[1::Np]\n",
    "dt=3.;\n",
    "v = np.zeros(3*Np);\n",
    "o = np.zeros(3*Np)\n",
    "theta1=np.zeros([3,Nt]); theta2=np.zeros([3,Nt])\n",
    "v1 = np.zeros([3,Nt-1]); v2 = np.zeros([3,Nt-1])\n",
    "o1 = np.zeros([3,Nt-1]); o2 = np.zeros([3,Nt-1])\n",
    "\n",
    "for i in range(Nt-1):\n",
    "    fts.directSolve(v, o, r, F, T)\n",
    "    \n",
    "    r1[:,i+1] = r1[:,i] + dt*v[::Np]\n",
    "    r2[:,i+1] = r2[:,i] + dt*v[1::Np]\n",
    "    \n",
    "    theta1[:,i+1] = theta1[:,i] + dt*o[::Np]\n",
    "    theta2[:,i+1] = theta2[:,i] + dt*o[1::Np]\n",
    "    \n",
    "    #get velocity (constant for this case)\n",
    "    v1[:,i] = v[::Np]\n",
    "    v2[:,i] = v[1::Np]\n",
    "    \n",
    "    #get angular velocity (constant for this case)\n",
    "    o1[:,i] = o[::Np]\n",
    "    o2[:,i] = o[1::Np]\n",
    "    \n",
    "    # reset variables for next time step\n",
    "    r[::Np] = r1[:,i+1]\n",
    "    r[1::Np] = r2[:,i+1]\n",
    "    v = v*0\n",
    "    o = o*0\n",
    "\n",
    "print('finish')"
   ]
  },
  {
   "cell_type": "code",
   "execution_count": 9,
   "id": "72930db7-1137-41d0-973d-a9b94b95c264",
   "metadata": {},
   "outputs": [
    {
     "data": {
      "text/plain": [
       "(array([ 0.        ,  0.        , -0.09974163]),\n",
       " array([0.        , 0.05886391, 0.        ]))"
      ]
     },
     "execution_count": 9,
     "metadata": {},
     "output_type": "execute_result"
    }
   ],
   "source": [
    "## velocity and angular velocity of particle 1\n",
    "v1[:,0], o1[:,0]"
   ]
  },
  {
   "cell_type": "code",
   "execution_count": 10,
   "id": "9493c97a-b03b-4a9a-b4fb-f95d161509f7",
   "metadata": {},
   "outputs": [
    {
     "data": {
      "text/plain": [
       "(array([ 0.       ,  0.       , -1.7704632]),\n",
       " array([ 0.        , 14.68685653,  0.        ]))"
      ]
     },
     "execution_count": 10,
     "metadata": {},
     "output_type": "execute_result"
    }
   ],
   "source": [
    "## velocity and angular velocity of particle 2\n",
    "v2[:,0], o2[:,0]"
   ]
  },
  {
   "cell_type": "markdown",
   "id": "ea3248f6-7d9a-4fc6-84e6-22a1e0708785",
   "metadata": {},
   "source": [
    "--------------------------------\n",
    "\n",
    "<font size=\"5\">PyStokes (superposition approximation)"
   ]
  },
  {
   "cell_type": "code",
   "execution_count": 11,
   "id": "cdb8a99e-80a9-4376-9815-7f9ecac9ef5f",
   "metadata": {},
   "outputs": [],
   "source": [
    "import pystokes"
   ]
  },
  {
   "cell_type": "code",
   "execution_count": 12,
   "id": "58c261b7-275f-4057-9b1e-5745b2105637",
   "metadata": {},
   "outputs": [],
   "source": [
    "pstk = pystokes.unbounded.Rbm(b, Np, eta)"
   ]
  },
  {
   "cell_type": "code",
   "execution_count": 13,
   "id": "1a8e449b-c5c6-44e8-9529-9d451802d376",
   "metadata": {},
   "outputs": [
    {
     "name": "stdout",
     "output_type": "stream",
     "text": [
      "finish\n",
      "CPU times: user 169 ms, sys: 105 µs, total: 170 ms\n",
      "Wall time: 27.8 ms\n"
     ]
    }
   ],
   "source": [
    "%%time\n",
    "## Two spheres falling next to each other: pystokes\n",
    "\n",
    "#initial position\n",
    "r = np.array([0.,2.3, 0.,0., 100.,100.])\n",
    "\n",
    "#gravity in neg z direction\n",
    "F = np.array([0.,0., 0.,0., -0.,-1.])\n",
    "T = np.array([0.,0., 0.,1.,  0., 0.])  ##torque\n",
    "\n",
    "# integration parameters\n",
    "Nt=2; r1=np.zeros([3,Nt]); r2=np.zeros([3,Nt])\n",
    "r1[:,0] = r[::Np]; r2[:,0] = r[1::Np]\n",
    "dt=3.;\n",
    "v = np.zeros(3*Np);\n",
    "o = np.zeros(3*Np)\n",
    "theta1=np.zeros([3,Nt]); theta2=np.zeros([3,Nt])\n",
    "v1_pstk = np.zeros([3,Nt-1]); v2_pstk = np.zeros([3,Nt-1])\n",
    "o1_pstk = np.zeros([3,Nt-1]); o2_pstk = np.zeros([3,Nt-1])\n",
    "\n",
    "for i in range(Nt-1):\n",
    "    pstk.mobilityTT(v, r, F)\n",
    "    pstk.mobilityTR(v, r, T)\n",
    "    pstk.mobilityRT(o, r, F)\n",
    "    pstk.mobilityRR(o, r, T)\n",
    "    \n",
    "    r1[:,i+1] = r1[:,i] + dt*v[::Np]\n",
    "    r2[:,i+1] = r2[:,i] + dt*v[1::Np]\n",
    "    \n",
    "    theta1[:,i+1] = theta1[:,i] + dt*o[::Np]\n",
    "    theta2[:,i+1] = theta2[:,i] + dt*o[1::Np]\n",
    "    \n",
    "    #get velocity (constant for this case)\n",
    "    v1_pstk[:,i] = v[::Np]\n",
    "    v2_pstk[:,i] = v[1::Np]\n",
    "    \n",
    "    #get angular velocity (constant for this case)\n",
    "    o1_pstk[:,i] = o[::Np]\n",
    "    o2_pstk[:,i] = o[1::Np]\n",
    "    \n",
    "    # reset variables for next time step\n",
    "    r[::Np] = r1[:,i+1]\n",
    "    r[1::Np] = r2[:,i+1]\n",
    "    v = v*0\n",
    "    o = o*0\n",
    "\n",
    "print('finish')"
   ]
  },
  {
   "cell_type": "code",
   "execution_count": 14,
   "id": "8224ef4b-0836-4ab8-a395-ed273ca2f615",
   "metadata": {},
   "outputs": [
    {
     "data": {
      "text/plain": [
       "(array([ 0.        ,  0.        , -0.09974163]),\n",
       " array([0.        , 0.05886391, 0.        ]))"
      ]
     },
     "execution_count": 14,
     "metadata": {},
     "output_type": "execute_result"
    }
   ],
   "source": [
    "## velocity and angular velocity of particle 1\n",
    "v1_pstk[:,0], o1_pstk[:,0]"
   ]
  },
  {
   "cell_type": "code",
   "execution_count": 15,
   "id": "131320af-5db7-4aa4-bef8-94cbc7dc1e9f",
   "metadata": {},
   "outputs": [
    {
     "data": {
      "text/plain": [
       "(array([ 0.        ,  0.        , -1.76838826]),\n",
       " array([ 0.       , 14.7365688,  0.       ]))"
      ]
     },
     "execution_count": 15,
     "metadata": {},
     "output_type": "execute_result"
    }
   ],
   "source": [
    "## velocity and angular velocity of particle 2\n",
    "v2_pstk[:,0], o2_pstk[:,0]"
   ]
  },
  {
   "cell_type": "code",
   "execution_count": null,
   "id": "75cf07fd-0323-41a6-ac57-4bfa379a360f",
   "metadata": {},
   "outputs": [],
   "source": []
  }
 ],
 "metadata": {
  "kernelspec": {
   "display_name": "Python 3 (ipykernel)",
   "language": "python",
   "name": "python3"
  },
  "language_info": {
   "codemirror_mode": {
    "name": "ipython",
    "version": 3
   },
   "file_extension": ".py",
   "mimetype": "text/x-python",
   "name": "python",
   "nbconvert_exporter": "python",
   "pygments_lexer": "ipython3",
   "version": "3.10.2"
  }
 },
 "nbformat": 4,
 "nbformat_minor": 5
}
