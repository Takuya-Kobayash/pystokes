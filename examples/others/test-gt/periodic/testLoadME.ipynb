{
 "cells": [
  {
   "cell_type": "code",
   "execution_count": 1,
   "id": "2b791888-84ea-4320-a54e-eb8c5df506c4",
   "metadata": {},
   "outputs": [],
   "source": [
    "from sympy import *\n",
    "import numpy as np\n",
    "import re\n",
    "from joblib import Parallel, delayed"
   ]
  },
  {
   "cell_type": "markdown",
   "id": "3f94e7d2-b400-43ca-9048-0f39276d81a6",
   "metadata": {},
   "source": [
    "Number of periodic boxes and Fourier modes"
   ]
  },
  {
   "cell_type": "markdown",
   "id": "13c2a652-a68d-4a7a-b576-fae4754179b2",
   "metadata": {},
   "source": [
    "### Definitions and auxiliary functions"
   ]
  },
  {
   "cell_type": "code",
   "execution_count": 2,
   "id": "fa2a7578-2340-45cd-b646-bf46065f8921",
   "metadata": {},
   "outputs": [],
   "source": [
    "xij, yij, zij = symbols(\"xij, yij, zij\", real=True) \n",
    "b, eta = symbols(\"b, eta\", real=True, positive=True)\n",
    "\n",
    "# indices for summation:\n",
    "## Caution, cannot use lambda, instead use Lambda\n",
    "## do not use eta as index, it's the viscosity\n",
    "alpha, beta, gamma, gamma1, gamma2, gamma3, gamma4, kappa, kappa1, kappa2, mu, nu, nu1, nu2, Lambda, eta2, zeta, sigma = symbols(\n",
    "    'alpha, beta, gamma, gamma1, gamma2, gamma3, gamma4, kappa, kappa1, kappa2, mu, nu, nu1, nu2, Lambda, eta2, zeta, sigma', integer=True)\n",
    "\n",
    "#new symbols for periodic calculation: boxSize, xi (convergence parameter)\n",
    "L, xi = symbols(\"L, xi\", real=True, positive=True)\n",
    "\n",
    "KroneckerDelta = eye(3)"
   ]
  },
  {
   "cell_type": "code",
   "execution_count": 3,
   "id": "b721bc0f-c077-48b0-931d-2916500cd0b8",
   "metadata": {},
   "outputs": [],
   "source": [
    "# text_file = open(\"matrixElements/G3s3s.txt\", \"r\")\n",
    "# string = text_file.read()\n",
    "# text_file.close()"
   ]
  },
  {
   "cell_type": "code",
   "execution_count": 4,
   "id": "648fee3c-0a49-48b7-90fb-d664aa7cfee6",
   "metadata": {},
   "outputs": [],
   "source": [
    "#%%time\n",
    "#matG3s3s = sympify(string)  DO NOT USE THIS - will fill up memory rapidly"
   ]
  },
  {
   "cell_type": "code",
   "execution_count": 1,
   "id": "ecae6e9d-7340-4452-b483-7e0bd917fb87",
   "metadata": {},
   "outputs": [],
   "source": [
    "from math import *\n",
    "import numpy as np"
   ]
  },
  {
   "cell_type": "code",
   "execution_count": 2,
   "id": "41e23526-e9ab-42c9-8446-954d93608d63",
   "metadata": {},
   "outputs": [
    {
     "data": {
      "text/plain": [
       "array([0.84270079, 1.41421356])"
      ]
     },
     "execution_count": 2,
     "metadata": {},
     "output_type": "execute_result"
    }
   ],
   "source": [
    "np.array([erf(1), sqrt(2)])"
   ]
  },
  {
   "cell_type": "code",
   "execution_count": 4,
   "id": "ce52ba1f-7a20-436b-aa26-ace79c14fe23",
   "metadata": {},
   "outputs": [
    {
     "data": {
      "text/plain": [
       "0.15729920705028513"
      ]
     },
     "execution_count": 4,
     "metadata": {},
     "output_type": "execute_result"
    }
   ],
   "source": [
    "erfc(1)"
   ]
  },
  {
   "cell_type": "code",
   "execution_count": 5,
   "id": "fc44c772-07d4-4ca2-b603-cd630e585a63",
   "metadata": {},
   "outputs": [
    {
     "data": {
      "text/plain": [
       "array([[1., 0., 0.],\n",
       "       [0., 1., 0.],\n",
       "       [0., 0., 1.]])"
      ]
     },
     "execution_count": 5,
     "metadata": {},
     "output_type": "execute_result"
    }
   ],
   "source": [
    "np.identity(3)"
   ]
  },
  {
   "cell_type": "code",
   "execution_count": 3,
   "id": "4569a752-cdf5-4a1c-a66f-5df23968adf1",
   "metadata": {},
   "outputs": [],
   "source": [
    "def function(bla):\n",
    "    return (bla + 2*bla -3)"
   ]
  },
  {
   "cell_type": "code",
   "execution_count": 4,
   "id": "9359d0d2-8a0e-481d-8d85-2e55579db61c",
   "metadata": {},
   "outputs": [
    {
     "data": {
      "text/plain": [
       "0"
      ]
     },
     "execution_count": 4,
     "metadata": {},
     "output_type": "execute_result"
    }
   ],
   "source": [
    "function(1)"
   ]
  },
  {
   "cell_type": "code",
   "execution_count": null,
   "id": "76b78475-8a99-4f2a-96d3-0f54879c1378",
   "metadata": {},
   "outputs": [],
   "source": []
  }
 ],
 "metadata": {
  "kernelspec": {
   "display_name": "Python 3 (ipykernel)",
   "language": "python",
   "name": "python3"
  },
  "language_info": {
   "codemirror_mode": {
    "name": "ipython",
    "version": 3
   },
   "file_extension": ".py",
   "mimetype": "text/x-python",
   "name": "python",
   "nbconvert_exporter": "python",
   "pygments_lexer": "ipython3",
   "version": "3.10.2"
  }
 },
 "nbformat": 4,
 "nbformat_minor": 5
}
