{
 "cells": [
  {
   "cell_type": "markdown",
   "id": "84e68a7e-7a92-4944-8fe8-b4ae34674ec9",
   "metadata": {},
   "source": [
    "## Mobility of a sedimenting lattice as a function of volume fraction"
   ]
  },
  {
   "cell_type": "code",
   "execution_count": 1,
   "id": "820221fe-ad2c-4b9e-abfe-8c4d0207e862",
   "metadata": {},
   "outputs": [],
   "source": [
    "import matplotlib.pyplot as plt \n",
    "import numpy as np\n",
    "import solvePeriodic\n",
    "# import directSolvePeriodic\n",
    "# import matrixPeriodic_Real as me\n",
    "# import matrixM2r0 as m2\n",
    "#import testG3s3s as test\n",
    "from math import *\n",
    "PI = 3.14159265359"
   ]
  },
  {
   "cell_type": "code",
   "execution_count": 2,
   "id": "f63f3819-363f-444e-a929-ce715a6b1da3",
   "metadata": {},
   "outputs": [],
   "source": [
    "#Parameters\n",
    "Np=1\n",
    "b, eta, dim = 1.0, 1.0, 3\n",
    "ta =(4*np.pi/3)**(1.0/3) \n",
    "L = ta/np.asarray([0.1, 0.3, 0.4, 0.5, 0.6, 0.7, 0.7663094323935531, 0.8059966052641452])\n",
    "\n",
    "# Memory allocation\n",
    "v = np.zeros(dim*Np)      \n",
    "o = np.zeros(dim*Np)  \n",
    "r = np.zeros(dim*Np)        \n",
    "F = np.zeros(dim*Np)\n",
    "T = np.zeros(dim*Np)  \n",
    "vv  = np.zeros(np.size(L))\n",
    "phi = np.zeros(np.size(L) )\n",
    "\n",
    "S = np.zeros(Np*5)\n",
    "D = np.zeros(Np*3)\n",
    "\n",
    "mu=1.0/(6*np.pi*eta*b)"
   ]
  },
  {
   "cell_type": "code",
   "execution_count": 3,
   "id": "70d22ba4-d779-444f-b5a1-7a54e0aed5d9",
   "metadata": {},
   "outputs": [],
   "source": [
    "#(0.5236*3/(4*np.pi*b**3))**(1/3)*ta ##reverse engineer above numbers in L= ta/array()"
   ]
  },
  {
   "cell_type": "code",
   "execution_count": 4,
   "id": "e310ebd3-5e9d-4acc-ac9d-1c1b7ed76637",
   "metadata": {},
   "outputs": [
    {
     "data": {
      "text/plain": [
       "array([16.11991954,  5.37330651,  4.02997989,  3.22398391,  2.68665326,\n",
       "        2.30284565,  2.10357838,  1.99999844])"
      ]
     },
     "execution_count": 4,
     "metadata": {},
     "output_type": "execute_result"
    }
   ],
   "source": [
    "L"
   ]
  },
  {
   "cell_type": "code",
   "execution_count": 5,
   "id": "91552054-219c-494a-a531-df272eccebeb",
   "metadata": {},
   "outputs": [
    {
     "data": {
      "text/plain": [
       "array([0.001 , 0.027 , 0.064 , 0.125 , 0.216 , 0.343 , 0.45  , 0.5236])"
      ]
     },
     "execution_count": 5,
     "metadata": {},
     "output_type": "execute_result"
    }
   ],
   "source": [
    "(4*np.pi*b**3)/(3*L**3)"
   ]
  },
  {
   "cell_type": "code",
   "execution_count": 6,
   "id": "448bcbdb-93da-4310-b932-1185babb8430",
   "metadata": {},
   "outputs": [],
   "source": [
    "# phi = (4*np.pi*b**3)/(3*L**3)\n",
    "# phi"
   ]
  },
  {
   "cell_type": "code",
   "execution_count": 7,
   "id": "3064c641-9eb9-46c1-99dc-f868d0669121",
   "metadata": {},
   "outputs": [
    {
     "data": {
      "image/png": "[encoded data removed]",
      "text/plain": [
       "<Figure size 432x288 with 1 Axes>"
      ]
     },
     "metadata": {
      "needs_background": "light"
     },
     "output_type": "display_data"
    },
    {
     "name": "stdout",
     "output_type": "stream",
     "text": [
      "volume fraction   simulation\t Zick & Homsy (1982)\n",
      "0.001\t\t  0.825\t\t 0.825\t\n",
      "0.027\t\t  0.498\t\t 0.498\t\n",
      "0.064\t\t  0.356\t\t 0.356\t\n",
      "0.125\t\t  0.236\t\t 0.233\t\n",
      "0.216\t\t  0.144\t\t 0.134\t\n",
      "0.343\t\t  0.096\t\t 0.065\t\n",
      "0.450\t\t  0.092\t\t 0.036\t\n",
      "0.524\t\t  0.100\t\t 0.024\t\n"
     ]
    }
   ],
   "source": [
    "# Deafult value of xi = sqrt(pi)/L\n",
    "b=1.\n",
    "\n",
    "# L=np.linspace(2.,10.)\n",
    "\n",
    "vv  = np.zeros(np.size(L))\n",
    "phi = np.zeros(np.size(L) )\n",
    "\n",
    "S = np.zeros(5)\n",
    "D = np.zeros(3)\n",
    "\n",
    "phi = (4*np.pi*b**3)/(3*L**3)\n",
    "\n",
    "\n",
    "for i in range(np.size(L)):\n",
    "    v = v*0\n",
    "    F = F*0\n",
    "\n",
    "    r[0], r[1], r[2] = 0.0, 0.0, 0.0\n",
    "\n",
    "    F[2] = -1  ## gravity                           \n",
    "    \n",
    "    Rbm = solvePeriodic.Rbm(b, eta, L[i], xi=sqrt(pi)/L[i])   \n",
    "    Rbm.krylovSolve(v, o, F, T, S, D)\n",
    "\n",
    "    mu00 = mu*F[2]\n",
    "    vv[i] = v[2]/mu00\n",
    "    \n",
    "\n",
    "exR = [.825, .498, .356, .233, .134, .065, 0.036, 0.024]\n",
    "plt.title('Real + Fourier - M2(r=0)')\n",
    "plt.plot(phi, exR, 'd', color=\"#348ABD\", label='Zick and Homsy')\n",
    "plt.plot(phi, vv, 'o', color=\"#A60628\", label='Simulation')\n",
    "\n",
    "plt.xlabel(r'$\\phi$', fontsize=20); plt.ylabel(r'$\\mu/\\mu_0$', fontsize=20)\n",
    "plt.legend(loc='upper right', shadow=True)\n",
    "plt.show()\n",
    "\n",
    "print ('volume fraction   simulation\\t Zick & Homsy (1982)')\n",
    "for i in range(np.size(L)):\n",
    "    print ('%1.3f\\t\\t  %1.3f\\t\\t %1.3f\\t'%(phi[i], vv[i], exR[i] ))"
   ]
  },
  {
   "cell_type": "code",
   "execution_count": 8,
   "id": "9937a9ed-4685-4dbe-a35a-f2f162483555",
   "metadata": {},
   "outputs": [
    {
     "data": {
      "text/plain": [
       "array([ 0.        ,  0.        , -0.00552231])"
      ]
     },
     "execution_count": 8,
     "metadata": {},
     "output_type": "execute_result"
    }
   ],
   "source": [
    "v"
   ]
  },
  {
   "cell_type": "code",
   "execution_count": null,
   "id": "12f10d5d-b13e-4966-b3bd-0616c8e0e855",
   "metadata": {},
   "outputs": [],
   "source": [
    "volume fraction   simulation\t Zick & Homsy (1982)\n",
    "0.001\t\t  0.825\t\t 0.825\t\n",
    "0.027\t\t  0.498\t\t 0.498\t\n",
    "0.064\t\t  0.357\t\t 0.356\t\n",
    "0.125\t\t  0.237\t\t 0.233\t\n",
    "0.216\t\t  0.146\t\t 0.134\t\n",
    "0.343\t\t  0.099\t\t 0.065\t\n",
    "0.450\t\t  0.096\t\t 0.036\t\n",
    "0.524\t\t  0.104\t\t 0.024\t"
   ]
  },
  {
   "cell_type": "code",
   "execution_count": 9,
   "id": "0cc2cdb5-b84f-4d3a-882c-ded963856b07",
   "metadata": {},
   "outputs": [],
   "source": [
    "## symmetric interval of wave vectors in Fourier space is better. \n",
    "## Exactly zero x-y components of velocity and ever so slightly better result (might be because 5 instead of 4 Fourier modes are used\n",
    "## Asymmetric and 6 modes is actually as good, so only advantage of symmetric interval is zero x-y components of velocity"
   ]
  },
  {
   "cell_type": "code",
   "execution_count": null,
   "id": "2fc0632f-6af7-4f9c-ab87-cefa8dcdbe21",
   "metadata": {},
   "outputs": [],
   "source": [
    "## why does large xi not reproduce Hasimoto's Green's function? \n",
    "## First, have to subtract M2(r=0), but still not exactly the same. why? \n",
    "## now it matches - was a factor of 4 pi**2 too much in other solution. Make sure all the factors are correct? 8 pi eta etc..."
   ]
  },
  {
   "cell_type": "code",
   "execution_count": null,
   "id": "48ce5109-35b3-46fe-b1e0-e78670053ab6",
   "metadata": {},
   "outputs": [],
   "source": [
    "## More Fourier modes (without M2(r=0)) screws things up (i.e., goes negative) - but M2(r=0) fixes things again. --> Need M2(r=0) to rectify things!\n",
    "## M2(r=0) not dependent on number of modes - how does it rectify Fourier modes? Or is contribution from Fourier modes just tiny because of xi? \n",
    "## Try to run more boxes: Nb=2 - will take ages - if it scales linearly, about 5 times as long ca 20 hours. \n",
    "\n",
    "## Literally no difference between 5 and 9 Fourier modes, but can tell the difference when xi is large and M2(r=0) is ignored. \n",
    "## For v large xi with M2(r=0) exactly the same result - are Fourier modes even important? Fourier + M2(r=0) does make a difference. "
   ]
  },
  {
   "cell_type": "code",
   "execution_count": null,
   "id": "b8f5ad29-aa9e-4c91-845b-3777021f30ae",
   "metadata": {},
   "outputs": [],
   "source": [
    "## Just using G1s1sF is worse for all, but actually for last three values the difference is not that big. --> Because FH actually gets weaker for\n",
    "## closest three packings. Why?? \n",
    "## Any additional terms adding to FH or influence of FH? "
   ]
  },
  {
   "cell_type": "code",
   "execution_count": null,
   "id": "3896e071-c928-4488-ba70-07824806ef83",
   "metadata": {},
   "outputs": [],
   "source": []
  },
  {
   "cell_type": "code",
   "execution_count": null,
   "id": "63ea05fe-cf31-42d3-ae73-17d0996f783e",
   "metadata": {},
   "outputs": [],
   "source": []
  },
  {
   "cell_type": "code",
   "execution_count": null,
   "id": "9098a77b-db1f-44ba-9592-26e9847cab46",
   "metadata": {},
   "outputs": [],
   "source": []
  },
  {
   "cell_type": "code",
   "execution_count": null,
   "id": "7653ef0d-14c6-457e-a3aa-f79ce729a7c1",
   "metadata": {},
   "outputs": [],
   "source": []
  },
  {
   "cell_type": "code",
   "execution_count": null,
   "id": "c8f6bdd1-7d7f-4131-947e-50d0cae64bee",
   "metadata": {},
   "outputs": [],
   "source": []
  },
  {
   "cell_type": "code",
   "execution_count": null,
   "id": "d1c68d9f-16d4-4802-9232-5ef92ad4770a",
   "metadata": {},
   "outputs": [],
   "source": []
  },
  {
   "cell_type": "code",
   "execution_count": null,
   "id": "97ee553b-30db-4fde-ab22-98e4f06ab058",
   "metadata": {},
   "outputs": [],
   "source": [
    "volume fraction   simulation\t Zick & Homsy (1982) ## for Nm=6\n",
    "0.001\t\t  0.825\t\t 0.825\t\n",
    "0.027\t\t  0.498\t\t 0.498\t\n",
    "0.064\t\t  0.356\t\t 0.356\t\n",
    "0.125\t\t  0.236\t\t 0.233\t\n",
    "0.216\t\t  0.144\t\t 0.134\t\n",
    "0.343\t\t  0.096\t\t 0.065\t\n",
    "0.450\t\t  0.092\t\t 0.036\t\n",
    "0.524\t\t  0.100\t\t 0.024\t"
   ]
  },
  {
   "cell_type": "code",
   "execution_count": null,
   "id": "d5ac6211-8f94-4f14-8a43-d7c00beb79d3",
   "metadata": {},
   "outputs": [],
   "source": [
    "volume fraction   simulation\t Zick & Homsy (1982)  ## for Nm=4\n",
    "0.001\t\t  0.825\t\t 0.825\t\n",
    "0.027\t\t  0.498\t\t 0.498\t\n",
    "0.064\t\t  0.356\t\t 0.356\t\n",
    "0.125\t\t  0.236\t\t 0.233\t\n",
    "0.216\t\t  0.145\t\t 0.134\t\n",
    "0.343\t\t  0.097\t\t 0.065\t\n",
    "0.450\t\t  0.094\t\t 0.036\t\n",
    "0.524\t\t  0.102\t\t 0.024\t"
   ]
  },
  {
   "cell_type": "code",
   "execution_count": null,
   "id": "700a8d9b-89b9-40ae-8f0c-fc45ed247c9c",
   "metadata": {},
   "outputs": [],
   "source": [
    "volume fraction   simulation\t Zick & Homsy (1982) ## superposition Nm=4 \n",
    "0.001\t\t  0.825\t\t 0.825\t\n",
    "0.027\t\t  0.499\t\t 0.498\t\n",
    "0.064\t\t  0.360\t\t 0.356\t\n",
    "0.125\t\t  0.245\t\t 0.233\t\n",
    "0.216\t\t  0.159\t\t 0.134\t\n",
    "0.343\t\t  0.110\t\t 0.065\t\n",
    "0.450\t\t  0.100\t\t 0.036\t\n",
    "0.524\t\t  0.104\t\t 0.024\t"
   ]
  },
  {
   "cell_type": "code",
   "execution_count": 7,
   "id": "3f66d0e2-210c-448d-b987-c0a92606cd42",
   "metadata": {},
   "outputs": [
    {
     "data": {
      "text/plain": [
       "8"
      ]
     },
     "execution_count": 7,
     "metadata": {},
     "output_type": "execute_result"
    }
   ],
   "source": [
    "len(GHH)"
   ]
  },
  {
   "cell_type": "code",
   "execution_count": 8,
   "id": "a594153d-a982-4dba-9d9f-cb377e1dfa9c",
   "metadata": {},
   "outputs": [
    {
     "data": {
      "text/plain": [
       "array([ 30.18540707,  33.71176197,  35.19239408,  28.87020986,\n",
       "        12.3849708 , 567.25105037,  38.96432618,  24.93022824])"
      ]
     },
     "execution_count": 8,
     "metadata": {},
     "output_type": "execute_result"
    }
   ],
   "source": [
    "np.linalg.cond(GHH)"
   ]
  },
  {
   "cell_type": "code",
   "execution_count": null,
   "id": "aee47198-bb3d-43c0-a935-d18e3480d99b",
   "metadata": {},
   "outputs": [],
   "source": []
  },
  {
   "cell_type": "code",
   "execution_count": 16,
   "id": "d8f10ee5-6568-4042-9163-f2b23bd5ac09",
   "metadata": {},
   "outputs": [],
   "source": [
    "##G3s3s is not symmetric in matrix form, is that to be expected?? "
   ]
  },
  {
   "cell_type": "code",
   "execution_count": null,
   "id": "60228163-d720-4a0e-be38-17690ed7e401",
   "metadata": {},
   "outputs": [],
   "source": []
  },
  {
   "cell_type": "code",
   "execution_count": 17,
   "id": "99310bcb-2f4b-4900-b0d6-c87ea2574ba2",
   "metadata": {},
   "outputs": [],
   "source": [
    "## condition number of GHH alone horrible\n",
    "## GoHH obviously improves things, as it ads diagonal elements (do we need the off-diag elements in GoHH?)\n",
    "## M2(r=0) itself is not invertible, does that make sense? "
   ]
  },
  {
   "cell_type": "code",
   "execution_count": 18,
   "id": "33a9b83d-920e-49a7-8366-0f3530c6612c",
   "metadata": {},
   "outputs": [
    {
     "name": "stdout",
     "output_type": "stream",
     "text": [
      "0.5484147575149751\n",
      "0.5329177322229312\n",
      "0.5241993853169308\n",
      "0.5208137618615843\n",
      "0.5214909476072649\n",
      "0.525163326649123\n",
      "0.5309660016477573\n",
      "0.5382191652834978\n",
      "0.5464013887707942\n",
      "0.5551207310538864\n",
      "0.5640877837674968\n",
      "0.5730925183031289\n",
      "0.5819853835716201\n",
      "0.5906623672834584\n",
      "0.5990534364210506\n",
      "0.6071137151550745\n",
      "0.6148168125035703\n",
      "0.6221498058739032\n",
      "0.6291094848243972\n",
      "0.6356995469164963\n",
      "0.641928509803035\n",
      "0.6478081608929376\n",
      "0.653352410072783\n",
      "0.6585764445200887\n",
      "0.6634961099233648\n",
      "0.6681274613757328\n",
      "0.6724864413831464\n",
      "0.6765886530231674\n",
      "0.6804492042143729\n",
      "0.6840826049911668\n",
      "0.6875027041316623\n",
      "0.6907226548344401\n",
      "0.6937549016630181\n",
      "0.6966111828823096\n",
      "0.6993025437533643\n",
      "0.7018393574460374\n",
      "0.7042313510595543\n",
      "0.7064876348722979\n",
      "0.708616733422636\n",
      "0.7106266173883895\n",
      "0.7125247355109664\n",
      "0.7143180460218912\n",
      "0.7160130471901802\n",
      "0.7176158067306806\n",
      "0.7191319899052261\n",
      "0.7205668862172617\n",
      "0.721925434651775\n",
      "0.7232122474500813\n",
      "0.724431632436376\n",
      "0.7255876139324547\n"
     ]
    }
   ],
   "source": [
    "for i in range(len(GHH)):\n",
    "    print(np.linalg.norm(GHH[i])) ##GHH is the problem, not GH1s or G1sH"
   ]
  },
  {
   "cell_type": "code",
   "execution_count": null,
   "id": "13f5c753-0331-4dd3-a7c9-737dc7202e00",
   "metadata": {},
   "outputs": [],
   "source": []
  },
  {
   "cell_type": "code",
   "execution_count": null,
   "id": "a9dc87a2-0275-4f70-999f-6804d72283fd",
   "metadata": {},
   "outputs": [],
   "source": []
  },
  {
   "cell_type": "code",
   "execution_count": null,
   "id": "c77594b9-40f8-42d2-9bc4-8cbe6dbe085b",
   "metadata": {},
   "outputs": [],
   "source": []
  }
 ],
 "metadata": {
  "kernelspec": {
   "display_name": "Python 3 (ipykernel)",
   "language": "python",
   "name": "python3"
  },
  "language_info": {
   "codemirror_mode": {
    "name": "ipython",
    "version": 3
   },
   "file_extension": ".py",
   "mimetype": "text/x-python",
   "name": "python",
   "nbconvert_exporter": "python",
   "pygments_lexer": "ipython3",
   "version": "3.10.2"
  }
 },
 "nbformat": 4,
 "nbformat_minor": 5
}
