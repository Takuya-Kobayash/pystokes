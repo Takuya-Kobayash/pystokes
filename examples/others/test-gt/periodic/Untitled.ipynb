{
 "cells": [
  {
   "cell_type": "code",
   "execution_count": 37,
   "id": "ae06eda6-a3c2-4243-bfb6-819a47334903",
   "metadata": {},
   "outputs": [],
   "source": [
    "import matplotlib.pyplot as plt \n",
    "from sympy import *\n",
    "import numpy as np\n",
    "PI = 3.14159265359"
   ]
  },
  {
   "cell_type": "code",
   "execution_count": 2,
   "id": "b7ddc026-cd4d-44d0-bb0e-78a9ced6789a",
   "metadata": {},
   "outputs": [],
   "source": [
    "xij, yij, zij = symbols(\"xij, yij, zij\", real=True) \n",
    "b, eta = symbols(\"b, eta\", real=True, positive=True)\n",
    "\n",
    "# indices for summation:\n",
    "## Caution, cannot use lambda, instead use Lambda\n",
    "## do not use eta as index, it's the viscosity\n",
    "alpha, beta, gamma, gamma1, gamma2, gamma3, gamma4, kappa, kappa1, kappa2, mu, nu, nu1, nu2, Lambda, eta2, zeta, sigma = symbols(\n",
    "    'alpha, beta, gamma, gamma1, gamma2, gamma3, gamma4, kappa, kappa1, kappa2, mu, nu, nu1, nu2, Lambda, eta2, zeta, sigma', integer=True)\n",
    "\n",
    "#new symbols for periodic calculation: boxSize, xi (convergence parameter)\n",
    "L, xi = symbols(\"L, xi\", real=True, positive=True)\n",
    "kx, ky, kz = symbols(\"kx, ky, kz\", real=True) \n",
    "\n",
    "rij = Matrix([xij, yij, zij])\n",
    "k = Matrix([kx, ky, kz])\n",
    "kDOTrij = xij*kx + yij*ky + zij*kz\n",
    "norm_rij = sqrt(xij**2 + yij**2 + zij**2)\n",
    "norm_k = sqrt(kx**2 + ky**2 + kz**2)\n",
    "\n",
    "k0 = 2*pi/L\n",
    "\n",
    "def norm(r):\n",
    "    result=0\n",
    "    for i in range(3):\n",
    "        result += r[i]**2\n",
    "    return sqrt(result)\n",
    "\n",
    "KroneckerDelta = eye(3)\n",
    "\n",
    "def eps(alpha, beta, gamma):\n",
    "    return LeviCivita(alpha,beta,gamma)"
   ]
  },
  {
   "cell_type": "code",
   "execution_count": null,
   "id": "ebeb09be-54b7-405d-92b8-ed48a33de340",
   "metadata": {},
   "outputs": [],
   "source": [
    "##element 19 of GH1sF and set force(2)=-1"
   ]
  },
  {
   "cell_type": "code",
   "execution_count": 94,
   "id": "55f59ec9-01d3-4da5-a4e8-bf0798c6bfa3",
   "metadata": {},
   "outputs": [],
   "source": [
    "bla =((6.0952380952381*L**6*b**4*xi**11*exp(-L**2*xi**2)/sqrt(PI) - 24.3809523809525*L**6*b**4*xi**11*exp(-2*L**2*xi**2)/sqrt(PI) - 146.285714285714*L**6*b**4*xi**11*exp(-3*L**2*xi**2)/sqrt(PI) - 36.5714285714286*L**4*b**4*xi**9*exp(-L**2*xi**2)/sqrt(PI) + 73.142857142858*L**4*b**4*xi**9*exp(-2*L**2*xi**2)/sqrt(PI) + 292.571428571428*L**4*b**4*xi**9*exp(-3*L**2*xi**2)/sqrt(PI) + 6.39999999999999*L**4*b**2*xi**7*exp(-L**2*xi**2)/sqrt(PI) - 12.8*L**4*b**2*xi**7*exp(-2*L**2*xi**2)/sqrt(PI) - 51.2*L**4*b**2*xi**7*exp(-3*L**2*xi**2)/sqrt(PI) + 3.04761904761903*L**2*b**4*xi**7*exp(-L**2*xi**2)/sqrt(PI) - 3.04761904762093*L**2*b**4*xi**7*exp(-2*L**2*xi**2)/sqrt(PI) - 8.12698412698488*L**2*b**4*xi**7*exp(-3*L**2*xi**2)/sqrt(PI) - 3.19999999999996*L**2*b**2*xi**5*exp(-L**2*xi**2)/sqrt(PI) + 3.20000000000014*L**2*b**2*xi**5*exp(-2*L**2*xi**2)/sqrt(PI) + 8.53333333333343*L**2*b**2*xi**5*exp(-3*L**2*xi**2)/sqrt(PI) + 10.6666666666671*b**4*xi**5*exp(-L**2*xi**2)/sqrt(PI) - 5.33333333333216*b**4*xi**5*exp(-2*L**2*xi**2)/sqrt(PI) - 9.4814814814811*b**4*xi**5*exp(-3*L**2*xi**2)/sqrt(PI) - 8.00000000000002*b**2*xi**3*exp(-L**2*xi**2)/sqrt(PI) + 3.99999999999994*b**2*xi**3*exp(-2*L**2*xi**2)/sqrt(PI) + 7.1111111111111*b**2*xi**3*exp(-3*L**2*xi**2)/sqrt(PI) + 26.6666666666665*b**4*xi**3*exp(-L**2*xi**2)/(sqrt(PI)*L**2) - 6.66666666666676*b**4*xi**3*exp(-2*L**2*xi**2)/(sqrt(PI)*L**2) - 7.90123456790138*b**4*xi**3*exp(-3*L**2*xi**2)/(sqrt(PI)*L**2) - 12.0*b**2*xi*exp(-L**2*xi**2)/(sqrt(PI)*L**2) + 3.0*b**2*xi*exp(-2*L**2*xi**2)/(sqrt(PI)*L**2) + 3.55555555555555*b**2*xi*exp(-3*L**2*xi**2)/(sqrt(PI)*L**2) - 5.99999999999999*b**2*erfc(L*xi)/L**3 + 0.749999999999998*sqrt(2)*b**2*erfc(sqrt(2)*L*xi)/L**3 + 0.592592592592592*sqrt(3)*b**2*erfc(sqrt(3)*L*xi)/L**3 + 40.0*b**4*xi*exp(-L**2*xi**2)/(sqrt(PI)*L**4) - 5.0*b**4*xi*exp(-2*L**2*xi**2)/(sqrt(PI)*L**4) - 3.95061728395052*b**4*xi*exp(-3*L**2*xi**2)/(sqrt(PI)*L**4) + 20.0*b**4*erfc(L*xi)/L**5 - 1.25*sqrt(2)*b**4*erfc(sqrt(2)*L*xi)/L**5 - 0.658436213991761*sqrt(3)*b**4*erfc(sqrt(3)*L*xi)/L**5)/(8*PI*eta) + (0.0444444444444444*b**2*exp(-12.0*PI**2/(L**2*xi**2))/eta + 0.192592592592592*b**2*exp(-9.0*PI**2/(L**2*xi**2))/eta + 0.0500000000000003*b**2*exp(-8.0*PI**2/(L**2*xi**2))/eta + 0.2*b**2*exp(-6.0*PI**2/(L**2*xi**2))/eta - 0.159999999999999*b**2*exp(-5.0*PI**2/(L**2*xi**2))/eta - 0.2*b**2*exp(-4.0*PI**2/(L**2*xi**2))/eta + 0.355555555555555*b**2*exp(-3.0*PI**2/(L**2*xi**2))/eta + 0.200000000000001*b**2*exp(-2.0*PI**2/(L**2*xi**2))/eta - 0.400000000000001*b**2*exp(-1.0*PI**2/(L**2*xi**2))/eta - 0.507936507936508*PI**2*b**4*exp(-12.0*PI**2/(L**2*xi**2))/(L**2*eta) - 1.65079365079365*PI**2*b**4*exp(-9.0*PI**2/(L**2*xi**2))/(L**2*eta) - 0.380952380952381*PI**2*b**4*exp(-8.0*PI**2/(L**2*xi**2))/(L**2*eta) - 1.14285714285714*PI**2*b**4*exp(-6.0*PI**2/(L**2*xi**2))/(L**2*eta) + 0.761904761904761*PI**2*b**4*exp(-5.0*PI**2/(L**2*xi**2))/(L**2*eta) + 0.761904761904766*PI**2*b**4*exp(-4.0*PI**2/(L**2*xi**2))/(L**2*eta) - 1.01587301587302*PI**2*b**4*exp(-3.0*PI**2/(L**2*xi**2))/(L**2*eta) - 0.380952380952382*PI**2*b**4*exp(-2.0*PI**2/(L**2*xi**2))/(L**2*eta) + 0.380952380952381*PI**2*b**4*exp(-1.0*PI**2/(L**2*xi**2))/(L**2*eta) + 0.533333333333333*PI**2*b**2*exp(-12.0*PI**2/(L**2*xi**2))/(L**2*eta*xi**2) + 1.73333333333333*PI**2*b**2*exp(-9.0*PI**2/(L**2*xi**2))/(L**2*eta*xi**2) + 0.400000000000002*PI**2*b**2*exp(-8.0*PI**2/(L**2*xi**2))/(L**2*eta*xi**2) + 1.2*PI**2*b**2*exp(-6.0*PI**2/(L**2*xi**2))/(L**2*eta*xi**2) - 0.799999999999997*PI**2*b**2*exp(-5.0*PI**2/(L**2*xi**2))/(L**2*eta*xi**2) - 0.800000000000001*PI**2*b**2*exp(-4.0*PI**2/(L**2*xi**2))/(L**2*eta*xi**2) + 1.06666666666667*PI**2*b**2*exp(-3.0*PI**2/(L**2*xi**2))/(L**2*eta*xi**2) + 0.400000000000002*PI**2*b**2*exp(-2.0*PI**2/(L**2*xi**2))/(L**2*eta*xi**2) - 0.400000000000001*PI**2*b**2*exp(-1.0*PI**2/(L**2*xi**2))/(L**2*eta*xi**2) - 6.0952380952381*PI**4*b**4*exp(-12.0*PI**2/(L**2*xi**2))/(L**4*eta*xi**2) - 14.8571428571428*PI**4*b**4*exp(-9.0*PI**2/(L**2*xi**2))/(L**4*eta*xi**2) - 3.04761904761905*PI**4*b**4*exp(-8.0*PI**2/(L**2*xi**2))/(L**4*eta*xi**2) - 6.85714285714286*PI**4*b**4*exp(-6.0*PI**2/(L**2*xi**2))/(L**4*eta*xi**2) + 3.80952380952381*PI**4*b**4*exp(-5.0*PI**2/(L**2*xi**2))/(L**4*eta*xi**2) + 3.04761904761906*PI**4*b**4*exp(-4.0*PI**2/(L**2*xi**2))/(L**4*eta*xi**2) - 3.04761904761905*PI**4*b**4*exp(-3.0*PI**2/(L**2*xi**2))/(L**4*eta*xi**2) - 0.761904761904764*PI**4*b**4*exp(-2.0*PI**2/(L**2*xi**2))/(L**4*eta*xi**2) + 0.380952380952381*PI**4*b**4*exp(-1.0*PI**2/(L**2*xi**2))/(L**4*eta*xi**2) + 12.8*PI**4*b**2*exp(-12.0*PI**2/(L**2*xi**2))/(L**4*eta*xi**4) + 31.2*PI**4*b**2*exp(-9.0*PI**2/(L**2*xi**2))/(L**4*eta*xi**4) + 6.40000000000004*PI**4*b**2*exp(-8.0*PI**2/(L**2*xi**2))/(L**4*eta*xi**4) + 14.4*PI**4*b**2*exp(-6.0*PI**2/(L**2*xi**2))/(L**4*eta*xi**4) - 7.99999999999997*PI**4*b**2*exp(-5.0*PI**2/(L**2*xi**2))/(L**4*eta*xi**4) - 6.40000000000001*PI**4*b**2*exp(-4.0*PI**2/(L**2*xi**2))/(L**4*eta*xi**4) + 6.39999999999999*PI**4*b**2*exp(-3.0*PI**2/(L**2*xi**2))/(L**4*eta*xi**4) + 1.60000000000001*PI**4*b**2*exp(-2.0*PI**2/(L**2*xi**2))/(L**4*eta*xi**4) - 0.800000000000001*PI**4*b**2*exp(-1.0*PI**2/(L**2*xi**2))/(L**4*eta*xi**4) - 146.285714285714*PI**6*b**4*exp(-12.0*PI**2/(L**2*xi**2))/(L**6*eta*xi**4) - 267.428571428571*PI**6*b**4*exp(-9.0*PI**2/(L**2*xi**2))/(L**6*eta*xi**4) - 48.7619047619048*PI**6*b**4*exp(-8.0*PI**2/(L**2*xi**2))/(L**6*eta*xi**4) - 82.2857142857144*PI**6*b**4*exp(-6.0*PI**2/(L**2*xi**2))/(L**6*eta*xi**4) + 38.095238095238*PI**6*b**4*exp(-5.0*PI**2/(L**2*xi**2))/(L**6*eta*xi**4) + 24.3809523809525*PI**6*b**4*exp(-4.0*PI**2/(L**2*xi**2))/(L**6*eta*xi**4) - 18.2857142857143*PI**6*b**4*exp(-3.0*PI**2/(L**2*xi**2))/(L**6*eta*xi**4) - 3.04761904761906*PI**6*b**4*exp(-2.0*PI**2/(L**2*xi**2))/(L**6*eta*xi**4) + 0.761904761904762*PI**6*b**4*exp(-1.0*PI**2/(L**2*xi**2))/(L**6*eta*xi**4))/L**3)*(-1)"
   ]
  },
  {
   "cell_type": "code",
   "execution_count": null,
   "id": "6b1c501a-4311-4d61-a464-8f6c4596de95",
   "metadata": {},
   "outputs": [],
   "source": []
  },
  {
   "cell_type": "code",
   "execution_count": 96,
   "id": "de19d269-77b8-45a4-a5f1-0f01bb819631",
   "metadata": {},
   "outputs": [],
   "source": [
    "blasubs = bla.subs({b:1, eta:1/6, xi:sqrt(PI)/L})"
   ]
  },
  {
   "cell_type": "code",
   "execution_count": 103,
   "id": "dbcaaa14-385c-452f-8dd3-7331da38b08d",
   "metadata": {},
   "outputs": [
    {
     "data": {
      "text/latex": [
       "$\\displaystyle - \\frac{-2.25256853694303 + \\frac{18.7894151943723}{L^{2}}}{L^{3}} - \\frac{1.13647376331911}{L^{3}} - \\frac{0.17904931097837 \\sqrt{2} \\operatorname{erfc}{\\left(1.77245385090557 \\sqrt{2} \\right)}}{L^{3}} - \\frac{0.14147106052612 \\sqrt{3} \\operatorname{erfc}{\\left(1.77245385090557 \\sqrt{3} \\right)}}{L^{3}} + \\frac{0.157190067251242 \\sqrt{3} \\operatorname{erfc}{\\left(1.77245385090557 \\sqrt{3} \\right)}}{L^{5}} + \\frac{0.298415518297284 \\sqrt{2} \\operatorname{erfc}{\\left(1.77245385090557 \\sqrt{2} \\right)}}{L^{5}} + \\frac{14.660112279198}{L^{5}}$"
      ],
      "text/plain": [
       "-(-2.25256853694303 + 18.7894151943723/L**2)/L**3 - 1.13647376331911/L**3 - 0.17904931097837*sqrt(2)*erfc(1.77245385090557*sqrt(2))/L**3 - 0.14147106052612*sqrt(3)*erfc(1.77245385090557*sqrt(3))/L**3 + 0.157190067251242*sqrt(3)*erfc(1.77245385090557*sqrt(3))/L**5 + 0.298415518297284*sqrt(2)*erfc(1.77245385090557*sqrt(2))/L**5 + 14.660112279198/L**5"
      ]
     },
     "execution_count": 103,
     "metadata": {},
     "output_type": "execute_result"
    }
   ],
   "source": [
    "blasubs"
   ]
  },
  {
   "cell_type": "code",
   "execution_count": 98,
   "id": "ca97c8c4-def9-4fae-8417-e92e5ee6d34c",
   "metadata": {},
   "outputs": [],
   "source": [
    "interval = np.linspace(1.8, 8.7)\n",
    "evaluation = np.zeros(len(interval))\n",
    "i = 0\n",
    "for ll in interval:\n",
    "    evaluation[i] = blasubs.subs(L,ll).evalf()\n",
    "    i+=1"
   ]
  },
  {
   "cell_type": "code",
   "execution_count": 99,
   "id": "b7062094-22b2-47e3-bc06-35ab45aff4e3",
   "metadata": {},
   "outputs": [
    {
     "data": {
      "text/plain": [
       "[<matplotlib.lines.Line2D at 0x7fc29feb9360>]"
      ]
     },
     "execution_count": 99,
     "metadata": {},
     "output_type": "execute_result"
    },
    {
     "data": {
      "image/png": "[encoded data removed]",
      "text/plain": [
       "<Figure size 432x288 with 1 Axes>"
      ]
     },
     "metadata": {
      "needs_background": "light"
     },
     "output_type": "display_data"
    }
   ],
   "source": [
    "plt.plot(Llist,evaluation)"
   ]
  },
  {
   "cell_type": "code",
   "execution_count": 100,
   "id": "7b175bae-d1e6-434b-859f-545a34e46078",
   "metadata": {},
   "outputs": [
    {
     "data": {
      "text/plain": [
       "[2.48326641081790]"
      ]
     },
     "execution_count": 100,
     "metadata": {},
     "output_type": "execute_result"
    }
   ],
   "source": [
    "solve(diff(blasubs, L), L)"
   ]
  },
  {
   "cell_type": "code",
   "execution_count": null,
   "id": "8b95ce60-0ca2-4b9b-986c-7b630309f06e",
   "metadata": {},
   "outputs": [],
   "source": [
    "##somehow Krylov solver is taking absolute value of element 19 of G3s1s?"
   ]
  },
  {
   "cell_type": "code",
   "execution_count": 108,
   "id": "eb820ff0-3531-471b-b150-b070fb3a907b",
   "metadata": {},
   "outputs": [
    {
     "data": {
      "text/plain": [
       "array([3, 3, 3, 3])"
      ]
     },
     "execution_count": 108,
     "metadata": {},
     "output_type": "execute_result"
    }
   ],
   "source": [
    "np.full(4,3)"
   ]
  },
  {
   "cell_type": "code",
   "execution_count": null,
   "id": "32b41d88-e1fc-4cfe-a129-d2d3225450f7",
   "metadata": {},
   "outputs": [],
   "source": []
  }
 ],
 "metadata": {
  "kernelspec": {
   "display_name": "Python 3 (ipykernel)",
   "language": "python",
   "name": "python3"
  },
  "language_info": {
   "codemirror_mode": {
    "name": "ipython",
    "version": 3
   },
   "file_extension": ".py",
   "mimetype": "text/x-python",
   "name": "python",
   "nbconvert_exporter": "python",
   "pygments_lexer": "ipython3",
   "version": "3.10.2"
  }
 },
 "nbformat": 4,
 "nbformat_minor": 5
}
