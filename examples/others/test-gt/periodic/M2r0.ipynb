{
 "cells": [
  {
   "cell_type": "code",
   "execution_count": 1,
   "id": "17f6dec5-4d6e-4581-aeb5-4efa3f657118",
   "metadata": {},
   "outputs": [
    {
     "name": "stdout",
     "output_type": "stream",
     "text": [
      "/store/SOFT/gt369/Software/anaconda3/envs/pystokes/bin/python\n"
     ]
    }
   ],
   "source": [
    "from symengine import *\n",
    "import sympy\n",
    "import numpy as np\n",
    "import re\n",
    "from joblib import Parallel, delayed\n",
    "from joblib import parallel_backend\n",
    "from joblib import wrap_non_picklable_objects\n",
    "import sys\n",
    "print(sys.executable)"
   ]
  },
  {
   "cell_type": "markdown",
   "id": "5f7bf248-8a19-412c-a478-7842bc189101",
   "metadata": {},
   "source": [
    "Number of periodic boxes and Fourier modes"
   ]
  },
  {
   "cell_type": "markdown",
   "id": "d36ae4b1-e82c-4ed9-9184-6811c59ef3c4",
   "metadata": {},
   "source": [
    "### Definitions and auxiliary functions"
   ]
  },
  {
   "cell_type": "code",
   "execution_count": 2,
   "id": "babfb597-6158-4467-9e11-2dafb41e2b87",
   "metadata": {},
   "outputs": [],
   "source": [
    "xij, yij, zij = symbols(\"xij, yij, zij\", real=True) \n",
    "b, eta = symbols(\"b, eta\", real=True, positive=True)\n",
    "\n",
    "# indices for summation:\n",
    "## Caution, cannot use lambda, instead use Lambda\n",
    "## do not use eta as index, it's the viscosity\n",
    "alpha, beta, gamma, gamma1, gamma2, gamma3, gamma4, kappa, kappa1, kappa2, mu, nu, nu1, nu2, Lambda, eta2, zeta, sigma = symbols(\n",
    "    'alpha, beta, gamma, gamma1, gamma2, gamma3, gamma4, kappa, kappa1, kappa2, mu, nu, nu1, nu2, Lambda, eta2, zeta, sigma', integer=True)\n",
    "\n",
    "#new symbols for periodic calculation: boxSize, xi (convergence parameter)\n",
    "L, xi = symbols(\"L, xi\", real=True, positive=True)\n",
    "kx, ky, kz = symbols(\"kx, ky, kz\", real=True) \n",
    "\n",
    "r0 = symbols(\"r0\", real=True, positive=True) ## for limit r->0 in M2\n",
    "\n",
    "rij = Matrix([xij, yij, zij])\n",
    "k = Matrix([kx, ky, kz])\n",
    "kDOTrij = xij*kx + yij*ky + zij*kz\n",
    "norm_rij = sqrt(xij**2 + yij**2 + zij**2)\n",
    "norm_k = sqrt(kx**2 + ky**2 + kz**2)\n",
    "\n",
    "k0 = 2*pi/L\n",
    "\n",
    "def norm(r):\n",
    "    result=0\n",
    "    for i in range(3):\n",
    "        result += r[i]**2\n",
    "    return sqrt(result)\n",
    "\n",
    "KroneckerDelta = eye(3)\n",
    "\n",
    "def eps(alpha, beta, gamma):\n",
    "    return LeviCivita(alpha,beta,gamma)"
   ]
  },
  {
   "cell_type": "markdown",
   "id": "6e0bc211-afdb-4135-9efb-55e8743b513e",
   "metadata": {},
   "source": [
    "### Calculus auxiliary functions"
   ]
  },
  {
   "cell_type": "code",
   "execution_count": 3,
   "id": "22f40630-d61d-474a-ab4c-c23eff11b6dd",
   "metadata": {},
   "outputs": [],
   "source": [
    "def Laplacian(G):\n",
    "    return diff(G, rij[0], rij[0]) + diff(G, rij[1], rij[1]) + diff(G, rij[2], rij[2])\n",
    "\n",
    "def Curl(G, alpha, beta): ## the function to take the curl of and the two remaining indices \n",
    "    result=0\n",
    "    for i in range(3):\n",
    "        for j in range(3):\n",
    "            result += eps(alpha,i,j)*diff(G(j,beta),rij[i])\n",
    "    return result\n",
    "\n",
    "def tilde_Curl(G, alpha, beta): ##introduce for convenience, minus sign already taken into account in matrix elements\n",
    "    result=0\n",
    "    for i in range(3):\n",
    "        for j in range(3):\n",
    "            result += eps(beta,i,j)*diff(G(alpha, j),rij[i])\n",
    "    return result\n",
    "\n",
    "def CurlCurl(G, alpha, beta): ## the function to take the curl of and the two remaining indices \n",
    "    result=0\n",
    "    for i in range(3):\n",
    "        for j in range(3):\n",
    "            for k in range(3):\n",
    "                for l in range(3):\n",
    "                    result += eps(alpha,i,j)*eps(beta,k,l)*diff(G(j,l), rij[i], rij[k])\n",
    "    return result\n",
    "\n",
    "\n",
    "def SumG(G, sigma, eta2, mu):\n",
    "    result=0\n",
    "    for i in range(3):\n",
    "        result += eps(sigma, eta2, i)*Laplacian( G(mu, i) )\n",
    "    return result\n",
    "\n",
    "\n",
    "def SumG3s1Sym(G, mu, nu2, alpha, gamma1, gamma2):\n",
    "    result=0\n",
    "    for i in range(3):\n",
    "        result += eps(mu,nu2,i)*g3s1Sym(G, alpha,gamma1,gamma2,i) ##add argument G\n",
    "    return result"
   ]
  },
  {
   "cell_type": "markdown",
   "id": "a7eeb0c8-ac8f-4bfd-9e52-8f8505291830",
   "metadata": {},
   "source": [
    "### M2(r=0) function"
   ]
  },
  {
   "cell_type": "code",
   "execution_count": 4,
   "id": "7a8dd3ec-b411-4717-9977-fbfaa538d142",
   "metadata": {},
   "outputs": [],
   "source": [
    "def func_M2(alpha, beta):\n",
    "    func = norm_rij*erf(xi*norm_rij)\n",
    "    return KroneckerDelta[alpha, beta]*Laplacian(func) - diff( func, rij[alpha], rij[beta])"
   ]
  },
  {
   "cell_type": "code",
   "execution_count": 5,
   "id": "1dd10fdd-49b5-4a35-b8a6-08c762867953",
   "metadata": {},
   "outputs": [],
   "source": [
    "matM2 = zeros(3,3)\n",
    "for i in range(3):\n",
    "    for j in range(3):\n",
    "        matM2[i,j] = func_M2(i,j)\n",
    "\n",
    "def M2_(alpha,beta):\n",
    "    return matM2[alpha,beta]"
   ]
  },
  {
   "cell_type": "code",
   "execution_count": null,
   "id": "b952caf8-9e74-4bb7-8926-2d324125b832",
   "metadata": {},
   "outputs": [],
   "source": []
  },
  {
   "cell_type": "code",
   "execution_count": 73,
   "id": "70bf9e6a-d33f-4ee4-be74-a371bf9afefc",
   "metadata": {},
   "outputs": [],
   "source": [
    "blaM = zeros(3,3)\n",
    "for i in range(3):\n",
    "    for j in range(3):\n",
    "        blaM[i,j] = sympy.limit(Laplacian(Laplacian(M2_(i,j))).subs({xij:r0, yij:r0, zij:r0}), r0, 0).subs({xi:sqrt(pi)/10}).evalf()"
   ]
  },
  {
   "cell_type": "code",
   "execution_count": 74,
   "id": "ececc781-c53c-476e-ae38-61458113dc54",
   "metadata": {},
   "outputs": [
    {
     "data": {
      "text/plain": [
       "[0.0663237415753205, 0, 0]\n",
       "[0, 0.0663237415753205, 0]\n",
       "[0, 0, 0.0663237415753205]"
      ]
     },
     "execution_count": 74,
     "metadata": {},
     "output_type": "execute_result"
    }
   ],
   "source": [
    "blaM"
   ]
  },
  {
   "cell_type": "code",
   "execution_count": 72,
   "id": "12133f1b-9457-4f04-8c6b-a3073ff7aa8d",
   "metadata": {},
   "outputs": [
    {
     "data": {
      "text/latex": [
       "$\\displaystyle \\frac{672 \\xi^{5}}{\\sqrt{\\pi}}$"
      ],
      "text/plain": [
       "672*xi**5/sqrt(pi)"
      ]
     },
     "execution_count": 72,
     "metadata": {},
     "output_type": "execute_result"
    }
   ],
   "source": [
    "sympy.limit(Laplacian(Laplacian(M2_(i,j))).subs({xij:r0, yij:r0, zij:r0}), r0, 0)"
   ]
  },
  {
   "cell_type": "code",
   "execution_count": 87,
   "id": "866f2d9b-10a0-471b-8fbb-9a20ce3b7984",
   "metadata": {},
   "outputs": [
    {
     "data": {
      "text/latex": [
       "$\\displaystyle \\frac{2}{\\sqrt{\\pi}}$"
      ],
      "text/plain": [
       "2/sqrt(pi)"
      ]
     },
     "execution_count": 87,
     "metadata": {},
     "output_type": "execute_result"
    }
   ],
   "source": [
    "sympy.limit((erf(norm_rij)/norm_rij).subs({xij:r0, yij:r0, zij:r0}), r0, 0)"
   ]
  },
  {
   "cell_type": "code",
   "execution_count": null,
   "id": "32810c15-4f8f-4d1a-b540-f7d55fbc1d49",
   "metadata": {},
   "outputs": [],
   "source": [
    "##Anything wrong with the limiting behaviours here??"
   ]
  },
  {
   "cell_type": "code",
   "execution_count": null,
   "id": "a0c5f96a-dfe7-4e30-a92e-6f5e88d77c54",
   "metadata": {},
   "outputs": [],
   "source": []
  },
  {
   "cell_type": "code",
   "execution_count": 6,
   "id": "c07ab615-f197-4e76-a595-5a612f347ecb",
   "metadata": {},
   "outputs": [],
   "source": [
    "##auxiliary functions\n",
    "def delG(G, alpha, beta, gamma):\n",
    "    return diff( G(alpha,beta), rij[gamma])\n",
    "\n",
    "def lapG(G, alpha,beta):\n",
    "    return Laplacian( G(alpha,beta) )\n",
    "\n",
    "def dellapG(G, alpha, beta, kappa1):\n",
    "    return diff(lapG(G, alpha, beta), rij[kappa1])\n",
    "\n",
    "def deldelG(G, zeta, beta, kappa1, nu):\n",
    "    return diff(delG(G, zeta, beta, kappa1), rij[nu])\n",
    "\n",
    "def deldellapG(G, alpha, beta, gamma1, kappa1):\n",
    "    return diff(dellapG(G, alpha,beta, gamma1), rij[kappa1])\n",
    "\n",
    "def deldeldelG(G, alpha, beta, gamma1, gamma2, gamma3):\n",
    "    return diff(deldelG(G, alpha, beta, gamma1, gamma2), rij[gamma3])\n",
    "\n",
    "def deldeldeldelG(G, alpha, beta, gamma1, gamma2, gamma3, gamma4):\n",
    "    return diff(deldeldelG(G, alpha, beta, gamma1, gamma2, gamma3), rij[gamma4])"
   ]
  },
  {
   "cell_type": "code",
   "execution_count": 7,
   "id": "5b8ac019-8f87-4077-a8e7-8017a3cbcb50",
   "metadata": {},
   "outputs": [],
   "source": [
    "# GLL  ##simplify later, when filling matrix elements, after subsituting for xij -- much faster\n",
    "def G1s1s(G, alpha, beta):\n",
    "    return G(alpha, beta) + b**2/3*lapG(G, alpha, beta)\n",
    "\n",
    "def G1s2a(G, alpha, beta):\n",
    "    return -b/2*tilde_Curl(G, alpha,beta)\n",
    "\n",
    "def G2a1s(G, alpha, beta):\n",
    "    return b*Curl(G, alpha,beta)\n",
    "\n",
    "def G2a2a(G, alpha, beta):\n",
    "    return -b**2/2*CurlCurl(G, alpha,beta)"
   ]
  },
  {
   "cell_type": "code",
   "execution_count": 8,
   "id": "0727677a-3a83-4c8f-86b7-a49380b9a8ad",
   "metadata": {},
   "outputs": [],
   "source": [
    "## GL2s and G2sL\n",
    "def G1s2s(G, alpha, kappa1, beta):\n",
    "    return -b/2*((delG(G, alpha, beta, kappa1) + delG(G, alpha, kappa1, beta)) + 4*b**2/15*(dellapG(G, alpha, beta, kappa1) + dellapG(G, alpha, kappa1, beta)))\n",
    "\n",
    "def G2a2s(G, alpha, kappa1, beta):\n",
    "    return -b**2/2*(diff(Curl(G, alpha, beta),rij[kappa1]) + diff(Curl(G, alpha, kappa1),rij[beta]))\n",
    "\n",
    "def G2s1s(G, alpha, gamma1, beta):\n",
    "    return b/2*((delG(G, alpha, beta, gamma1) + delG(G, gamma1, beta, alpha)) + 4*b**2/15*(dellapG(G, alpha,beta,gamma1) + dellapG(G, gamma1, beta, alpha)))\n",
    "\n",
    "def G2s2a(G, alpha, gamma1, mu):\n",
    "    return -b**2/4*(diff(tilde_Curl(G, gamma1,mu), rij[alpha]) + diff(tilde_Curl(G, alpha,mu), rij[gamma1])) #sign change from -> eps(mu, kappa1, beta)\n",
    "\n",
    "\n",
    "## G2s2s\n",
    "def G2s2s(G, alpha, gamma1, kappa1, beta):\n",
    "    return -b**2/4*((deldelG(G, alpha, beta, gamma1, kappa1) + deldelG(G, gamma1, beta, alpha, kappa1)) + \n",
    "                      (deldelG(G, alpha,kappa1, gamma1, beta) + deldelG(G, gamma1, kappa1, alpha, beta)) +\n",
    "                      b**2/5*(deldellapG(G, alpha,beta,gamma1,kappa1) + deldellapG(G, gamma1,beta,alpha,kappa1)) + \n",
    "                      b**2/5*(deldellapG(G, alpha, kappa1, gamma1, beta) + deldellapG(G, gamma1,kappa1,alpha,beta)))\n",
    "\n",
    "\n",
    "## higher matrix elements\n",
    "def G1s3t(G, alpha, beta):\n",
    "    return -b**2/5*lapG(G, alpha,beta)\n",
    "\n",
    "\n",
    "# symmetry for matrix elements of form l sigma, 3s\n",
    "def g13sSym(G, alpha,kappa2,kappa1,beta):\n",
    "    return (deldelG(G, alpha,beta,kappa1,kappa2) + deldelG(G, alpha,kappa2,kappa1,beta) + deldelG(G, alpha,kappa1,beta,kappa2))/3 - (\n",
    "        KroneckerDelta[kappa1,kappa2]*lapG(G, alpha,beta) + KroneckerDelta[kappa1,beta]*lapG(G, alpha,kappa2) + KroneckerDelta[beta,kappa2]*lapG(G, alpha,kappa1))/15\n",
    "\n",
    "def G1s3s(G, alpha,kappa2, kappa1, beta):\n",
    "    return b**2*(g13sSym(G, alpha,kappa2,kappa1,beta) + 5*b**2/21*Laplacian(g13sSym(G, alpha,kappa2,kappa1,beta)))\n",
    "\n",
    "\n",
    "# symmetry of matrix elements of form 3s, l sigma\n",
    "def g3s1Sym(G, alpha,gamma1,gamma2,beta):\n",
    "    return (deldelG(G, alpha,beta,gamma1,gamma2) + deldelG(G, gamma1,beta,gamma2,alpha) + deldelG(G, gamma2,beta,alpha,gamma1))/3 - (\n",
    "        KroneckerDelta[gamma1, gamma2]*lapG(G, alpha,beta) + KroneckerDelta[gamma2,alpha]*lapG(G, gamma1,beta) + KroneckerDelta[alpha,gamma1]*lapG(G, gamma2,beta))/15\n",
    "\n",
    "def G3s1s(G, alpha,gamma1,gamma2,beta):\n",
    "    return b**2*(g3s1Sym(G, alpha,gamma1,gamma2,beta) + 5*b**2/21*Laplacian(g3s1Sym(G, alpha,gamma1,gamma2,beta)))\n",
    "\n",
    "def G3a1s(G, Lambda, kappa2, beta):\n",
    "    return b**2/2*(diff(Curl(G, Lambda, beta), rij[kappa2]) + diff(Curl(G, kappa2,beta), rij[Lambda]))\n",
    "\n",
    "def G1s3a(G, alpha, nu2, sigma):\n",
    "    return 2*b**2/3*(diff(tilde_Curl(G, alpha,nu2),rij[sigma]) - SumG(G, nu2,sigma,alpha)/3) # sign change due to --> eps(sigma,nu1,beta)\n",
    "\n",
    "\n",
    "def g3sCurlSym(G, alpha,gamma1,gamma2,mu):\n",
    "    return (diff(tilde_Curl(G, alpha,mu), rij[gamma1],rij[gamma2]) + diff(tilde_Curl(G, gamma1,mu), rij[gamma2],rij[alpha]) + diff(tilde_Curl(G, gamma2,mu), rij[alpha],rij[gamma1]))/3\n",
    "        \n",
    "def G3s2a(G, alpha,gamma1,gamma2,mu):\n",
    "    return -b**3/2*g3sCurlSym(G, alpha, gamma1, gamma2, mu)## sign change due to -> eps(mu, kappa1, beta)\n",
    "\n",
    "def G3a2a(G, Lambda, kappa2, mu):\n",
    "    return -b**3/4*(diff(CurlCurl(G, Lambda,mu), rij[kappa2]) + diff(CurlCurl(G, kappa2,mu), rij[Lambda])) #sign change -> eps(mu,kappa1,beta)\n",
    "\n",
    "def G2s3t(G, alpha,gamma1,nu2):\n",
    "    return -b**3/10*(dellapG(G, alpha,nu2,gamma1) + dellapG(G, gamma1,nu2,alpha))\n",
    "\n",
    "def G3s3t(G, alpha,gamma1,gamma2,nu2):\n",
    "    return -b**4/5*Laplacian(g3s1Sym(G, alpha,gamma1,gamma2,nu2))\n",
    "\n",
    "def G2s3a(G, alpha,gamma1,mu,nu2): #sign change -> eps(mu,nu1,beta)\n",
    "    return b**3/3*( diff(tilde_Curl(G, alpha,mu), rij[gamma1], rij[nu2]) - diff(SumG(G, mu,nu2,alpha), rij[gamma1])/3\n",
    "                   + diff(tilde_Curl(G, gamma1,mu), rij[alpha], rij[nu2]) - diff(SumG(G, mu,nu2,gamma1), rij[alpha])/3)\n",
    "\n",
    "def G3a3a(G, Lambda, kappa2, mu, nu2): #sign change -> eps(mu,nu1,beta)\n",
    "    return b**4/3*(diff(CurlCurl(G, Lambda,mu), rij[nu2], rij[kappa2]) + diff(CurlCurl(G, kappa2,mu), rij[nu2], rij[Lambda]))\n",
    "\n",
    "def G3s3a(G, alpha,gamma1,gamma2,mu,nu2): #sign change -> eps(mu,nu1,beta)\n",
    "    return 2*b**4/3*(diff(g3sCurlSym(G, alpha,gamma1,gamma2,mu), rij[nu2]) - Laplacian(SumG3s1Sym(G, mu,nu2,alpha,gamma1,gamma2))/3)\n",
    "\n",
    "\n",
    "def g2s3sSym(G, alpha,gamma1,kappa2, kappa1, beta):\n",
    "    return diff(g13sSym(G, alpha,kappa2,kappa1,beta), rij[gamma1]) + diff(g13sSym(G, gamma1, kappa2, kappa1, beta), rij[alpha])\n",
    "\n",
    "def G2s3s(G, alpha,gamma1,kappa2, kappa1, beta):\n",
    "    return b**3/2*(g2s3sSym(G, alpha,gamma1,kappa2, kappa1, beta) + 6*b**2/35*Laplacian(g2s3sSym(G, alpha,gamma1,kappa2, kappa1, beta)))\n",
    "\n",
    "\n",
    "def gCurl3sSym(G, tau, kappa2, kappa1, beta):\n",
    "    return (diff(Curl(G, tau, beta), rij[kappa1],rij[kappa2]) + diff(Curl(G, tau,kappa1), rij[kappa2],rij[beta]) + diff(Curl(G, tau,kappa2), rij[beta],rij[kappa1]))/3 \n",
    "\n",
    "def G3a3s(G, Lambda, eta2, kappa2, kappa1, beta):\n",
    "    return b**4/2*(diff(gCurl3sSym(G, Lambda, kappa1, kappa2, beta), rij[eta2]) + diff(gCurl3sSym(G, eta2, kappa1, kappa2, beta), rij[Lambda]))\n",
    "\n",
    "\n",
    "def deldelg13sSym(G, alpha,gamma1,gamma2,kappa2,kappa1,beta):\n",
    "    return diff(g13sSym(G, alpha,kappa2,kappa1,beta), rij[gamma1], rij[gamma2])\n",
    "\n",
    "def lapg13sSym(G, alpha,kappa2,kappa1,beta):\n",
    "    return Laplacian(g13sSym(G, alpha,kappa2,kappa1,beta))\n",
    "\n",
    "def g3s3sSym(G, alpha,gamma1,gamma2,kappa2,kappa1,beta):\n",
    "    return (deldelg13sSym(G, alpha,gamma1,gamma2,kappa2,kappa1,beta) + deldelg13sSym(G, gamma1,gamma2,alpha,kappa2,kappa1,beta) + \n",
    "                deldelg13sSym(G, gamma2,alpha,gamma1,kappa2,kappa1,beta))/3 - (\n",
    "                KroneckerDelta[gamma1,gamma2]*lapg13sSym(G, alpha, kappa2, kappa1, beta) + \n",
    "                KroneckerDelta[gamma2,alpha]*lapg13sSym(G, gamma1, kappa2, kappa1, beta) + \n",
    "                KroneckerDelta[alpha,gamma1]*lapg13sSym(G, gamma2, kappa2, kappa1, beta))/15\n",
    "\n",
    "def G3s3s(G, alpha,gamma1,gamma2,kappa2,kappa1,beta):\n",
    "    return b**4*(g3s3sSym(G, alpha,gamma1,gamma2,kappa2,kappa1,beta) + b**2/7*Laplacian(g3s3sSym(G, alpha,gamma1,gamma2,kappa2,kappa1,beta)))\n",
    "\n",
    "def G3a2s(G, Lambda, kappa2, kappa1, beta):\n",
    "    return -b**3/4*(diff(Curl(G, Lambda,beta), rij[kappa1], rij[kappa2]) + diff(Curl(G, Lambda,kappa1), rij[beta], rij[kappa2])\n",
    "                       + diff(Curl(G, kappa2,beta), rij[kappa1], rij[Lambda]) + diff(Curl(G, kappa2,kappa1), rij[beta], rij[Lambda]))\n",
    "\n",
    "\n",
    "def g3s2sSym(G, alpha,gamma1,gamma2, kappa1, beta):\n",
    "    return diff(g3s1Sym(G, alpha,gamma1,gamma2,beta), rij[kappa1]) + diff(g3s1Sym(G, alpha,gamma1,gamma2,kappa1), rij[beta])\n",
    "\n",
    "def G3s2s(G, alpha,gamma1,gamma2,kappa1,beta):\n",
    "    return -b**3/2*(g3s2sSym(G, alpha,gamma1,gamma2, kappa1, beta) + 6*b**2/35*Laplacian(g3s2sSym(G, alpha,gamma1,gamma2, kappa1, beta)))\n",
    "\n",
    "def G2a3a(G, Lambda, mu, nu2): # sign change -> eps(mu,nu1,beta)\n",
    "    return 2*b**3/3*diff(CurlCurl(G, Lambda, mu), rij[nu2])\n",
    "\n",
    "def G2a3s(G, Lambda,kappa2,kappa1,beta):\n",
    "    return b**3*gCurl3sSym(G, Lambda, kappa1, kappa2, beta)"
   ]
  },
  {
   "cell_type": "code",
   "execution_count": 9,
   "id": "ca6946f1-874b-4bb9-90c3-b17ef6ae0a63",
   "metadata": {},
   "outputs": [],
   "source": [
    "## zero elements\n",
    "def G3t1s(G, alpha,beta):\n",
    "    return S(0)\n",
    "\n",
    "def G3t2a(G, alpha,beta):\n",
    "    return S(0)\n",
    "\n",
    "def G3t2s(G, alpha, beta, kappa1):\n",
    "    return S(0)\n",
    "\n",
    "def G3t3t(G, alpha,beta):\n",
    "    return S(0)\n",
    "\n",
    "def G3t3a(G, alpha, beta, kappa1):\n",
    "    return S(0)\n",
    "\n",
    "def G3t3s(G, alpha, beta, kappa1, kappa2):\n",
    "    return S(0)\n",
    "\n",
    "def G2a3t(G, alpha,beta):\n",
    "    return S(0)\n",
    "\n",
    "def G3a3t(G, alpha, gamma1, beta):\n",
    "    return S(0)"
   ]
  },
  {
   "cell_type": "markdown",
   "id": "6f897079-df42-44a3-b227-e0800fb10bf8",
   "metadata": {},
   "source": [
    "## Matrix assembly"
   ]
  },
  {
   "cell_type": "code",
   "execution_count": 10,
   "id": "b6dd4df8-a5ab-4e61-a787-1a9f43acf600",
   "metadata": {},
   "outputs": [],
   "source": [
    "@delayed\n",
    "@wrap_non_picklable_objects\n",
    "def matG(G, *args):\n",
    "    return G(*args)"
   ]
  },
  {
   "cell_type": "code",
   "execution_count": 11,
   "id": "9578e069-eb09-4852-88fe-93a568694d02",
   "metadata": {},
   "outputs": [],
   "source": [
    "n_jobs = 50 "
   ]
  },
  {
   "cell_type": "code",
   "execution_count": 12,
   "id": "66d5c26c-f44a-40b5-9266-1bb5fe326f2f",
   "metadata": {},
   "outputs": [],
   "source": [
    "modes = ['1s', '2a', '2s', '3t', '3a', '3s']\n",
    "modesV = ['2s', '3t'] ##possible slip modes, for double-layer matrix elements\n",
    "SLDL  = ['G']#, 'K']\n",
    "dim   = {'1s':3, '2a':3, '2s':5, '3t':3, '3a':5, '3s':7}"
   ]
  },
  {
   "cell_type": "markdown",
   "id": "3fd0fb14-1c90-4677-a52d-90c45b3c9d34",
   "metadata": {},
   "source": [
    "### 1) Fourier part of Green's function"
   ]
  },
  {
   "cell_type": "code",
   "execution_count": 13,
   "id": "a3db8233-42b5-440e-9e65-2bd402c2d160",
   "metadata": {},
   "outputs": [
    {
     "name": "stdout",
     "output_type": "stream",
     "text": [
      "M2_1s1s done\n",
      "M2_1s2a done\n",
      "M2_1s2s done\n",
      "M2_1s3t done\n",
      "M2_1s3a done\n",
      "M2_1s3s done\n",
      "M2_2a1s done\n",
      "M2_2a2a done\n",
      "M2_2a2s done\n",
      "M2_2a3t done\n",
      "M2_2a3a done\n",
      "M2_2a3s done\n",
      "M2_2s1s done\n",
      "M2_2s2a done\n",
      "M2_2s2s done\n",
      "M2_2s3t done\n",
      "M2_2s3a done\n",
      "M2_2s3s done\n",
      "M2_3t1s done\n",
      "M2_3t2a done\n",
      "M2_3t2s done\n",
      "M2_3t3t done\n",
      "M2_3t3a done\n",
      "M2_3t3s done\n",
      "M2_3a1s done\n",
      "M2_3a2a done\n",
      "M2_3a2s done\n",
      "M2_3a3t done\n",
      "M2_3a3a done\n",
      "M2_3a3s done\n",
      "M2_3s1s done\n",
      "M2_3s2a done\n",
      "M2_3s2s done\n",
      "M2_3s3t done\n",
      "M2_3s3a done\n",
      "M2_3s3s done\n",
      "CPU times: user 11 s, sys: 665 ms, total: 11.7 s\n",
      "Wall time: 11.4 s\n"
     ]
    }
   ],
   "source": [
    "%%time\n",
    "sldl = 'G' # single-layer\n",
    "GRF = 'M2_' # Fourier space part of Green's function\n",
    "with parallel_backend('threading'): ## threading is quicker here: less overhead\n",
    "    for mode1 in modes:\n",
    "        for mode2 in modes:\n",
    "            if mode1 in ['1s', '2a']:\n",
    "                if mode2 in ['1s', '2a', '3t']:\n",
    "                    globals()['list'+GRF+mode1+mode2] = Parallel(n_jobs=n_jobs)(\n",
    "                        matG(globals()[sldl+mode1+mode2], globals()[GRF], ki, kj) for ki in range(3) \n",
    "                                                                                                        for kj in range(3))\n",
    "                    globals()['mat'+GRF+mode1+mode2] = Matrix(globals()['list'+GRF+mode1+mode2]).reshape(dim[mode1],dim[mode2])\n",
    "                    print(GRF+mode1+mode2+' done')\n",
    "\n",
    "                elif mode2 in ['2s', '3a']:                ## GLH needs symmetry factors\n",
    "                    globals()['list'+GRF+mode1+mode2] = Parallel(n_jobs=n_jobs)(\n",
    "                        matG(globals()[sldl+mode1+mode2], globals()[GRF], ki, kj, lj) for ki in range(3)\n",
    "                                                                                                            for kj in range(2)\n",
    "                                                                                                                for lj in range(kj,3))\n",
    "                    globals()['mat'+GRF+mode1+mode2] = Matrix(globals()['list'+GRF+mode1+mode2]).reshape(dim[mode1],dim[mode2])\n",
    "                    print(GRF+mode1+mode2+' done')\n",
    "\n",
    "                elif mode2 =='3s':\n",
    "                    globals()['list'+GRF+mode1+mode2] = Parallel(n_jobs=n_jobs)(\n",
    "                        matG(globals()[sldl+mode1+mode2], globals()[GRF], ki, kj, lj, mj) for ki in range(3)\n",
    "                                                                                                                for kj in range(2)\n",
    "                                                                                                                    for lj in range(kj,2)\n",
    "                                                                                                                        for mj in range(lj,3))\n",
    "                    globals()['mat'+GRF+mode1+mode2] = Matrix(globals()['list'+GRF+mode1+mode2]).reshape(dim[mode1],dim[mode2])\n",
    "                    print(GRF+mode1+mode2+' done')\n",
    "\n",
    "\n",
    "\n",
    "            elif mode1 == '3t':\n",
    "                if mode2 in ['1s', '2a', '3t']:\n",
    "                    globals()['list'+GRF+mode1+mode2] = Parallel(n_jobs=n_jobs)(\n",
    "                        matG(globals()[sldl+mode1+mode2], globals()[GRF], ki, kj) for ki in range(3) \n",
    "                                                                                                        for kj in range(3))\n",
    "                    globals()['mat'+GRF+mode1+mode2] = Matrix(globals()['list'+GRF+mode1+mode2]).reshape(dim[mode1],dim[mode2])\n",
    "                    print(GRF+mode1+mode2+' done')\n",
    "\n",
    "                elif mode2 in ['2s', '3a']:\n",
    "                    globals()['list'+GRF+mode1+mode2] = Parallel(n_jobs=n_jobs)(\n",
    "                        matG(globals()[sldl+mode1+mode2], globals()[GRF], ki, kj, lj) for ki in range(3)\n",
    "                                                                                                            for kj in range(2)\n",
    "                                                                                                                for lj in range(kj,3))\n",
    "                    globals()['mat'+GRF+mode1+mode2] = Matrix(globals()['list'+GRF+mode1+mode2]).reshape(dim[mode1],dim[mode2])\n",
    "                    print(GRF+mode1+mode2+' done')\n",
    "\n",
    "                elif mode2 =='3s':\n",
    "                    globals()['list'+GRF+mode1+mode2] = Parallel(n_jobs=n_jobs)(\n",
    "                        matG(globals()[sldl+mode1+mode2], globals()[GRF], ki, kj, lj, mj) for ki in range(3)\n",
    "                                                                                                                for kj in range(2)\n",
    "                                                                                                                    for lj in range(kj,2)\n",
    "                                                                                                                        for mj in range(lj,3))\n",
    "                    globals()['mat'+GRF+mode1+mode2] = Matrix(globals()['list'+GRF+mode1+mode2]).reshape(dim[mode1],dim[mode2])\n",
    "                    print(GRF+mode1+mode2+' done')\n",
    "\n",
    "\n",
    "\n",
    "            elif mode1 in ['2s', '3a']:\n",
    "                if mode2 in ['1s', '2a', '3t']:\n",
    "                    globals()['list'+GRF+mode1+mode2] = Parallel(n_jobs=n_jobs)(\n",
    "                        matG(globals()[sldl+mode1+mode2], globals()[GRF], ki, li, kj) for ki in range(2) \n",
    "                                                                                                            for li in range(ki,3)\n",
    "                                                                                                                for kj in range(3))\n",
    "                    globals()['mat'+GRF+mode1+mode2] = Matrix(globals()['list'+GRF+mode1+mode2]).reshape(dim[mode1],dim[mode2])\n",
    "                    print(GRF+mode1+mode2+' done')\n",
    "\n",
    "                elif mode2 in ['2s', '3a']:\n",
    "                    globals()['list'+GRF+mode1+mode2] = Parallel(n_jobs=n_jobs)(\n",
    "                        matG(globals()[sldl+mode1+mode2], globals()[GRF], ki, li, kj, lj) for ki in range(2)\n",
    "                                                                                                                for li in range(ki,3)\n",
    "                                                                                                                    for kj in range(2)\n",
    "                                                                                                                        for lj in range(kj,3))\n",
    "                    globals()['mat'+GRF+mode1+mode2] = Matrix(globals()['list'+GRF+mode1+mode2]).reshape(dim[mode1],dim[mode2])\n",
    "                    print(GRF+mode1+mode2+' done')\n",
    "\n",
    "                elif mode2 =='3s':\n",
    "                    globals()['list'+GRF+mode1+mode2] = Parallel(n_jobs=n_jobs)(\n",
    "                        matG(globals()[sldl+mode1+mode2], globals()[GRF], ki, li, kj, lj, mj) for ki in range(2)\n",
    "                                                                                                                    for li in range(ki,3)\n",
    "                                                                                                                        for kj in range(2)\n",
    "                                                                                                                            for lj in range(kj,2)\n",
    "                                                                                                                                for mj in range(lj,3))\n",
    "                    globals()['mat'+GRF+mode1+mode2] = Matrix(globals()['list'+GRF+mode1+mode2]).reshape(dim[mode1],dim[mode2])\n",
    "                    print(GRF+mode1+mode2+' done')\n",
    "\n",
    "\n",
    "\n",
    "            elif mode1 == '3s':\n",
    "                if mode2 in ['1s', '2a', '3t']:\n",
    "                    globals()['list'+GRF+mode1+mode2] = Parallel(n_jobs=n_jobs)(\n",
    "                        matG(globals()[sldl+mode1+mode2], globals()[GRF], ki, li, mi, kj) for ki in range(2) \n",
    "                                                                                                                for li in range(ki,2)\n",
    "                                                                                                                    for mi in range(li,3)\n",
    "                                                                                                                        for kj in range(3))\n",
    "                    globals()['mat'+GRF+mode1+mode2] = Matrix(globals()['list'+GRF+mode1+mode2]).reshape(dim[mode1],dim[mode2])\n",
    "                    print(GRF+mode1+mode2+' done')\n",
    "\n",
    "                elif mode2 in ['2s', '3a']:\n",
    "                    globals()['list'+GRF+mode1+mode2] = Parallel(n_jobs=n_jobs)(\n",
    "                        matG(globals()[sldl+mode1+mode2], globals()[GRF], ki, li, mi, kj, lj) for ki in range(2)\n",
    "                                                                                                                    for li in range(ki,2)\n",
    "                                                                                                                        for mi in range(li,3)\n",
    "                                                                                                                            for kj in range(2)\n",
    "                                                                                                                                for lj in range(kj,3))\n",
    "                    globals()['mat'+GRF+mode1+mode2] = Matrix(globals()['list'+GRF+mode1+mode2]).reshape(dim[mode1],dim[mode2])\n",
    "                    print(GRF+mode1+mode2+' done')\n",
    "\n",
    "                elif mode2 =='3s':\n",
    "                    globals()['list'+GRF+mode1+mode2] = Parallel(n_jobs=n_jobs)(\n",
    "                        matG(globals()[sldl+mode1+mode2], globals()[GRF], ki, li, mi, kj, lj, mj) for ki in range(2)\n",
    "                                                                                                                        for li in range(ki,2)\n",
    "                                                                                                                            for mi in range(li,3)\n",
    "                                                                                                                                for kj in range(2)\n",
    "                                                                                                                                    for lj in range(kj,2)\n",
    "                                                                                                                                        for mj in range(lj,3))\n",
    "                    globals()['mat'+GRF+mode1+mode2] = Matrix(globals()['list'+GRF+mode1+mode2]).reshape(dim[mode1],dim[mode2])\n",
    "                    print(GRF+mode1+mode2+' done')"
   ]
  },
  {
   "cell_type": "code",
   "execution_count": 14,
   "id": "c86bea71-8ca0-41db-a939-73f90323de54",
   "metadata": {},
   "outputs": [],
   "source": [
    "## do not pass matrix as argument, this will not be picklable. String is okay. \n",
    "def limitElementM(Mstring, alpha, beta): ## extract an element from the matrix G for parallelisation\n",
    "    return sympy.limit(sympy.powdenest((globals()['mat'+Mstring][alpha,beta]), force=True).subs({xij:r0, yij:r0, zij:r0}), r0, 0)"
   ]
  },
  {
   "cell_type": "code",
   "execution_count": 15,
   "id": "7342e208-27af-4e71-8e7b-9253becb7bea",
   "metadata": {},
   "outputs": [
    {
     "data": {
      "text/latex": [
       "$\\displaystyle \\frac{- \\frac{160 b^{2} \\xi^{3}}{9} + 8 \\xi}{\\sqrt{\\pi}}$"
      ],
      "text/plain": [
       "(-160*b**2*xi**3/9 + 8*xi)/sqrt(pi)"
      ]
     },
     "execution_count": 15,
     "metadata": {},
     "output_type": "execute_result"
    }
   ],
   "source": [
    "limitElementM('M2_1s1s', 0,0)"
   ]
  },
  {
   "cell_type": "code",
   "execution_count": 16,
   "id": "e4ebf0de-52e3-4cd2-93b6-352a25519f97",
   "metadata": {},
   "outputs": [
    {
     "name": "stdout",
     "output_type": "stream",
     "text": [
      "M2_1s1s done\n",
      "M2_1s2a done\n",
      "M2_1s2s done\n",
      "M2_1s3t done\n",
      "M2_1s3a done\n",
      "M2_1s3s done\n",
      "M2_2a1s done\n",
      "M2_2a2a done\n",
      "M2_2a2s done\n",
      "M2_2a3t done\n",
      "M2_2a3a done\n",
      "M2_2a3s done\n",
      "M2_2s1s done\n",
      "M2_2s2a done\n",
      "M2_2s2s done\n",
      "M2_2s3t done\n",
      "M2_2s3a done\n",
      "M2_2s3s done\n",
      "M2_3t1s done\n",
      "M2_3t2a done\n",
      "M2_3t2s done\n",
      "M2_3t3t done\n",
      "M2_3t3a done\n",
      "M2_3t3s done\n",
      "M2_3a1s done\n",
      "M2_3a2a done\n",
      "M2_3a2s done\n",
      "M2_3a3t done\n",
      "M2_3a3a done\n",
      "M2_3a3s done\n",
      "M2_3s1s done\n",
      "M2_3s2a done\n",
      "M2_3s2s done\n",
      "M2_3s3t done\n",
      "M2_3s3a done\n",
      "M2_3s3s done\n",
      "CPU times: user 6.72 s, sys: 12.8 s, total: 19.5 s\n",
      "Wall time: 2min 35s\n"
     ]
    }
   ],
   "source": [
    "%%time\n",
    "sldl = 'G' # single-layer\n",
    "GRF = 'M2_' # Fourier space part of Green's function\n",
    "with parallel_backend('multiprocessing'): ## multiprocessing is necessary here for simplification of each element on a different core\n",
    "    for mode1 in modes:\n",
    "        for mode2 in modes:\n",
    "            if mode1 in ['1s', '2a']:\n",
    "                if mode2 in ['1s', '2a', '3t']:\n",
    "                    globals()['listSimp'+GRF+mode1+mode2] = Parallel(n_jobs=n_jobs)(\n",
    "                        delayed(limitElementM)(GRF+mode1+mode2, alpha, beta) for alpha in range(dim[mode1]) for beta in range(dim[mode2]))\n",
    "                    globals()['simplified'+GRF+mode1+mode2] = Matrix(globals()['listSimp'+GRF+mode1+mode2]).reshape(dim[mode1],dim[mode2])\n",
    "                    print(GRF+mode1+mode2+' done')\n",
    "\n",
    "                elif mode2 in ['2s', '3a']:                ## GLH needs symmetry factors\n",
    "                    globals()['listSimp'+GRF+mode1+mode2] = Parallel(n_jobs=n_jobs)(\n",
    "                        delayed(limitElementM)(GRF+mode1+mode2, alpha, beta) for alpha in range(dim[mode1]) for beta in range(dim[mode2]))\n",
    "                    globals()['simplified'+GRF+mode1+mode2] = Matrix(globals()['listSimp'+GRF+mode1+mode2]).reshape(dim[mode1],dim[mode2])\n",
    "                    print(GRF+mode1+mode2+' done')\n",
    "\n",
    "                elif mode2 =='3s':\n",
    "                    globals()['listSimp'+GRF+mode1+mode2] = Parallel(n_jobs=n_jobs)(\n",
    "                        delayed(limitElementM)(GRF+mode1+mode2, alpha, beta) for alpha in range(dim[mode1]) for beta in range(dim[mode2]))\n",
    "                    globals()['simplified'+GRF+mode1+mode2] = Matrix(globals()['listSimp'+GRF+mode1+mode2]).reshape(dim[mode1],dim[mode2])\n",
    "                    print(GRF+mode1+mode2+' done')\n",
    "\n",
    "\n",
    "\n",
    "            elif mode1 == '3t':\n",
    "                if mode2 in ['1s', '2a', '3t']:\n",
    "                    globals()['listSimp'+GRF+mode1+mode2] = Parallel(n_jobs=n_jobs)(\n",
    "                        delayed(limitElementM)(GRF+mode1+mode2, alpha, beta) for alpha in range(dim[mode1]) for beta in range(dim[mode2]))\n",
    "                    globals()['simplified'+GRF+mode1+mode2] = Matrix(globals()['listSimp'+GRF+mode1+mode2]).reshape(dim[mode1],dim[mode2])\n",
    "                    print(GRF+mode1+mode2+' done')\n",
    "\n",
    "                elif mode2 in ['2s', '3a']:\n",
    "                    globals()['listSimp'+GRF+mode1+mode2] = Parallel(n_jobs=n_jobs)(\n",
    "                        delayed(limitElementM)(GRF+mode1+mode2, alpha, beta) for alpha in range(dim[mode1]) for beta in range(dim[mode2]))\n",
    "                    globals()['simplified'+GRF+mode1+mode2] = Matrix(globals()['listSimp'+GRF+mode1+mode2]).reshape(dim[mode1],dim[mode2])\n",
    "                    print(GRF+mode1+mode2+' done')\n",
    "\n",
    "                elif mode2 =='3s':\n",
    "                    globals()['listSimp'+GRF+mode1+mode2] = Parallel(n_jobs=n_jobs)(\n",
    "                        delayed(limitElementM)(GRF+mode1+mode2, alpha, beta) for alpha in range(dim[mode1]) for beta in range(dim[mode2]))\n",
    "                    globals()['simplified'+GRF+mode1+mode2] = Matrix(globals()['listSimp'+GRF+mode1+mode2]).reshape(dim[mode1],dim[mode2])\n",
    "                    print(GRF+mode1+mode2+' done')\n",
    "\n",
    "\n",
    "\n",
    "            elif mode1 in ['2s', '3a']:\n",
    "                if mode2 in ['1s', '2a', '3t']:\n",
    "                    globals()['listSimp'+GRF+mode1+mode2] = Parallel(n_jobs=n_jobs)(\n",
    "                        delayed(limitElementM)(GRF+mode1+mode2, alpha, beta) for alpha in range(dim[mode1]) for beta in range(dim[mode2]))\n",
    "                    globals()['simplified'+GRF+mode1+mode2] = Matrix(globals()['listSimp'+GRF+mode1+mode2]).reshape(dim[mode1],dim[mode2])\n",
    "                    print(GRF+mode1+mode2+' done')\n",
    "\n",
    "                elif mode2 in ['2s', '3a']:\n",
    "                    globals()['listSimp'+GRF+mode1+mode2] = Parallel(n_jobs=n_jobs)(\n",
    "                        delayed(limitElementM)(GRF+mode1+mode2, alpha, beta) for alpha in range(dim[mode1]) for beta in range(dim[mode2]))\n",
    "                    globals()['simplified'+GRF+mode1+mode2] = Matrix(globals()['listSimp'+GRF+mode1+mode2]).reshape(dim[mode1],dim[mode2])\n",
    "                    print(GRF+mode1+mode2+' done')\n",
    "\n",
    "                elif mode2 =='3s':\n",
    "                    globals()['listSimp'+GRF+mode1+mode2] = Parallel(n_jobs=n_jobs)(\n",
    "                        delayed(limitElementM)(GRF+mode1+mode2, alpha, beta) for alpha in range(dim[mode1]) for beta in range(dim[mode2]))\n",
    "                    globals()['simplified'+GRF+mode1+mode2] = Matrix(globals()['listSimp'+GRF+mode1+mode2]).reshape(dim[mode1],dim[mode2])\n",
    "                    print(GRF+mode1+mode2+' done')\n",
    "\n",
    "\n",
    "\n",
    "            elif mode1 == '3s':\n",
    "                if mode2 in ['1s', '2a', '3t']:\n",
    "                    globals()['listSimp'+GRF+mode1+mode2] = Parallel(n_jobs=n_jobs)(\n",
    "                        delayed(limitElementM)(GRF+mode1+mode2, alpha, beta) for alpha in range(dim[mode1]) for beta in range(dim[mode2]))\n",
    "                    globals()['simplified'+GRF+mode1+mode2] = Matrix(globals()['listSimp'+GRF+mode1+mode2]).reshape(dim[mode1],dim[mode2])\n",
    "                    print(GRF+mode1+mode2+' done')\n",
    "\n",
    "                elif mode2 in ['2s', '3a']:\n",
    "                    globals()['listSimp'+GRF+mode1+mode2] = Parallel(n_jobs=n_jobs)(\n",
    "                        delayed(limitElementM)(GRF+mode1+mode2, alpha, beta) for alpha in range(dim[mode1]) for beta in range(dim[mode2]))\n",
    "                    globals()['simplified'+GRF+mode1+mode2] = Matrix(globals()['listSimp'+GRF+mode1+mode2]).reshape(dim[mode1],dim[mode2])\n",
    "                    print(GRF+mode1+mode2+' done')\n",
    "\n",
    "                elif mode2 =='3s':\n",
    "                    globals()['listSimp'+GRF+mode1+mode2] = Parallel(n_jobs=n_jobs)(\n",
    "                        delayed(limitElementM)(GRF+mode1+mode2, alpha, beta) for alpha in range(dim[mode1]) for beta in range(dim[mode2]))\n",
    "                    globals()['simplified'+GRF+mode1+mode2] = Matrix(globals()['listSimp'+GRF+mode1+mode2]).reshape(dim[mode1],dim[mode2])\n",
    "                    print(GRF+mode1+mode2+' done')"
   ]
  },
  {
   "cell_type": "markdown",
   "id": "0ddc69cb-76c4-4d5f-9d4e-1a8bc540a7c7",
   "metadata": {
    "tags": []
   },
   "source": [
    "### 3) add Green's functions"
   ]
  },
  {
   "cell_type": "code",
   "execution_count": 17,
   "id": "d0e399d2-9cea-4cf2-aa6e-a671c0cf9fef",
   "metadata": {},
   "outputs": [
    {
     "name": "stdout",
     "output_type": "stream",
     "text": [
      "GM2_1s1s done\n",
      "GM2_1s2a done\n",
      "GM2_1s2s done\n",
      "GM2_1s3t done\n",
      "GM2_1s3a done\n",
      "GM2_1s3s done\n",
      "GM2_2a1s done\n",
      "GM2_2a2a done\n",
      "GM2_2a2s done\n",
      "GM2_2a3t done\n",
      "GM2_2a3a done\n",
      "GM2_2a3s done\n",
      "GM2_2s1s done\n",
      "GM2_2s2a done\n",
      "GM2_2s2s done\n",
      "GM2_2s3t done\n",
      "GM2_2s3a done\n",
      "GM2_2s3s done\n",
      "GM2_3t1s done\n",
      "GM2_3t2a done\n",
      "GM2_3t2s done\n",
      "GM2_3t3t done\n",
      "GM2_3t3a done\n",
      "GM2_3t3s done\n",
      "GM2_3a1s done\n",
      "GM2_3a2a done\n",
      "GM2_3a2s done\n",
      "GM2_3a3t done\n",
      "GM2_3a3a done\n",
      "GM2_3a3s done\n",
      "GM2_3s1s done\n",
      "GM2_3s2a done\n",
      "GM2_3s2s done\n",
      "GM2_3s3t done\n",
      "GM2_3s3a done\n",
      "GM2_3s3s done\n"
     ]
    }
   ],
   "source": [
    "GRF = \"M2_\"\n",
    "for mode1 in modes:\n",
    "    for mode2 in modes:\n",
    "        globals()['matG'+GRF+mode1+mode2] = 1/(8*pi*eta) * globals()['simplified'+GRF+mode1+mode2]\n",
    "        print(sldl+GRF+mode1+mode2+' done')"
   ]
  },
  {
   "cell_type": "markdown",
   "id": "edce4eb0-99b0-429d-be34-dca5d0f0f104",
   "metadata": {},
   "source": [
    "### Create double-layer matrices"
   ]
  },
  {
   "cell_type": "code",
   "execution_count": 18,
   "id": "c620b035-d8d7-4e9b-a543-024c2e388afa",
   "metadata": {},
   "outputs": [
    {
     "name": "stdout",
     "output_type": "stream",
     "text": [
      "KM2_1s2s done\n",
      "KM2_1s3t done\n",
      "KM2_2a2s done\n",
      "KM2_2a3t done\n",
      "KM2_2s2s done\n",
      "KM2_2s3t done\n",
      "KM2_3t2s done\n",
      "KM2_3t3t done\n",
      "KM2_3a2s done\n",
      "KM2_3a3t done\n",
      "KM2_3s2s done\n",
      "KM2_3s3t done\n"
     ]
    }
   ],
   "source": [
    "for mode1 in modes:\n",
    "    for mode2 in modesV:\n",
    "        if mode2 == '2s':\n",
    "            globals()['matKM2_'+mode1+mode2] = 8*pi*eta*b/3 * globals()['matGM2_'+mode1+mode2]\n",
    "            print('KM2_'+mode1+mode2+' done')\n",
    "            \n",
    "        elif mode2 == '3t':\n",
    "            globals()['matKM2_'+mode1+mode2] = 6*pi*eta*b/5 * globals()['matGM2_'+mode1+mode2]\n",
    "            print('KM2_'+mode1+mode2+' done')"
   ]
  },
  {
   "cell_type": "markdown",
   "id": "209aa0fd-00be-4d2d-8e39-6b252ec1526c",
   "metadata": {},
   "source": [
    "### Delta tensors"
   ]
  },
  {
   "cell_type": "code",
   "execution_count": 19,
   "id": "8951987a-c32b-4ed6-bf43-91b6a256edf6",
   "metadata": {},
   "outputs": [],
   "source": [
    "## Delta tensors as 'identity' matrices\n",
    "def Delta1(alpha, beta):\n",
    "    return KroneckerDelta[alpha,beta]\n",
    "\n",
    "def Delta2(alpha, gamma1, beta, kappa1):\n",
    "    return (KroneckerDelta[alpha,beta]*KroneckerDelta[gamma1,kappa1]/2\n",
    "            + KroneckerDelta[alpha,kappa1]*KroneckerDelta[gamma1,beta]/2\n",
    "            -KroneckerDelta[alpha,gamma1]*KroneckerDelta[beta,kappa1]/3)\n",
    "\n",
    "def Delta3(alpha, gamma1, gamma2, beta, kappa1, kappa2):\n",
    "    return (KroneckerDelta[alpha,beta]*KroneckerDelta[gamma1,kappa1]*KroneckerDelta[gamma2,kappa2] \n",
    "                + KroneckerDelta[alpha,beta]*KroneckerDelta[gamma1,kappa2]*KroneckerDelta[gamma2,kappa1] \n",
    "                + KroneckerDelta[alpha,kappa1]*KroneckerDelta[gamma1,beta]*KroneckerDelta[gamma2,kappa2] \n",
    "                + KroneckerDelta[alpha,kappa1]*KroneckerDelta[gamma1,kappa2]*KroneckerDelta[gamma2,beta] \n",
    "                + KroneckerDelta[alpha,kappa2]*KroneckerDelta[gamma1,beta]*KroneckerDelta[gamma2,kappa1]\n",
    "                + KroneckerDelta[alpha,kappa2]*KroneckerDelta[gamma1,kappa1]*KroneckerDelta[gamma2,beta])/6 - (\n",
    "        (KroneckerDelta[beta,kappa1]*KroneckerDelta[gamma2,kappa2] + KroneckerDelta[beta,kappa2]*KroneckerDelta[gamma2,kappa1]\n",
    "         + KroneckerDelta[kappa1,kappa2]*KroneckerDelta[gamma2,beta])*KroneckerDelta[alpha,gamma1]\n",
    "        +(KroneckerDelta[beta,kappa1]*KroneckerDelta[alpha,kappa2] + KroneckerDelta[beta,kappa2]*KroneckerDelta[alpha,kappa1]\n",
    "          + KroneckerDelta[kappa1,kappa2]*KroneckerDelta[alpha,beta])*KroneckerDelta[gamma1,gamma2]\n",
    "        +(KroneckerDelta[beta,kappa1]*KroneckerDelta[gamma1,kappa2] + KroneckerDelta[beta,kappa2]*KroneckerDelta[gamma1,kappa1]\n",
    "          + KroneckerDelta[kappa1,kappa2]*KroneckerDelta[gamma1,beta])*KroneckerDelta[alpha,gamma2])/15"
   ]
  },
  {
   "cell_type": "code",
   "execution_count": 34,
   "id": "ba6d4600-e2ae-448d-b7a0-fcff4dbdc39f",
   "metadata": {},
   "outputs": [],
   "source": [
    "n_jobs = 1\n",
    "\n",
    "with parallel_backend('multiprocessing'):\n",
    "    listDelta1 = Parallel(n_jobs=n_jobs)(delayed(Delta1)(ki,kj) for ki in range(3)\n",
    "                                                                     for kj in range(3))\n",
    "matDelta1   = sympy.Matrix(listDelta1).reshape(3,3)\n",
    "\n",
    "##\n",
    "with parallel_backend('multiprocessing'):\n",
    "    listDelta2 = Parallel(n_jobs=n_jobs)(delayed(Delta2)(ki,li, kj,lj) for ki in range(2)\n",
    "                                                                            for li in range(ki,3)\n",
    "                                                                                for kj in range(2)\n",
    "                                                                                  for lj in range(kj,3))\n",
    "matDelta2   = sympy.Matrix(listDelta2).reshape(5,5)\n",
    "\n",
    "##\n",
    "with parallel_backend('multiprocessing'):\n",
    "    listDelta3 = Parallel(n_jobs=n_jobs)(delayed(Delta3)(ki,li,mi, kj,lj,mj) for ki in range(2)\n",
    "                                                                                for li in range(ki,2)\n",
    "                                                                                    for mi in range(li,3)\n",
    "                                                                                        for kj in range(2)\n",
    "                                                                                            for lj in range(kj,2)\n",
    "                                                                                                for mj in range(lj,3))\n",
    "matDelta3   = sympy.Matrix(listDelta3).reshape(7,7)"
   ]
  },
  {
   "cell_type": "markdown",
   "id": "71e578a9-a6c8-4594-be4c-fdbfbc6d015b",
   "metadata": {},
   "source": [
    "### Vectors"
   ]
  },
  {
   "cell_type": "code",
   "execution_count": 35,
   "id": "8321637d-d252-43ee-a0b6-1dd370b819f7",
   "metadata": {},
   "outputs": [],
   "source": [
    "## In python code will be force[i,0], so have to create force as np.zeros([3*Np,1]) object instead of np.zeros([3*Np])\n",
    "force  = sympy.Matrix(sympy.MatrixSymbol('force',3,1)) ##create an actual Matrix from it, have to pass to 'Matrix' \n",
    "torque = sympy.Matrix(sympy.MatrixSymbol('torque',3,1))\n",
    "VH     = sympy.Matrix(sympy.BlockDiagMatrix(matDelta2.inv(), matDelta1.inv(), matDelta2.inv(), matDelta3.inv()))*sympy.Matrix(sympy.MatrixSymbol('VH',20,1))\n",
    "FH     = sympy.Matrix(sympy.BlockDiagMatrix(matDelta2.inv(), matDelta1.inv(), matDelta2.inv(), matDelta3.inv()))*sympy.Matrix(sympy.MatrixSymbol('FH',20,1))"
   ]
  },
  {
   "cell_type": "markdown",
   "id": "d92c8a74-03b6-40d3-b71b-53fb5bfda698",
   "metadata": {},
   "source": [
    "### Create block matrices and multiply them with vectors"
   ]
  },
  {
   "cell_type": "code",
   "execution_count": 36,
   "id": "8af23e78-c739-40ed-9c3a-b469d2fd6ac1",
   "metadata": {},
   "outputs": [],
   "source": [
    "matGM2_1sH = sympy.Matrix(sympy.BlockMatrix([sympy.Matrix(matGM2_1s2s), sympy.Matrix(matGM2_1s3t), sympy.Matrix(matGM2_1s3a), sympy.Matrix(matGM2_1s3s)]))\n",
    "matGM2_2aH = sympy.Matrix(sympy.BlockMatrix([sympy.Matrix(matGM2_2a2s), sympy.Matrix(matGM2_2a3t), sympy.Matrix(matGM2_2a3a), sympy.Matrix(matGM2_2a3s)]))\n",
    "\n",
    "matKM2_1sH = sympy.Matrix(sympy.BlockMatrix([sympy.Matrix(matKM2_1s2s), sympy.Matrix(matKM2_1s3t), sympy.Matrix(sympy.ZeroMatrix(3,12))]))\n",
    "matKM2_2aH = sympy.Matrix(sympy.BlockMatrix([sympy.Matrix(matKM2_2a2s), sympy.Matrix(matKM2_2a3t), sympy.Matrix(sympy.ZeroMatrix(3,12))]))\n",
    "\n",
    "matGM2_H1s = sympy.Matrix(sympy.BlockMatrix([[sympy.Matrix(matGM2_2s1s)],\n",
    "                              [sympy.Matrix(matGM2_3t1s)],\n",
    "                              [sympy.Matrix(matGM2_3a1s)],\n",
    "                              [sympy.Matrix(matGM2_3s1s)]]))\n",
    "matGM2_H2a = sympy.Matrix(sympy.BlockMatrix([[sympy.Matrix(matGM2_2s2a)],\n",
    "                              [sympy.Matrix(matGM2_3t2a)],\n",
    "                              [sympy.Matrix(matGM2_3a2a)],\n",
    "                              [sympy.Matrix(matGM2_3s2a)]]))\n",
    "\n",
    "matGM2_HH = sympy.Matrix(sympy.BlockMatrix([[sympy.Matrix(matGM2_2s2s), sympy.Matrix(matGM2_2s3t), sympy.Matrix(matGM2_2s3a), sympy.Matrix(matGM2_2s3s)],\n",
    "                             [sympy.Matrix(matGM2_3t2s), sympy.Matrix(matGM2_3t3t), sympy.Matrix(matGM2_3t3a), sympy.Matrix(matGM2_3t3s)],\n",
    "                             [sympy.Matrix(matGM2_3a2s), sympy.Matrix(matGM2_3a3t), sympy.Matrix(matGM2_3a3a), sympy.Matrix(matGM2_3a3s)],\n",
    "                             [sympy.Matrix(matGM2_3s2s), sympy.Matrix(matGM2_3s3t), sympy.Matrix(matGM2_3s3a), sympy.Matrix(matGM2_3s3s)]]))\n",
    "\n",
    "matKM2_HH_nonzero = sympy.Matrix(sympy.BlockMatrix([[sympy.Matrix(matKM2_2s2s), sympy.Matrix(matKM2_2s3t)],\n",
    "                                     [sympy.Matrix(matKM2_3t2s), sympy.Matrix(matKM2_3t3t)],\n",
    "                                     [sympy.Matrix(matKM2_3a2s), sympy.Matrix(matKM2_3a3t)],\n",
    "                                     [sympy.Matrix(matKM2_3s2s), sympy.Matrix(matKM2_3s3t)]]))\n",
    "matKM2_HH = sympy.Matrix(sympy.BlockMatrix([matKM2_HH_nonzero, sympy.Matrix(sympy.ZeroMatrix(20,12))]))\n",
    "\n",
    "# self-interaction\n",
    "\n",
    "g2s = 3/(20*pi*eta*b)\n",
    "g3t = 1/(2*pi*eta*b)\n",
    "g3a = 3/(2*pi*eta*b)\n",
    "g3s = 6/(7*pi*eta*b)\n",
    "\n",
    "matGM2_oHH = sympy.Matrix(sympy.BlockDiagMatrix(g2s*matDelta2,\n",
    "                                             g3t*matDelta1,\n",
    "                                             g3a*matDelta2,\n",
    "                                             g3s*matDelta3))\n",
    "\n",
    "\n",
    "halfMinusk2s = S(3)/5 #0.6\n",
    "halfMinusk3t = S(2)/5 #0.4\n",
    "halfMinusk3a = S(4)/5 #0.8\n",
    "halfMinusk3s = S(19)/35\n",
    "\n",
    "matKM2_oHH = sympy.Matrix(sympy.BlockDiagMatrix(halfMinusk2s*matDelta2,\n",
    "                                             halfMinusk3t*matDelta1,\n",
    "                                             halfMinusk3a*matDelta2,\n",
    "                                             halfMinusk3s*matDelta3))"
   ]
  },
  {
   "cell_type": "code",
   "execution_count": 37,
   "id": "38426eea-2cd3-47b1-8822-af5aef57edf3",
   "metadata": {},
   "outputs": [],
   "source": [
    "## a) can ignore ls symmetries, multiply by (full) Delta tensors and then pick unique elements\n",
    "## b) return matrices as sympy.Matrix, instead of Matrix. "
   ]
  },
  {
   "cell_type": "code",
   "execution_count": 38,
   "id": "1542eca4-2f03-4653-aba0-b2d22a3dff1e",
   "metadata": {},
   "outputs": [],
   "source": [
    "vecGM2_H1sF = matGM2_H1s*force\n",
    "vecGM2_H2aT = matGM2_H2a*torque\n",
    "\n",
    "vecKM2_HHVH = matKM2_HH*VH\n",
    "\n",
    "vecGM2_HHFH = matGM2_HH*FH\n",
    "\n",
    "vecGM2_1s1sF = sympy.Matrix(matGM2_1s1s)*force\n",
    "vecGM2_2a1sF = sympy.Matrix(matGM2_2a1s)*force\n",
    "\n",
    "vecGM2_1s2aT = sympy.Matrix(matGM2_1s2a)*torque\n",
    "vecGM2_2a2aT = sympy.Matrix(matGM2_2a2a)*torque\n",
    "\n",
    "vecGM2_1sHFH = matGM2_1sH*FH\n",
    "vecGM2_2aHFH = matGM2_2aH*FH\n",
    "\n",
    "vecKM2_1sHVH = matKM2_1sH*VH\n",
    "vecKM2_2aHVH = matKM2_2aH*VH"
   ]
  },
  {
   "cell_type": "code",
   "execution_count": 39,
   "id": "c8f1516b-305f-4284-873e-e4f93927de12",
   "metadata": {},
   "outputs": [
    {
     "data": {
      "text/plain": [
       "[(1/8)*(8*xi + (-160/9)*b**2*xi**3)/(pi**(3/2)*eta), 0, 0]\n",
       "[0, (1/8)*(8*xi + (-160/9)*b**2*xi**3)/(pi**(3/2)*eta), 0]\n",
       "[0, 0, (1/8)*(8*xi + (-160/9)*b**2*xi**3)/(pi**(3/2)*eta)]"
      ]
     },
     "execution_count": 39,
     "metadata": {},
     "output_type": "execute_result"
    }
   ],
   "source": [
    "matGM2_1s1s"
   ]
  },
  {
   "cell_type": "markdown",
   "id": "e457ad5c-d86e-46f3-b2de-a30933be4e48",
   "metadata": {},
   "source": [
    "_____________\n",
    "\n",
    "### Write symbolic results to file as reusable python functions"
   ]
  },
  {
   "cell_type": "code",
   "execution_count": 40,
   "id": "7838a350-ccb1-40e5-bb4d-e0f613eff7cd",
   "metadata": {},
   "outputs": [],
   "source": [
    "ME_file = \"M2r0.py\"\n",
    "dimH = 20\n",
    "\n",
    "with open(ME_file, \"w\") as text_file:\n",
    "    print(\"import numpy as np\", file=text_file)\n",
    "    print(\"from math import *\", file=text_file)\n",
    "    print(\"PI = 3.14159265359\\n\", file=text_file)\n",
    "    \n",
    "    print(\"def GM2_1s1sF(v, xi, b,eta, force):\", file=text_file)\n",
    "    print(\"    v -= np.array({})\".format(np.reshape(np.asarray(vecGM2_1s1sF),(3,)).tolist()), file=text_file) ##cannot mulitply list by 0.5/b \n",
    "    print(\"    return\\n\", file=text_file)\n",
    "    \n",
    "    print(\"def GM2_2a1sF(o, xi, b,eta, force):\", file=text_file)\n",
    "    print(\"    o -= 0.5/b*np.array({})\".format(np.reshape(np.asarray(vecGM2_2a1sF),(3,)).tolist()), file=text_file)\n",
    "    print(\"    return\\n\", file=text_file)\n",
    "    \n",
    "    print(\"def GM2_1s2aT(v, xi, b,eta, torque):\", file=text_file)\n",
    "    print(\"    v -= 1./b*np.array({})\".format(np.reshape(np.asarray(vecGM2_1s2aT),(3,)).tolist()), file=text_file)\n",
    "    print(\"    return\\n\", file=text_file)\n",
    "    \n",
    "    print(\"def GM2_2a2aT(o, xi, b,eta, torque):\", file=text_file)\n",
    "    print(\"    o -= 0.5/(b*b)*np.array({})\".format(np.reshape(np.asarray(vecGM2_2a2aT),(3,)).tolist()), file=text_file)\n",
    "    print(\"    return\\n\", file=text_file)\n",
    "    \n",
    "    print(\"def GM2_H1sF(gh1sf, xi, b,eta, force):\", file=text_file)\n",
    "    print(\"    gh1sf[:] -= {}\".format(np.reshape(np.asarray(vecGM2_H1sF),(dimH,)).tolist()), file=text_file)\n",
    "    print(\"    return\\n\", file=text_file)\n",
    "    \n",
    "    print(\"def GM2_H2aT(gh2at, xi, b,eta, torque):\", file=text_file)\n",
    "    print(\"    gh2at[:] -= {}\".format(np.reshape(np.asarray(vecGM2_H2aT),(dimH,)).tolist()), file=text_file)\n",
    "    print(\"    return\\n\", file=text_file)\n",
    "    \n",
    "    print(\"def KM2_HHVH(khhvh, xi, b,eta, VH):\", file=text_file)\n",
    "    print(\"    khhvh[:] -= {}\".format(np.reshape(np.asarray(vecKM2_HHVH),(dimH,)).tolist()), file=text_file)\n",
    "    print(\"    return\\n\", file=text_file)\n",
    "    \n",
    "    print(\"def GM2_HHFH(ghhfh, xi, b,eta, FH):\", file=text_file)\n",
    "    print(\"    ghhfh[:] -= {}\".format(np.reshape(np.asarray(vecGM2_HHFH),(dimH,)).tolist()), file=text_file)\n",
    "    print(\"    return\\n\", file=text_file)\n",
    "    \n",
    "    print(\"def GM2_1sHFH(v, xi, b,eta, FH):\", file=text_file)\n",
    "    print(\"    v += np.array({})\".format(np.reshape(np.asarray(vecGM2_1sHFH),(3,)).tolist()), file=text_file)\n",
    "    print(\"    return\\n\", file=text_file)\n",
    "    \n",
    "    print(\"def GM2_2aHFH(o, xi, b,eta, FH):\", file=text_file)\n",
    "    print(\"    o += 0.5/b*np.array({})\".format(np.reshape(np.asarray(vecGM2_2aHFH),(3,)).tolist()), file=text_file)\n",
    "    print(\"    return\\n\", file=text_file)\n",
    "    \n",
    "    print(\"def KM2_1sHVH(v, xi, b,eta, VH):\", file=text_file)\n",
    "    print(\"    v -= np.array({})\".format(np.reshape(np.asarray(vecKM2_1sHVH),(3,)).tolist()), file=text_file)\n",
    "    print(\"    return\\n\", file=text_file)\n",
    "    \n",
    "    print(\"def KM2_2aHVH(o, xi, b,eta, VH):\", file=text_file)\n",
    "    print(\"    o -= 0.5/b*np.array({})\".format(np.reshape(np.asarray(vecKM2_2aHVH),(3,)).tolist()), file=text_file)\n",
    "    print(\"    return\\n\", file=text_file)\n",
    "    \n",
    "## replace things for easier usage with python     \n",
    "with open(ME_file, 'r') as file:\n",
    "    filedata = file.read()\n",
    "    \n",
    "filedata = filedata.replace('pi', 'PI')\n",
    "#filedata = filedata.replace('sqrt', 'numpy.sqrt')\n",
    "\n",
    "filedata = re.sub(\"force\\[(\\d), 0\\]\", r\"force[\\1]\", filedata)\n",
    "filedata = re.sub(\"torque\\[(\\d), 0\\]\", r\"torque[\\1]\", filedata)\n",
    "filedata = re.sub(\"VH\\[(\\d||\\d\\d), 0\\]\", r\"VH[\\1]\", filedata)\n",
    "filedata = re.sub(\"FH\\[(\\d||\\d\\d), 0\\]\", r\"FH[\\1]\", filedata)\n",
    "\n",
    "with open(ME_file, 'w') as file:\n",
    "    file.write(filedata)"
   ]
  },
  {
   "cell_type": "markdown",
   "id": "937a3a41-6242-4866-af1a-10be0758677c",
   "metadata": {},
   "source": [
    "______________________________________\n",
    "_______________________"
   ]
  },
  {
   "cell_type": "code",
   "execution_count": null,
   "id": "388c3732-8c74-4da5-8aca-aacfbff4734e",
   "metadata": {},
   "outputs": [],
   "source": []
  },
  {
   "cell_type": "markdown",
   "id": "4662cc12-707d-4622-b323-885ec7c76bc2",
   "metadata": {},
   "source": [
    "____\n",
    "___\n",
    "\n",
    "### Symbolic matrices to file for direct solver"
   ]
  },
  {
   "cell_type": "code",
   "execution_count": 41,
   "id": "c69e87a7-9579-49b9-8375-7da6e109a302",
   "metadata": {},
   "outputs": [],
   "source": [
    "ME_file = \"matrixM2r0.py\"\n",
    "\n",
    "with open(ME_file, \"w\") as text_file:\n",
    "    print(\"import numpy\", file=text_file)\n",
    "    print(\"from math import *\", file=text_file)\n",
    "    print(\"PI = 3.14159265359\\n\", file=text_file)\n",
    "    \n",
    "    print(\"def GM2_1s1s(xi, b,eta):\\n    return numpy.array({})\\n\".format(np.reshape(np.asarray(matGM2_1s1s),(3,3)).tolist()), file=text_file)\n",
    "    print(\"def GM2_2a1s(xi, b,eta):\\n    return numpy.array({})\\n\".format(np.reshape(np.asarray(matGM2_2a1s),(3,3)).tolist()), file=text_file)\n",
    "    \n",
    "    print(\"def GM2_1s2a(xi, b,eta):\\n    return numpy.array({})\\n\".format(np.reshape(np.asarray(matGM2_1s2a),(3,3)).tolist()), file=text_file)\n",
    "    print(\"def GM2_2a2a(xi, b,eta):\\n    return numpy.array({})\\n\".format(np.reshape(np.asarray(matGM2_2a2a),(3,3)).tolist()), file=text_file)\n",
    "    \n",
    "    print(\"def GM2_H1s(xi, b,eta):\\n    return numpy.array({})\\n\".format(np.reshape(np.asarray(matGM2_H1s),(dimH,3)).tolist()), file=text_file)\n",
    "    print(\"def GM2_H2a(xi, b,eta):\\n    return numpy.array({})\\n\".format(np.reshape(np.asarray(matGM2_H2a),(dimH,3)).tolist()), file=text_file)\n",
    "    \n",
    "    # print(\"def KoHH(b,eta):\\n    return numpy.array({})\\n\".format(np.reshape(np.asarray(matKoHH),(dimH,dimH)).tolist()), file=text_file)\n",
    "    print(\"def KM2_HH(xi, b,eta):\\n    return numpy.array({})\\n\".format(np.reshape(np.asarray(matKM2_HH),(dimH,dimH)).tolist()), file=text_file)\n",
    "    \n",
    "    #print(\"def GoHH(b,eta):\\n    return numpy.array({})\\n\".format(np.reshape(np.asarray(matGoHH),(dimH,dimH)).tolist()), file=text_file)\n",
    "    print(\"def GM2_HH(xi, b,eta):\\n    return numpy.array({})\\n\".format(np.reshape(np.asarray(matGM2_HH),(dimH,dimH)).tolist()), file=text_file)\n",
    "    \n",
    "    print(\"def GM2_1sH(xi, b,eta):\\n    return numpy.array({})\\n\".format(np.reshape(np.asarray(matGM2_1sH),(3,dimH)).tolist()), file=text_file)\n",
    "    print(\"def GM2_2aH(xi, b,eta):\\n    return numpy.array({})\\n\".format(np.reshape(np.asarray(matGM2_2aH),(3,dimH)).tolist()), file=text_file)\n",
    "    \n",
    "    print(\"def KM2_1sH(xi, b,eta):\\n    return numpy.array({})\\n\".format(np.reshape(np.asarray(matKM2_1sH),(3,dimH)).tolist()), file=text_file)\n",
    "    print(\"def KM2_2aH(xi, b,eta):\\n    return numpy.array({})\\n\".format(np.reshape(np.asarray(matKM2_2aH),(3,dimH)).tolist()), file=text_file)\n",
    "    \n",
    "    \n",
    "    \n",
    "## replace things for easier usage with python     \n",
    "with open(ME_file, 'r') as file:\n",
    "    filedata = file.read()\n",
    "    \n",
    "filedata = filedata.replace('pi', 'PI')\n",
    "filedata = filedata.replace('sqrt', 'numpy.sqrt')\n",
    "\n",
    "with open(ME_file, 'w') as file:\n",
    "    file.write(filedata)"
   ]
  },
  {
   "cell_type": "markdown",
   "id": "feeaab60-4e83-42d4-accf-f17dd652fa16",
   "metadata": {},
   "source": [
    "____________\n",
    "___________\n"
   ]
  },
  {
   "cell_type": "code",
   "execution_count": 42,
   "id": "bdc57dd2-83ec-4cc3-838a-ffdb74cd5465",
   "metadata": {},
   "outputs": [
    {
     "data": {
      "text/plain": [
       "[0, 0, 0, 0, 0]\n",
       "[0, 0, 0, 0, 0]\n",
       "[0, 0, 0, 0, 0]"
      ]
     },
     "execution_count": 42,
     "metadata": {},
     "output_type": "execute_result"
    }
   ],
   "source": [
    "simplifiedM2_1s2s"
   ]
  },
  {
   "cell_type": "code",
   "execution_count": 43,
   "id": "cab01270-d746-470c-b0a5-cf0a08d55626",
   "metadata": {},
   "outputs": [
    {
     "data": {
      "text/plain": [
       "[0, 0, 0, 0, (-160/27)*b**2*xi**3/sqrt(pi)]\n",
       "[0, 0, (160/27)*b**2*xi**3/sqrt(pi), 0, 0]\n",
       "[0, (-160/27)*b**2*xi**3/sqrt(pi), 0, 0, 0]"
      ]
     },
     "execution_count": 43,
     "metadata": {},
     "output_type": "execute_result"
    }
   ],
   "source": [
    "simplifiedM2_1s3a"
   ]
  },
  {
   "cell_type": "code",
   "execution_count": 44,
   "id": "73856f88-bfe8-432d-9904-186828825c23",
   "metadata": {},
   "outputs": [
    {
     "data": {
      "text/plain": [
       "[(32/3)*b**2*xi**3/sqrt(pi), 0, 0]\n",
       "[0, (32/3)*b**2*xi**3/sqrt(pi), 0]\n",
       "[0, 0, (32/3)*b**2*xi**3/sqrt(pi)]"
      ]
     },
     "execution_count": 44,
     "metadata": {},
     "output_type": "execute_result"
    }
   ],
   "source": [
    "simplifiedM2_1s3t"
   ]
  },
  {
   "cell_type": "code",
   "execution_count": 45,
   "id": "f4e9546e-8f40-4330-a830-fe9690a17fee",
   "metadata": {},
   "outputs": [
    {
     "data": {
      "text/plain": [
       "[0, 0, 0, 0, 0, 0, 0]\n",
       "[0, 0, 0, 0, 0, 0, 0]\n",
       "[0, 0, 0, 0, 0, 0, 0]"
      ]
     },
     "execution_count": 45,
     "metadata": {},
     "output_type": "execute_result"
    }
   ],
   "source": [
    "simplifiedM2_1s3s"
   ]
  },
  {
   "cell_type": "code",
   "execution_count": null,
   "id": "903bd08f-5350-4448-abda-961d10d684f9",
   "metadata": {},
   "outputs": [],
   "source": [
    "##what if we just ignore the terms that don't contribute by symmetry?"
   ]
  },
  {
   "cell_type": "code",
   "execution_count": null,
   "id": "802ba8ac-9b68-4f06-9797-23bbb89d6a1c",
   "metadata": {},
   "outputs": [],
   "source": []
  },
  {
   "cell_type": "code",
   "execution_count": null,
   "id": "317a220f-fab9-4aa2-adeb-748b4572c89c",
   "metadata": {},
   "outputs": [],
   "source": []
  },
  {
   "cell_type": "code",
   "execution_count": null,
   "id": "327ab6f1-e473-4c8c-8085-e06af25628c4",
   "metadata": {},
   "outputs": [],
   "source": []
  },
  {
   "cell_type": "code",
   "execution_count": 50,
   "id": "80c59f6a-3c20-4c65-a546-98eeb9d15ecd",
   "metadata": {},
   "outputs": [
    {
     "data": {
      "text/plain": [
       "[0, 0, 0]\n",
       "[0, 0, 0]\n",
       "[0, 0, 0]\n",
       "[0, 0, 0]\n",
       "[0, 0, 0]\n",
       "[0, 0, 0]\n",
       "[0, 0, 0]"
      ]
     },
     "execution_count": 50,
     "metadata": {},
     "output_type": "execute_result"
    }
   ],
   "source": [
    "simplifiedM2_3s1s"
   ]
  },
  {
   "cell_type": "code",
   "execution_count": 43,
   "id": "b12998bd-635f-469c-a1fe-55a092e4b952",
   "metadata": {},
   "outputs": [
    {
     "data": {
      "text/latex": [
       "$\\displaystyle 0$"
      ],
      "text/plain": [
       "0"
      ]
     },
     "execution_count": 43,
     "metadata": {},
     "output_type": "execute_result"
    }
   ],
   "source": [
    "sympy.limit(matM2_3s1s[2,2].subs({xij:r0, yij:r0, zij:r0}), r0, 0)"
   ]
  },
  {
   "cell_type": "code",
   "execution_count": 51,
   "id": "a73d476c-e0e5-4747-adc1-7354f422f6fc",
   "metadata": {},
   "outputs": [
    {
     "data": {
      "text/plain": [
       "[0, 0, 0, 0, 0, 0, 0]\n",
       "[0, 0, 0, 0, 0, 0, 0]\n",
       "[0, 0, 0, 0, 0, 0, 0]"
      ]
     },
     "execution_count": 51,
     "metadata": {},
     "output_type": "execute_result"
    }
   ],
   "source": [
    "simplifiedM2_1s3s"
   ]
  },
  {
   "cell_type": "code",
   "execution_count": 52,
   "id": "100384f7-1610-43d5-9d55-d6a6c34538e2",
   "metadata": {},
   "outputs": [
    {
     "data": {
      "text/plain": [
       "[b**4*((-18432/245)*b**2*xi**7 + (768/25)*xi**5)/sqrt(pi), 0, 0, b**4*((9216/245)*b**2*xi**7 + (-384/25)*xi**5)/sqrt(pi), 0, 0, 0]\n",
       "[0, b**4*((-12288/245)*b**2*xi**7 + (512/25)*xi**5)/sqrt(pi), 0, 0, 0, b**4*((9216/245)*b**2*xi**7 + (-384/25)*xi**5)/sqrt(pi), 0]\n",
       "[0, 0, b**4*((-12288/245)*b**2*xi**7 + (512/25)*xi**5)/sqrt(pi), 0, 0, 0, b**4*((3072/245)*b**2*xi**7 + (-128/25)*xi**5)/sqrt(pi)]\n",
       "[b**4*((9216/245)*b**2*xi**7 + (-384/25)*xi**5)/sqrt(pi), 0, 0, b**4*((-12288/245)*b**2*xi**7 + (512/25)*xi**5)/sqrt(pi), 0, 0, 0]\n",
       "[0, 0, 0, 0, b**4*((-1536/49)*b**2*xi**7 + (64/5)*xi**5)/sqrt(pi), 0, 0]\n",
       "[0, b**4*((9216/245)*b**2*xi**7 + (-384/25)*xi**5)/sqrt(pi), 0, 0, 0, b**4*((-18432/245)*b**2*xi**7 + (768/25)*xi**5)/sqrt(pi), 0]\n",
       "[0, 0, b**4*((3072/245)*b**2*xi**7 + (-128/25)*xi**5)/sqrt(pi), 0, 0, 0, b**4*((-12288/245)*b**2*xi**7 + (512/25)*xi**5)/sqrt(pi)]"
      ]
     },
     "execution_count": 52,
     "metadata": {},
     "output_type": "execute_result"
    }
   ],
   "source": [
    "simplifiedM2_3s3s"
   ]
  },
  {
   "cell_type": "code",
   "execution_count": null,
   "id": "a65ad964-fbf9-4928-972d-7d4b6591bd38",
   "metadata": {},
   "outputs": [],
   "source": []
  },
  {
   "cell_type": "code",
   "execution_count": 75,
   "id": "bc1f90dc-ebac-480b-ac16-63c4fc944659",
   "metadata": {},
   "outputs": [],
   "source": [
    "matGM2_1sH = sympy.Matrix(sympy.BlockMatrix([sympy.Matrix(matGM2_1s3t)]))\n",
    "matGM2_2aH = sympy.Matrix(sympy.BlockMatrix([sympy.Matrix(matGM2_2a3t)]))\n",
    "\n",
    "matKM2_1sH = sympy.Matrix(sympy.BlockMatrix([sympy.Matrix(matKM2_1s3t)]))\n",
    "matKM2_2aH = sympy.Matrix(sympy.BlockMatrix([sympy.Matrix(matKM2_2a3t)]))\n",
    "\n",
    "matGM2_H1s = sympy.Matrix(sympy.BlockMatrix([[sympy.Matrix(matGM2_3t1s)]]))\n",
    "matGM2_H2a = sympy.Matrix(sympy.BlockMatrix([[sympy.Matrix(matGM2_3t2a)]]))\n",
    "\n",
    "matGM2_HH = sympy.Matrix(sympy.BlockMatrix([[sympy.Matrix(matGM2_3t3t)]]))\n",
    "\n",
    "matKM2_HH_nonzero = sympy.Matrix(sympy.BlockMatrix([[sympy.Matrix(matKM2_3t3t)]]))\n",
    "matKM2_HH = sympy.Matrix(sympy.BlockMatrix([matKM2_HH_nonzero]))\n",
    "\n",
    "# self-interaction\n",
    "\n",
    "g3t = 1/(2*pi*eta*b)\n",
    "\n",
    "matGM2_oHH = sympy.Matrix(sympy.BlockDiagMatrix(g3t*matDelta1))\n",
    "\n",
    "\n",
    "halfMinusk3t = 2/5 #0.4\n",
    "\n",
    "matKM2_oHH = sympy.Matrix(sympy.BlockDiagMatrix(halfMinusk3t*matDelta1))"
   ]
  },
  {
   "cell_type": "code",
   "execution_count": 76,
   "id": "e40af588-77d5-482f-84de-60615746d086",
   "metadata": {},
   "outputs": [],
   "source": [
    "ME_file = \"matrixM2r0_3t.py\"\n",
    "dimH=3\n",
    "\n",
    "with open(ME_file, \"w\") as text_file:\n",
    "    print(\"import numpy\", file=text_file)\n",
    "    print(\"from math import *\", file=text_file)\n",
    "    print(\"PI = 3.14159265359\\n\", file=text_file)\n",
    "    \n",
    "    print(\"def GM2_1s1s(xi, b,eta):\\n    return numpy.array({})\\n\".format(np.reshape(np.asarray(matGM2_1s1s),(3,3)).tolist()), file=text_file)\n",
    "    print(\"def GM2_2a1s(xi, b,eta):\\n    return numpy.array({})\\n\".format(np.reshape(np.asarray(matGM2_2a1s),(3,3)).tolist()), file=text_file)\n",
    "    \n",
    "    print(\"def GM2_1s2a(xi, b,eta):\\n    return numpy.array({})\\n\".format(np.reshape(np.asarray(matGM2_1s2a),(3,3)).tolist()), file=text_file)\n",
    "    print(\"def GM2_2a2a(xi, b,eta):\\n    return numpy.array({})\\n\".format(np.reshape(np.asarray(matGM2_2a2a),(3,3)).tolist()), file=text_file)\n",
    "    \n",
    "    print(\"def GM2_H1s(xi, b,eta):\\n    return numpy.array({})\\n\".format(np.reshape(np.asarray(matGM2_H1s),(dimH,3)).tolist()), file=text_file)\n",
    "    print(\"def GM2_H2a(xi, b,eta):\\n    return numpy.array({})\\n\".format(np.reshape(np.asarray(matGM2_H2a),(dimH,3)).tolist()), file=text_file)\n",
    "    \n",
    "    # print(\"def KoHH(b,eta):\\n    return numpy.array({})\\n\".format(np.reshape(np.asarray(matKoHH),(dimH,dimH)).tolist()), file=text_file)\n",
    "    print(\"def KM2_HH(xi, b,eta):\\n    return numpy.array({})\\n\".format(np.reshape(np.asarray(matKM2_HH),(dimH,dimH)).tolist()), file=text_file)\n",
    "    \n",
    "    #print(\"def GoHH(b,eta):\\n    return numpy.array({})\\n\".format(np.reshape(np.asarray(matGoHH),(dimH,dimH)).tolist()), file=text_file)\n",
    "    print(\"def GM2_HH(xi, b,eta):\\n    return numpy.array({})\\n\".format(np.reshape(np.asarray(matGM2_HH),(dimH,dimH)).tolist()), file=text_file)\n",
    "    \n",
    "    print(\"def GM2_1sH(xi, b,eta):\\n    return numpy.array({})\\n\".format(np.reshape(np.asarray(matGM2_1sH),(3,dimH)).tolist()), file=text_file)\n",
    "    print(\"def GM2_2aH(xi, b,eta):\\n    return numpy.array({})\\n\".format(np.reshape(np.asarray(matGM2_2aH),(3,dimH)).tolist()), file=text_file)\n",
    "    \n",
    "    print(\"def KM2_1sH(xi, b,eta):\\n    return numpy.array({})\\n\".format(np.reshape(np.asarray(matKM2_1sH),(3,dimH)).tolist()), file=text_file)\n",
    "    print(\"def KM2_2aH(xi, b,eta):\\n    return numpy.array({})\\n\".format(np.reshape(np.asarray(matKM2_2aH),(3,dimH)).tolist()), file=text_file)\n",
    "    \n",
    "    \n",
    "    \n",
    "## replace things for easier usage with python     \n",
    "with open(ME_file, 'r') as file:\n",
    "    filedata = file.read()\n",
    "    \n",
    "filedata = filedata.replace('pi', 'PI')\n",
    "filedata = filedata.replace('sqrt', 'numpy.sqrt')\n",
    "\n",
    "with open(ME_file, 'w') as file:\n",
    "    file.write(filedata)"
   ]
  },
  {
   "cell_type": "code",
   "execution_count": 55,
   "id": "5765a19c-bf6e-4ac5-8e46-4f89abb0d3e9",
   "metadata": {},
   "outputs": [
    {
     "data": {
      "text/latex": [
       "$\\displaystyle \\left[\\begin{matrix}\\frac{- 92160 b^{6} \\xi^{7} + 37632 b^{4} \\xi^{5}}{1225 \\sqrt{\\pi}} & 0 & 0 & \\frac{46080 b^{6} \\xi^{7} - 18816 b^{4} \\xi^{5}}{1225 \\sqrt{\\pi}} & 0 & 0 & 0\\\\0 & \\frac{- 61440 b^{6} \\xi^{7} + 25088 b^{4} \\xi^{5}}{1225 \\sqrt{\\pi}} & 0 & 0 & 0 & \\frac{46080 b^{6} \\xi^{7} - 18816 b^{4} \\xi^{5}}{1225 \\sqrt{\\pi}} & 0\\\\0 & 0 & \\frac{- 61440 b^{6} \\xi^{7} + 25088 b^{4} \\xi^{5}}{1225 \\sqrt{\\pi}} & 0 & 0 & 0 & \\frac{15360 b^{6} \\xi^{7} - 6272 b^{4} \\xi^{5}}{1225 \\sqrt{\\pi}}\\\\\\frac{46080 b^{6} \\xi^{7} - 18816 b^{4} \\xi^{5}}{1225 \\sqrt{\\pi}} & 0 & 0 & \\frac{- 61440 b^{6} \\xi^{7} + 25088 b^{4} \\xi^{5}}{1225 \\sqrt{\\pi}} & 0 & 0 & 0\\\\0 & 0 & 0 & 0 & \\frac{- 7680 b^{6} \\xi^{7} + 3136 b^{4} \\xi^{5}}{245 \\sqrt{\\pi}} & 0 & 0\\\\0 & \\frac{46080 b^{6} \\xi^{7} - 18816 b^{4} \\xi^{5}}{1225 \\sqrt{\\pi}} & 0 & 0 & 0 & \\frac{- 92160 b^{6} \\xi^{7} + 37632 b^{4} \\xi^{5}}{1225 \\sqrt{\\pi}} & 0\\\\0 & 0 & \\frac{15360 b^{6} \\xi^{7} - 6272 b^{4} \\xi^{5}}{1225 \\sqrt{\\pi}} & 0 & 0 & 0 & \\frac{- 61440 b^{6} \\xi^{7} + 25088 b^{4} \\xi^{5}}{1225 \\sqrt{\\pi}}\\end{matrix}\\right]$"
      ],
      "text/plain": [
       "Matrix([\n",
       "[(-92160*b**6*xi**7 + 37632*b**4*xi**5)/(1225*sqrt(pi)),                                                      0,                                                      0,  (46080*b**6*xi**7 - 18816*b**4*xi**5)/(1225*sqrt(pi)),                                                   0,                                                      0,                                                      0],\n",
       "[                                                     0, (-61440*b**6*xi**7 + 25088*b**4*xi**5)/(1225*sqrt(pi)),                                                      0,                                                      0,                                                   0,  (46080*b**6*xi**7 - 18816*b**4*xi**5)/(1225*sqrt(pi)),                                                      0],\n",
       "[                                                     0,                                                      0, (-61440*b**6*xi**7 + 25088*b**4*xi**5)/(1225*sqrt(pi)),                                                      0,                                                   0,                                                      0,   (15360*b**6*xi**7 - 6272*b**4*xi**5)/(1225*sqrt(pi))],\n",
       "[ (46080*b**6*xi**7 - 18816*b**4*xi**5)/(1225*sqrt(pi)),                                                      0,                                                      0, (-61440*b**6*xi**7 + 25088*b**4*xi**5)/(1225*sqrt(pi)),                                                   0,                                                      0,                                                      0],\n",
       "[                                                     0,                                                      0,                                                      0,                                                      0, (-7680*b**6*xi**7 + 3136*b**4*xi**5)/(245*sqrt(pi)),                                                      0,                                                      0],\n",
       "[                                                     0,  (46080*b**6*xi**7 - 18816*b**4*xi**5)/(1225*sqrt(pi)),                                                      0,                                                      0,                                                   0, (-92160*b**6*xi**7 + 37632*b**4*xi**5)/(1225*sqrt(pi)),                                                      0],\n",
       "[                                                     0,                                                      0,   (15360*b**6*xi**7 - 6272*b**4*xi**5)/(1225*sqrt(pi)),                                                      0,                                                   0,                                                      0, (-61440*b**6*xi**7 + 25088*b**4*xi**5)/(1225*sqrt(pi))]])"
      ]
     },
     "execution_count": 55,
     "metadata": {},
     "output_type": "execute_result"
    }
   ],
   "source": [
    "sympy.simplify(simplifiedM2_3s3s)"
   ]
  },
  {
   "cell_type": "code",
   "execution_count": null,
   "id": "9a668ebf-8e01-4cf7-abcc-0ce94ec13578",
   "metadata": {},
   "outputs": [],
   "source": []
  }
 ],
 "metadata": {
  "kernelspec": {
   "display_name": "Python 3 (ipykernel)",
   "language": "python",
   "name": "python3"
  },
  "language_info": {
   "codemirror_mode": {
    "name": "ipython",
    "version": 3
   },
   "file_extension": ".py",
   "mimetype": "text/x-python",
   "name": "python",
   "nbconvert_exporter": "python",
   "pygments_lexer": "ipython3",
   "version": "3.10.2"
  }
 },
 "nbformat": 4,
 "nbformat_minor": 5
}
