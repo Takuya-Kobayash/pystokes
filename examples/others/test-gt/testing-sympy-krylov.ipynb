{
 "cells": [
  {
   "cell_type": "code",
   "execution_count": 1,
   "id": "35eacf6b-e8dc-4808-b86a-bbb9b38656ed",
   "metadata": {},
   "outputs": [],
   "source": [
    "import numpy as np, matplotlib.pyplot as plt\n",
    "import matelms as me\n",
    "import test\n",
    "from scipy.sparse.linalg import gmres, bicgstab, LinearOperator"
   ]
  },
  {
   "cell_type": "code",
   "execution_count": 2,
   "id": "3f0b38bd-1211-495a-a233-ac47fa722b58",
   "metadata": {},
   "outputs": [],
   "source": [
    "PI = 3.14159265359\n",
    "b, eta = 1.0, 0.1\n",
    "xij,yij,zij = np.array([-2., 0., 0.])"
   ]
  },
  {
   "cell_type": "code",
   "execution_count": 3,
   "id": "2abdf8d3-af14-43af-ae4d-cf2ec5380ae2",
   "metadata": {},
   "outputs": [],
   "source": [
    "##diagonal matrix elements\n",
    "g2s = np.full(5, 3./(20*PI*eta*b))\n",
    "g3t = np.full(3, 1./(2*PI*eta*b))\n",
    "g3a = np.full(5, 3./(2*PI*eta*b))\n",
    "g3s = np.full(7, 6./(7*PI*eta*b))\n",
    "\n",
    "GoHH = np.diag(np.block([g2s,g3t,g3a,g3s]))\n",
    "\n",
    "##construct two-body GHH, dimension 40x40\n",
    "def GHH(xij,yij,zij):\n",
    "    return np.block([[GoHH, me.GHH(xij,yij,zij, b,eta)],\n",
    "                    [me.GHH(-xij,-yij,-zij, b,eta), GoHH]])"
   ]
  },
  {
   "cell_type": "code",
   "execution_count": 4,
   "id": "a3b33276-bb0a-4490-97e8-a549f0ab20f2",
   "metadata": {},
   "outputs": [],
   "source": [
    "def GHHFH(FH):\n",
    "    return np.concatenate([(test.GoHHFH(b,eta, FH[:20]) + test.GHHFH(xij,yij,zij, b,eta, FH[20:]))\n",
    "                     ,(test.GHHFH(-xij,-yij,-zij, b,eta, FH[:20])+ test.GoHHFH(b,eta, FH[20:]))])"
   ]
  },
  {
   "cell_type": "code",
   "execution_count": 5,
   "id": "a507279f-0f64-4966-afde-0c8660f8c349",
   "metadata": {},
   "outputs": [
    {
     "data": {
      "text/plain": [
       "(40,)"
      ]
     },
     "execution_count": 5,
     "metadata": {},
     "output_type": "execute_result"
    }
   ],
   "source": [
    "np.dot(GHH(xij,yij,zij),np.ones(40)).shape"
   ]
  },
  {
   "cell_type": "code",
   "execution_count": 6,
   "id": "33696352-9ce4-4d05-b093-87b5c41d6360",
   "metadata": {},
   "outputs": [],
   "source": [
    "rhs = np.dot(GHH(xij,yij,zij),np.ones(40)) \n",
    "Ax = LinearOperator((40,40),matvec=GHHFH) ##Ax as linear operator"
   ]
  },
  {
   "cell_type": "code",
   "execution_count": 7,
   "id": "b5a8d2aa-a1cf-4dc5-bbb9-fbb9236ead97",
   "metadata": {},
   "outputs": [
    {
     "name": "stdout",
     "output_type": "stream",
     "text": [
      "CPU times: user 148 ms, sys: 3.14 ms, total: 151 ms\n",
      "Wall time: 148 ms\n"
     ]
    }
   ],
   "source": [
    "%%time\n",
    "soln, exitCode = bicgstab(Ax, rhs)"
   ]
  },
  {
   "cell_type": "code",
   "execution_count": 8,
   "id": "c6f88ac8-8b97-4427-b556-55b0edd9ed6e",
   "metadata": {},
   "outputs": [
    {
     "data": {
      "text/plain": [
       "array([0.99998402, 1.00001962, 1.00003856, 1.00003246, 0.99997002,\n",
       "       0.99999996, 0.99999996, 0.99999996, 1.00000045, 0.99999905,\n",
       "       1.00000048, 0.99999918, 0.99999918, 0.99998936, 0.99999987,\n",
       "       0.99998638, 1.0000092 , 1.0000027 , 1.00000405, 1.00000624,\n",
       "       0.99984945, 1.00000765, 0.99998436, 1.00007455, 0.99997655,\n",
       "       0.99999996, 0.99999996, 0.99999996, 0.99999963, 0.99999988,\n",
       "       0.9999995 , 1.00000057, 1.00000098, 0.99999545, 1.00000012,\n",
       "       0.99998655, 1.00000655, 1.00000255, 1.00000387, 1.0000062 ])"
      ]
     },
     "execution_count": 8,
     "metadata": {},
     "output_type": "execute_result"
    }
   ],
   "source": [
    "soln"
   ]
  },
  {
   "cell_type": "code",
   "execution_count": 9,
   "id": "7ecde398-abc4-4f52-a608-9f4f0cabc117",
   "metadata": {},
   "outputs": [],
   "source": [
    "x0 = rhs/np.concatenate([test.GoHHFH(b,eta, np.ones(20)), test.GoHHFH(b,eta, np.ones(20))])"
   ]
  },
  {
   "cell_type": "code",
   "execution_count": 10,
   "id": "d79b5ae5-4e5b-4190-80bf-33e971f7be82",
   "metadata": {},
   "outputs": [
    {
     "name": "stdout",
     "output_type": "stream",
     "text": [
      "CPU times: user 159 ms, sys: 917 µs, total: 160 ms\n",
      "Wall time: 158 ms\n"
     ]
    }
   ],
   "source": [
    "%%time\n",
    "soln, exitCode = bicgstab(Ax, rhs, x0)"
   ]
  },
  {
   "cell_type": "code",
   "execution_count": 11,
   "id": "021538f3-f483-4d8d-8344-f9e71162879e",
   "metadata": {},
   "outputs": [
    {
     "data": {
      "text/plain": [
       "array([0.99980928, 0.99998811, 1.00002416, 1.00009398, 0.99998818,\n",
       "       1.        , 1.        , 1.        , 1.00001541, 1.00000145,\n",
       "       0.99999937, 0.9999916 , 0.99999844, 0.99998789, 0.99999997,\n",
       "       1.00000063, 1.00000604, 1.00000009, 1.00000002, 0.99999984,\n",
       "       0.99979574, 1.00000583, 0.99996978, 1.00007223, 1.00000601,\n",
       "       1.        , 1.        , 1.        , 0.9999863 , 1.00000025,\n",
       "       1.00000059, 1.00000797, 1.00000161, 1.0000115 , 0.99999981,\n",
       "       1.0000005 , 0.99999456, 0.99999957, 1.00000014, 0.99999987])"
      ]
     },
     "execution_count": 11,
     "metadata": {},
     "output_type": "execute_result"
    }
   ],
   "source": [
    "soln"
   ]
  },
  {
   "cell_type": "code",
   "execution_count": 12,
   "id": "95be4122-e067-40ae-be7f-51e7b20fd4dc",
   "metadata": {},
   "outputs": [],
   "source": [
    "##maybe x0 helps for many particles and time steps"
   ]
  },
  {
   "cell_type": "code",
   "execution_count": 13,
   "id": "1c79f1a6-4274-4811-b5b6-57a2580487d6",
   "metadata": {},
   "outputs": [
    {
     "data": {
      "text/plain": [
       "array([0., 0., 0.])"
      ]
     },
     "execution_count": 13,
     "metadata": {},
     "output_type": "execute_result"
    }
   ],
   "source": [
    "np.zeros(3)"
   ]
  },
  {
   "cell_type": "code",
   "execution_count": 14,
   "id": "73372973-e4c3-4226-b35a-f347962572ea",
   "metadata": {},
   "outputs": [
    {
     "data": {
      "text/plain": [
       "array([0., 0., 0.])"
      ]
     },
     "execution_count": 14,
     "metadata": {},
     "output_type": "execute_result"
    }
   ],
   "source": [
    "np.zeros([3])"
   ]
  },
  {
   "cell_type": "code",
   "execution_count": null,
   "id": "22504744-ec48-4877-a777-db7434c91332",
   "metadata": {},
   "outputs": [],
   "source": []
  },
  {
   "cell_type": "code",
   "execution_count": 15,
   "id": "034d6e13-e97b-482f-b75c-d34029fbdcde",
   "metadata": {},
   "outputs": [
    {
     "data": {
      "text/plain": [
       "array([-0.01083333,  0.00125   ,  0.00125   ,  0.01791667,  0.0125    ,\n",
       "        0.        ,  0.        ,  0.        ,  0.        ,  0.125     ,\n",
       "       -0.125     , -0.0625    ,  0.0625    ,  0.00214286,  0.00369048,\n",
       "        0.00369048,  0.00488095,  0.00595238, -0.00276786, -0.00092262])"
      ]
     },
     "execution_count": 15,
     "metadata": {},
     "output_type": "execute_result"
    }
   ],
   "source": [
    "test.KHHVH(xij,yij,zij, b,eta, np.ones(20))"
   ]
  },
  {
   "cell_type": "markdown",
   "id": "54484302-73d0-4aa4-a816-a4e756c26fe7",
   "metadata": {},
   "source": [
    "### Check whether all of them match with previous results! - Yes, seems to work, unless I have made a mistake making the below trivial"
   ]
  },
  {
   "cell_type": "code",
   "execution_count": 16,
   "id": "b5ffa890-235c-4dbf-bffe-8a6809bb8c57",
   "metadata": {},
   "outputs": [],
   "source": [
    "LL = np.random.normal(np.ones(3))\n",
    "HH = np.random.normal(np.ones(20))"
   ]
  },
  {
   "cell_type": "code",
   "execution_count": 17,
   "id": "bbe0b7dd-4c9e-4d7d-ad11-259c84a5a898",
   "metadata": {},
   "outputs": [
    {
     "data": {
      "text/plain": [
       "True"
      ]
     },
     "execution_count": 17,
     "metadata": {},
     "output_type": "execute_result"
    }
   ],
   "source": [
    "np.allclose(test.G1s1sF(xij,yij,zij, b,eta, LL), np.dot(me.G1s1s(xij,yij,zij, b,eta), LL))"
   ]
  },
  {
   "cell_type": "code",
   "execution_count": 18,
   "id": "7da3e352-9fda-4102-a402-912e3b2c707e",
   "metadata": {},
   "outputs": [
    {
     "data": {
      "text/plain": [
       "True"
      ]
     },
     "execution_count": 18,
     "metadata": {},
     "output_type": "execute_result"
    }
   ],
   "source": [
    "np.allclose(test.G2a1sF(xij,yij,zij, b,eta, LL), np.dot(me.G2a1s(xij,yij,zij, b,eta), LL))"
   ]
  },
  {
   "cell_type": "code",
   "execution_count": 19,
   "id": "0baae299-71e2-44e0-9076-dc401d4bc954",
   "metadata": {},
   "outputs": [
    {
     "data": {
      "text/plain": [
       "True"
      ]
     },
     "execution_count": 19,
     "metadata": {},
     "output_type": "execute_result"
    }
   ],
   "source": [
    "np.allclose(test.G1s2aT(xij,yij,zij, b,eta, LL), np.dot(me.G1s2a(xij,yij,zij, b,eta), LL))"
   ]
  },
  {
   "cell_type": "code",
   "execution_count": 20,
   "id": "49b5d04a-fadc-41ef-8c8d-820aed5a125e",
   "metadata": {},
   "outputs": [
    {
     "data": {
      "text/plain": [
       "True"
      ]
     },
     "execution_count": 20,
     "metadata": {},
     "output_type": "execute_result"
    }
   ],
   "source": [
    "np.allclose(test.G2a2aT(xij,yij,zij, b,eta, LL), np.dot(me.G2a2a(xij,yij,zij, b,eta), LL))"
   ]
  },
  {
   "cell_type": "code",
   "execution_count": 21,
   "id": "51cf705b-43b9-438b-b47e-c2754dafe8a4",
   "metadata": {},
   "outputs": [
    {
     "data": {
      "text/plain": [
       "True"
      ]
     },
     "execution_count": 21,
     "metadata": {},
     "output_type": "execute_result"
    }
   ],
   "source": [
    "np.allclose(test.GH1sF(xij,yij,zij, b,eta, LL), np.dot(me.GH1s(xij,yij,zij, b,eta), LL))"
   ]
  },
  {
   "cell_type": "code",
   "execution_count": 22,
   "id": "bd351613-3015-4195-b14c-900af34fffe1",
   "metadata": {},
   "outputs": [
    {
     "data": {
      "text/plain": [
       "True"
      ]
     },
     "execution_count": 22,
     "metadata": {},
     "output_type": "execute_result"
    }
   ],
   "source": [
    "np.allclose(test.GH2aT(xij,yij,zij, b,eta, LL), np.dot(me.GH2a(xij,yij,zij, b,eta), LL))"
   ]
  },
  {
   "cell_type": "code",
   "execution_count": 23,
   "id": "2528cb99-5120-45df-91b7-58cbd92f3abb",
   "metadata": {},
   "outputs": [
    {
     "data": {
      "text/plain": [
       "True"
      ]
     },
     "execution_count": 23,
     "metadata": {},
     "output_type": "execute_result"
    }
   ],
   "source": [
    "np.allclose(test.GHHFH(xij,yij,zij, b,eta, HH), np.dot(me.GHH(xij,yij,zij, b,eta), HH))"
   ]
  },
  {
   "cell_type": "code",
   "execution_count": 24,
   "id": "25484b68-0c72-471d-b952-4f5f17c17fb7",
   "metadata": {},
   "outputs": [
    {
     "data": {
      "text/plain": [
       "True"
      ]
     },
     "execution_count": 24,
     "metadata": {},
     "output_type": "execute_result"
    }
   ],
   "source": [
    "np.allclose(test.KHHVH(xij,yij,zij, b,eta, HH), np.dot(me.KHH(xij,yij,zij, b,eta), HH))"
   ]
  },
  {
   "cell_type": "code",
   "execution_count": 25,
   "id": "aa37c8ee-efca-4e4f-b3f8-390f6ba7c404",
   "metadata": {},
   "outputs": [],
   "source": [
    "from linearSolve import linearSolve_direct as LS\n",
    "ls = LS(b, 2, eta)"
   ]
  },
  {
   "cell_type": "code",
   "execution_count": 26,
   "id": "65724179-a51b-48f4-84a4-c84d28167dc7",
   "metadata": {},
   "outputs": [
    {
     "data": {
      "text/plain": [
       "True"
      ]
     },
     "execution_count": 26,
     "metadata": {},
     "output_type": "execute_result"
    }
   ],
   "source": [
    "np.allclose(test.GoHHFH(b,eta, HH), np.dot(ls.GoHH,HH))"
   ]
  },
  {
   "cell_type": "code",
   "execution_count": 27,
   "id": "dd6e84df-fb4b-479a-aac6-6678a034a8f4",
   "metadata": {},
   "outputs": [
    {
     "data": {
      "text/plain": [
       "True"
      ]
     },
     "execution_count": 27,
     "metadata": {},
     "output_type": "execute_result"
    }
   ],
   "source": [
    "np.allclose(test.KoHHVH(b,eta, HH), np.dot(ls.KoHH, HH))"
   ]
  },
  {
   "cell_type": "code",
   "execution_count": 28,
   "id": "e2bc7be8-b310-4a12-b2cd-6fef4d6fb91d",
   "metadata": {},
   "outputs": [
    {
     "data": {
      "text/plain": [
       "True"
      ]
     },
     "execution_count": 28,
     "metadata": {},
     "output_type": "execute_result"
    }
   ],
   "source": [
    "np.allclose(test.G1sHFH(xij,yij,zij, b,eta, HH), np.dot(me.G1sH(xij,yij,zij, b,eta), HH))"
   ]
  },
  {
   "cell_type": "code",
   "execution_count": 29,
   "id": "e2ecad34-f5ae-446c-a11f-ed18f8a22276",
   "metadata": {},
   "outputs": [
    {
     "data": {
      "text/plain": [
       "True"
      ]
     },
     "execution_count": 29,
     "metadata": {},
     "output_type": "execute_result"
    }
   ],
   "source": [
    "np.allclose(test.G2aHFH(xij,yij,zij, b,eta, HH), np.dot(me.G2aH(xij,yij,zij, b,eta), HH))"
   ]
  },
  {
   "cell_type": "code",
   "execution_count": 30,
   "id": "8f288e85-5a8d-41e6-b242-5f4f4bc624b9",
   "metadata": {},
   "outputs": [
    {
     "data": {
      "text/plain": [
       "True"
      ]
     },
     "execution_count": 30,
     "metadata": {},
     "output_type": "execute_result"
    }
   ],
   "source": [
    "np.allclose(test.K1sHVH(xij,yij,zij, b,eta, HH), np.dot(me.K1sH(xij,yij,zij, b,eta), HH))"
   ]
  },
  {
   "cell_type": "code",
   "execution_count": 31,
   "id": "c100a1b7-0917-497b-bffd-24ddaa3804bc",
   "metadata": {},
   "outputs": [
    {
     "data": {
      "text/plain": [
       "True"
      ]
     },
     "execution_count": 31,
     "metadata": {},
     "output_type": "execute_result"
    }
   ],
   "source": [
    "np.allclose(test.K2aHVH(xij,yij,zij, b,eta, HH), np.dot(me.K2aH(xij,yij,zij, b,eta), HH))"
   ]
  },
  {
   "cell_type": "code",
   "execution_count": null,
   "id": "c63da417-e91d-487c-8405-61c63817e6a1",
   "metadata": {},
   "outputs": [],
   "source": []
  },
  {
   "cell_type": "code",
   "execution_count": 32,
   "id": "7d6a8090-c7e1-47bf-9dc6-116f32f07204",
   "metadata": {},
   "outputs": [],
   "source": [
    "ff = np.array([1,0,0])"
   ]
  },
  {
   "cell_type": "code",
   "execution_count": 33,
   "id": "489c7297-d4d0-4210-a8aa-d2b45c6946c0",
   "metadata": {},
   "outputs": [
    {
     "data": {
      "text/plain": [
       "array([ 0.11936621,  0.        ,  0.        , -0.0596831 ,  0.        ,\n",
       "        0.        ,  0.        ,  0.        ,  0.        , -0.        ,\n",
       "        0.        ,  0.        ,  0.        ,  0.09662979,  0.        ,\n",
       "        0.        , -0.04831489,  0.        ,  0.        ,  0.        ])"
      ]
     },
     "execution_count": 33,
     "metadata": {},
     "output_type": "execute_result"
    }
   ],
   "source": [
    "test.GH1sF(xij,yij,zij, b,eta, ff)"
   ]
  },
  {
   "cell_type": "code",
   "execution_count": 34,
   "id": "8dd46069-466b-46a2-bb1e-3ab7c9140e85",
   "metadata": {},
   "outputs": [
    {
     "data": {
      "text/plain": [
       "array([ 0.11936621,  0.        ,  0.        , -0.0596831 ,  0.        ,\n",
       "        0.        ,  0.        ,  0.        ,  0.        ,  0.        ,\n",
       "        0.        ,  0.        ,  0.        ,  0.09662979,  0.        ,\n",
       "        0.        , -0.04831489,  0.        ,  0.        ,  0.        ])"
      ]
     },
     "execution_count": 34,
     "metadata": {},
     "output_type": "execute_result"
    }
   ],
   "source": [
    "np.dot(me.GH1s(xij,yij,zij, b,eta), ff)"
   ]
  },
  {
   "cell_type": "code",
   "execution_count": null,
   "id": "a77953c8-7230-4123-a05e-49b2c5ad91e5",
   "metadata": {},
   "outputs": [],
   "source": []
  },
  {
   "cell_type": "code",
   "execution_count": null,
   "id": "3ca8ff1d-e330-4367-8e0d-873ed3787d40",
   "metadata": {},
   "outputs": [],
   "source": []
  },
  {
   "cell_type": "code",
   "execution_count": 35,
   "id": "67306378-20b1-4261-8cf2-696925e151b1",
   "metadata": {},
   "outputs": [
    {
     "data": {
      "text/plain": [
       "True"
      ]
     },
     "execution_count": 35,
     "metadata": {},
     "output_type": "execute_result"
    }
   ],
   "source": [
    "np.allclose(test.GH1sF(xij,yij,zij, b,eta, LL), np.dot(me.GH1s(xij,yij,zij, b,eta), LL))"
   ]
  },
  {
   "cell_type": "code",
   "execution_count": null,
   "id": "6db36121-0636-48ac-a469-3c4b4fc17747",
   "metadata": {},
   "outputs": [],
   "source": []
  }
 ],
 "metadata": {
  "kernelspec": {
   "display_name": "Python 3 (ipykernel)",
   "language": "python",
   "name": "python3"
  },
  "language_info": {
   "codemirror_mode": {
    "name": "ipython",
    "version": 3
   },
   "file_extension": ".py",
   "mimetype": "text/x-python",
   "name": "python",
   "nbconvert_exporter": "python",
   "pygments_lexer": "ipython3",
   "version": "3.10.2"
  }
 },
 "nbformat": 4,
 "nbformat_minor": 5
}
