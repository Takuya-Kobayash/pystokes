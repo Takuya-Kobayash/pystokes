{
 "cells": [
  {
   "cell_type": "markdown",
   "id": "597812ba-a06f-4594-ae47-7287c236fa77",
   "metadata": {},
   "source": [
    "### Free space: FTS\n",
    "\n",
    "FTS matrix elements only with symmetry factors\n",
    "        \n",
    "        FTSMEsym.py"
   ]
  },
  {
   "cell_type": "markdown",
   "id": "0d62fddc-e45d-45dd-9bd9-c6614c17cb94",
   "metadata": {},
   "source": [
    "On the note of a general Green's function, have to write the matrix elements more general. In previous computation I have used a lot of the symmetries of the free space Green's function."
   ]
  },
  {
   "cell_type": "code",
   "execution_count": 1,
   "id": "13b35da8-4fb0-4aee-a372-505d50a6560c",
   "metadata": {},
   "outputs": [],
   "source": [
    "from sympy import *\n",
    "import numpy as np\n",
    "from sympy.printing.numpy import NumPyPrinter\n",
    "\n",
    "import re"
   ]
  },
  {
   "cell_type": "markdown",
   "id": "2aead66b-9c15-45b2-a5a4-464b332d5996",
   "metadata": {},
   "source": [
    "### Definitions and auxiliary functions"
   ]
  },
  {
   "cell_type": "code",
   "execution_count": 2,
   "id": "293398f7-56fc-4a74-9a55-c54b58f3a943",
   "metadata": {},
   "outputs": [],
   "source": [
    "xij, yij, zij, b, eta = symbols(\"xij yij zij b eta\", real=True) #probably need FH and VH symbols too\n",
    "\n",
    "# indices for summation:\n",
    "## Caution, cannot use lambda, instead use Lambda\n",
    "## do not use eta as index, it's the viscosity\n",
    "alpha, beta, gamma, gamma1, gamma2, gamma3, gamma4, kappa, kappa1, kappa2, mu, nu, nu1, nu2, Lambda, eta2, zeta, sigma = symbols(\n",
    "    'alpha, beta, gamma, gamma1, gamma2, gamma3, gamma4, kappa, kappa1, kappa2, mu, nu, nu1, nu2, Lambda, eta2, zeta, sigma', integer=True)\n",
    "\n",
    "\n",
    "## for FH and VH checkout the 'Indexed' package to define them as FH[1], FH[2] etc.\n",
    "\n",
    "rij = Array([xij, yij, zij])\n",
    "\n",
    "def norm(rij):\n",
    "    return sqrt(summation(rij[alpha]**2,(alpha,0,2)))\n",
    "\n",
    "KroneckerDelta = eye(3)\n",
    "\n",
    "def Laplacian(G):\n",
    "    return diff(G, rij[0], rij[0]) + diff(G, rij[1], rij[1]) + diff(G, rij[2], rij[2])\n",
    "\n",
    "def eps(alpha, beta, gamma):\n",
    "    return LeviCivita(alpha,beta,gamma)"
   ]
  },
  {
   "cell_type": "code",
   "execution_count": 3,
   "id": "5082c724-84c2-495c-96e6-f4233e7e7646",
   "metadata": {},
   "outputs": [],
   "source": [
    "def Curl(G, alpha, beta): ## the function to take the curl of and the two remaining indices \n",
    "    result=0\n",
    "    for i in range(3):\n",
    "        for j in range(3):\n",
    "            result += eps(alpha,i,j)*diff(G(rij,j,beta),rij[i]) ## G is symmetric in its indices\n",
    "    return result\n",
    "\n",
    "def CurlCurl(G, alpha, beta): ## the function to take the curl of and the two remaining indices \n",
    "    result=0\n",
    "    for i in range(3):\n",
    "        for j in range(3):\n",
    "            for k in range(3):\n",
    "                for l in range(3):\n",
    "                    result += eps(alpha,i,j)*eps(beta,k,l)*diff(G(rij,j,l), rij[i], rij[k])\n",
    "    return result"
   ]
  },
  {
   "cell_type": "markdown",
   "id": "223dcc91-8b63-4f5f-8756-b771b7121ebd",
   "metadata": {},
   "source": [
    "### Matrix elements"
   ]
  },
  {
   "cell_type": "code",
   "execution_count": 4,
   "id": "d9a62596-ebc7-489b-bf1c-5916c51e0bfc",
   "metadata": {},
   "outputs": [],
   "source": [
    "def G(rij, alpha, beta):\n",
    "    return 1/(8*pi*eta)*(KroneckerDelta[alpha,beta]/norm(rij) + rij[alpha]*rij[beta]/norm(rij)**3)\n",
    "\n",
    "def delG(rij, alpha, beta, gamma):\n",
    "    return 1/(8*pi*eta)*((-KroneckerDelta[alpha,beta]*rij[gamma] + KroneckerDelta[alpha,gamma]*rij[beta] + KroneckerDelta[beta,gamma]*rij[alpha])/norm(rij)**3\n",
    "                         - 3*rij[alpha]*rij[beta]*rij[gamma]/norm(rij)**5)\n",
    "\n",
    "def lapG(rij, alpha, beta):\n",
    "    return 1/(4*pi*eta)*(KroneckerDelta[alpha,beta]/norm(rij)**3 - 3*rij[alpha]*rij[beta]/norm(rij)**5)"
   ]
  },
  {
   "cell_type": "code",
   "execution_count": 5,
   "id": "8848f9e9-b450-4ff4-a58f-75363a81a3bd",
   "metadata": {},
   "outputs": [],
   "source": [
    "##auxiliary functions\n",
    "def dellapG(rij, alpha, beta, kappa1):\n",
    "    return diff(lapG(rij, alpha, beta), rij[kappa1])\n",
    "\n",
    "def deldelG(rij, zeta, beta, kappa1, nu):\n",
    "    return diff(delG(rij, zeta, beta, kappa1), rij[nu])\n",
    "\n",
    "def deldellapG(rij, alpha, beta, gamma1, kappa1):\n",
    "    return diff(dellapG(rij,alpha,beta, gamma1), rij[kappa1])\n",
    "\n",
    "def deldeldelG(rij, alpha, beta, gamma1, gamma2, gamma3):\n",
    "    return diff(deldelG(rij, alpha, beta, gamma1, gamma2), rij[gamma3])\n",
    "\n",
    "def deldeldeldelG(rij, alpha, beta, gamma1, gamma2, gamma3, gamma4):\n",
    "    return diff(deldeldelG(rij, alpha, beta, gamma1, gamma2, gamma3), rij[gamma4])"
   ]
  },
  {
   "cell_type": "code",
   "execution_count": 6,
   "id": "bedb00d0-9bdb-455f-b225-43375ba16680",
   "metadata": {},
   "outputs": [],
   "source": [
    "# GLL\n",
    "def G1s1s(rij, alpha, beta):\n",
    "    return G(rij, alpha, beta) + b**2/3*lapG(rij, alpha, beta)\n",
    "\n",
    "def G1s2a(rij, alpha, beta):\n",
    "    return -0.5*b*Curl(G, beta, alpha)\n",
    "#summation(summation(eps(beta, nu, zeta)*delG(rij, alpha, zeta, nu), (nu,0,2)), (zeta,0,2))\n",
    "\n",
    "def G2a1s(rij, alpha, beta):\n",
    "    return b*Curl(G,alpha,beta)\n",
    "#summation(summation(eps(alpha,nu,zeta)*delG(rij,zeta,beta,nu), (nu,0,2)), (zeta,0,2))\n",
    "\n",
    "def G2a2a(rij, alpha, beta):\n",
    "    return -0.5*b*b*CurlCurl(G,alpha,beta)\n",
    "#summation(summation(summation(summation(eps(alpha,mu,kappa)*eps(beta,nu,zeta)*deldelG(rij,kappa,zeta,nu,mu),(mu,0,2)), (kappa,0,2)), (nu,0,2)), (zeta,0,2))"
   ]
  },
  {
   "cell_type": "code",
   "execution_count": 7,
   "id": "79df433f-2f3a-480f-9ccb-3fb175d27e65",
   "metadata": {},
   "outputs": [],
   "source": [
    "## GL2s and G2sL\n",
    "def G1s2s(rij, alpha, kappa1, beta):\n",
    "    return -0.5*b*((delG(rij, alpha, beta, kappa1) + delG(rij, alpha, kappa1, beta)) + 4*b**2/15*(dellapG(rij, alpha, beta, kappa1) + dellapG(rij, alpha, kappa1, beta)))\n",
    "\n",
    "def G2a2s(rij, alpha, kappa1, beta):\n",
    "    return -0.5*b*b*(diff(Curl(G, alpha, beta),rij[kappa1]) + diff(Curl(G, alpha, kappa1),rij[beta]))\n",
    "#summation(summation(eps(alpha,nu,zeta)*(deldelG(rij, zeta, beta, kappa1, nu) + deldelG(rij, zeta, kappa1, beta, nu)), (nu,0,2)), (zeta,0,2))\n",
    "\n",
    "def G2s1s(rij, alpha, gamma1, beta):\n",
    "    return 0.5*b*((delG(rij, alpha, beta, gamma1) + delG(rij, gamma1, beta, alpha)) + 4*b**2/15*(dellapG(rij,alpha,beta,gamma1) + dellapG(rij, gamma1, beta, alpha)))\n",
    "\n",
    "def G2s2a(rij, alpha, gamma1, mu):\n",
    "    return -0.25*b*b*(diff(Curl(G,mu,gamma1), rij[alpha]) + diff(Curl(G,mu,alpha), rij[gamma1])) #sign change from -> eps(mu, kappa1, beta)\n",
    "#summation(summation(eps(beta, kappa1, mu)*(deldelG(rij, gamma1, beta, alpha, kappa1) + deldelG(rij, alpha, beta, gamma1, kappa1)), (kappa1, 0, 2)), (beta,0,2))\n",
    "\n",
    "\n",
    "## G2s2s\n",
    "def G2s2s(rij, alpha, gamma1, kappa1, beta):\n",
    "    return -0.25*b*b*((deldelG(rij, alpha, beta, gamma1, kappa1) + deldelG(rij, gamma1, beta, alpha, kappa1)) + \n",
    "                      (deldelG(rij,alpha,kappa1, gamma1, beta) + deldelG(rij, gamma1, kappa1, alpha, beta)) +\n",
    "                      b**2/5*(deldellapG(rij,alpha,beta,gamma1,kappa1) + deldellapG(rij,gamma1,beta,alpha,kappa1)) + \n",
    "                      b**2/5*(deldellapG(rij, alpha, kappa1, gamma1, beta) + deldellapG(rij,gamma1,kappa1,alpha,beta)))\n",
    "\n",
    "\n",
    "def k2s2sSym(rij,alpha,gamma1,kappa1,beta):\n",
    "    return deldelG(rij,alpha,kappa1,gamma1,beta) + deldelG(rij,alpha,beta,gamma1,kappa1) + deldelG(rij,gamma1,kappa1,alpha,beta) + deldelG(rij,gamma1,beta,alpha,kappa1)\n",
    "\n",
    "def K2s2s(rij,alpha,gamma1,kappa1,beta):\n",
    "    return -2*pi*eta*b**3/3*(k2s2sSym(rij,alpha,gamma1,kappa1,beta) + b**2/5*Laplacian(k2s2sSym(rij,alpha,gamma1,kappa1,beta)))\n",
    "\n",
    "def k1s2sSym(rij, alpha, beta, gamma):\n",
    "    return delG(rij,alpha,gamma,beta) + delG(rij, alpha, beta, gamma)\n",
    "\n",
    "def K1s2s(rij, alpha,beta,gamma):\n",
    "    return -4*pi*eta*b**2/3*(k1s2sSym(rij, alpha, beta, gamma) + Laplacian(k1s2sSym(rij, alpha, beta, gamma)))\n",
    "\n",
    "def K2a2s(rij, Lambda, beta, gamma):\n",
    "    return -4*pi*eta*b**3/3*(diff(Curl(G,Lambda,gamma), rij[beta]) + diff(Curl(G,Lambda,beta), rij[gamma])) \n",
    "\n"
   ]
  },
  {
   "cell_type": "markdown",
   "id": "ad558adb-16d0-4471-a680-049ef18ab26a",
   "metadata": {},
   "source": [
    "### Systematic method of identifying which symmetry factor has to be applied"
   ]
  },
  {
   "cell_type": "code",
   "execution_count": 8,
   "id": "ed561cfd-4cae-4a75-8c26-59db23f5e2b3",
   "metadata": {},
   "outputs": [],
   "source": [
    "def check_duplicates(listOfElems): ## for eg 0,0,1 but will also give true for 0,0,0\n",
    "    ''' Check if given list contains any duplicates '''\n",
    "    if len(listOfElems) == len(set(listOfElems)):\n",
    "        return False\n",
    "    else:\n",
    "        return True\n",
    "\n",
    "def all_equal(iterator): ## for 0,0,0\n",
    "    return len(set(iterator)) <= 1 \n",
    "\n"
   ]
  },
  {
   "cell_type": "code",
   "execution_count": 9,
   "id": "e2f892e7-78f4-4219-b63a-39b4696d4713",
   "metadata": {},
   "outputs": [
    {
     "name": "stdout",
     "output_type": "stream",
     "text": [
      "x\n"
     ]
    }
   ],
   "source": [
    "## 3s template\n",
    "## Number of x,y and z: 18x, 6y and 3z. Want to stop if as quick as possible --> check x, then y, then z\n",
    "m,n,l = 1,1,2\n",
    "\n",
    "if check_duplicates([m,n,l]) and not all_equal([m,n,l]): ## two indices are equal\n",
    "    print('x')\n",
    "elif not check_duplicates([m,n,l]): ## all indices different\n",
    "    print('y')\n",
    "else:                           ## diagonal, all indices equal\n",
    "    print('z') "
   ]
  },
  {
   "cell_type": "code",
   "execution_count": 10,
   "id": "4620a4ee-c450-4e26-8ca8-88c6d332efa5",
   "metadata": {},
   "outputs": [
    {
     "name": "stdout",
     "output_type": "stream",
     "text": [
      "a\n"
     ]
    }
   ],
   "source": [
    "## 2s template (same for 3a)\n",
    "## Number of a and b: 6a and 3b\n",
    "i,j = 0,1\n",
    "\n",
    "if not all_equal([i,j]): ## off-diagonal terms\n",
    "    print('a')\n",
    "else:                    ## diagonal terms\n",
    "    print('b')\n"
   ]
  },
  {
   "cell_type": "markdown",
   "id": "31d5cbde-35cf-405d-bd52-1910472239f2",
   "metadata": {},
   "source": [
    "### Matrix assembly"
   ]
  },
  {
   "cell_type": "code",
   "execution_count": 11,
   "id": "6586577d-5239-4f3c-8686-2267d20215e2",
   "metadata": {},
   "outputs": [
    {
     "name": "stdout",
     "output_type": "stream",
     "text": [
      "G1s1s done\n",
      "G2a1s done\n",
      "G1s2a done\n",
      "G2a2a done\n",
      "G1s2s done\n",
      "G2a2s done\n",
      "G2s1s done\n",
      "G2s2a done\n",
      "G2s2s done\n",
      "K1s2s done\n",
      "K2a2s done\n",
      "K2s2s done\n",
      "...done\n",
      "CPU times: user 1min 22s, sys: 84.5 ms, total: 1min 22s\n",
      "Wall time: 1min 22s\n"
     ]
    }
   ],
   "source": [
    "%%time\n",
    "\n",
    "matG1s1s = Matrix.zeros(3,3)\n",
    "for i in range(3):\n",
    "    for j in range(3):\n",
    "        matG1s1s[i,j] = simplify(G1s1s(rij, i, j))\n",
    "        \n",
    "print('G1s1s done')\n",
    "        \n",
    "matG2a1s = Matrix.zeros(3,3)\n",
    "for i in range(3):\n",
    "    for j in range(3):\n",
    "        matG2a1s[i,j] = simplify(G2a1s(rij, i, j))\n",
    "        \n",
    "print('G2a1s done')\n",
    "        \n",
    "matG1s2a = Matrix.zeros(3,3)\n",
    "for i in range(3):\n",
    "    for j in range(3):\n",
    "        matG1s2a[i,j] = simplify(G1s2a(rij, i, j))\n",
    "        \n",
    "print('G1s2a done')\n",
    "        \n",
    "matG2a2a = Matrix.zeros(3,3)\n",
    "for i in range(3):\n",
    "    for j in range(3):\n",
    "        matG2a2a[i,j] = simplify(G2a2a(rij, i, j))\n",
    "        \n",
    "print('G2a2a done')\n",
    "        \n",
    "matG1s2s = Matrix.zeros(3,6)\n",
    "j=0\n",
    "for i in range(3):\n",
    "    for k in range(3):\n",
    "        for l in range(k,3):\n",
    "            if not all_equal([k,l]):\n",
    "                matG1s2s[i,j] = 2*simplify(G1s2s(rij, i, k, l))\n",
    "                \n",
    "            else:\n",
    "                matG1s2s[i,j] = simplify(G1s2s(rij, i, k, l))\n",
    "            j += 1\n",
    "    j=0\n",
    "    \n",
    "print('G1s2s done')\n",
    "\n",
    "matG2a2s = Matrix.zeros(3,6)\n",
    "j=0\n",
    "for i in range(3):\n",
    "    for k in range(3):\n",
    "        for l in range(k,3):\n",
    "            if not all_equal([k,l]):\n",
    "                matG2a2s[i,j] = 2*simplify(G2a2s(rij, i, k, l))\n",
    "                \n",
    "            else:\n",
    "                matG2a2s[i,j] = simplify(G2a2s(rij, i, k, l))\n",
    "            j += 1\n",
    "    j=0\n",
    "    \n",
    "print('G2a2s done')\n",
    "    \n",
    "matG2s1s = Matrix.zeros(6,3)\n",
    "i=0\n",
    "for j in range(3):\n",
    "    for k in range(3):\n",
    "        for l in range(k,3):\n",
    "            if not all_equal([k,l]):\n",
    "                matG2s1s[i,j] = 2*simplify(G2s1s(rij, k, l, j))\n",
    "                \n",
    "            else:\n",
    "                matG2s1s[i,j] = simplify(G2s1s(rij, k, l, j))\n",
    "            i += 1\n",
    "    i=0\n",
    "    \n",
    "print('G2s1s done')\n",
    "    \n",
    "matG2s2a = Matrix.zeros(6,3)\n",
    "i=0\n",
    "for j in range(3):\n",
    "    for k in range(3):\n",
    "        for l in range(k,3):\n",
    "            if not all_equal([k,l]):\n",
    "                matG2s2a[i,j] = 2*simplify(G2s2a(rij, k, l, j))\n",
    "                \n",
    "            else:\n",
    "                matG2s2a[i,j] = simplify(G2s2a(rij, k, l, j))\n",
    "            i += 1\n",
    "    i=0\n",
    "    \n",
    "print('G2s2a done')\n",
    "    \n",
    "matG2s2s = Matrix.zeros(6,6)\n",
    "i=0\n",
    "j=0\n",
    "for ki in range(3):\n",
    "    for li in range(ki,3):\n",
    "        for kj in range(3):\n",
    "            for lj in range(kj,3):                                          ##could also write as nested if statements -> done at level of (3s)\n",
    "                if not all_equal([ki,li]) and not all_equal([kj,lj]):\n",
    "                    matG2s2s[i,j] = 4*simplify(G2s2s(rij, ki, li, kj, lj))\n",
    "                \n",
    "                elif not all_equal([ki,li]) and all_equal([kj,lj]):\n",
    "                    matG2s2s[i,j] = 2*simplify(G2s2s(rij, ki, li, kj, lj))\n",
    "                    \n",
    "                elif all_equal([ki,li]) and not all_equal([kj,lj]):\n",
    "                    matG2s2s[i,j] = 2*simplify(G2s2s(rij, ki, li, kj, lj))\n",
    "                    \n",
    "                else:\n",
    "                    matG2s2s[i,j] = simplify(G2s2s(rij, ki, li, kj, lj))\n",
    "                j += 1\n",
    "        j=0\n",
    "        i += 1 \n",
    "        \n",
    "print('G2s2s done')\n",
    "\n",
    "matK1s2s = Matrix.zeros(3,6)\n",
    "j=0\n",
    "for i in range(3):\n",
    "    for k in range(3):\n",
    "        for l in range(k,3):\n",
    "            if not all_equal([k,l]):\n",
    "                matK1s2s[i,j] = 2*simplify(K1s2s(rij, i, k, l))\n",
    "                \n",
    "            else:\n",
    "                matK1s2s[i,j] = simplify(K1s2s(rij, i, k, l))\n",
    "            j += 1\n",
    "    j=0\n",
    "    \n",
    "print('K1s2s done')\n",
    "\n",
    "matK2a2s = Matrix.zeros(3,6)\n",
    "j=0\n",
    "for i in range(3):\n",
    "    for k in range(3):\n",
    "        for l in range(k,3):\n",
    "            if not all_equal([k,l]):\n",
    "                matK2a2s[i,j] = 2*simplify(K2a2s(rij, i, k, l))\n",
    "                \n",
    "            else:\n",
    "                matK2a2s[i,j] = simplify(K2a2s(rij, i, k, l))\n",
    "            j += 1\n",
    "    j=0  \n",
    "    \n",
    "print('K2a2s done')\n",
    "    \n",
    "matK2s2s = Matrix.zeros(6,6)\n",
    "i=0\n",
    "j=0\n",
    "for ki in range(3):\n",
    "    for li in range(ki,3):\n",
    "        for kj in range(3):\n",
    "            for lj in range(kj,3):\n",
    "                if not all_equal([ki,li]) and not all_equal([kj,lj]):\n",
    "                    matK2s2s[i,j] = 4*simplify(K2s2s(rij, ki, li, kj, lj))\n",
    "                \n",
    "                elif not all_equal([ki,li]) and all_equal([kj,lj]):\n",
    "                    matK2s2s[i,j] = 2*simplify(K2s2s(rij, ki, li, kj, lj))\n",
    "                    \n",
    "                elif all_equal([ki,li]) and not all_equal([kj,lj]):\n",
    "                    matK2s2s[i,j] = 2*simplify(K2s2s(rij, ki, li, kj, lj))\n",
    "                    \n",
    "                else:\n",
    "                    matK2s2s[i,j] = simplify(K2s2s(rij, ki, li, kj, lj))\n",
    "                j += 1\n",
    "        j=0\n",
    "        i += 1 \n",
    "        \n",
    "print('K2s2s done')\n",
    "        \n",
    "\n",
    "print('...done')"
   ]
  },
  {
   "cell_type": "markdown",
   "id": "f69ba59f-3bfb-4691-af28-b873c2c3487d",
   "metadata": {},
   "source": [
    "Create matrices that are zero"
   ]
  },
  {
   "cell_type": "markdown",
   "id": "8f49da7d-1a21-4ce9-b48b-a5b660591971",
   "metadata": {},
   "source": [
    "Need the following objects\n",
    "\n",
    "GH1s(force), GH2a(torque), KHH(VH), GHH(FH), \n",
    "\n",
    "G1s1s(force), G2a1s(force), G1s2a(torque), G2a2a(torque)\n",
    "G1sH(FH), K1sH(VH), G2aH(FH), K2aH(FH)\n",
    "\n",
    "Want to assemble them locally and then print them to a py file. keep placeholders such as force (array of len 3), FH (array of len 20) etc. create these first..."
   ]
  },
  {
   "cell_type": "code",
   "execution_count": 12,
   "id": "80957cb3-7b04-40a0-8734-beaf81f16a36",
   "metadata": {},
   "outputs": [],
   "source": [
    "## In python code will be force[i,0], so have to create force as np.zeros([3*Np,1]) object instead of np.zeros([3*Np])\n",
    "force  = Matrix(MatrixSymbol('force',3,1)) ##create an actual Matrix from it, have to pass to 'Matrix' \n",
    "torque = Matrix(MatrixSymbol('torque',3,1))\n",
    "V2s     = Matrix(MatrixSymbol('V2s',6,1))\n",
    "F2s     = Matrix(MatrixSymbol('F2s',6,1))"
   ]
  },
  {
   "cell_type": "markdown",
   "id": "a0a7fc8e-fe4e-4ab2-829d-4d7b6d6a5598",
   "metadata": {},
   "source": [
    "Create block matrices, then multiply with vectors and then print as functions"
   ]
  },
  {
   "cell_type": "code",
   "execution_count": 13,
   "id": "6a5d9782-1afd-4523-ae15-b4f9fc131ee7",
   "metadata": {},
   "outputs": [],
   "source": [
    "##diagonal elements\n",
    "g1s = 1/(6*pi*eta*b)\n",
    "g2a = 1/(4*pi*eta*b)\n",
    "\n",
    "g2s = 3/(20*pi*eta*b)\n",
    "\n",
    "matGo2s2s = diag(g2s,2*g2s,2*g2s,g2s,2*g2s,g2s)\n",
    "\n",
    "halfMinusk2s = 0.6\n",
    "\n",
    "matKo2s2s = diag(halfMinusk2s,2*halfMinusk2s,2*halfMinusk2s,halfMinusk2s,2*halfMinusk2s,halfMinusk2s)"
   ]
  },
  {
   "cell_type": "markdown",
   "id": "e356adbe-6a32-441f-b704-d985683fa903",
   "metadata": {},
   "source": [
    "Create vectors instead of constructing the full matrix"
   ]
  },
  {
   "cell_type": "code",
   "execution_count": 17,
   "id": "85867e95-9492-42b9-b50b-66489c4e7ea4",
   "metadata": {},
   "outputs": [],
   "source": [
    "vecG2s1sF = matG2s1s*force\n",
    "vecG2s2aT = matG2s2a*torque\n",
    "\n",
    "vecK2s2sV2s_diag = matKo2s2s*V2s\n",
    "vecK2s2sV2s = matK2s2s*V2s\n",
    "\n",
    "vecG2s2sF2s_diag = matGo2s2s*F2s\n",
    "vecG2s2sF2s = matG2s2s*F2s\n",
    "\n",
    "vecG1s1sF = matG1s1s*force\n",
    "vecG2a1sF = matG2a1s*force\n",
    "\n",
    "vecG1s2aT = matG1s2a*torque\n",
    "vecG2a2aT = matG2a2a*torque\n",
    "\n",
    "vecG1s2sF2s = matG1s2s*F2s\n",
    "vecG2a2sF2s = matG2a2s*F2s\n",
    "\n",
    "vecK1s2sV2s = matK1s2s*V2s\n",
    "vecK2a2sV2s = matK2a2s*V2s"
   ]
  },
  {
   "cell_type": "markdown",
   "id": "614f9b6a-cf9b-446a-888b-828b0f8bd802",
   "metadata": {},
   "source": [
    "_____________\n",
    "\n",
    "### Write symbolic results to file as reusable python functions"
   ]
  },
  {
   "cell_type": "code",
   "execution_count": 18,
   "id": "64b2c85e-2711-4e11-ac41-804a0f89fef6",
   "metadata": {},
   "outputs": [],
   "source": [
    "ME_file = \"FTSMEsym.py\"\n",
    "\n",
    "with open(ME_file, \"w\") as text_file:\n",
    "    print(\"import numpy\", file=text_file)\n",
    "    print(\"PI = 3.14159265359\\n\", file=text_file)\n",
    "    \n",
    "    print(\"def G1s1sF(xij,yij,zij, b,eta, force):\\n    return numpy.array({})\\n\".format(np.reshape(np.asarray(vecG1s1sF),(3,)).tolist()), file=text_file)\n",
    "    print(\"def G2a1sF(xij,yij,zij, b,eta, force):\\n    return numpy.array({})\\n\".format(np.reshape(np.asarray(vecG2a1sF),(3,)).tolist()), file=text_file)\n",
    "    \n",
    "    print(\"def G1s2aT(xij,yij,zij, b,eta, torque):\\n    return numpy.array({})\\n\".format(np.reshape(np.asarray(vecG1s2aT),(3,)).tolist()), file=text_file)\n",
    "    print(\"def G2a2aT(xij,yij,zij, b,eta, torque):\\n    return numpy.array({})\\n\".format(np.reshape(np.asarray(vecG2a2aT),(3,)).tolist()), file=text_file)\n",
    "    \n",
    "    print(\"def G2s1sF(xij,yij,zij, b,eta, force):\\n    return numpy.array({})\\n\".format(np.reshape(np.asarray(vecG2s1sF),(6,)).tolist()), file=text_file)\n",
    "    print(\"def G2s2aT(xij,yij,zij, b,eta, torque):\\n    return numpy.array({})\\n\".format(np.reshape(np.asarray(vecG2s2aT),(6,)).tolist()), file=text_file)\n",
    "    \n",
    "    print(\"def Ko2s2sV2s(b,eta, V2s):\\n    return numpy.array({})\\n\".format(np.reshape(np.asarray(vecK2s2sV2s_diag),(6,)).tolist()), file=text_file)\n",
    "    print(\"def K2s2sV2s(xij,yij,zij, b,eta, V2s):\\n    return numpy.array({})\\n\".format(np.reshape(np.asarray(vecK2s2sV2s),(6,)).tolist()), file=text_file)\n",
    "    \n",
    "    print(\"def Go2s2sF2s(b,eta, F2s):\\n    return numpy.array({})\\n\".format(np.reshape(np.asarray(vecG2s2sF2s_diag),(6,)).tolist()), file=text_file)\n",
    "    print(\"def G2s2sF2s(xij,yij,zij, b,eta, F2s):\\n    return numpy.array({})\\n\".format(np.reshape(np.asarray(vecG2s2sF2s),(6,)).tolist()), file=text_file)\n",
    "    \n",
    "    print(\"def G1s2sF2s(xij,yij,zij, b,eta, F2s):\\n    return numpy.array({})\\n\".format(np.reshape(np.asarray(vecG1s2sF2s),(3,)).tolist()), file=text_file)\n",
    "    print(\"def G2a2sF2s(xij,yij,zij, b,eta, F2s):\\n    return numpy.array({})\\n\".format(np.reshape(np.asarray(vecG2a2sF2s),(3,)).tolist()), file=text_file)\n",
    "    \n",
    "    print(\"def K1s2sV2s(xij,yij,zij, b,eta, V2s):\\n    return numpy.array({})\\n\".format(np.reshape(np.asarray(vecK1s2sV2s),(3,)).tolist()), file=text_file)\n",
    "    print(\"def K2a2sV2s(xij,yij,zij, b,eta, V2s):\\n    return numpy.array({})\\n\".format(np.reshape(np.asarray(vecK2a2sV2s),(3,)).tolist()), file=text_file)\n",
    "    \n",
    "    \n",
    "    \n",
    "## replace things for easier usage with python     \n",
    "with open(ME_file, 'r') as file:\n",
    "    filedata = file.read()\n",
    "    \n",
    "filedata = filedata.replace('pi', 'PI')\n",
    "filedata = filedata.replace('sqrt', 'numpy.sqrt')\n",
    "\n",
    "filedata = re.sub(\"force\\[(\\d), 0\\]\", r\"force[\\1]\", filedata)\n",
    "filedata = re.sub(\"torque\\[(\\d), 0\\]\", r\"torque[\\1]\", filedata)\n",
    "filedata = re.sub(\"V2s\\[(\\d||\\d\\d), 0\\]\", r\"V2s[\\1]\", filedata)\n",
    "filedata = re.sub(\"F2s\\[(\\d||\\d\\d), 0\\]\", r\"F2s[\\1]\", filedata)\n",
    "\n",
    "with open(ME_file, 'w') as file:\n",
    "    file.write(filedata)"
   ]
  },
  {
   "cell_type": "markdown",
   "id": "0f7c6aa4-813b-497e-8b6e-5037b48f1b19",
   "metadata": {},
   "source": [
    "______________________________________\n",
    "_______________________"
   ]
  },
  {
   "cell_type": "code",
   "execution_count": null,
   "id": "e97e4c76-8e0c-4dd9-9ace-9298758791ed",
   "metadata": {},
   "outputs": [],
   "source": []
  },
  {
   "cell_type": "code",
   "execution_count": null,
   "id": "f1a602ce-3787-4f5b-b452-ccaf90e8a62d",
   "metadata": {},
   "outputs": [],
   "source": []
  },
  {
   "cell_type": "code",
   "execution_count": null,
   "id": "e7081d16-4be0-4746-9537-1e41eea8f327",
   "metadata": {},
   "outputs": [],
   "source": []
  },
  {
   "cell_type": "code",
   "execution_count": null,
   "id": "28b3977b-fbcb-4e73-9a6c-d59050e06441",
   "metadata": {},
   "outputs": [],
   "source": []
  },
  {
   "cell_type": "code",
   "execution_count": null,
   "id": "2ac77589-cad6-42a7-bd9a-7bc4d846a65e",
   "metadata": {},
   "outputs": [],
   "source": []
  },
  {
   "cell_type": "code",
   "execution_count": null,
   "id": "795ccd4d-f9dd-4bd4-9592-e68a73bf3592",
   "metadata": {},
   "outputs": [],
   "source": []
  },
  {
   "cell_type": "code",
   "execution_count": null,
   "id": "9a2a4641-1a85-42ea-8c13-9444a6fe1990",
   "metadata": {},
   "outputs": [],
   "source": []
  },
  {
   "cell_type": "code",
   "execution_count": null,
   "id": "bdd66359-3f60-4d4c-9271-0bebbebbae5b",
   "metadata": {},
   "outputs": [],
   "source": []
  },
  {
   "cell_type": "code",
   "execution_count": null,
   "id": "23f3610b-332c-4222-bdba-d9a6941d1eff",
   "metadata": {},
   "outputs": [],
   "source": []
  },
  {
   "cell_type": "code",
   "execution_count": null,
   "id": "37aa5da6-3c47-409a-84b1-c6fed00f1de2",
   "metadata": {},
   "outputs": [],
   "source": []
  },
  {
   "cell_type": "code",
   "execution_count": null,
   "id": "173f88da-437a-4254-a59f-cd2547e9ace8",
   "metadata": {},
   "outputs": [],
   "source": []
  },
  {
   "cell_type": "code",
   "execution_count": null,
   "id": "5d60b08d-ef69-492c-a818-a82ed1acfc77",
   "metadata": {},
   "outputs": [],
   "source": []
  },
  {
   "cell_type": "code",
   "execution_count": null,
   "id": "1fa062f3-234c-4488-a4fe-4db52a559d2b",
   "metadata": {},
   "outputs": [],
   "source": []
  },
  {
   "cell_type": "code",
   "execution_count": null,
   "id": "ba685c37-ea8a-459a-a95a-e9a2d5d48ed1",
   "metadata": {},
   "outputs": [],
   "source": []
  },
  {
   "cell_type": "code",
   "execution_count": null,
   "id": "e9161000-d97f-4559-a093-dcfa572cbafa",
   "metadata": {},
   "outputs": [],
   "source": []
  },
  {
   "cell_type": "code",
   "execution_count": null,
   "id": "9243cb70-b9c2-4555-b023-530271cca883",
   "metadata": {},
   "outputs": [],
   "source": []
  },
  {
   "cell_type": "code",
   "execution_count": null,
   "id": "07c30d25-32c7-4e89-ba55-d318d3840d56",
   "metadata": {},
   "outputs": [],
   "source": []
  },
  {
   "cell_type": "code",
   "execution_count": null,
   "id": "64e8ab3f-4dd2-424f-b708-a7ae59377e98",
   "metadata": {},
   "outputs": [],
   "source": []
  },
  {
   "cell_type": "code",
   "execution_count": null,
   "id": "acb0477d-c5ac-4bdf-af78-74200abc2c54",
   "metadata": {},
   "outputs": [],
   "source": []
  },
  {
   "cell_type": "code",
   "execution_count": 12,
   "id": "5f72d42e-d71c-4c5c-8e20-db163f31ecae",
   "metadata": {},
   "outputs": [],
   "source": [
    "## try to assemble one of the matrices"
   ]
  },
  {
   "cell_type": "code",
   "execution_count": 13,
   "id": "a950578e-e68f-47a1-9438-216ef41bcca5",
   "metadata": {},
   "outputs": [],
   "source": [
    "matG1s1s = Matrix.zeros(3,3)\n",
    "for i in range(3):\n",
    "    for j in range(3):\n",
    "        matG1s1s[i,j] = simplify(G1s1s(rij, i, j))"
   ]
  },
  {
   "cell_type": "code",
   "execution_count": 14,
   "id": "b40374c7-1e49-4ec0-a03b-d06ddb369865",
   "metadata": {},
   "outputs": [
    {
     "data": {
      "text/latex": [
       "$\\displaystyle \\left[\\begin{matrix}\\frac{- 2 b^{2} \\cdot \\left(2 xij^{2} - yij^{2} - zij^{2}\\right) + 3 \\left(xij^{2} + yij^{2} + zij^{2}\\right) \\left(2 xij^{2} + yij^{2} + zij^{2}\\right)}{24 \\pi \\eta \\left(xij^{2} + yij^{2} + zij^{2}\\right)^{\\frac{5}{2}}} & \\frac{xij yij \\left(- 2 b^{2} + xij^{2} + yij^{2} + zij^{2}\\right)}{8 \\pi \\eta \\left(xij^{2} + yij^{2} + zij^{2}\\right)^{\\frac{5}{2}}} & \\frac{xij zij \\left(- 2 b^{2} + xij^{2} + yij^{2} + zij^{2}\\right)}{8 \\pi \\eta \\left(xij^{2} + yij^{2} + zij^{2}\\right)^{\\frac{5}{2}}}\\\\\\frac{xij yij \\left(- 2 b^{2} + xij^{2} + yij^{2} + zij^{2}\\right)}{8 \\pi \\eta \\left(xij^{2} + yij^{2} + zij^{2}\\right)^{\\frac{5}{2}}} & \\frac{- 2 b^{2} \\left(- xij^{2} + 2 yij^{2} - zij^{2}\\right) + 3 \\left(xij^{2} + yij^{2} + zij^{2}\\right) \\left(xij^{2} + 2 yij^{2} + zij^{2}\\right)}{24 \\pi \\eta \\left(xij^{2} + yij^{2} + zij^{2}\\right)^{\\frac{5}{2}}} & \\frac{yij zij \\left(- 2 b^{2} + xij^{2} + yij^{2} + zij^{2}\\right)}{8 \\pi \\eta \\left(xij^{2} + yij^{2} + zij^{2}\\right)^{\\frac{5}{2}}}\\\\\\frac{xij zij \\left(- 2 b^{2} + xij^{2} + yij^{2} + zij^{2}\\right)}{8 \\pi \\eta \\left(xij^{2} + yij^{2} + zij^{2}\\right)^{\\frac{5}{2}}} & \\frac{yij zij \\left(- 2 b^{2} + xij^{2} + yij^{2} + zij^{2}\\right)}{8 \\pi \\eta \\left(xij^{2} + yij^{2} + zij^{2}\\right)^{\\frac{5}{2}}} & \\frac{- 2 b^{2} \\left(- xij^{2} - yij^{2} + 2 zij^{2}\\right) + 3 \\left(xij^{2} + yij^{2} + zij^{2}\\right) \\left(xij^{2} + yij^{2} + 2 zij^{2}\\right)}{24 \\pi \\eta \\left(xij^{2} + yij^{2} + zij^{2}\\right)^{\\frac{5}{2}}}\\end{matrix}\\right]$"
      ],
      "text/plain": [
       "Matrix([\n",
       "[(-2*b**2*(2*xij**2 - yij**2 - zij**2) + 3*(xij**2 + yij**2 + zij**2)*(2*xij**2 + yij**2 + zij**2))/(24*pi*eta*(xij**2 + yij**2 + zij**2)**(5/2)),                                                         xij*yij*(-2*b**2 + xij**2 + yij**2 + zij**2)/(8*pi*eta*(xij**2 + yij**2 + zij**2)**(5/2)),                                                         xij*zij*(-2*b**2 + xij**2 + yij**2 + zij**2)/(8*pi*eta*(xij**2 + yij**2 + zij**2)**(5/2))],\n",
       "[                                                       xij*yij*(-2*b**2 + xij**2 + yij**2 + zij**2)/(8*pi*eta*(xij**2 + yij**2 + zij**2)**(5/2)), (-2*b**2*(-xij**2 + 2*yij**2 - zij**2) + 3*(xij**2 + yij**2 + zij**2)*(xij**2 + 2*yij**2 + zij**2))/(24*pi*eta*(xij**2 + yij**2 + zij**2)**(5/2)),                                                         yij*zij*(-2*b**2 + xij**2 + yij**2 + zij**2)/(8*pi*eta*(xij**2 + yij**2 + zij**2)**(5/2))],\n",
       "[                                                       xij*zij*(-2*b**2 + xij**2 + yij**2 + zij**2)/(8*pi*eta*(xij**2 + yij**2 + zij**2)**(5/2)),                                                         yij*zij*(-2*b**2 + xij**2 + yij**2 + zij**2)/(8*pi*eta*(xij**2 + yij**2 + zij**2)**(5/2)), (-2*b**2*(-xij**2 - yij**2 + 2*zij**2) + 3*(xij**2 + yij**2 + zij**2)*(xij**2 + yij**2 + 2*zij**2))/(24*pi*eta*(xij**2 + yij**2 + zij**2)**(5/2))]])"
      ]
     },
     "execution_count": 14,
     "metadata": {},
     "output_type": "execute_result"
    }
   ],
   "source": [
    "matG1s1s ##works and as far as I can see, matches the Mathematica result"
   ]
  },
  {
   "cell_type": "code",
   "execution_count": 15,
   "id": "66196eed-12dc-4e8a-b24b-2351723df165",
   "metadata": {},
   "outputs": [
    {
     "data": {
      "text/plain": [
       "'ImmutableDenseMatrix([[(1/24)*(-2*b**2*(2*xij**2 - yij**2 - zij**2) + 3*(xij**2 + yij**2 + zij**2)*(2*xij**2 + yij**2 + zij**2))/(math.pi*eta*(xij**2 + yij**2 + zij**2)**(5/2)), (1/8)*xij*yij*(-2*b**2 + xij**2 + yij**2 + zij**2)/(math.pi*eta*(xij**2 + yij**2 + zij**2)**(5/2)), (1/8)*xij*zij*(-2*b**2 + xij**2 + yij**2 + zij**2)/(math.pi*eta*(xij**2 + yij**2 + zij**2)**(5/2))], [(1/8)*xij*yij*(-2*b**2 + xij**2 + yij**2 + zij**2)/(math.pi*eta*(xij**2 + yij**2 + zij**2)**(5/2)), (1/24)*(-2*b**2*(-xij**2 + 2*yij**2 - zij**2) + 3*(xij**2 + yij**2 + zij**2)*(xij**2 + 2*yij**2 + zij**2))/(math.pi*eta*(xij**2 + yij**2 + zij**2)**(5/2)), (1/8)*yij*zij*(-2*b**2 + xij**2 + yij**2 + zij**2)/(math.pi*eta*(xij**2 + yij**2 + zij**2)**(5/2))], [(1/8)*xij*zij*(-2*b**2 + xij**2 + yij**2 + zij**2)/(math.pi*eta*(xij**2 + yij**2 + zij**2)**(5/2)), (1/8)*yij*zij*(-2*b**2 + xij**2 + yij**2 + zij**2)/(math.pi*eta*(xij**2 + yij**2 + zij**2)**(5/2)), (1/24)*(-2*b**2*(-xij**2 - yij**2 + 2*zij**2) + 3*(xij**2 + yij**2 + zij**2)*(xij**2 + yij**2 + 2*zij**2))/(math.pi*eta*(xij**2 + yij**2 + zij**2)**(5/2))]])'"
      ]
     },
     "execution_count": 15,
     "metadata": {},
     "output_type": "execute_result"
    }
   ],
   "source": [
    "## when printing to python code, might have to be careful with greek characters that sympy is printing so nicely\n",
    "pycode(matG1s1s)"
   ]
  },
  {
   "cell_type": "code",
   "execution_count": 16,
   "id": "624a2f31-5431-4145-a144-22d26c0a3593",
   "metadata": {},
   "outputs": [],
   "source": [
    "from sympy.printing.numpy import NumPyPrinter"
   ]
  },
  {
   "cell_type": "code",
   "execution_count": 17,
   "id": "131049cf-2335-40ab-8f9b-7a65e22c004f",
   "metadata": {},
   "outputs": [
    {
     "data": {
      "text/plain": [
       "'numpy.array([[(1/24)*(-2*b**2*(2*xij**2 - yij**2 - zij**2) + 3*(xij**2 + yij**2 + zij**2)*(2*xij**2 + yij**2 + zij**2))/(numpy.pi*eta*(xij**2 + yij**2 + zij**2)**(5/2)), (1/8)*xij*yij*(-2*b**2 + xij**2 + yij**2 + zij**2)/(numpy.pi*eta*(xij**2 + yij**2 + zij**2)**(5/2)), (1/8)*xij*zij*(-2*b**2 + xij**2 + yij**2 + zij**2)/(numpy.pi*eta*(xij**2 + yij**2 + zij**2)**(5/2))], [(1/8)*xij*yij*(-2*b**2 + xij**2 + yij**2 + zij**2)/(numpy.pi*eta*(xij**2 + yij**2 + zij**2)**(5/2)), (1/24)*(-2*b**2*(-xij**2 + 2*yij**2 - zij**2) + 3*(xij**2 + yij**2 + zij**2)*(xij**2 + 2*yij**2 + zij**2))/(numpy.pi*eta*(xij**2 + yij**2 + zij**2)**(5/2)), (1/8)*yij*zij*(-2*b**2 + xij**2 + yij**2 + zij**2)/(numpy.pi*eta*(xij**2 + yij**2 + zij**2)**(5/2))], [(1/8)*xij*zij*(-2*b**2 + xij**2 + yij**2 + zij**2)/(numpy.pi*eta*(xij**2 + yij**2 + zij**2)**(5/2)), (1/8)*yij*zij*(-2*b**2 + xij**2 + yij**2 + zij**2)/(numpy.pi*eta*(xij**2 + yij**2 + zij**2)**(5/2)), (1/24)*(-2*b**2*(-xij**2 - yij**2 + 2*zij**2) + 3*(xij**2 + yij**2 + zij**2)*(xij**2 + yij**2 + 2*zij**2))/(numpy.pi*eta*(xij**2 + yij**2 + zij**2)**(5/2))]])'"
      ]
     },
     "execution_count": 17,
     "metadata": {},
     "output_type": "execute_result"
    }
   ],
   "source": [
    "NumPyPrinter().doprint(matG1s1s)"
   ]
  },
  {
   "cell_type": "code",
   "execution_count": null,
   "id": "7a11acfe-e756-43c2-a4b0-e5b83f9acb27",
   "metadata": {},
   "outputs": [],
   "source": []
  }
 ],
 "metadata": {
  "kernelspec": {
   "display_name": "Python 3 (ipykernel)",
   "language": "python",
   "name": "python3"
  },
  "language_info": {
   "codemirror_mode": {
    "name": "ipython",
    "version": 3
   },
   "file_extension": ".py",
   "mimetype": "text/x-python",
   "name": "python",
   "nbconvert_exporter": "python",
   "pygments_lexer": "ipython3",
   "version": "3.10.2"
  }
 },
 "nbformat": 4,
 "nbformat_minor": 5
}
